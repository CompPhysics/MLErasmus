{
 "cells": [
  {
   "cell_type": "markdown",
   "id": "16936fde",
   "metadata": {
    "editable": true
   },
   "source": [
    "<!-- HTML file automatically generated from DocOnce source (https://github.com/doconce/doconce/)\n",
    "doconce format html Day2.do.txt --no_mako -->\n",
    "<!-- dom:TITLE: Lasso and Ridge Regression -->"
   ]
  },
  {
   "cell_type": "markdown",
   "id": "2707b0a8",
   "metadata": {
    "editable": true
   },
   "source": [
    "# Lasso and Ridge Regression\n",
    "**Morten Hjorth-Jensen**, Department of Physics, University of Oslo and Department of Physics and Astronomy and Facility for Rare Isotope Beams, Michigan State University, USA\n",
    "\n",
    "Date: **October 9, 2023**"
   ]
  },
  {
   "cell_type": "markdown",
   "id": "abff1347",
   "metadata": {
    "editable": true
   },
   "source": [
    "## Ridge and LASSO Regression\n",
    "\n",
    "Let us remind ourselves about the expression for the standard Mean Squared Error (MSE) which we used to define our cost function and the equations for the ordinary least squares (OLS) method, that is \n",
    "our optimization problem is"
   ]
  },
  {
   "cell_type": "markdown",
   "id": "6c735a7e",
   "metadata": {
    "editable": true
   },
   "source": [
    "$$\n",
    "{\\displaystyle \\min_{\\boldsymbol{\\beta}\\in {\\mathbb{R}}^{p}}}\\frac{1}{n}\\left\\{\\left(\\boldsymbol{y}-\\boldsymbol{X}\\boldsymbol{\\beta}\\right)^T\\left(\\boldsymbol{y}-\\boldsymbol{X}\\boldsymbol{\\beta}\\right)\\right\\}.\n",
    "$$"
   ]
  },
  {
   "cell_type": "markdown",
   "id": "a377847c",
   "metadata": {
    "editable": true
   },
   "source": [
    "or we can state it as"
   ]
  },
  {
   "cell_type": "markdown",
   "id": "b5ca311e",
   "metadata": {
    "editable": true
   },
   "source": [
    "$$\n",
    "{\\displaystyle \\min_{\\boldsymbol{\\beta}\\in\n",
    "{\\mathbb{R}}^{p}}}\\frac{1}{n}\\sum_{i=0}^{n-1}\\left(y_i-\\tilde{y}_i\\right)^2=\\frac{1}{n}\\vert\\vert \\boldsymbol{y}-\\boldsymbol{X}\\boldsymbol{\\beta}\\vert\\vert_2^2,\n",
    "$$"
   ]
  },
  {
   "cell_type": "markdown",
   "id": "9e4a4c0f",
   "metadata": {
    "editable": true
   },
   "source": [
    "where we have used the definition of  a norm-2 vector, that is"
   ]
  },
  {
   "cell_type": "markdown",
   "id": "176ea111",
   "metadata": {
    "editable": true
   },
   "source": [
    "$$\n",
    "\\vert\\vert \\boldsymbol{x}\\vert\\vert_2 = \\sqrt{\\sum_i x_i^2}.\n",
    "$$"
   ]
  },
  {
   "cell_type": "markdown",
   "id": "a9fed683",
   "metadata": {
    "editable": true
   },
   "source": [
    "## From OLS to Ridge and Lasso\n",
    "\n",
    "By minimizing the above equation with respect to the parameters\n",
    "$\\boldsymbol{\\beta}$ we could then obtain an analytical expression for the\n",
    "parameters $\\boldsymbol{\\beta}$.  We can add a regularization parameter $\\lambda$ by\n",
    "defining a new cost function to be optimized, that is"
   ]
  },
  {
   "cell_type": "markdown",
   "id": "029c223c",
   "metadata": {
    "editable": true
   },
   "source": [
    "$$\n",
    "{\\displaystyle \\min_{\\boldsymbol{\\beta}\\in\n",
    "{\\mathbb{R}}^{p}}}\\frac{1}{n}\\vert\\vert \\boldsymbol{y}-\\boldsymbol{X}\\boldsymbol{\\beta}\\vert\\vert_2^2+\\lambda\\vert\\vert \\boldsymbol{\\beta}\\vert\\vert_2^2\n",
    "$$"
   ]
  },
  {
   "cell_type": "markdown",
   "id": "32355503",
   "metadata": {
    "editable": true
   },
   "source": [
    "which leads to the Ridge regression minimization problem where we\n",
    "require that $\\vert\\vert \\boldsymbol{\\beta}\\vert\\vert_2^2\\le t$, where $t$ is\n",
    "a finite number larger than zero. We do not include such a constraints in the discussions here.\n",
    "\n",
    "By defining"
   ]
  },
  {
   "cell_type": "markdown",
   "id": "a1d4563b",
   "metadata": {
    "editable": true
   },
   "source": [
    "$$\n",
    "C(\\boldsymbol{X},\\boldsymbol{\\beta})=\\frac{1}{n}\\vert\\vert \\boldsymbol{y}-\\boldsymbol{X}\\boldsymbol{\\beta}\\vert\\vert_2^2+\\lambda\\vert\\vert \\boldsymbol{\\beta}\\vert\\vert_1,\n",
    "$$"
   ]
  },
  {
   "cell_type": "markdown",
   "id": "ba58fb83",
   "metadata": {
    "editable": true
   },
   "source": [
    "we have a new optimization equation"
   ]
  },
  {
   "cell_type": "markdown",
   "id": "cedccfd3",
   "metadata": {
    "editable": true
   },
   "source": [
    "$$\n",
    "{\\displaystyle \\min_{\\boldsymbol{\\beta}\\in\n",
    "{\\mathbb{R}}^{p}}}\\frac{1}{n}\\vert\\vert \\boldsymbol{y}-\\boldsymbol{X}\\boldsymbol{\\beta}\\vert\\vert_2^2+\\lambda\\vert\\vert \\boldsymbol{\\beta}\\vert\\vert_1\n",
    "$$"
   ]
  },
  {
   "cell_type": "markdown",
   "id": "c409d60d",
   "metadata": {
    "editable": true
   },
   "source": [
    "which leads to Lasso regression. Lasso stands for least absolute shrinkage and selection operator. \n",
    "\n",
    "Here we have defined the norm-1 as"
   ]
  },
  {
   "cell_type": "markdown",
   "id": "9e405053",
   "metadata": {
    "editable": true
   },
   "source": [
    "$$\n",
    "\\vert\\vert \\boldsymbol{x}\\vert\\vert_1 = \\sum_i \\vert x_i\\vert.\n",
    "$$"
   ]
  },
  {
   "cell_type": "markdown",
   "id": "646655fa",
   "metadata": {
    "editable": true
   },
   "source": [
    "## Deriving the  Ridge Regression Equations\n",
    "\n",
    "Using the matrix-vector expression for Ridge regression and dropping the parameter $1/n$ in front of the standard means squared error equation, we have"
   ]
  },
  {
   "cell_type": "markdown",
   "id": "e99bbd8a",
   "metadata": {
    "editable": true
   },
   "source": [
    "$$\n",
    "C(\\boldsymbol{X},\\boldsymbol{\\beta})=\\left\\{(\\boldsymbol{y}-\\boldsymbol{X}\\boldsymbol{\\beta})^T(\\boldsymbol{y}-\\boldsymbol{X}\\boldsymbol{\\beta})\\right\\}+\\lambda\\boldsymbol{\\beta}^T\\boldsymbol{\\beta},\n",
    "$$"
   ]
  },
  {
   "cell_type": "markdown",
   "id": "ebe8d032",
   "metadata": {
    "editable": true
   },
   "source": [
    "and \n",
    "taking the derivatives with respect to $\\boldsymbol{\\beta}$ we obtain then\n",
    "a slightly modified matrix inversion problem which for finite values\n",
    "of $\\lambda$ does not suffer from singularity problems. We obtain\n",
    "the optimal parameters"
   ]
  },
  {
   "cell_type": "markdown",
   "id": "1b0fdb08",
   "metadata": {
    "editable": true
   },
   "source": [
    "$$\n",
    "\\hat{\\boldsymbol{\\beta}}_{\\mathrm{Ridge}} = \\left(\\boldsymbol{X}^T\\boldsymbol{X}+\\lambda\\boldsymbol{I}\\right)^{-1}\\boldsymbol{X}^T\\boldsymbol{y},\n",
    "$$"
   ]
  },
  {
   "cell_type": "markdown",
   "id": "808fb1fe",
   "metadata": {
    "editable": true
   },
   "source": [
    "with $\\boldsymbol{I}$ being a $p\\times p$ identity matrix with the constraint that"
   ]
  },
  {
   "cell_type": "markdown",
   "id": "67ff335e",
   "metadata": {
    "editable": true
   },
   "source": [
    "$$\n",
    "\\sum_{i=0}^{p-1} \\beta_i^2 \\leq t,\n",
    "$$"
   ]
  },
  {
   "cell_type": "markdown",
   "id": "0533588b",
   "metadata": {
    "editable": true
   },
   "source": [
    "with $t$ a finite positive number."
   ]
  },
  {
   "cell_type": "markdown",
   "id": "4bf260a5",
   "metadata": {
    "editable": true
   },
   "source": [
    "## Note on Scikit-Learn\n",
    "\n",
    "Note well that a library like **Scikit-Learn** does not include the $1/n$ factor in the expression for the mean-squared error. If you include it, the optimal parameter $\\beta$ becomes"
   ]
  },
  {
   "cell_type": "markdown",
   "id": "90ab9246",
   "metadata": {
    "editable": true
   },
   "source": [
    "$$\n",
    "\\hat{\\boldsymbol{\\beta}}_{\\mathrm{Ridge}} = \\left(\\boldsymbol{X}^T\\boldsymbol{X}+n\\lambda\\boldsymbol{I}\\right)^{-1}\\boldsymbol{X}^T\\boldsymbol{y}.\n",
    "$$"
   ]
  },
  {
   "cell_type": "markdown",
   "id": "eaa1e45c",
   "metadata": {
    "editable": true
   },
   "source": [
    "In our codes where we compare our own codes with **Scikit-Learn**, we do thus not include the $1/n$ factor in the cost function."
   ]
  },
  {
   "cell_type": "markdown",
   "id": "0365cfc5",
   "metadata": {
    "editable": true
   },
   "source": [
    "## Comparison with OLS\n",
    "When we compare this with the ordinary least squares result we have"
   ]
  },
  {
   "cell_type": "markdown",
   "id": "0d5d336b",
   "metadata": {
    "editable": true
   },
   "source": [
    "$$\n",
    "\\hat{\\boldsymbol{\\beta}}_{\\mathrm{OLS}} = \\left(\\boldsymbol{X}^T\\boldsymbol{X}\\right)^{-1}\\boldsymbol{X}^T\\boldsymbol{y},\n",
    "$$"
   ]
  },
  {
   "cell_type": "markdown",
   "id": "a2218c87",
   "metadata": {
    "editable": true
   },
   "source": [
    "which can lead to singular matrices. However, with the SVD, we can always compute the inverse of the matrix $\\boldsymbol{X}^T\\boldsymbol{X}$.\n",
    "\n",
    "We see that Ridge regression is nothing but the standard OLS with a\n",
    "modified diagonal term added to $\\boldsymbol{X}^T\\boldsymbol{X}$. The consequences, in\n",
    "particular for our discussion of the bias-variance tradeoff are rather\n",
    "interesting. We will see that for specific values of $\\lambda$, we may\n",
    "even reduce the variance of the optimal parameters $\\boldsymbol{\\beta}$. These topics and other related ones, will be discussed after the more linear algebra oriented analysis here."
   ]
  },
  {
   "cell_type": "markdown",
   "id": "e203361e",
   "metadata": {
    "editable": true
   },
   "source": [
    "## SVD analysis\n",
    "\n",
    "Using our insights about the SVD of the design matrix $\\boldsymbol{X}$ \n",
    "We have already analyzed the OLS solutions in terms of the eigenvectors (the columns) of the right singular value matrix $\\boldsymbol{U}$ as"
   ]
  },
  {
   "cell_type": "markdown",
   "id": "19b14ed6",
   "metadata": {
    "editable": true
   },
   "source": [
    "$$\n",
    "\\tilde{\\boldsymbol{y}}_{\\mathrm{OLS}}=\\boldsymbol{X}\\boldsymbol{\\beta}  =\\boldsymbol{U}\\boldsymbol{U}^T\\boldsymbol{y}.\n",
    "$$"
   ]
  },
  {
   "cell_type": "markdown",
   "id": "53b51582",
   "metadata": {
    "editable": true
   },
   "source": [
    "For Ridge regression this becomes"
   ]
  },
  {
   "cell_type": "markdown",
   "id": "9e533abb",
   "metadata": {
    "editable": true
   },
   "source": [
    "$$\n",
    "\\tilde{\\boldsymbol{y}}_{\\mathrm{Ridge}}=\\boldsymbol{X}\\boldsymbol{\\beta}_{\\mathrm{Ridge}} = \\boldsymbol{U\\Sigma V^T}\\left(\\boldsymbol{V}\\boldsymbol{\\Sigma}^2\\boldsymbol{V}^T+\\lambda\\boldsymbol{I} \\right)^{-1}(\\boldsymbol{U\\Sigma V^T})^T\\boldsymbol{y}=\\sum_{j=0}^{p-1}\\boldsymbol{u}_j\\boldsymbol{u}_j^T\\frac{\\sigma_j^2}{\\sigma_j^2+\\lambda}\\boldsymbol{y},\n",
    "$$"
   ]
  },
  {
   "cell_type": "markdown",
   "id": "27100ba9",
   "metadata": {
    "editable": true
   },
   "source": [
    "with the vectors $\\boldsymbol{u}_j$ being the columns of $\\boldsymbol{U}$ from the SVD of the matrix $\\boldsymbol{X}$."
   ]
  },
  {
   "cell_type": "markdown",
   "id": "c3fcdc26",
   "metadata": {
    "editable": true
   },
   "source": [
    "## Interpreting the Ridge results\n",
    "\n",
    "Since $\\lambda \\geq 0$, it means that compared to OLS, we have"
   ]
  },
  {
   "cell_type": "markdown",
   "id": "33727f64",
   "metadata": {
    "editable": true
   },
   "source": [
    "$$\n",
    "\\frac{\\sigma_j^2}{\\sigma_j^2+\\lambda} \\leq 1.\n",
    "$$"
   ]
  },
  {
   "cell_type": "markdown",
   "id": "45a5a9f7",
   "metadata": {
    "editable": true
   },
   "source": [
    "Ridge regression finds the coordinates of $\\boldsymbol{y}$ with respect to the\n",
    "orthonormal basis $\\boldsymbol{U}$, it then shrinks the coordinates by\n",
    "$\\frac{\\sigma_j^2}{\\sigma_j^2+\\lambda}$. Recall that the SVD has\n",
    "eigenvalues ordered in a descending way, that is $\\sigma_i \\geq\n",
    "\\sigma_{i+1}$.\n",
    "\n",
    "For small eigenvalues $\\sigma_i$ it means that their contributions become less important, a fact which can be used to reduce the number of degrees of freedom. More about this when we have covered the material on a statistical interpretation of various linear regression methods."
   ]
  },
  {
   "cell_type": "markdown",
   "id": "af15ac7c",
   "metadata": {
    "editable": true
   },
   "source": [
    "## More interpretations\n",
    "\n",
    "For the sake of simplicity, let us assume that the design matrix is orthonormal, that is"
   ]
  },
  {
   "cell_type": "markdown",
   "id": "acd40d7d",
   "metadata": {
    "editable": true
   },
   "source": [
    "$$\n",
    "\\boldsymbol{X}^T\\boldsymbol{X}=(\\boldsymbol{X}^T\\boldsymbol{X})^{-1} =\\boldsymbol{I}.\n",
    "$$"
   ]
  },
  {
   "cell_type": "markdown",
   "id": "2d12cdfb",
   "metadata": {
    "editable": true
   },
   "source": [
    "In this case the standard OLS results in"
   ]
  },
  {
   "cell_type": "markdown",
   "id": "ebf7916f",
   "metadata": {
    "editable": true
   },
   "source": [
    "$$\n",
    "\\boldsymbol{\\beta}^{\\mathrm{OLS}} = \\boldsymbol{X}^T\\boldsymbol{y}=\\sum_{i=0}^{n-1}\\boldsymbol{u}_i\\boldsymbol{u}_i^T\\boldsymbol{y},\n",
    "$$"
   ]
  },
  {
   "cell_type": "markdown",
   "id": "53bd4493",
   "metadata": {
    "editable": true
   },
   "source": [
    "and"
   ]
  },
  {
   "cell_type": "markdown",
   "id": "b97dfc56",
   "metadata": {
    "editable": true
   },
   "source": [
    "$$\n",
    "\\boldsymbol{\\beta}^{\\mathrm{Ridge}} = \\left(\\boldsymbol{I}+\\lambda\\boldsymbol{I}\\right)^{-1}\\boldsymbol{X}^T\\boldsymbol{y}=\\left(1+\\lambda\\right)^{-1}\\boldsymbol{\\beta}^{\\mathrm{OLS}},\n",
    "$$"
   ]
  },
  {
   "cell_type": "markdown",
   "id": "97e35b80",
   "metadata": {
    "editable": true
   },
   "source": [
    "that is the Ridge estimator scales the OLS estimator by the inverse of a factor $1+\\lambda$, and\n",
    "the Ridge estimator converges to zero when the hyperparameter goes to\n",
    "infinity.\n",
    "\n",
    "We will come back to more interpreations after we have gone through some of the statistical analysis part. \n",
    "\n",
    "For more discussions of Ridge and Lasso regression, [Wessel van Wieringen's](https://arxiv.org/abs/1509.09169) article is highly recommended.\n",
    "Similarly, [Mehta et al's article](https://arxiv.org/abs/1803.08823) is also recommended."
   ]
  },
  {
   "cell_type": "markdown",
   "id": "ec06659a",
   "metadata": {
    "editable": true
   },
   "source": [
    "## Deriving the  Lasso Regression Equations\n",
    "\n",
    "Using the matrix-vector expression for Lasso regression, we have the following **cost** function"
   ]
  },
  {
   "cell_type": "markdown",
   "id": "ce7441c4",
   "metadata": {
    "editable": true
   },
   "source": [
    "$$\n",
    "C(\\boldsymbol{X},\\boldsymbol{\\beta})=\\frac{1}{n}\\left\\{(\\boldsymbol{y}-\\boldsymbol{X}\\boldsymbol{\\beta})^T(\\boldsymbol{y}-\\boldsymbol{X}\\boldsymbol{\\beta})\\right\\}+\\lambda\\vert\\vert\\boldsymbol{\\beta}\\vert\\vert_1,\n",
    "$$"
   ]
  },
  {
   "cell_type": "markdown",
   "id": "b88dc765",
   "metadata": {
    "editable": true
   },
   "source": [
    "Taking the derivative with respect to $\\boldsymbol{\\beta}$ and recalling that the derivative of the absolute value is (we drop the boldfaced vector symbol for simplicity)"
   ]
  },
  {
   "cell_type": "markdown",
   "id": "113a81a4",
   "metadata": {
    "editable": true
   },
   "source": [
    "$$\n",
    "\\frac{d \\vert \\beta\\vert}{d \\beta}=\\mathrm{sgn}(\\beta)=\\left\\{\\begin{array}{cc} 1 & \\beta > 0 \\\\-1 & \\beta < 0, \\end{array}\\right.\n",
    "$$"
   ]
  },
  {
   "cell_type": "markdown",
   "id": "d5dc1456",
   "metadata": {
    "editable": true
   },
   "source": [
    "we have that the derivative of the cost function is"
   ]
  },
  {
   "cell_type": "markdown",
   "id": "c346d55e",
   "metadata": {
    "editable": true
   },
   "source": [
    "$$\n",
    "\\frac{\\partial C(\\boldsymbol{X},\\boldsymbol{\\beta})}{\\partial \\boldsymbol{\\beta}}=-\\frac{2}{n}\\boldsymbol{X}^T(\\boldsymbol{y}-\\boldsymbol{X}\\boldsymbol{\\beta})+\\lambda sgn(\\boldsymbol{\\beta})=0,\n",
    "$$"
   ]
  },
  {
   "cell_type": "markdown",
   "id": "4ec2cb71",
   "metadata": {
    "editable": true
   },
   "source": [
    "and reordering we have"
   ]
  },
  {
   "cell_type": "markdown",
   "id": "466da84c",
   "metadata": {
    "editable": true
   },
   "source": [
    "$$\n",
    "\\boldsymbol{X}^T\\boldsymbol{X}\\boldsymbol{\\beta}+\\lambda sgn(\\boldsymbol{\\beta})=\\boldsymbol{X}^T\\boldsymbol{y}.\n",
    "$$"
   ]
  },
  {
   "cell_type": "markdown",
   "id": "ef5a9185",
   "metadata": {
    "editable": true
   },
   "source": [
    "This equation does not lead to a nice analytical equation as in Ridge regression or ordinary least squares. We have absorbed the factor $2/n$ in a redefinition of the parameter $\\lambda$. We will solve this type of problems using libraries like **scikit-learn**."
   ]
  },
  {
   "cell_type": "markdown",
   "id": "33ef991f",
   "metadata": {
    "editable": true
   },
   "source": [
    "## Simple example to illustrate Ordinary Least Squares, Ridge and Lasso Regression\n",
    "\n",
    "Let us assume that our design matrix is given by unit (identity) matrix, that is a square diagonal matrix with ones only along the\n",
    "diagonal. In this case we have an equal number of rows and columns $n=p$.\n",
    "\n",
    "Our model approximation is just $\\tilde{\\boldsymbol{y}}=\\boldsymbol{\\beta}$ and the mean squared error and thereby the cost function for ordinary least sqquares (OLS) is then (we drop the term $1/n$)"
   ]
  },
  {
   "cell_type": "markdown",
   "id": "51ef48ff",
   "metadata": {
    "editable": true
   },
   "source": [
    "$$\n",
    "C(\\boldsymbol{\\beta})=\\sum_{i=0}^{p-1}(y_i-\\beta_i)^2,\n",
    "$$"
   ]
  },
  {
   "cell_type": "markdown",
   "id": "41a96a95",
   "metadata": {
    "editable": true
   },
   "source": [
    "and minimizing we have that"
   ]
  },
  {
   "cell_type": "markdown",
   "id": "82693940",
   "metadata": {
    "editable": true
   },
   "source": [
    "$$\n",
    "\\hat{\\beta}_i^{\\mathrm{OLS}} = y_i.\n",
    "$$"
   ]
  },
  {
   "cell_type": "markdown",
   "id": "f49147a8",
   "metadata": {
    "editable": true
   },
   "source": [
    "## Ridge Regression\n",
    "\n",
    "For Ridge regression our cost function is"
   ]
  },
  {
   "cell_type": "markdown",
   "id": "e2b24c61",
   "metadata": {
    "editable": true
   },
   "source": [
    "$$\n",
    "C(\\boldsymbol{\\beta})=\\sum_{i=0}^{p-1}(y_i-\\beta_i)^2+\\lambda\\sum_{i=0}^{p-1}\\beta_i^2,\n",
    "$$"
   ]
  },
  {
   "cell_type": "markdown",
   "id": "9fe82c32",
   "metadata": {
    "editable": true
   },
   "source": [
    "and minimizing we have that"
   ]
  },
  {
   "cell_type": "markdown",
   "id": "84043449",
   "metadata": {
    "editable": true
   },
   "source": [
    "$$\n",
    "\\hat{\\beta}_i^{\\mathrm{Ridge}} = \\frac{y_i}{1+\\lambda}.\n",
    "$$"
   ]
  },
  {
   "cell_type": "markdown",
   "id": "dc418ae0",
   "metadata": {
    "editable": true
   },
   "source": [
    "## Lasso Regression\n",
    "\n",
    "For Lasso regression our cost function is"
   ]
  },
  {
   "cell_type": "markdown",
   "id": "c842d652",
   "metadata": {
    "editable": true
   },
   "source": [
    "$$\n",
    "C(\\boldsymbol{\\beta})=\\sum_{i=0}^{p-1}(y_i-\\beta_i)^2+\\lambda\\sum_{i=0}^{p-1}\\vert\\beta_i\\vert=\\sum_{i=0}^{p-1}(y_i-\\beta_i)^2+\\lambda\\sum_{i=0}^{p-1}\\sqrt{\\beta_i^2},\n",
    "$$"
   ]
  },
  {
   "cell_type": "markdown",
   "id": "8e5cdc06",
   "metadata": {
    "editable": true
   },
   "source": [
    "and minimizing we have that"
   ]
  },
  {
   "cell_type": "markdown",
   "id": "c0b324d8",
   "metadata": {
    "editable": true
   },
   "source": [
    "$$\n",
    "-2\\sum_{i=0}^{p-1}(y_i-\\beta_i)+\\lambda \\sum_{i=0}^{p-1}\\frac{(\\beta_i)}{\\vert\\beta_i\\vert}=0,\n",
    "$$"
   ]
  },
  {
   "cell_type": "markdown",
   "id": "8672bf84",
   "metadata": {
    "editable": true
   },
   "source": [
    "which leads to"
   ]
  },
  {
   "cell_type": "markdown",
   "id": "b22ed806",
   "metadata": {
    "editable": true
   },
   "source": [
    "$$\n",
    "\\hat{\\boldsymbol{\\beta}}_i^{\\mathrm{Lasso}} = \\left\\{\\begin{array}{ccc}y_i-\\frac{\\lambda}{2} &\\mathrm{if} & y_i> \\frac{\\lambda}{2}\\\\\n",
    "                                                          y_i+\\frac{\\lambda}{2} &\\mathrm{if} & y_i< -\\frac{\\lambda}{2}\\\\\n",
    "\t\t\t\t\t\t\t  0 &\\mathrm{if} & \\vert y_i\\vert\\le  \\frac{\\lambda}{2}\\end{array}\\right.\\\\.\n",
    "$$"
   ]
  },
  {
   "cell_type": "markdown",
   "id": "af467b8a",
   "metadata": {
    "editable": true
   },
   "source": [
    "Plotting these results shows clearly that Lasso regression suppresses (sets to zero) values of $\\beta_i$ for specific values of $\\lambda$. Ridge regression reduces on the other hand the values of $\\beta_i$ as function of $\\lambda$."
   ]
  },
  {
   "cell_type": "markdown",
   "id": "d81c8349",
   "metadata": {
    "editable": true
   },
   "source": [
    "## Yet another Example\n",
    "\n",
    "Let us assume we have a data set with outputs/targets given by the vector"
   ]
  },
  {
   "cell_type": "markdown",
   "id": "ec40d48b",
   "metadata": {
    "editable": true
   },
   "source": [
    "$$\n",
    "\\boldsymbol{y}=\\begin{bmatrix}4 \\\\ 2 \\\\3\\end{bmatrix},\n",
    "$$"
   ]
  },
  {
   "cell_type": "markdown",
   "id": "9d3eb6b0",
   "metadata": {
    "editable": true
   },
   "source": [
    "and our inputs as a $3\\times 2$ design matrix"
   ]
  },
  {
   "cell_type": "markdown",
   "id": "798ed480",
   "metadata": {
    "editable": true
   },
   "source": [
    "$$\n",
    "\\boldsymbol{X}=\\begin{bmatrix}2 & 0\\\\ 0 & 1 \\\\ 0 & 0\\end{bmatrix},\n",
    "$$"
   ]
  },
  {
   "cell_type": "markdown",
   "id": "e3f0435a",
   "metadata": {
    "editable": true
   },
   "source": [
    "meaning that we have two features and two unknown parameters $\\beta_0$ and $\\beta_1$ to be determined either by ordinary least squares, Ridge or Lasso regression."
   ]
  },
  {
   "cell_type": "markdown",
   "id": "23a0617a",
   "metadata": {
    "editable": true
   },
   "source": [
    "## The OLS case\n",
    "\n",
    "For ordinary least squares (OLS) we know that the optimal solution is"
   ]
  },
  {
   "cell_type": "markdown",
   "id": "35af01e9",
   "metadata": {
    "editable": true
   },
   "source": [
    "$$\n",
    "\\hat{\\boldsymbol{\\beta}}^{\\mathrm{OLS}}=\\left( \\boldsymbol{X}^T\\boldsymbol{X}\\right)^{-1}\\boldsymbol{X}^T\\boldsymbol{y}.\n",
    "$$"
   ]
  },
  {
   "cell_type": "markdown",
   "id": "5437ac35",
   "metadata": {
    "editable": true
   },
   "source": [
    "Inserting the above values we obtain that"
   ]
  },
  {
   "cell_type": "markdown",
   "id": "565ceef0",
   "metadata": {
    "editable": true
   },
   "source": [
    "$$\n",
    "\\hat{\\boldsymbol{\\beta}}^{\\mathrm{OLS}}=\\begin{bmatrix}2 \\\\ 2\\end{bmatrix},\n",
    "$$"
   ]
  },
  {
   "cell_type": "markdown",
   "id": "d49b2cff",
   "metadata": {
    "editable": true
   },
   "source": [
    "The code which implements this simpler case is presented after the discussion of Ridge and Lasso."
   ]
  },
  {
   "cell_type": "markdown",
   "id": "d6dd6cff",
   "metadata": {
    "editable": true
   },
   "source": [
    "## The Ridge case\n",
    "\n",
    "For Ridge regression we have"
   ]
  },
  {
   "cell_type": "markdown",
   "id": "6fbecee1",
   "metadata": {
    "editable": true
   },
   "source": [
    "$$\n",
    "\\hat{\\boldsymbol{\\beta}}^{\\mathrm{Ridge}}=\\left( \\boldsymbol{X}^T\\boldsymbol{X}+\\lambda\\boldsymbol{I}\\right)^{-1}\\boldsymbol{X}^T\\boldsymbol{y}.\n",
    "$$"
   ]
  },
  {
   "cell_type": "markdown",
   "id": "f58a4fd2",
   "metadata": {
    "editable": true
   },
   "source": [
    "Inserting the above values we obtain that"
   ]
  },
  {
   "cell_type": "markdown",
   "id": "0d17bd6b",
   "metadata": {
    "editable": true
   },
   "source": [
    "$$\n",
    "\\hat{\\boldsymbol{\\beta}}^{\\mathrm{Ridge}}=\\begin{bmatrix}\\frac{8}{4+\\lambda} \\\\ \\frac{2}{1+\\lambda}\\end{bmatrix},\n",
    "$$"
   ]
  },
  {
   "cell_type": "markdown",
   "id": "60ec80e2",
   "metadata": {
    "editable": true
   },
   "source": [
    "There is normally a constraint on the value of $\\vert\\vert \\boldsymbol{\\beta}\\vert\\vert_2$ via the parameter $\\lambda$.\n",
    "Let us for simplicity assume that $\\beta_0^2+\\beta_1^2=1$ as constraint. This will allow us to find an expression for the optimal values of $\\beta$ and $\\lambda$.\n",
    "\n",
    "To see this, let us write the cost function for Ridge regression."
   ]
  },
  {
   "cell_type": "markdown",
   "id": "8bcc1be6",
   "metadata": {
    "editable": true
   },
   "source": [
    "## Writing the Cost Function\n",
    "\n",
    "We define the MSE without the $1/n$ factor and have then, using that"
   ]
  },
  {
   "cell_type": "markdown",
   "id": "840a53cd",
   "metadata": {
    "editable": true
   },
   "source": [
    "$$\n",
    "\\boldsymbol{X}\\boldsymbol{\\beta}=\\begin{bmatrix} 2\\beta_0 \\\\ \\beta_1 \\\\0 \\end{bmatrix},\n",
    "$$"
   ]
  },
  {
   "cell_type": "markdown",
   "id": "2e8a293a",
   "metadata": {
    "editable": true
   },
   "source": [
    "$$\n",
    "C(\\boldsymbol{\\beta})=(4-2\\beta_0)^2+(2-\\beta_1)^2+\\lambda(\\beta_0^2+\\beta_1^2),\n",
    "$$"
   ]
  },
  {
   "cell_type": "markdown",
   "id": "a1f4fed3",
   "metadata": {
    "editable": true
   },
   "source": [
    "and taking the derivative with respect to $\\beta_0$ we get"
   ]
  },
  {
   "cell_type": "markdown",
   "id": "428efcbc",
   "metadata": {
    "editable": true
   },
   "source": [
    "$$\n",
    "\\beta_0=\\frac{8}{4+\\lambda},\n",
    "$$"
   ]
  },
  {
   "cell_type": "markdown",
   "id": "a9a72632",
   "metadata": {
    "editable": true
   },
   "source": [
    "and for $\\beta_1$ we obtain"
   ]
  },
  {
   "cell_type": "markdown",
   "id": "8202282d",
   "metadata": {
    "editable": true
   },
   "source": [
    "$$\n",
    "\\beta_1=\\frac{2}{1+\\lambda},\n",
    "$$"
   ]
  },
  {
   "cell_type": "markdown",
   "id": "6b9951ff",
   "metadata": {
    "editable": true
   },
   "source": [
    "Using the constraint for $\\beta_0^2+\\beta_1^2=1$ we can constrain $\\lambda$ by solving"
   ]
  },
  {
   "cell_type": "markdown",
   "id": "6c00e624",
   "metadata": {
    "editable": true
   },
   "source": [
    "$$\n",
    "\\left(\\frac{8}{4+\\lambda}\\right)^2+\\left(\\frac{2}{1+\\lambda}\\right)^2=1,\n",
    "$$"
   ]
  },
  {
   "cell_type": "markdown",
   "id": "d2888669",
   "metadata": {
    "editable": true
   },
   "source": [
    "which gives $\\lambda=4.571$ and $\\beta_0=0.933$ and $\\beta_1=0.359$."
   ]
  },
  {
   "cell_type": "markdown",
   "id": "7cb8641e",
   "metadata": {
    "editable": true
   },
   "source": [
    "## Lasso case\n",
    "\n",
    "For Lasso we need now, keeping a  constraint on $\\vert\\beta_0\\vert+\\vert\\beta_1\\vert=1$,  to take the derivative of the absolute values of $\\beta_0$\n",
    "and $\\beta_1$. This gives us the following derivatives of the cost function"
   ]
  },
  {
   "cell_type": "markdown",
   "id": "7557439a",
   "metadata": {
    "editable": true
   },
   "source": [
    "$$\n",
    "C(\\boldsymbol{\\beta})=(4-2\\beta_0)^2+(2-\\beta_1)^2+\\lambda(\\vert\\beta_0\\vert+\\vert\\beta_1\\vert),\n",
    "$$"
   ]
  },
  {
   "cell_type": "markdown",
   "id": "509aad80",
   "metadata": {
    "editable": true
   },
   "source": [
    "$$\n",
    "\\frac{\\partial C(\\boldsymbol{\\beta})}{\\partial \\beta_0}=-4(4-2\\beta_0)+\\lambda\\mathrm{sgn}(\\beta_0)=0,\n",
    "$$"
   ]
  },
  {
   "cell_type": "markdown",
   "id": "f90517e7",
   "metadata": {
    "editable": true
   },
   "source": [
    "and"
   ]
  },
  {
   "cell_type": "markdown",
   "id": "63de9442",
   "metadata": {
    "editable": true
   },
   "source": [
    "$$\n",
    "\\frac{\\partial C(\\boldsymbol{\\beta})}{\\partial \\beta_1}=-2(2-\\beta_1)+\\lambda\\mathrm{sgn}(\\beta_1)=0.\n",
    "$$"
   ]
  },
  {
   "cell_type": "markdown",
   "id": "f58e0c25",
   "metadata": {
    "editable": true
   },
   "source": [
    "We have now four cases to solve besides the trivial cases $\\beta_0$ and/or $\\beta_1$ are zero, namely\n",
    "1. $\\beta_0 > 0$ and $\\beta_1 > 0$,\n",
    "\n",
    "2. $\\beta_0 > 0$ and $\\beta_1 < 0$,\n",
    "\n",
    "3. $\\beta_0 < 0$ and $\\beta_1 > 0$,\n",
    "\n",
    "4. $\\beta_0 < 0$ and $\\beta_1 < 0$."
   ]
  },
  {
   "cell_type": "markdown",
   "id": "cf3fe9c4",
   "metadata": {
    "editable": true
   },
   "source": [
    "## The first Case\n",
    "\n",
    "If we consider the first case, we have then"
   ]
  },
  {
   "cell_type": "markdown",
   "id": "41c294c4",
   "metadata": {
    "editable": true
   },
   "source": [
    "$$\n",
    "-4(4-2\\beta_0)+\\lambda=0,\n",
    "$$"
   ]
  },
  {
   "cell_type": "markdown",
   "id": "1eea8cfc",
   "metadata": {
    "editable": true
   },
   "source": [
    "and"
   ]
  },
  {
   "cell_type": "markdown",
   "id": "030b692a",
   "metadata": {
    "editable": true
   },
   "source": [
    "$$\n",
    "-2(2-\\beta_1)+\\lambda=0.\n",
    "$$"
   ]
  },
  {
   "cell_type": "markdown",
   "id": "b461bd84",
   "metadata": {
    "editable": true
   },
   "source": [
    "which yields"
   ]
  },
  {
   "cell_type": "markdown",
   "id": "703f6704",
   "metadata": {
    "editable": true
   },
   "source": [
    "$$\n",
    "\\beta_0=\\frac{16+\\lambda}{8},\n",
    "$$"
   ]
  },
  {
   "cell_type": "markdown",
   "id": "90f0af7e",
   "metadata": {
    "editable": true
   },
   "source": [
    "and"
   ]
  },
  {
   "cell_type": "markdown",
   "id": "03133b3e",
   "metadata": {
    "editable": true
   },
   "source": [
    "$$\n",
    "\\beta_1=\\frac{4+\\lambda}{2}.\n",
    "$$"
   ]
  },
  {
   "cell_type": "markdown",
   "id": "15a1ab9c",
   "metadata": {
    "editable": true
   },
   "source": [
    "Using the constraint on $\\beta_0$ and $\\beta_1$ we can then find the optimal value of $\\lambda$ for the different cases. We leave this as an exercise to you."
   ]
  },
  {
   "cell_type": "markdown",
   "id": "5ee52d2f",
   "metadata": {
    "editable": true
   },
   "source": [
    "## Simple code for solving the above problem\n",
    "\n",
    "Here we set up the OLS, Ridge and Lasso functionality in order to study the above example. Note that here we have opted for a set of values of $\\lambda$, meaning that we need to perform a search in order to find the optimal values.\n",
    "\n",
    "First we study and compare the OLS and Ridge results.  The next code compares all three methods."
   ]
  },
  {
   "cell_type": "code",
   "execution_count": 1,
   "id": "fae65525",
   "metadata": {
    "collapsed": false,
    "editable": true
   },
   "outputs": [],
   "source": [
    "%matplotlib inline\n",
    "\n",
    "import os\n",
    "import numpy as np\n",
    "import pandas as pd\n",
    "import matplotlib.pyplot as plt\n",
    "\n",
    "def R2(y_data, y_model):\n",
    "    return 1 - np.sum((y_data - y_model) ** 2) / np.sum((y_data - np.mean(y_data)) ** 2)\n",
    "def MSE(y_data,y_model):\n",
    "    n = np.size(y_model)\n",
    "    return np.sum((y_data-y_model)**2)/n\n",
    "\n",
    "\n",
    "# A seed just to ensure that the random numbers are the same for every run.\n",
    "# Useful for eventual debugging.\n",
    "\n",
    "X = np.array( [ [ 2, 0], [0, 1], [0,0]])\n",
    "y = np.array( [4, 2, 3])\n",
    "\n",
    "\n",
    "# matrix inversion to find beta\n",
    "OLSbeta = np.linalg.inv(X.T @ X) @ X.T @ y\n",
    "print(OLSbeta)\n",
    "# and then make the prediction\n",
    "ytildeOLS = X @ OLSbeta\n",
    "print(\"Training MSE for OLS\")\n",
    "print(MSE(y,ytildeOLS))\n",
    "ypredictOLS = X @ OLSbeta\n",
    "\n",
    "# Repeat now for Ridge regression and various values of the regularization parameter\n",
    "I = np.eye(2,2)\n",
    "# Decide which values of lambda to use\n",
    "nlambdas = 100\n",
    "MSEPredict = np.zeros(nlambdas)\n",
    "lambdas = np.logspace(-4, 4, nlambdas)\n",
    "for i in range(nlambdas):\n",
    "    lmb = lambdas[i]\n",
    "    Ridgebeta = np.linalg.inv(X.T @ X+lmb*I) @ X.T @ y\n",
    "#    print(Ridgebeta)\n",
    "    # and then make the prediction\n",
    "    ypredictRidge = X @ Ridgebeta\n",
    "    MSEPredict[i] = MSE(y,ypredictRidge)\n",
    "#    print(MSEPredict[i])\n",
    "    # Now plot the results\n",
    "plt.figure()\n",
    "plt.plot(np.log10(lambdas), MSEPredict, 'r--', label = 'MSE Ridge Train')\n",
    "plt.xlabel('log10(lambda)')\n",
    "plt.ylabel('MSE')\n",
    "plt.legend()\n",
    "plt.show()"
   ]
  },
  {
   "cell_type": "markdown",
   "id": "4fb8af7a",
   "metadata": {
    "editable": true
   },
   "source": [
    "We see here that we reach a plateau. What is actually happening?"
   ]
  },
  {
   "cell_type": "markdown",
   "id": "4aa01fa4",
   "metadata": {
    "editable": true
   },
   "source": [
    "## With Lasso Regression"
   ]
  },
  {
   "cell_type": "code",
   "execution_count": 2,
   "id": "3ac749f2",
   "metadata": {
    "collapsed": false,
    "editable": true
   },
   "outputs": [],
   "source": [
    "import os\n",
    "import numpy as np\n",
    "import pandas as pd\n",
    "import matplotlib.pyplot as plt\n",
    "from sklearn import linear_model\n",
    "\n",
    "def R2(y_data, y_model):\n",
    "    return 1 - np.sum((y_data - y_model) ** 2) / np.sum((y_data - np.mean(y_data)) ** 2)\n",
    "def MSE(y_data,y_model):\n",
    "    n = np.size(y_model)\n",
    "    return np.sum((y_data-y_model)**2)/n\n",
    "\n",
    "\n",
    "# A seed just to ensure that the random numbers are the same for every run.\n",
    "# Useful for eventual debugging.\n",
    "\n",
    "X = np.array( [ [ 2, 0], [0, 1], [0,0]])\n",
    "y = np.array( [4, 2, 3])\n",
    "\n",
    "\n",
    "# matrix inversion to find beta\n",
    "OLSbeta = np.linalg.inv(X.T @ X) @ X.T @ y\n",
    "print(OLSbeta)\n",
    "# and then make the prediction\n",
    "ytildeOLS = X @ OLSbeta\n",
    "print(\"Training MSE for OLS\")\n",
    "print(MSE(y,ytildeOLS))\n",
    "ypredictOLS = X @ OLSbeta\n",
    "\n",
    "# Repeat now for Ridge regression and various values of the regularization parameter\n",
    "I = np.eye(2,2)\n",
    "# Decide which values of lambda to use\n",
    "nlambdas = 100\n",
    "MSERidgePredict = np.zeros(nlambdas)\n",
    "MSELassoPredict = np.zeros(nlambdas)\n",
    "lambdas = np.logspace(-4, 4, nlambdas)\n",
    "for i in range(nlambdas):\n",
    "    lmb = lambdas[i]\n",
    "    Ridgebeta = np.linalg.inv(X.T @ X+lmb*I) @ X.T @ y\n",
    "    print(Ridgebeta)\n",
    "    # and then make the prediction\n",
    "    ypredictRidge = X @ Ridgebeta\n",
    "    MSERidgePredict[i] = MSE(y,ypredictRidge)\n",
    "    RegLasso = linear_model.Lasso(lmb,fit_intercept=False)\n",
    "    RegLasso.fit(X,y)\n",
    "    ypredictLasso = RegLasso.predict(X)\n",
    "    print(RegLasso.coef_)\n",
    "    MSELassoPredict[i] = MSE(y,ypredictLasso)\n",
    "# Now plot the results\n",
    "plt.figure()\n",
    "plt.plot(np.log10(lambdas), MSERidgePredict, 'r--', label = 'MSE Ridge Train')\n",
    "plt.plot(np.log10(lambdas), MSELassoPredict, 'r--', label = 'MSE Lasso Train')\n",
    "plt.xlabel('log10(lambda)')\n",
    "plt.ylabel('MSE')\n",
    "plt.legend()\n",
    "plt.show()"
   ]
  },
  {
   "cell_type": "markdown",
   "id": "8760602a",
   "metadata": {
    "editable": true
   },
   "source": [
    "## Another Example, now with a polynomial fit"
   ]
  },
  {
   "cell_type": "code",
   "execution_count": 3,
   "id": "b9b90a83",
   "metadata": {
    "collapsed": false,
    "editable": true
   },
   "outputs": [],
   "source": [
    "import os\n",
    "import numpy as np\n",
    "import pandas as pd\n",
    "import matplotlib.pyplot as plt\n",
    "from sklearn.model_selection import train_test_split\n",
    "from sklearn import linear_model\n",
    "\n",
    "def R2(y_data, y_model):\n",
    "    return 1 - np.sum((y_data - y_model) ** 2) / np.sum((y_data - np.mean(y_data)) ** 2)\n",
    "def MSE(y_data,y_model):\n",
    "    n = np.size(y_model)\n",
    "    return np.sum((y_data-y_model)**2)/n\n",
    "\n",
    "\n",
    "# A seed just to ensure that the random numbers are the same for every run.\n",
    "# Useful for eventual debugging.\n",
    "np.random.seed(3155)\n",
    "\n",
    "x = np.random.rand(100)\n",
    "y = 2.0+5*x*x+0.1*np.random.randn(100)\n",
    "\n",
    "# number of features p (here degree of polynomial\n",
    "p = 3\n",
    "#  The design matrix now as function of a given polynomial\n",
    "X = np.zeros((len(x),p))\n",
    "X[:,0] = 1.0\n",
    "X[:,1] = x\n",
    "X[:,2] = x*x\n",
    "# We split the data in test and training data\n",
    "X_train, X_test, y_train, y_test = train_test_split(X, y, test_size=0.2)\n",
    "\n",
    "# matrix inversion to find beta\n",
    "OLSbeta = np.linalg.inv(X_train.T @ X_train) @ X_train.T @ y_train\n",
    "print(OLSbeta)\n",
    "# and then make the prediction\n",
    "ytildeOLS = X_train @ OLSbeta\n",
    "print(\"Training MSE for OLS\")\n",
    "print(MSE(y_train,ytildeOLS))\n",
    "ypredictOLS = X_test @ OLSbeta\n",
    "print(\"Test MSE OLS\")\n",
    "print(MSE(y_test,ypredictOLS))\n",
    "\n",
    "# Repeat now for Lasso and Ridge regression and various values of the regularization parameter\n",
    "I = np.eye(p,p)\n",
    "# Decide which values of lambda to use\n",
    "nlambdas = 100\n",
    "MSEPredict = np.zeros(nlambdas)\n",
    "MSETrain = np.zeros(nlambdas)\n",
    "MSELassoPredict = np.zeros(nlambdas)\n",
    "MSELassoTrain = np.zeros(nlambdas)\n",
    "lambdas = np.logspace(-4, 4, nlambdas)\n",
    "for i in range(nlambdas):\n",
    "    lmb = lambdas[i]\n",
    "    Ridgebeta = np.linalg.inv(X_train.T @ X_train+lmb*I) @ X_train.T @ y_train\n",
    "    # include lasso using Scikit-Learn\n",
    "    RegLasso = linear_model.Lasso(lmb,fit_intercept=False)\n",
    "    RegLasso.fit(X_train,y_train)\n",
    "    # and then make the prediction\n",
    "    ytildeRidge = X_train @ Ridgebeta\n",
    "    ypredictRidge = X_test @ Ridgebeta\n",
    "    ytildeLasso = RegLasso.predict(X_train)\n",
    "    ypredictLasso = RegLasso.predict(X_test)\n",
    "    MSEPredict[i] = MSE(y_test,ypredictRidge)\n",
    "    MSETrain[i] = MSE(y_train,ytildeRidge)\n",
    "    MSELassoPredict[i] = MSE(y_test,ypredictLasso)\n",
    "    MSELassoTrain[i] = MSE(y_train,ytildeLasso)\n",
    "\n",
    "# Now plot the results\n",
    "plt.figure()\n",
    "plt.plot(np.log10(lambdas), MSETrain, label = 'MSE Ridge train')\n",
    "plt.plot(np.log10(lambdas), MSEPredict, 'r--', label = 'MSE Ridge Test')\n",
    "plt.plot(np.log10(lambdas), MSELassoTrain, label = 'MSE Lasso train')\n",
    "plt.plot(np.log10(lambdas), MSELassoPredict, 'r--', label = 'MSE Lasso Test')\n",
    "\n",
    "plt.xlabel('log10(lambda)')\n",
    "plt.ylabel('MSE')\n",
    "plt.legend()\n",
    "plt.show()"
   ]
  },
  {
   "cell_type": "markdown",
   "id": "421a3414",
   "metadata": {
    "editable": true
   },
   "source": [
    "## Important technicalities: More on Rescaling data\n",
    "\n",
    "When you are comparing your own code with for example **Scikit-Learn**'s\n",
    "library, there are some technicalities to keep in mind.  The examples\n",
    "here demonstrate some of these aspects with potential pitfalls.\n",
    "\n",
    "The discussion here focuses on the role of the intercept, how we can\n",
    "set up the design matrix, what scaling we should use and other topics\n",
    "which tend  confuse us.\n",
    "\n",
    "The intercept can be interpreted as the expected value of our\n",
    "target/output variables when all other predictors are set to zero.\n",
    "Thus, if we cannot assume that the expected outputs/targets are zero\n",
    "when all predictors are zero (the columns in the design matrix), it\n",
    "may be a bad idea to implement a model which penalizes the intercept.\n",
    "Furthermore, in for example Ridge and Lasso regression, the default solutions\n",
    "from the library **Scikit-Learn** (when not shrinking $\\beta_0$) for the unknown parameters\n",
    "$\\boldsymbol{\\beta}$, are derived under the assumption that both $\\boldsymbol{y}$ and\n",
    "$\\boldsymbol{X}$ are zero centered, that is we subtract the mean values.\n",
    "\n",
    "If our predictors represent different scales, then it is important to\n",
    "standardize the design matrix $\\boldsymbol{X}$ by subtracting the mean of each\n",
    "column from the corresponding column and dividing the column with its\n",
    "standard deviation. Most machine learning libraries do this as a default. This means that if you compare your code with the results from a given library,\n",
    "the results may differ. \n",
    "\n",
    "The\n",
    "[Standardscaler](https://scikit-learn.org/stable/modules/generated/sklearn.preprocessing.StandardScaler.html)\n",
    "function in **Scikit-Learn** does this for us.  For the data sets we\n",
    "have been studying in our various examples, the data are in many cases\n",
    "already scaled and there is no need to scale them. You as a user of different machine learning algorithms, should always perform  a\n",
    "survey of your data, with a critical assessment of them in case you need to scale the data.\n",
    "\n",
    "If you need to scale the data, not doing so will give an *unfair*\n",
    "penalization of the parameters since their magnitude depends on the\n",
    "scale of their corresponding predictor.\n",
    "\n",
    "Suppose as an example that you \n",
    "you have an input variable given by the heights of different persons.\n",
    "Human height might be measured in inches or meters or\n",
    "kilometers. If measured in kilometers, a standard linear regression\n",
    "model with this predictor would probably give a much bigger\n",
    "coefficient term, than if measured in millimeters.\n",
    "This can clearly lead to problems in evaluating the cost/loss functions.\n",
    "\n",
    "Keep in mind that when you transform your data set before training a model, the same transformation needs to be done\n",
    "on your eventual new data set  before making a prediction. If we translate this into a Python code, it would could be implemented as"
   ]
  },
  {
   "cell_type": "code",
   "execution_count": 4,
   "id": "7dd2e7b8",
   "metadata": {
    "collapsed": false,
    "editable": true
   },
   "outputs": [],
   "source": [
    "\"\"\"\n",
    "#Model training, we compute the mean value of y and X\n",
    "y_train_mean = np.mean(y_train)\n",
    "X_train_mean = np.mean(X_train,axis=0)\n",
    "X_train = X_train - X_train_mean\n",
    "y_train = y_train - y_train_mean\n",
    "\n",
    "# The we fit our model with the training data\n",
    "trained_model = some_model.fit(X_train,y_train)\n",
    "\n",
    "\n",
    "#Model prediction, we need also to transform our data set used for the prediction.\n",
    "X_test = X_test - X_train_mean #Use mean from training data\n",
    "y_pred = trained_model(X_test)\n",
    "y_pred = y_pred + y_train_mean\n",
    "\"\"\""
   ]
  },
  {
   "cell_type": "markdown",
   "id": "d0956576",
   "metadata": {
    "editable": true
   },
   "source": [
    "Let us try to understand what this may imply mathematically when we\n",
    "subtract the mean values, also known as *zero centering*. For\n",
    "simplicity, we will focus on  ordinary regression, as done in the above example.\n",
    "\n",
    "The cost/loss function  for regression is"
   ]
  },
  {
   "cell_type": "markdown",
   "id": "2738a800",
   "metadata": {
    "editable": true
   },
   "source": [
    "$$\n",
    "C(\\beta_0, \\beta_1, ... , \\beta_{p-1}) = \\frac{1}{n}\\sum_{i=0}^{n} \\left(y_i - \\beta_0 - \\sum_{j=1}^{p-1} X_{ij}\\beta_j\\right)^2,.\n",
    "$$"
   ]
  },
  {
   "cell_type": "markdown",
   "id": "dbf58f06",
   "metadata": {
    "editable": true
   },
   "source": [
    "Recall also that we use the squared value. This expression can lead to an\n",
    "increased penalty for higher differences between predicted and\n",
    "output/target values.\n",
    "\n",
    "What we have done is to single out the $\\beta_0$ term in the\n",
    "definition of the mean squared error (MSE).  The design matrix $X$\n",
    "does in this case not contain any intercept column.  When we take the\n",
    "derivative with respect to $\\beta_0$, we want the derivative to obey"
   ]
  },
  {
   "cell_type": "markdown",
   "id": "c12f582d",
   "metadata": {
    "editable": true
   },
   "source": [
    "$$\n",
    "\\frac{\\partial C}{\\partial \\beta_j} = 0,\n",
    "$$"
   ]
  },
  {
   "cell_type": "markdown",
   "id": "0a28d799",
   "metadata": {
    "editable": true
   },
   "source": [
    "for all $j$. For $\\beta_0$ we have"
   ]
  },
  {
   "cell_type": "markdown",
   "id": "8d9a6c36",
   "metadata": {
    "editable": true
   },
   "source": [
    "$$\n",
    "\\frac{\\partial C}{\\partial \\beta_0} = -\\frac{2}{n}\\sum_{i=0}^{n-1} \\left(y_i - \\beta_0 - \\sum_{j=1}^{p-1} X_{ij} \\beta_j\\right).\n",
    "$$"
   ]
  },
  {
   "cell_type": "markdown",
   "id": "9cb4023a",
   "metadata": {
    "editable": true
   },
   "source": [
    "Multiplying away the constant $2/n$, we obtain"
   ]
  },
  {
   "cell_type": "markdown",
   "id": "5e47b57b",
   "metadata": {
    "editable": true
   },
   "source": [
    "$$\n",
    "\\sum_{i=0}^{n-1} \\beta_0 = \\sum_{i=0}^{n-1}y_i - \\sum_{i=0}^{n-1} \\sum_{j=1}^{p-1} X_{ij} \\beta_j.\n",
    "$$"
   ]
  },
  {
   "cell_type": "markdown",
   "id": "5fdef0e0",
   "metadata": {
    "editable": true
   },
   "source": [
    "Let us specialize first to the case where we have only two parameters $\\beta_0$ and $\\beta_1$.\n",
    "Our result for $\\beta_0$ simplifies then to"
   ]
  },
  {
   "cell_type": "markdown",
   "id": "41389009",
   "metadata": {
    "editable": true
   },
   "source": [
    "$$\n",
    "n\\beta_0 = \\sum_{i=0}^{n-1}y_i - \\sum_{i=0}^{n-1} X_{i1} \\beta_1.\n",
    "$$"
   ]
  },
  {
   "cell_type": "markdown",
   "id": "b417010e",
   "metadata": {
    "editable": true
   },
   "source": [
    "We obtain then"
   ]
  },
  {
   "cell_type": "markdown",
   "id": "0fbdd682",
   "metadata": {
    "editable": true
   },
   "source": [
    "$$\n",
    "\\beta_0 = \\frac{1}{n}\\sum_{i=0}^{n-1}y_i - \\beta_1\\frac{1}{n}\\sum_{i=0}^{n-1} X_{i1}.\n",
    "$$"
   ]
  },
  {
   "cell_type": "markdown",
   "id": "914fad85",
   "metadata": {
    "editable": true
   },
   "source": [
    "If we define"
   ]
  },
  {
   "cell_type": "markdown",
   "id": "761e3828",
   "metadata": {
    "editable": true
   },
   "source": [
    "$$\n",
    "\\mu_{\\boldsymbol{x}_1}=\\frac{1}{n}\\sum_{i=0}^{n-1} X_{i1},\n",
    "$$"
   ]
  },
  {
   "cell_type": "markdown",
   "id": "1beb29fe",
   "metadata": {
    "editable": true
   },
   "source": [
    "and the mean value of the outputs as"
   ]
  },
  {
   "cell_type": "markdown",
   "id": "a0621063",
   "metadata": {
    "editable": true
   },
   "source": [
    "$$\n",
    "\\mu_y=\\frac{1}{n}\\sum_{i=0}^{n-1}y_i,\n",
    "$$"
   ]
  },
  {
   "cell_type": "markdown",
   "id": "99d56e06",
   "metadata": {
    "editable": true
   },
   "source": [
    "we have"
   ]
  },
  {
   "cell_type": "markdown",
   "id": "7b4dcb8c",
   "metadata": {
    "editable": true
   },
   "source": [
    "$$\n",
    "\\beta_0 = \\mu_y - \\beta_1\\mu_{\\boldsymbol{x}_1}.\n",
    "$$"
   ]
  },
  {
   "cell_type": "markdown",
   "id": "f5127502",
   "metadata": {
    "editable": true
   },
   "source": [
    "In the general case with more parameters than $\\beta_0$ and $\\beta_1$, we have"
   ]
  },
  {
   "cell_type": "markdown",
   "id": "ff64d009",
   "metadata": {
    "editable": true
   },
   "source": [
    "$$\n",
    "\\beta_0 = \\frac{1}{n}\\sum_{i=0}^{n-1}y_i - \\frac{1}{n}\\sum_{i=0}^{n-1}\\sum_{j=1}^{p-1} X_{ij}\\beta_j.\n",
    "$$"
   ]
  },
  {
   "cell_type": "markdown",
   "id": "5feba3c2",
   "metadata": {
    "editable": true
   },
   "source": [
    "We can rewrite the latter equation as"
   ]
  },
  {
   "cell_type": "markdown",
   "id": "47454fe1",
   "metadata": {
    "editable": true
   },
   "source": [
    "$$\n",
    "\\beta_0 = \\frac{1}{n}\\sum_{i=0}^{n-1}y_i - \\sum_{j=1}^{p-1} \\mu_{\\boldsymbol{x}_j}\\beta_j,\n",
    "$$"
   ]
  },
  {
   "cell_type": "markdown",
   "id": "9fb71f34",
   "metadata": {
    "editable": true
   },
   "source": [
    "where we have defined"
   ]
  },
  {
   "cell_type": "markdown",
   "id": "2b71b2e8",
   "metadata": {
    "editable": true
   },
   "source": [
    "$$\n",
    "\\mu_{\\boldsymbol{x}_j}=\\frac{1}{n}\\sum_{i=0}^{n-1} X_{ij},\n",
    "$$"
   ]
  },
  {
   "cell_type": "markdown",
   "id": "2bf66500",
   "metadata": {
    "editable": true
   },
   "source": [
    "the mean value for all elements of the column vector $\\boldsymbol{x}_j$.\n",
    "\n",
    "Replacing $y_i$ with $y_i - y_i - \\overline{\\boldsymbol{y}}$ and centering also our design matrix results in a cost function (in vector-matrix disguise)"
   ]
  },
  {
   "cell_type": "markdown",
   "id": "06ef192f",
   "metadata": {
    "editable": true
   },
   "source": [
    "$$\n",
    "C(\\boldsymbol{\\beta}) = (\\boldsymbol{\\tilde{y}} - \\tilde{X}\\boldsymbol{\\beta})^T(\\boldsymbol{\\tilde{y}} - \\tilde{X}\\boldsymbol{\\beta}).\n",
    "$$"
   ]
  },
  {
   "cell_type": "markdown",
   "id": "2daaef8f",
   "metadata": {
    "editable": true
   },
   "source": [
    "If we minimize with respect to $\\boldsymbol{\\beta}$ we have then"
   ]
  },
  {
   "cell_type": "markdown",
   "id": "e98e6846",
   "metadata": {
    "editable": true
   },
   "source": [
    "$$\n",
    "\\hat{\\boldsymbol{\\beta}} = (\\tilde{X}^T\\tilde{X})^{-1}\\tilde{X}^T\\boldsymbol{\\tilde{y}},\n",
    "$$"
   ]
  },
  {
   "cell_type": "markdown",
   "id": "0b5d3274",
   "metadata": {
    "editable": true
   },
   "source": [
    "where $\\boldsymbol{\\tilde{y}} = \\boldsymbol{y} - \\overline{\\boldsymbol{y}}$\n",
    "and $\\tilde{X}_{ij} = X_{ij} - \\frac{1}{n}\\sum_{k=0}^{n-1}X_{kj}$.\n",
    "\n",
    "For Ridge regression we need to add $\\lambda \\boldsymbol{\\beta}^T\\boldsymbol{\\beta}$ to the cost function and get then"
   ]
  },
  {
   "cell_type": "markdown",
   "id": "3632d782",
   "metadata": {
    "editable": true
   },
   "source": [
    "$$\n",
    "\\hat{\\boldsymbol{\\beta}} = (\\tilde{X}^T\\tilde{X} + \\lambda I)^{-1}\\tilde{X}^T\\boldsymbol{\\tilde{y}}.\n",
    "$$"
   ]
  },
  {
   "cell_type": "markdown",
   "id": "dfa9e96e",
   "metadata": {
    "editable": true
   },
   "source": [
    "What does this mean? And why do we insist on all this? Let us look at some examples.\n",
    "\n",
    "This code shows a simple first-order fit to a data set using the above transformed data, where we consider the role of the intercept first, by either excluding it or including it (*code example thanks to  Øyvind Sigmundson Schøyen*). Here our scaling of the data is done by subtracting the mean values only.\n",
    "Note also that we do not split the data into training and test."
   ]
  },
  {
   "cell_type": "code",
   "execution_count": 5,
   "id": "ba21c85b",
   "metadata": {
    "collapsed": false,
    "editable": true
   },
   "outputs": [],
   "source": [
    "import numpy as np\n",
    "import matplotlib.pyplot as plt\n",
    "\n",
    "from sklearn.linear_model import LinearRegression\n",
    "\n",
    "\n",
    "np.random.seed(2021)\n",
    "\n",
    "def MSE(y_data,y_model):\n",
    "    n = np.size(y_model)\n",
    "    return np.sum((y_data-y_model)**2)/n\n",
    "\n",
    "\n",
    "def fit_beta(X, y):\n",
    "    return np.linalg.pinv(X.T @ X) @ X.T @ y\n",
    "\n",
    "\n",
    "true_beta = [2, 0.5, 3.7]\n",
    "\n",
    "x = np.linspace(0, 1, 11)\n",
    "y = np.sum(\n",
    "    np.asarray([x ** p * b for p, b in enumerate(true_beta)]), axis=0\n",
    ") + 0.1 * np.random.normal(size=len(x))\n",
    "\n",
    "degree = 3\n",
    "X = np.zeros((len(x), degree))\n",
    "\n",
    "# Include the intercept in the design matrix\n",
    "for p in range(degree):\n",
    "    X[:, p] = x ** p\n",
    "\n",
    "beta = fit_beta(X, y)\n",
    "\n",
    "# Intercept is included in the design matrix\n",
    "skl = LinearRegression(fit_intercept=False).fit(X, y)\n",
    "\n",
    "print(f\"True beta: {true_beta}\")\n",
    "print(f\"Fitted beta: {beta}\")\n",
    "print(f\"Sklearn fitted beta: {skl.coef_}\")\n",
    "ypredictOwn = X @ beta\n",
    "ypredictSKL = skl.predict(X)\n",
    "print(f\"MSE with intercept column\")\n",
    "print(MSE(y,ypredictOwn))\n",
    "print(f\"MSE with intercept column from SKL\")\n",
    "print(MSE(y,ypredictSKL))\n",
    "\n",
    "\n",
    "plt.figure()\n",
    "plt.scatter(x, y, label=\"Data\")\n",
    "plt.plot(x, X @ beta, label=\"Fit\")\n",
    "plt.plot(x, skl.predict(X), label=\"Sklearn (fit_intercept=False)\")\n",
    "\n",
    "\n",
    "# Do not include the intercept in the design matrix\n",
    "X = np.zeros((len(x), degree - 1))\n",
    "\n",
    "for p in range(degree - 1):\n",
    "    X[:, p] = x ** (p + 1)\n",
    "\n",
    "# Intercept is not included in the design matrix\n",
    "skl = LinearRegression(fit_intercept=True).fit(X, y)\n",
    "\n",
    "# Use centered values for X and y when computing coefficients\n",
    "y_offset = np.average(y, axis=0)\n",
    "X_offset = np.average(X, axis=0)\n",
    "\n",
    "beta = fit_beta(X - X_offset, y - y_offset)\n",
    "intercept = np.mean(y_offset - X_offset @ beta)\n",
    "\n",
    "print(f\"Manual intercept: {intercept}\")\n",
    "print(f\"Fitted beta (wiothout intercept): {beta}\")\n",
    "print(f\"Sklearn intercept: {skl.intercept_}\")\n",
    "print(f\"Sklearn fitted beta (without intercept): {skl.coef_}\")\n",
    "ypredictOwn = X @ beta\n",
    "ypredictSKL = skl.predict(X)\n",
    "print(f\"MSE with Manual intercept\")\n",
    "print(MSE(y,ypredictOwn+intercept))\n",
    "print(f\"MSE with Sklearn intercept\")\n",
    "print(MSE(y,ypredictSKL))\n",
    "\n",
    "plt.plot(x, X @ beta + intercept, \"--\", label=\"Fit (manual intercept)\")\n",
    "plt.plot(x, skl.predict(X), \"--\", label=\"Sklearn (fit_intercept=True)\")\n",
    "plt.grid()\n",
    "plt.legend()\n",
    "\n",
    "plt.show()"
   ]
  },
  {
   "cell_type": "markdown",
   "id": "7af45a35",
   "metadata": {
    "editable": true
   },
   "source": [
    "The intercept is the value of our output/target variable\n",
    "when all our features are zero and our function crosses the $y$-axis (for a one-dimensional case). \n",
    "\n",
    "Printing the MSE, we see first that both methods give the same MSE, as\n",
    "they should.  However, when we move to for example Ridge regression,\n",
    "the way we treat the intercept may give a larger or smaller MSE,\n",
    "meaning that the MSE can be penalized by the value of the\n",
    "intercept. Not including the intercept in the fit, means that the\n",
    "regularization term does not include $\\beta_0$. For different values\n",
    "of $\\lambda$, this may lead to different MSE values. \n",
    "\n",
    "To remind the reader, the regularization term, with the intercept in Ridge regression, is given by"
   ]
  },
  {
   "cell_type": "markdown",
   "id": "bef4863e",
   "metadata": {
    "editable": true
   },
   "source": [
    "$$\n",
    "\\lambda \\vert\\vert \\boldsymbol{\\beta} \\vert\\vert_2^2 = \\lambda \\sum_{j=0}^{p-1}\\beta_j^2,\n",
    "$$"
   ]
  },
  {
   "cell_type": "markdown",
   "id": "392590af",
   "metadata": {
    "editable": true
   },
   "source": [
    "but when we take out the intercept, this equation becomes"
   ]
  },
  {
   "cell_type": "markdown",
   "id": "8dabe769",
   "metadata": {
    "editable": true
   },
   "source": [
    "$$\n",
    "\\lambda \\vert\\vert \\boldsymbol{\\beta} \\vert\\vert_2^2 = \\lambda \\sum_{j=1}^{p-1}\\beta_j^2.\n",
    "$$"
   ]
  },
  {
   "cell_type": "markdown",
   "id": "5414b2ef",
   "metadata": {
    "editable": true
   },
   "source": [
    "For Lasso regression we have"
   ]
  },
  {
   "cell_type": "markdown",
   "id": "06c24562",
   "metadata": {
    "editable": true
   },
   "source": [
    "$$\n",
    "\\lambda \\vert\\vert \\boldsymbol{\\beta} \\vert\\vert_1 = \\lambda \\sum_{j=1}^{p-1}\\vert\\beta_j\\vert.\n",
    "$$"
   ]
  },
  {
   "cell_type": "markdown",
   "id": "d610806d",
   "metadata": {
    "editable": true
   },
   "source": [
    "It means that, when scaling the design matrix and the outputs/targets,\n",
    "by subtracting the mean values, we have an optimization problem which\n",
    "is not penalized by the intercept. The MSE value can then be smaller\n",
    "since it focuses only on the remaining quantities. If we however bring\n",
    "back the intercept, we will get a MSE which then contains the\n",
    "intercept.\n",
    "\n",
    "Armed with this wisdom, we attempt first to simply set the intercept equal to **False** in our implementation of Ridge regression for our well-known  vanilla data set."
   ]
  },
  {
   "cell_type": "code",
   "execution_count": 6,
   "id": "ae5a8de3",
   "metadata": {
    "collapsed": false,
    "editable": true
   },
   "outputs": [],
   "source": [
    "import numpy as np\n",
    "import pandas as pd\n",
    "import matplotlib.pyplot as plt\n",
    "from sklearn.model_selection import train_test_split\n",
    "from sklearn import linear_model\n",
    "\n",
    "def MSE(y_data,y_model):\n",
    "    n = np.size(y_model)\n",
    "    return np.sum((y_data-y_model)**2)/n\n",
    "\n",
    "\n",
    "# A seed just to ensure that the random numbers are the same for every run.\n",
    "# Useful for eventual debugging.\n",
    "np.random.seed(3155)\n",
    "\n",
    "n = 100\n",
    "x = np.random.rand(n)\n",
    "y = np.exp(-x**2) + 1.5 * np.exp(-(x-2)**2)\n",
    "\n",
    "Maxpolydegree = 20\n",
    "X = np.zeros((n,Maxpolydegree))\n",
    "#We include explicitely the intercept column\n",
    "for degree in range(Maxpolydegree):\n",
    "    X[:,degree] = x**degree\n",
    "# We split the data in test and training data\n",
    "X_train, X_test, y_train, y_test = train_test_split(X, y, test_size=0.2)\n",
    "\n",
    "p = Maxpolydegree\n",
    "I = np.eye(p,p)\n",
    "# Decide which values of lambda to use\n",
    "nlambdas = 6\n",
    "MSEOwnRidgePredict = np.zeros(nlambdas)\n",
    "MSERidgePredict = np.zeros(nlambdas)\n",
    "lambdas = np.logspace(-4, 2, nlambdas)\n",
    "for i in range(nlambdas):\n",
    "    lmb = lambdas[i]\n",
    "    OwnRidgeBeta = np.linalg.pinv(X_train.T @ X_train+lmb*I) @ X_train.T @ y_train\n",
    "    # Note: we include the intercept column and no scaling\n",
    "    RegRidge = linear_model.Ridge(lmb,fit_intercept=False)\n",
    "    RegRidge.fit(X_train,y_train)\n",
    "    # and then make the prediction\n",
    "    ytildeOwnRidge = X_train @ OwnRidgeBeta\n",
    "    ypredictOwnRidge = X_test @ OwnRidgeBeta\n",
    "    ytildeRidge = RegRidge.predict(X_train)\n",
    "    ypredictRidge = RegRidge.predict(X_test)\n",
    "    MSEOwnRidgePredict[i] = MSE(y_test,ypredictOwnRidge)\n",
    "    MSERidgePredict[i] = MSE(y_test,ypredictRidge)\n",
    "    print(\"Beta values for own Ridge implementation\")\n",
    "    print(OwnRidgeBeta)\n",
    "    print(\"Beta values for Scikit-Learn Ridge implementation\")\n",
    "    print(RegRidge.coef_)\n",
    "    print(\"MSE values for own Ridge implementation\")\n",
    "    print(MSEOwnRidgePredict[i])\n",
    "    print(\"MSE values for Scikit-Learn Ridge implementation\")\n",
    "    print(MSERidgePredict[i])\n",
    "\n",
    "# Now plot the results\n",
    "plt.figure()\n",
    "plt.plot(np.log10(lambdas), MSEOwnRidgePredict, 'r', label = 'MSE own Ridge Test')\n",
    "plt.plot(np.log10(lambdas), MSERidgePredict, 'g', label = 'MSE Ridge Test')\n",
    "\n",
    "plt.xlabel('log10(lambda)')\n",
    "plt.ylabel('MSE')\n",
    "plt.legend()\n",
    "plt.show()"
   ]
  },
  {
   "cell_type": "markdown",
   "id": "cd8cff58",
   "metadata": {
    "editable": true
   },
   "source": [
    "The results here agree when we force **Scikit-Learn**'s Ridge function to include the first column in our design matrix.\n",
    "We see that the results agree very well. Here we have thus explicitely included the intercept column in the design matrix.\n",
    "What happens if we do not include the intercept in our fit?\n",
    "Let us see how we can change this code by zero centering."
   ]
  },
  {
   "cell_type": "code",
   "execution_count": 7,
   "id": "dd5aef75",
   "metadata": {
    "collapsed": false,
    "editable": true
   },
   "outputs": [],
   "source": [
    "import numpy as np\n",
    "import pandas as pd\n",
    "import matplotlib.pyplot as plt\n",
    "from sklearn.model_selection import train_test_split\n",
    "from sklearn import linear_model\n",
    "from sklearn.preprocessing import StandardScaler\n",
    "\n",
    "def MSE(y_data,y_model):\n",
    "    n = np.size(y_model)\n",
    "    return np.sum((y_data-y_model)**2)/n\n",
    "# A seed just to ensure that the random numbers are the same for every run.\n",
    "# Useful for eventual debugging.\n",
    "np.random.seed(315)\n",
    "\n",
    "n = 100\n",
    "x = np.random.rand(n)\n",
    "y = np.exp(-x**2) + 1.5 * np.exp(-(x-2)**2)\n",
    "\n",
    "Maxpolydegree = 20\n",
    "X = np.zeros((n,Maxpolydegree-1))\n",
    "\n",
    "for degree in range(1,Maxpolydegree): #No intercept column\n",
    "    X[:,degree-1] = x**(degree)\n",
    "\n",
    "# We split the data in test and training data\n",
    "X_train, X_test, y_train, y_test = train_test_split(X, y, test_size=0.2)\n",
    "\n",
    "#For our own implementation, we will need to deal with the intercept by centering the design matrix and the target variable\n",
    "X_train_mean = np.mean(X_train,axis=0)\n",
    "#Center by removing mean from each feature\n",
    "X_train_scaled = X_train - X_train_mean \n",
    "X_test_scaled = X_test - X_train_mean\n",
    "#The model intercept (called y_scaler) is given by the mean of the target variable (IF X is centered)\n",
    "#Remove the intercept from the training data.\n",
    "y_scaler = np.mean(y_train)           \n",
    "y_train_scaled = y_train - y_scaler   \n",
    "\n",
    "p = Maxpolydegree-1\n",
    "I = np.eye(p,p)\n",
    "# Decide which values of lambda to use\n",
    "nlambdas = 6\n",
    "MSEOwnRidgePredict = np.zeros(nlambdas)\n",
    "MSERidgePredict = np.zeros(nlambdas)\n",
    "\n",
    "lambdas = np.logspace(-4, 2, nlambdas)\n",
    "for i in range(nlambdas):\n",
    "    lmb = lambdas[i]\n",
    "    OwnRidgeBeta = np.linalg.pinv(X_train_scaled.T @ X_train_scaled+lmb*I) @ X_train_scaled.T @ (y_train_scaled)\n",
    "    intercept_ = y_scaler - X_train_mean@OwnRidgeBeta #The intercept can be shifted so the model can predict on uncentered data\n",
    "    #Add intercept to prediction\n",
    "    ypredictOwnRidge = X_test_scaled @ OwnRidgeBeta + y_scaler \n",
    "    RegRidge = linear_model.Ridge(lmb)\n",
    "    RegRidge.fit(X_train,y_train)\n",
    "    ypredictRidge = RegRidge.predict(X_test)\n",
    "    MSEOwnRidgePredict[i] = MSE(y_test,ypredictOwnRidge)\n",
    "    MSERidgePredict[i] = MSE(y_test,ypredictRidge)\n",
    "    print(\"Beta values for own Ridge implementation\")\n",
    "    print(OwnRidgeBeta) #Intercept is given by mean of target variable\n",
    "    print(\"Beta values for Scikit-Learn Ridge implementation\")\n",
    "    print(RegRidge.coef_)\n",
    "    print('Intercept from own implementation:')\n",
    "    print(intercept_)\n",
    "    print('Intercept from Scikit-Learn Ridge implementation')\n",
    "    print(RegRidge.intercept_)\n",
    "    print(\"MSE values for own Ridge implementation\")\n",
    "    print(MSEOwnRidgePredict[i])\n",
    "    print(\"MSE values for Scikit-Learn Ridge implementation\")\n",
    "    print(MSERidgePredict[i])\n",
    "\n",
    "\n",
    "# Now plot the results\n",
    "plt.figure()\n",
    "plt.plot(np.log10(lambdas), MSEOwnRidgePredict, 'b--', label = 'MSE own Ridge Test')\n",
    "plt.plot(np.log10(lambdas), MSERidgePredict, 'g--', label = 'MSE SL Ridge Test')\n",
    "plt.xlabel('log10(lambda)')\n",
    "plt.ylabel('MSE')\n",
    "plt.legend()\n",
    "plt.show()"
   ]
  },
  {
   "cell_type": "markdown",
   "id": "43c2d543",
   "metadata": {
    "editable": true
   },
   "source": [
    "We see here, when compared to the code which includes explicitely the\n",
    "intercept column, that our MSE value is actually smaller. This is\n",
    "because the regularization term does not include the intercept value\n",
    "$\\beta_0$ in the fitting.  This applies to Lasso regularization as\n",
    "well.  It means that our optimization is now done only with the\n",
    "centered matrix and/or vector that enter the fitting procedure."
   ]
  },
  {
   "cell_type": "markdown",
   "id": "d3815e80",
   "metadata": {
    "editable": true
   },
   "source": [
    "## Test Function for what happens with OLS, Ridge and Lasso\n",
    "\n",
    "Hitherto we have discussed Ridge and Lasso regression in terms of a\n",
    "linear analysis. This may to many of you feel rather technical and\n",
    "perhaps not that intuitive. The question is whether we can develop a\n",
    "more intuitive way of understanding what Ridge and Lasso express.\n",
    "\n",
    "Before we proceed let us perform a Ridge, Lasso  and OLS analysis of a polynomial fit. \n",
    "\n",
    "We will play around with a study of the values for the optimal\n",
    "parameters $\\boldsymbol{\\beta}$ using OLS, Ridge and Lasso regression.  For\n",
    "OLS, you will notice as function of the noise and polynomial degree,\n",
    "that the parameters $\\beta$ will fluctuate from order to order in the\n",
    "polynomial fit and that for larger and larger polynomial degrees of freedom, the parameters will tend to increase in value for OLS.\n",
    "\n",
    "For Ridge and Lasso regression, the higher order parameters will typically be reduced, providing thereby less fluctuations from one order to another one."
   ]
  },
  {
   "cell_type": "code",
   "execution_count": 8,
   "id": "3c191351",
   "metadata": {
    "collapsed": false,
    "editable": true
   },
   "outputs": [],
   "source": [
    "import numpy as np\n",
    "import matplotlib.pyplot as plt\n",
    "from sklearn.model_selection import train_test_split\n",
    "from sklearn import linear_model\n",
    "\n",
    "def R2(y_data, y_model):\n",
    "    return 1 - np.sum((y_data - y_model) ** 2) / np.sum((y_data - np.mean(y_data)) ** 2)\n",
    "def MSE(y_data,y_model):\n",
    "    n = np.size(y_model)\n",
    "    return np.sum((y_data-y_model)**2)/n\n",
    "\n",
    "# Make data set.\n",
    "n = 10000\n",
    "x = np.random.rand(n)\n",
    "y = np.exp(-x**2) + 1.5 * np.exp(-(x-2)**2)+ np.random.randn(n)\n",
    "\n",
    "Maxpolydegree = 5\n",
    "X = np.zeros((len(x),Maxpolydegree))\n",
    "X[:,0] = 1.0\n",
    "\n",
    "\n",
    "for polydegree in range(1,Maxpolydegree):\n",
    "    X[:,polydegree] = x**(polydegree)\n",
    "\n",
    "# We split the data in test and training data\n",
    "X_train, X_test, y_train, y_test = train_test_split(X, y, test_size=0.2)\n",
    "\n",
    "# matrix inversion to find beta\n",
    "OLSbeta = np.linalg.pinv(X_train.T @ X_train) @ X_train.T @ y_train\n",
    "print(OLSbeta)\n",
    "ypredictOLS = X_test @ OLSbeta\n",
    "print(\"Test MSE OLS\")\n",
    "print(MSE(y_test,ypredictOLS))\n",
    "# Repeat now for Lasso and Ridge regression and various values of the regularization parameter using Scikit-Learn\n",
    "# Decide which values of lambda to use\n",
    "nlambdas = 4\n",
    "MSERidgePredict = np.zeros(nlambdas)\n",
    "MSELassoPredict = np.zeros(nlambdas)\n",
    "lambdas = np.logspace(-3, 1, nlambdas)\n",
    "for i in range(nlambdas):\n",
    "    lmb = lambdas[i]\n",
    "    # Make the fit using Ridge and Lasso\n",
    "    RegRidge = linear_model.Ridge(lmb,fit_intercept=False)\n",
    "    RegRidge.fit(X_train,y_train)\n",
    "    RegLasso = linear_model.Lasso(lmb,fit_intercept=False)\n",
    "    RegLasso.fit(X_train,y_train)\n",
    "    # and then make the prediction\n",
    "    ypredictRidge = RegRidge.predict(X_test)\n",
    "    ypredictLasso = RegLasso.predict(X_test)\n",
    "    # Compute the MSE and print it\n",
    "    MSERidgePredict[i] = MSE(y_test,ypredictRidge)\n",
    "    MSELassoPredict[i] = MSE(y_test,ypredictLasso)\n",
    "    print(lmb,RegRidge.coef_)\n",
    "    print(lmb,RegLasso.coef_)\n",
    "# Now plot the results\n",
    "plt.figure()\n",
    "plt.plot(np.log10(lambdas), MSERidgePredict, 'b', label = 'MSE Ridge Test')\n",
    "plt.plot(np.log10(lambdas), MSELassoPredict, 'r', label = 'MSE Lasso Test')\n",
    "plt.xlabel('log10(lambda)')\n",
    "plt.ylabel('MSE')\n",
    "plt.legend()\n",
    "plt.show()"
   ]
  },
  {
   "cell_type": "markdown",
   "id": "7a0b5790",
   "metadata": {
    "editable": true
   },
   "source": [
    "## Overarching aims of the exercises this week\n",
    "\n",
    "This set of exercises form an important part of the first project to be presented later. The\n",
    "analytical exercises deal with the material on the\n",
    "mathematical interpretations of ordinary least squares and of Ridge\n",
    "regression. The numerical exercises can be seen as a continuation of\n",
    "exercise 3 from last week, with the inclusion of Ridge regression. This\n",
    "material enters also the discussions of the first project."
   ]
  },
  {
   "cell_type": "markdown",
   "id": "fd49f886",
   "metadata": {
    "editable": true
   },
   "source": [
    "## Exercise 1: Analytical exercises\n",
    "\n",
    "The aim here is to derive the expression for the optimal parameters\n",
    "using Ridge regression. Furthermore, using the singular value\n",
    "decomposition, we will analyze the difference between the ordinary\n",
    "least squares approach and Ridge regression.\n",
    "\n",
    "The expression for the standard Mean Squared Error (MSE) which we used to define our cost function and the equations for the ordinary least squares (OLS) method, was given by the\n",
    "optimization problem"
   ]
  },
  {
   "cell_type": "markdown",
   "id": "1d4e1a13",
   "metadata": {
    "editable": true
   },
   "source": [
    "$$\n",
    "{\\displaystyle \\min_{\\boldsymbol{\\beta}\\in {\\mathbb{R}}^{p}}}\\frac{1}{n}\\left\\{\\left(\\boldsymbol{y}-\\boldsymbol{X}\\boldsymbol{\\beta}\\right)^T\\left(\\boldsymbol{y}-\\boldsymbol{X}\\boldsymbol{\\beta}\\right)\\right\\}.\n",
    "$$"
   ]
  },
  {
   "cell_type": "markdown",
   "id": "7509065d",
   "metadata": {
    "editable": true
   },
   "source": [
    "which we can also write as"
   ]
  },
  {
   "cell_type": "markdown",
   "id": "4f3a7aa2",
   "metadata": {
    "editable": true
   },
   "source": [
    "$$\n",
    "{\\displaystyle \\min_{\\boldsymbol{\\beta}\\in\n",
    "{\\mathbb{R}}^{p}}}\\frac{1}{n}\\sum_{i=0}^{n-1}\\left(y_i-\\tilde{y}_i\\right)^2=\\frac{1}{n}\\vert\\vert \\boldsymbol{y}-\\boldsymbol{X}\\boldsymbol{\\beta}\\vert\\vert_2^2,\n",
    "$$"
   ]
  },
  {
   "cell_type": "markdown",
   "id": "1c96ccff",
   "metadata": {
    "editable": true
   },
   "source": [
    "where we have used the definition of  a norm-2 vector, that is"
   ]
  },
  {
   "cell_type": "markdown",
   "id": "5095bc64",
   "metadata": {
    "editable": true
   },
   "source": [
    "$$\n",
    "\\vert\\vert \\boldsymbol{x}\\vert\\vert_2 = \\sqrt{\\sum_i x_i^2}.\n",
    "$$"
   ]
  },
  {
   "cell_type": "markdown",
   "id": "5e0ae2ba",
   "metadata": {
    "editable": true
   },
   "source": [
    "By minimizing the above equation with respect to the parameters\n",
    "$\\boldsymbol{\\beta}$ we could then obtain an analytical expression for the\n",
    "parameters $\\boldsymbol{\\beta}$.\n",
    "\n",
    "We can add a regularization parameter $\\lambda$ by\n",
    "defining a new cost function to be optimized, that is"
   ]
  },
  {
   "cell_type": "markdown",
   "id": "908aeb39",
   "metadata": {
    "editable": true
   },
   "source": [
    "$$\n",
    "{\\displaystyle \\min_{\\boldsymbol{\\beta}\\in\n",
    "{\\mathbb{R}}^{p}}}\\frac{1}{n}\\vert\\vert \\boldsymbol{y}-\\boldsymbol{X}\\boldsymbol{\\beta}\\vert\\vert_2^2+\\lambda\\vert\\vert \\boldsymbol{\\beta}\\vert\\vert_2^2\n",
    "$$"
   ]
  },
  {
   "cell_type": "markdown",
   "id": "3b70d2a5",
   "metadata": {
    "editable": true
   },
   "source": [
    "which leads to the Ridge regression minimization problem. One can require as part of the optimization problem \n",
    "that $\\vert\\vert \\boldsymbol{\\beta}\\vert\\vert_2^2\\le t$, where $t$ is\n",
    "a finite number larger than zero. We will not implement that here."
   ]
  },
  {
   "cell_type": "markdown",
   "id": "7a0d7ac7",
   "metadata": {
    "editable": true
   },
   "source": [
    "### a) Expression for Ridge regression\n",
    "\n",
    "Show that the optimal parameters"
   ]
  },
  {
   "cell_type": "markdown",
   "id": "22f655f7",
   "metadata": {
    "editable": true
   },
   "source": [
    "$$\n",
    "\\hat{\\boldsymbol{\\beta}}_{\\mathrm{Ridge}} = \\left(\\boldsymbol{X}^T\\boldsymbol{X}+\\lambda\\boldsymbol{I}\\right)^{-1}\\boldsymbol{X}^T\\boldsymbol{y},\n",
    "$$"
   ]
  },
  {
   "cell_type": "markdown",
   "id": "1e4f16d3",
   "metadata": {
    "editable": true
   },
   "source": [
    "with $\\boldsymbol{I}$ being a $p\\times p$ identity matrix with the constraint that"
   ]
  },
  {
   "cell_type": "markdown",
   "id": "eb376bc3",
   "metadata": {
    "editable": true
   },
   "source": [
    "$$\n",
    "\\sum_{i=0}^{p-1} \\beta_i^2 \\leq t,\n",
    "$$"
   ]
  },
  {
   "cell_type": "markdown",
   "id": "fe6e6054",
   "metadata": {
    "editable": true
   },
   "source": [
    "with $t$ a finite positive number. In the optimization, we will not require that the latter is satisfied.\n",
    "\n",
    "The ordinary least squares result is"
   ]
  },
  {
   "cell_type": "markdown",
   "id": "6c45261d",
   "metadata": {
    "editable": true
   },
   "source": [
    "$$\n",
    "\\hat{\\boldsymbol{\\beta}}_{\\mathrm{OLS}} = \\left(\\boldsymbol{X}^T\\boldsymbol{X}\\right)^{-1}\\boldsymbol{X}^T\\boldsymbol{y},\n",
    "$$"
   ]
  },
  {
   "cell_type": "markdown",
   "id": "764ce25b",
   "metadata": {
    "editable": true
   },
   "source": [
    "### b) The singular value decomposition\n",
    "\n",
    "Here we will use the singular value decomposition of an $n\\times p$ matrix $\\boldsymbol{X}$ (our design matrix)"
   ]
  },
  {
   "cell_type": "markdown",
   "id": "ef1df4fc",
   "metadata": {
    "editable": true
   },
   "source": [
    "$$\n",
    "\\boldsymbol{X}=\\boldsymbol{U}\\boldsymbol{\\Sigma}\\boldsymbol{V}^T,\n",
    "$$"
   ]
  },
  {
   "cell_type": "markdown",
   "id": "5bcce867",
   "metadata": {
    "editable": true
   },
   "source": [
    "to study properties of Ridge regression and ordinary least squares regression.\n",
    "Here $\\boldsymbol{U}$ and $\\boldsymbol{V}$ are orthogonal matrices of dimensions\n",
    "$n\\times n$ and $p\\times p$, respectively, and $\\boldsymbol{\\Sigma}$ is an\n",
    "$n\\times p$ matrix which contains the singular values only. This material was discussed during the lectures of week 35.\n",
    "\n",
    "Show that you can write the \n",
    "OLS solutions in terms of the eigenvectors (the columns) of the orthogonal matrix  $\\boldsymbol{U}$ as"
   ]
  },
  {
   "cell_type": "markdown",
   "id": "26189c96",
   "metadata": {
    "editable": true
   },
   "source": [
    "$$\n",
    "\\tilde{\\boldsymbol{y}}_{\\mathrm{OLS}}=\\boldsymbol{X}\\boldsymbol{\\beta}  = \\sum_{j=0}^{p-1}\\boldsymbol{u}_j\\boldsymbol{u}_j^T\\boldsymbol{y}.\n",
    "$$"
   ]
  },
  {
   "cell_type": "markdown",
   "id": "f48620d8",
   "metadata": {
    "editable": true
   },
   "source": [
    "For Ridge regression, show that the corresponding equation is"
   ]
  },
  {
   "cell_type": "markdown",
   "id": "aaef09c3",
   "metadata": {
    "editable": true
   },
   "source": [
    "$$\n",
    "\\tilde{\\boldsymbol{y}}_{\\mathrm{Ridge}}=\\boldsymbol{X}\\boldsymbol{\\beta}_{\\mathrm{Ridge}} = \\boldsymbol{U\\Sigma V^T}\\left(\\boldsymbol{V}\\boldsymbol{\\Sigma}^2\\boldsymbol{V}^T+\\lambda\\boldsymbol{I} \\right)^{-1}(\\boldsymbol{U\\Sigma V^T})^T\\boldsymbol{y}=\\sum_{j=0}^{p-1}\\boldsymbol{u}_j\\boldsymbol{u}_j^T\\frac{\\sigma_j^2}{\\sigma_j^2+\\lambda}\\boldsymbol{y},\n",
    "$$"
   ]
  },
  {
   "cell_type": "markdown",
   "id": "6c16c565",
   "metadata": {
    "editable": true
   },
   "source": [
    "with the vectors $\\boldsymbol{u}_j$ being the columns of $\\boldsymbol{U}$ from the SVD of the matrix $\\boldsymbol{X}$. \n",
    "\n",
    "Give an interpretation of the results.  [Section 3.4 of Hastie et al's textbook gives a good discussion of the above results](https://link.springer.com/book/10.1007/978-0-387-84858-7)."
   ]
  },
  {
   "cell_type": "markdown",
   "id": "a6670a8f",
   "metadata": {
    "editable": true
   },
   "source": [
    "## Exercise 2: Adding Ridge Regression\n",
    "\n",
    "This exercise is a continuation of exercise 3 from last week.\n",
    "\n",
    "We will use the same function to\n",
    "generate our data set, still staying with a simple function $y(x)$\n",
    "which we want to fit using linear regression, but now extending the\n",
    "analysis to include the Ridge regression method.\n",
    "\n",
    "In this exercise you need to include the same elements from last week, that is\n",
    "1. scale your data by subtracting the mean value from each column in the design matrix.\n",
    "\n",
    "2. perform a split of the data in a training set and a test set.\n",
    "\n",
    "The addition to the analysis this time is the introduction of the hyperparameter $\\lambda$ when introducing Ridge regression.\n",
    "\n",
    "Extend the code from exercise 3 from last week to include Ridge regression with the hyperparameter $\\lambda$. The optimal parameters $\\hat{\\beta}$ for Ridge regression can be obtained by matrix inversion in a similar way as done for ordinary least squares. You need to add to your code the following equations"
   ]
  },
  {
   "cell_type": "markdown",
   "id": "b516a64d",
   "metadata": {
    "editable": true
   },
   "source": [
    "$$\n",
    "\\hat{\\boldsymbol{\\beta}}_{\\mathrm{Ridge}} = \\left(\\boldsymbol{X}^T\\boldsymbol{X}+\\lambda\\boldsymbol{I}\\right)^{-1}\\boldsymbol{X}^T\\boldsymbol{y}.\n",
    "$$"
   ]
  },
  {
   "cell_type": "markdown",
   "id": "6dd391b3",
   "metadata": {
    "editable": true
   },
   "source": [
    "The ordinary least squares result you encoded last week is given by"
   ]
  },
  {
   "cell_type": "markdown",
   "id": "f3e5aa71",
   "metadata": {
    "editable": true
   },
   "source": [
    "$$\n",
    "\\hat{\\boldsymbol{\\beta}}_{\\mathrm{OLS}} = \\left(\\boldsymbol{X}^T\\boldsymbol{X}\\right)^{-1}\\boldsymbol{X}^T\\boldsymbol{y},\n",
    "$$"
   ]
  },
  {
   "cell_type": "markdown",
   "id": "60925ef7",
   "metadata": {
    "editable": true
   },
   "source": [
    "Use these results to compute the mean squared error for ordinary least\n",
    "squares and Ridge regression first for a polynomial of degree five\n",
    "with $n=100$ data points and five selected values of\n",
    "$\\lambda=[0.0001,0.001, 0.01,0.1,1.0]$. Compute thereafter the mean\n",
    "squared error for the same values of $\\lambda$ for polynomials of degree ten\n",
    "and $15$. Discuss your results for the training MSE and test MSE with\n",
    "Ridge regression and ordinary least squares."
   ]
  }
 ],
 "metadata": {},
 "nbformat": 4,
 "nbformat_minor": 5
}
