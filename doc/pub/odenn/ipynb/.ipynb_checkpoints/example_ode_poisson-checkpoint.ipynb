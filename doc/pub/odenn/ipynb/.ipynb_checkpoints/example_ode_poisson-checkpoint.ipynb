{
 "cells": [
  {
   "cell_type": "markdown",
   "metadata": {},
   "source": [
    "# Example: Solving the one dimensional Poisson equation\n",
    "\n"
   ]
  },
  {
   "cell_type": "markdown",
   "metadata": {},
   "source": [
    "## What we must find numerically \n",
    "\n",
    "* Use what we know about the function's derivatives in order to approximate the function values within a domain."
   ]
  },
  {
   "cell_type": "markdown",
   "metadata": {},
   "source": [
    "## The usage of neural network \n",
    "\n",
    "* We must propose a trial solution\n",
    "* The trial solution should satisfy the given boundary conditions \n",
    "* Include output from the neural net in the trial solution"
   ]
  },
  {
   "cell_type": "markdown",
   "metadata": {},
   "source": [
    "## One dimensional Poisson equation \n",
    "\n",
    "Here, the function $g(x)$ to solve for follows the equation \n",
    "\n",
    "$$ \\label{ode}\n",
    "-g''(x) = f(x),\\qquad \\qquad x \\in (0,1)\n",
    "$$\n",
    "\n",
    "for a given $f(x)$ is a given function, along with some chosen boundary conditions.\n",
    "\n",
    "In this case, we let:\n",
    "\n",
    "* $f(x) = (3x + x^2)\\exp(x)$\n",
    "\n",
    "* Boundary conditions: $g(0) = g(1) = 0$\n"
   ]
  },
  {
   "cell_type": "markdown",
   "metadata": {},
   "source": [
    "## Trial solution \n",
    "\n",
    "A possible trial solution:\n",
    "\n",
    "$$g_{trial}(x) = x(1 - x)N(x, P)$$\n",
    "\n",
    "with $N(x, P)$ being the output from the network at $x$ with weights and biases for every layer contained in $P$. \n",
    "\n",
    "---\n",
    "\n",
    "**we want to find $g_{trial}$ such that**\n",
    "\n",
    "$$-g_{trial}''(x) = f(x)$$\n",
    "\n",
    "**holds as best as possible!**\n",
    "\n",
    "---"
   ]
  },
  {
   "cell_type": "markdown",
   "metadata": {},
   "source": [
    "## Using TensorFlow to solve our Poisson equation \n",
    "\n",
    "* Construction phase \n",
    "\n",
    "* Execution phase "
   ]
  },
  {
   "cell_type": "markdown",
   "metadata": {},
   "source": [
    "## Construction phase - set everything up "
   ]
  },
  {
   "cell_type": "code",
   "execution_count": 30,
   "metadata": {},
   "outputs": [],
   "source": [
    "import numpy as np \n",
    "import tensorflow as tf\n",
    "\n",
    "tf.set_random_seed(4155)\n",
    "\n",
    "# Just to reset the graph such that it is possible to rerun this\n",
    "# Jupyter cell without resetting the whole kernel.\n",
    "tf.reset_default_graph()\n",
    "\n",
    "Nx = 10\n",
    "x = np.linspace(0,1, Nx)\n",
    "\n",
    "x_tf = tf.convert_to_tensor(x.reshape(-1,1),dtype=tf.float64)\n",
    "\n",
    "num_iter = 10000\n",
    "\n",
    "num_hidden_neurons = [20,10]\n",
    "num_hidden_layers = len(num_hidden_neurons)"
   ]
  },
  {
   "cell_type": "markdown",
   "metadata": {},
   "source": [
    "## Construction phase - construct the network"
   ]
  },
  {
   "cell_type": "code",
   "execution_count": 31,
   "metadata": {},
   "outputs": [],
   "source": [
    "# Input layer\n",
    "previous_layer = x_tf\n",
    "    \n",
    "# Hidden layers\n",
    "for l in range(num_hidden_layers):\n",
    "    current_layer = tf.layers.dense(previous_layer, num_hidden_neurons[l], activation=tf.nn.sigmoid)\n",
    "    previous_layer = current_layer\n",
    "    \n",
    "# Output layer\n",
    "dnn_output = tf.layers.dense(previous_layer, 1)"
   ]
  },
  {
   "cell_type": "markdown",
   "metadata": {},
   "source": [
    "## Construction phase - define the cost function "
   ]
  },
  {
   "cell_type": "code",
   "execution_count": 56,
   "metadata": {},
   "outputs": [],
   "source": [
    "g_trial = x_tf*(1 - x_tf)*dnn_output\n",
    "d_g_trial = tf.gradients(g_trial,x_tf)\n",
    "d2_g_trial = tf.gradients(d_g_trial,x_tf)\n",
    "\n",
    "# f(x)\n",
    "right_side = (3*x_tf + x_tf**2)*tf.exp(x_tf)\n",
    "\n",
    "err = tf.square( -d2_g_trial[0] - right_side)\n",
    "cost = tf.reduce_sum(err)"
   ]
  },
  {
   "cell_type": "markdown",
   "metadata": {},
   "source": [
    "## Construction phase - specify the optimization method"
   ]
  },
  {
   "cell_type": "code",
   "execution_count": 57,
   "metadata": {},
   "outputs": [],
   "source": [
    "learning_rate = 0.001\n",
    "\n",
    "optimizer = tf.train.GradientDescentOptimizer(learning_rate)\n",
    "traning_op = optimizer.minimize(cost)"
   ]
  },
  {
   "cell_type": "markdown",
   "metadata": {},
   "source": [
    "## Execution phase - train the network and evaluate the final model"
   ]
  },
  {
   "cell_type": "code",
   "execution_count": 60,
   "metadata": {},
   "outputs": [
    {
     "name": "stdout",
     "output_type": "stream",
     "text": [
      "Initial cost: 324.099\n",
      "Final cost: 0.00461895\n"
     ]
    }
   ],
   "source": [
    "init = tf.global_variables_initializer()\n",
    "\n",
    "with tf.Session() as sess:\n",
    "    init.run()\n",
    "    \n",
    "    # Evaluate the initial cost:\n",
    "    print('Initial cost: %g'%cost.eval())\n",
    "    \n",
    "    for i in range(num_iter):\n",
    "        sess.run(traning_op)\n",
    "    \n",
    "    print('Final cost: %g'%cost.eval())\n",
    "    \n",
    "    g_dnn_tf_descent = g_trial.eval()"
   ]
  },
  {
   "cell_type": "markdown",
   "metadata": {},
   "source": [
    "## Solving the equation using finite differences\n",
    "\n",
    "A possible approximation to the second derivative of a function is \n",
    "\n",
    "$$ g''(x_i) \\approx \\frac{g(x_i + \\Delta x) - 2g(x_i) + g(x_i - \\Delta x)}{(\\Delta x)^2} $$\n",
    "\n",
    "for $i = 1, \\dots, N_x - 2$ and $g(x_0) = g(x_{N_x -1}) = 0$.\n",
    "\n",
    "\n",
    "Inserting this into the Poisson equation yields the following linear system:\n",
    "\n",
    "$$\n",
    "\\begin{aligned}\n",
    "\\begin{pmatrix}\n",
    "2 & -1 & 0 & \\dots & 0 \\\\\n",
    "-1 & 2 & -1 & \\dots & 0 \\\\\n",
    "\\vdots & & \\ddots & & \\vdots \\\\\n",
    "0 & \\dots & -1 & 2 & -1 \\\\\n",
    "0 & \\dots & 0 & -1 & 2\n",
    "\\end{pmatrix}\n",
    "\\begin{pmatrix}\n",
    "g(x_1) \\\\\n",
    "g(x_2) \\\\\n",
    "\\vdots \\\\ \n",
    "g(x_{N_x - 3}) \\\\\n",
    "g(x_{N_x - 2})\n",
    "\\end{pmatrix}\n",
    "&=\n",
    "(\\Delta x)^2\n",
    "\\begin{pmatrix}\n",
    "f(x_1) \\\\\n",
    "f(x_2) \\\\\n",
    "\\vdots \\\\ \n",
    "f(x_{N_x - 3}) \\\\\n",
    "f(x_{N_x - 2})\n",
    "\\end{pmatrix} \n",
    "\\\\\n",
    "A\\vec{g} &= \\vec{f}\n",
    "\\end{aligned}\n",
    "$$"
   ]
  },
  {
   "cell_type": "code",
   "execution_count": 61,
   "metadata": {},
   "outputs": [],
   "source": [
    "dx = 1/(Nx-1)\n",
    "\n",
    "# Set up the matrix A\n",
    "Nx2 = Nx - 2\n",
    "A = np.zeros((Nx2,Nx2))\n",
    "\n",
    "A[0,0] = 2\n",
    "A[0,1] = -1\n",
    "\n",
    "for i in range(1,Nx2-1):\n",
    "    A[i,i-1] = -1\n",
    "    A[i,i] = 2\n",
    "    A[i,i+1] = -1\n",
    "\n",
    "A[Nx2 - 1, Nx2 - 2] = -1\n",
    "A[Nx2 - 1, Nx2 - 1] = 2\n",
    "\n",
    "# Set up the vector f\n",
    "def f(x):\n",
    "    return (3*x + x**2)*np.exp(x)\n",
    "\n",
    "f_vec = dx**2 * f(x[1:-1])\n",
    "\n",
    "# Solve the equation\n",
    "g_res = np.linalg.solve(A,f_vec)\n",
    "\n",
    "# Insert the solution into an array\n",
    "g_vec = np.zeros(Nx)\n",
    "g_vec[1:-1] = g_res"
   ]
  },
  {
   "cell_type": "markdown",
   "metadata": {},
   "source": [
    "## Results: Neural network versus finite differences"
   ]
  },
  {
   "cell_type": "markdown",
   "metadata": {},
   "source": [
    "The analytic solution for our equation is\n",
    "\n",
    "$$\n",
    "g(x) = x(1 - x)\\exp(x)\n",
    "$$"
   ]
  },
  {
   "cell_type": "code",
   "execution_count": 49,
   "metadata": {},
   "outputs": [],
   "source": [
    "g_analytical = x*(1-x)*np.exp(x)"
   ]
  },
  {
   "cell_type": "markdown",
   "metadata": {},
   "source": [
    "### Solution from finite differences:"
   ]
  },
  {
   "cell_type": "code",
   "execution_count": 50,
   "metadata": {},
   "outputs": [
    {
     "name": "stdout",
     "output_type": "stream",
     "text": [
      "Max absolute error between analytical and finite difference: 0.00266858\n"
     ]
    }
   ],
   "source": [
    "print(\"Max absolute error between analytical and finite difference: %g\"%np.max(np.abs(g_vec - g_analytical)))"
   ]
  },
  {
   "cell_type": "markdown",
   "metadata": {},
   "source": [
    "### Solution from neural network (gradient descent):"
   ]
  },
  {
   "cell_type": "code",
   "execution_count": 51,
   "metadata": {},
   "outputs": [
    {
     "name": "stdout",
     "output_type": "stream",
     "text": [
      "\n",
      "Max absolute difference between the analytical solution and solution from TensorFlow DNN\n",
      "using gradient descent: 0.000329089\n"
     ]
    }
   ],
   "source": [
    "diff_tf = g_dnn_tf_descent - g_analytical.reshape(-1,1)\n",
    "print('\\nMax absolute difference between the analytical solution and solution from TensorFlow DNN\\nusing gradient descent: %g'%np.max(np.abs(diff_tf)))"
   ]
  },
  {
   "cell_type": "markdown",
   "metadata": {},
   "source": [
    "### Plotting the results "
   ]
  },
  {
   "cell_type": "code",
   "execution_count": 52,
   "metadata": {},
   "outputs": [
    {
     "data": {
      "image/png": "[encoded data removed]",
      "text/plain": [
       "<Figure size 1224x720 with 2 Axes>"
      ]
     },
     "metadata": {
      "needs_background": "light"
     },
     "output_type": "display_data"
    }
   ],
   "source": [
    "%matplotlib inline \n",
    "import matplotlib.pyplot as plt \n",
    "\n",
    "plt.figure(figsize=(17,10))\n",
    "\n",
    "plt.subplot(1,2,1)\n",
    "\n",
    "plt.title(\"Approximated solutions to the ODE\")\n",
    "plt.plot(x, g_vec)\n",
    "plt.plot(x, g_dnn_tf_descent)\n",
    "plt.plot(x, g_analytical)\n",
    "\n",
    "plt.legend(['Numerical scheme', 'Tensorflow (gradient descent)', 'Analytical'])\n",
    "\n",
    "plt.subplot(1,2,2)\n",
    "\n",
    "plt.title(\"Approximated solutions to the ODE, zoomed\")\n",
    "plt.plot(x, g_vec)\n",
    "plt.plot(x, g_dnn_tf_descent)\n",
    "plt.plot(x, g_analytical)\n",
    "\n",
    "plt.xlim([0.4, 0.8])\n",
    "plt.ylim([0.34, 0.44])\n",
    "\n",
    "plt.legend(['Numerical scheme', 'Tensorflow (gradient descent)', 'Analytical'])\n",
    "\n",
    "plt.show()"
   ]
  },
  {
   "cell_type": "markdown",
   "metadata": {},
   "source": [
    "## Using a different optimization algorithm implemented in TensorFlow\n",
    "\n",
    "We can see that the results using Gradient Descent seems to converge towards the analytical solution. \n",
    "But there exists many other methods for optimization also, see [the TensorFlow documentation](https://www.tensorflow.org/versions/r1.2/api_guides/python/train#Optimizers). \n",
    "\n",
    "Adam is an optimization algorithm that is adaptive and changes its learning paramaters accordingly to the function it tries to minimize. The algorithm is described in [this paper](https://arxiv.org/pdf/1412.6980.pdf). Here, we will only see the effect of choosing a different optimizer. \n",
    "Using the same TensorFlow program as before, the only change to do, is to replace the variable \\textit{optimizer}."
   ]
  },
  {
   "cell_type": "code",
   "execution_count": 53,
   "metadata": {},
   "outputs": [
    {
     "name": "stdout",
     "output_type": "stream",
     "text": [
      "Initial cost: 324.099\n",
      "Final cost: 0.000345773\n"
     ]
    }
   ],
   "source": [
    "tf.reset_default_graph()\n",
    "tf.set_random_seed(4155)\n",
    "\n",
    "x_tf = tf.convert_to_tensor(x.reshape(-1,1),dtype=tf.float64)\n",
    "\n",
    "\n",
    "num_iter = 10000\n",
    "\n",
    "num_hidden_neurons = [20,10]\n",
    "num_hidden_layers = np.size(num_hidden_neurons)\n",
    "\n",
    "previous_layer = x_tf\n",
    "\n",
    "for l in range(num_hidden_layers):\n",
    "    current_layer = tf.layers.dense(previous_layer, num_hidden_neurons[l], name='hidden%d'%(l+1), activation=tf.nn.sigmoid)\n",
    "    previous_layer = current_layer\n",
    "    \n",
    "dnn_output = tf.layers.dense(previous_layer, 1, name='output')\n",
    "\n",
    "\n",
    "g_trial = x_tf*(1-x_tf)*dnn_output\n",
    "d_g_trial = tf.gradients(g_trial,x_tf)\n",
    "d2_g_trial = tf.gradients(d_g_trial,x_tf)\n",
    "    \n",
    "right_side = (3*x_tf + x_tf**2)*tf.exp(x_tf)\n",
    "    \n",
    "err = tf.square( -d2_g_trial[0] - right_side)\n",
    "cost = tf.reduce_sum(err, name = 'cost')\n",
    "\n",
    "learning_rate = 0.001\n",
    "\n",
    "## This line has changed\n",
    "optimizer = tf.train.AdamOptimizer(learning_rate) \n",
    "##\n",
    "\n",
    "traning_op = optimizer.minimize(cost)\n",
    "\n",
    "init = tf.global_variables_initializer()\n",
    "\n",
    "with tf.Session() as sess:\n",
    "    init.run()\n",
    "\n",
    "    print('Initial cost: %g'%cost.eval())\n",
    "\n",
    "    for i in range(num_iter):\n",
    "        sess.run(traning_op)\n",
    "\n",
    "    print('Final cost: %g'%cost.eval())\n",
    "\n",
    "    g_dnn_tf_adam = g_trial.eval()\n",
    "    "
   ]
  },
  {
   "cell_type": "markdown",
   "metadata": {},
   "source": [
    "### Results from TensorFlow using the Adam optimizer"
   ]
  },
  {
   "cell_type": "code",
   "execution_count": 55,
   "metadata": {},
   "outputs": [
    {
     "name": "stdout",
     "output_type": "stream",
     "text": [
      "\n",
      "Max absolute difference between the analytical solution and solution from TensorFlow DNN using Adam: 7.11243e-05\n",
      "\n",
      "Max absolute difference between the analytical solution and solution from TensorFlow DNN\n",
      "using gradient descent: 0.000329089\n",
      "\n",
      "Max absolute error between analytical and finite difference: 0.00266858\n"
     ]
    }
   ],
   "source": [
    "diff_tf_adam = g_dnn_tf_adam - g_analytical.reshape(-1,1)\n",
    "print('\\nMax absolute difference between the analytical solution and solution from TensorFlow DNN using Adam: %g'%np.max(np.abs(diff_tf_adam)))\n",
    "print('\\nMax absolute difference between the analytical solution and solution from TensorFlow DNN\\nusing gradient descent: %g'%np.max(np.abs(diff_tf)))\n",
    "print(\"\\nMax absolute error between analytical and finite difference: %g\"%np.max(np.abs(g_vec - g_analytical)))"
   ]
  },
  {
   "cell_type": "markdown",
   "metadata": {},
   "source": [
    "## References\n",
    "\n",
    "* [Artificial neural networks for solving ordinary and partial differential equations by I.E. Lagaris et al](https://pdfs.semanticscholar.org/d061/df393e0e8fbfd0ea24976458b7d42419040d.pdf)\n",
    "\n",
    "* [Neural networks for solving differential equations by A. Honchar](https://becominghuman.ai/neural-networks-for-solving-differential-equations-fa230ac5e04c)\n",
    "\n",
    "* [Solving differential equations using neural networks by M.M Chiaramonte and M. Kiener](http://cs229.stanford.edu/proj2013/ChiaramonteKiener-SolvingDifferentialEquationsUsingNeuralNetworks.pdf)\n",
    "\n",
    "* [Introduction to Partial Differential Equations by A. Tveitio, R. Winther](https://www.springer.com/us/book/9783540225515)\n"
   ]
  },
  {
   "cell_type": "code",
   "execution_count": null,
   "metadata": {},
   "outputs": [],
   "source": []
  }
 ],
 "metadata": {
  "hide_input": false,
  "kernelspec": {
   "display_name": "Python 3",
   "language": "python",
   "name": "python3"
  },
  "language_info": {
   "codemirror_mode": {
    "name": "ipython",
    "version": 3
   },
   "file_extension": ".py",
   "mimetype": "text/x-python",
   "name": "python",
   "nbconvert_exporter": "python",
   "pygments_lexer": "ipython3",
   "version": "3.7.0"
  },
  "latex_envs": {
   "LaTeX_envs_menu_present": true,
   "autoclose": false,
   "autocomplete": false,
   "bibliofile": "biblio.bib",
   "cite_by": "apalike",
   "current_citInitial": 1,
   "eqLabelWithNumbers": false,
   "eqNumInitial": 1,
   "hotkeys": {
    "equation": "Ctrl-E",
    "itemize": "Ctrl-I"
   },
   "labels_anchors": false,
   "latex_user_defs": false,
   "report_style_numbering": false,
   "user_envs_cfg": false
  }
 },
 "nbformat": 4,
 "nbformat_minor": 2
}
