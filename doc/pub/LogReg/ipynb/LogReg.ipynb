{
 "cells": [
  {
   "cell_type": "markdown",
   "metadata": {},
   "source": [
    "<!-- dom:TITLE: Data Analysis and Machine Learning: Logistic Regression -->\n",
    "# Data Analysis and Machine Learning: Logistic Regression\n",
    "<!-- dom:AUTHOR: Morten Hjorth-Jensen at Department of Physics, University of Oslo & Department of Physics and Astronomy and National Superconducting Cyclotron Laboratory, Michigan State University -->\n",
    "<!-- Author: -->  \n",
    "**Morten Hjorth-Jensen**, Department of Physics, University of Oslo and Department of Physics and Astronomy and National Superconducting Cyclotron Laboratory, Michigan State University\n",
    "\n",
    "Date: **Jan 28, 2019**\n",
    "\n",
    "Copyright 1999-2019, Morten Hjorth-Jensen. Released under CC Attribution-NonCommercial 4.0 license\n",
    "\n",
    "\n",
    "\n",
    "\n",
    "<!-- !split  -->\n",
    "## Logistic Regression\n",
    "\n",
    "In linear regression our main interest was centered on learning the\n",
    "coefficients of a functional fit (say a polynomial) in order to be\n",
    "able to predict the response of a continuous variable on some unseen\n",
    "data. The fit to the continuous variable $y_i$ is based on some\n",
    "independent variables $\\hat{x}_i$. Linear regression resulted in\n",
    "analytical expressions (in terms of matrices to invert) for several\n",
    "quantities, ranging from the variance and thereby the confidence\n",
    "intervals of the parameters $\\hat{\\beta}$ to the mean squared\n",
    "error. If we can invert the product of the design matrices, linear\n",
    "regression gives then a simple recipe for fitting our data.\n",
    "\n",
    "\n",
    "Classification problems, however, are concerned with outcomes taking\n",
    "the form of discrete variables (i.e. categories). We may for example,\n",
    "on the basis of DNA sequencing for a number of patients, like to find\n",
    "out which mutations are important for a certain disease; or based on\n",
    "scans of various patients' brains, figure out if there is a tumor or\n",
    "not; or given a specific physical system, we'd like to identify its\n",
    "state, say whether it is an ordered or disordered system (typical\n",
    "situation in solid state physics); or classify the status of a\n",
    "patient, whether she/he has a stroke or not and many other similar\n",
    "situations.\n",
    "\n",
    "The most common situation we encounter when we apply logistic\n",
    "regression is that of two possible outcomes, normally denoted as a\n",
    "binary outcome, true or false, positive or negative, success or\n",
    "failure etc.\n",
    "\n",
    "## Optimization and Deep learning\n",
    "\n",
    "Logistic regression will also serve as our stepping stone towards neural\n",
    "network algorithms and supervised deep learning. For logistic\n",
    "learning, the minimization of the cost function leads to a non-linear\n",
    "equation in the parameters $\\hat{\\beta}$. The optmization of the problem calls therefore for minimization algorithms. This forms the bottle neck of all machine learning algorithms, namely how to find reliable minima of a multi-variable function. This leads us to the family of gradient descent methods. The latter are the working horses of basically all modern machine learning algorithms. \n",
    "\n",
    "We note also that many of the topics discussed here \n",
    "regression are also commonly used in modern supervised Deep Learning\n",
    "models, as we will see later.\n",
    "\n",
    "\n",
    "<!-- !split  -->\n",
    "## Basics\n",
    "\n",
    "We consider the case where the dependent variables, also called the\n",
    "responses or the outcomes, $y_i$ are discrete and only take values\n",
    "from $k=0,\\dots,K-1$ (i.e. $K$ classes).\n",
    "\n",
    "The goal is to predict the\n",
    "output classes from the design matrix $\\hat{X}\\in\\mathbb{R}^{n\\times p}$\n",
    "made of $n$ samples, each of which carries $p$ features or predictors. The\n",
    "primary goal is to identify the classes to which new unseen samples\n",
    "belong.\n",
    "\n",
    "Let us specialize to the case of two classes only, with outputs $y_i=0$ and $y_i=1$. Our outcomes could represent the status of a credit card user who could default or not on her/his credit card debt. That is"
   ]
  },
  {
   "cell_type": "markdown",
   "metadata": {},
   "source": [
    "$$\n",
    "y_i = \\begin{bmatrix} 0 & \\mathrm{no}\\\\  1 & \\mathrm{yes} \\end{bmatrix}.\n",
    "$$"
   ]
  },
  {
   "cell_type": "markdown",
   "metadata": {},
   "source": [
    "## Linear classifier\n",
    "\n",
    "Before moving to the logistic model, let us try to use our linear regression model to classify these two outcomes. We could for example fit a linear model to the default case if $y_i > 0.5$ and the no default case $y_i \\leq 0.5$. \n",
    "\n",
    "We would then have our \n",
    "weighted linear combination, namely"
   ]
  },
  {
   "cell_type": "markdown",
   "metadata": {},
   "source": [
    "<!-- Equation labels as ordinary links -->\n",
    "<div id=\"_auto1\"></div>\n",
    "\n",
    "$$\n",
    "\\begin{equation}\n",
    "\\hat{y} = \\hat{X}^T\\hat{\\beta} +  \\hat{\\epsilon},\n",
    "\\label{_auto1} \\tag{1}\n",
    "\\end{equation}\n",
    "$$"
   ]
  },
  {
   "cell_type": "markdown",
   "metadata": {},
   "source": [
    "where $\\hat{y}$ is a vector representing the possible outcomes, $\\hat{X}$ is our\n",
    "$n\\times p$ design matrix and $\\hat{\\beta}$ represents our estimators/predictors.\n",
    "\n",
    "## Some selected properties\n",
    "\n",
    "The main problem with our  function is that it \n",
    "takes values on the entire real axis. In the case of\n",
    "logistic regression, however, the labels $y_i$ are discrete\n",
    "variables. \n",
    "\n",
    "One simple way to get a discrete output is to have sign\n",
    "functions that map the output of a linear regressor to values $\\{0,1\\}$,\n",
    "$f(s_i)=sign(s_i)=1$ if $s_i\\ge 0$ and 0 if otherwise. \n",
    "We will encounter this model in our first demonstration of neural networks. Historically it is called the \"perceptron\" model in the machine learning\n",
    "literature. This model is extremely simple. However, in many cases it is more\n",
    "favorable to use a ``soft\" classifier that outputs\n",
    "the probability of a given category. This leads us to the logistic function.\n",
    "\n",
    "The code for plotting the perceptron can be seen here. This si nothing but the standard [Heaviside step function](https://en.wikipedia.org/wiki/Heaviside_step_function)."
   ]
  },
  {
   "cell_type": "markdown",
   "metadata": {},
   "source": [
    "## The logistic function\n",
    "\n",
    "The perceptron is an example of a ``hard classification\" model. We\n",
    "will encounter this model when we discuss neural networks as\n",
    "well. Each datapoint is deterministically assigned to a category (i.e\n",
    "$y_i=0$ or $y_i=1$). In many cases, it is favorable to have a \"soft\"\n",
    "classifier that outputs the probability of a given category rather\n",
    "than a single value. For example, given $x_i$, the classifier\n",
    "outputs the probability of being in a category $k$.  Logistic regression\n",
    "is the most common example of a so-called soft classifier. In logistic\n",
    "regression, the probability that a data point $x_i$\n",
    "belongs to a category $y_i=\\{0,1\\}$ is given by the so-called logit function (or Sigmoid) which is meant to represent the likelihood for a given event,"
   ]
  },
  {
   "cell_type": "markdown",
   "metadata": {},
   "source": [
    "$$\n",
    "p(t) = \\frac{1}{1+\\mathrm \\exp{-t}}=\\frac{\\exp{t}}{1+\\mathrm \\exp{t}}.\n",
    "$$"
   ]
  },
  {
   "cell_type": "markdown",
   "metadata": {},
   "source": [
    "Note that $1-p(t)= p(-t)$.\n",
    "The following code plots the logistic function."
   ]
  },
  {
   "cell_type": "markdown",
   "metadata": {},
   "source": [
    "## Two parameters\n",
    "\n",
    "We assume now that we have two classes with $y_i$ either $0$ or $1$. Furthermore we assume also that we have only two parameters $\\beta$ in our fitting of the Sigmoid function, that is we define probabilities"
   ]
  },
  {
   "cell_type": "markdown",
   "metadata": {},
   "source": [
    "$$\n",
    "\\begin{align*}\n",
    "p(y_i=1|x_i,\\hat{\\beta}) &= \\frac{\\exp{(\\beta_0+\\beta_1x_i)}}{1+\\exp{(\\beta_0+\\beta_1x_i)}},\\nonumber\\\\\n",
    "p(y_i=0|x_i,\\hat{\\beta}) &= 1 - p(y_i=1|x_i,\\hat{\\beta}),\n",
    "\\end{align*}\n",
    "$$"
   ]
  },
  {
   "cell_type": "markdown",
   "metadata": {},
   "source": [
    "where $\\hat{\\beta}$ are the weights we wish to extract from data, in our case $\\beta_0$ and $\\beta_1$. \n",
    "\n",
    "Note that we used"
   ]
  },
  {
   "cell_type": "markdown",
   "metadata": {},
   "source": [
    "$$\n",
    "p(y_i=0\\vert x_i, \\hat{\\beta}) = 1-p(y_i=1\\vert x_i, \\hat{\\beta}).\n",
    "$$"
   ]
  },
  {
   "cell_type": "markdown",
   "metadata": {},
   "source": [
    "<!-- !split  -->\n",
    "## Maximum likelihood\n",
    "\n",
    "In order to define the total likelihood for all possible outcomes from a  \n",
    "dataset $\\mathcal{D}=\\{(y_i,x_i)\\}$, with the binary labels\n",
    "$y_i\\in\\{0,1\\}$ and where the data points are drawn independently, we use the so-called [Maximum Likelihood Estimation](https://en.wikipedia.org/wiki/Maximum_likelihood_estimation) (MLE) principle. \n",
    "We aim thus at maximizing \n",
    "the probability of seeing the observed data. We can then approximate the \n",
    "likelihood in terms of the product of the individual probabilities of a specific outcome $y_i$, that is"
   ]
  },
  {
   "cell_type": "markdown",
   "metadata": {},
   "source": [
    "$$\n",
    "\\begin{align*}\n",
    "P(\\mathcal{D}|\\hat{\\beta})& = \\prod_{i=1}^n \\left[p(y_i=1|x_i,\\hat{\\beta})\\right]^{y_i}\\left[1-p(y_i=1|x_i,\\hat{\\beta}))\\right]^{1-y_i}\\nonumber \\\\\n",
    "\\end{align*}\n",
    "$$"
   ]
  },
  {
   "cell_type": "markdown",
   "metadata": {},
   "source": [
    "from which we obtain the log-likelihood and our **cost/loss** function"
   ]
  },
  {
   "cell_type": "markdown",
   "metadata": {},
   "source": [
    "$$\n",
    "\\mathcal{C}(\\hat{\\beta}) = \\sum_{i=1}^n \\left( y_i\\log{p(y_i=1|x_i,\\hat{\\beta})} + (1-y_i)\\log\\left[1-p(y_i=1|x_i,\\hat{\\beta}))\\right]\\right).\n",
    "$$"
   ]
  },
  {
   "cell_type": "markdown",
   "metadata": {},
   "source": [
    "## The cost function rewritten\n",
    "\n",
    "Reordering the logarithms, we can rewrite the **cost/loss** function as"
   ]
  },
  {
   "cell_type": "markdown",
   "metadata": {},
   "source": [
    "$$\n",
    "\\mathcal{C}(\\hat{\\beta}) = \\sum_{i=1}^n  \\left(y_i(\\beta_0+\\beta_1x_i) -\\log{(1+\\exp{(\\beta_0+\\beta_1x_i)})}\\right).\n",
    "$$"
   ]
  },
  {
   "cell_type": "markdown",
   "metadata": {},
   "source": [
    "The maximum likelihood estimator is defined as the set of parameters that maximize the log-likelihood where we maximize with respect to $\\beta$.\n",
    "Since the cost (error) function is just the negative log-likelihood, for logistic regression we have that"
   ]
  },
  {
   "cell_type": "markdown",
   "metadata": {},
   "source": [
    "$$\n",
    "\\mathcal{C}(\\hat{\\beta})=-\\sum_{i=1}^n  \\left(y_i(\\beta_0+\\beta_1x_i) -\\log{(1+\\exp{(\\beta_0+\\beta_1x_i)})}\\right).\n",
    "$$"
   ]
  },
  {
   "cell_type": "markdown",
   "metadata": {},
   "source": [
    "This equation is known in statistics as the **cross entropy**. Finally, we note that just as in linear regression, \n",
    "in practice we often supplement the cross-entropy with additional regularization terms, usually $L_1$ and $L_2$ regularization as we did for Ridge and Lasso regression.\n",
    "\n",
    "## Minimizing the cross entropy\n",
    "\n",
    "The cross entropy is a convex function of the weights $\\hat{\\beta}$ and,\n",
    "therefore, any local minimizer is a global minimizer. \n",
    "\n",
    "\n",
    "Minimizing this\n",
    "cost function with respect to the two parameters $\\beta_0$ and $\\beta_1$ we obtain"
   ]
  },
  {
   "cell_type": "markdown",
   "metadata": {},
   "source": [
    "$$\n",
    "\\frac{\\partial \\mathcal{C}(\\hat{\\beta})}{\\partial \\beta_0} = -\\sum_{i=1}^n  \\left(y_i -\\frac{\\exp{(\\beta_0+\\beta_1x_i)}}{1+\\exp{(\\beta_0+\\beta_1x_i)}}\\right),\n",
    "$$"
   ]
  },
  {
   "cell_type": "markdown",
   "metadata": {},
   "source": [
    "and"
   ]
  },
  {
   "cell_type": "markdown",
   "metadata": {},
   "source": [
    "$$\n",
    "\\frac{\\partial \\mathcal{C}(\\hat{\\beta})}{\\partial \\beta_1} = -\\sum_{i=1}^n  \\left(y_ix_i -x_i\\frac{\\exp{(\\beta_0+\\beta_1x_i)}}{1+\\exp{(\\beta_0+\\beta_1x_i)}}\\right).\n",
    "$$"
   ]
  },
  {
   "cell_type": "markdown",
   "metadata": {},
   "source": [
    "## A more compact expression\n",
    "\n",
    "Let us now define a vector $\\hat{y}$ with $n$ elements $y_i$, an\n",
    "$n\\times p$ matrix $\\hat{X}$ which contains the $x_i$ values and a\n",
    "vector $\\hat{p}$ of fitted probabilities $p(y_i\\vert x_i,\\hat{\\beta})$. We can rewrite in a more compact form the first\n",
    "derivative of cost function as"
   ]
  },
  {
   "cell_type": "markdown",
   "metadata": {},
   "source": [
    "$$\n",
    "\\frac{\\partial \\mathcal{C}(\\hat{\\beta})}{\\partial \\hat{\\beta}} = -\\hat{X}^T\\left(\\hat{y}-\\hat{p}\\right).\n",
    "$$"
   ]
  },
  {
   "cell_type": "markdown",
   "metadata": {},
   "source": [
    "If we in addition define a diagonal matrix $\\hat{W}$ with elements \n",
    "$p(y_i\\vert x_i,\\hat{\\beta})(1-p(y_i\\vert x_i,\\hat{\\beta})$, we can obtain a compact expression of the second derivative as"
   ]
  },
  {
   "cell_type": "markdown",
   "metadata": {},
   "source": [
    "$$\n",
    "\\frac{\\partial^2 \\mathcal{C}(\\hat{\\beta})}{\\partial \\hat{\\beta}\\partial \\hat{\\beta}^T} = \\hat{X}^T\\hat{W}\\hat{X}.\n",
    "$$"
   ]
  },
  {
   "cell_type": "markdown",
   "metadata": {},
   "source": [
    "## Extending to more predictors\n",
    "\n",
    "Within a binary classification problem, we can easily expand our model to include multiple predictors. Our ratio between likelihoods is then with $p$ predictors"
   ]
  },
  {
   "cell_type": "markdown",
   "metadata": {},
   "source": [
    "$$\n",
    "\\log{ \\frac{p(\\hat{\\beta}\\hat{x})}{1-p(\\hat{\\beta}\\hat{x})}} = \\beta_0+\\beta_1x_1+\\beta_2x_2+\\dots+\\beta_px_p.\n",
    "$$"
   ]
  },
  {
   "cell_type": "markdown",
   "metadata": {},
   "source": [
    "Here we defined $\\hat{x}=[1,x_1,x_2,\\dots,x_p]$ and $\\hat{\\beta}=[\\beta_0, \\beta_1, \\dots, \\beta_p]$ leading to"
   ]
  },
  {
   "cell_type": "markdown",
   "metadata": {},
   "source": [
    "$$\n",
    "p(\\hat{\\beta}\\hat{x})=\\frac{ \\exp{(\\beta_0+\\beta_1x_1+\\beta_2x_2+\\dots+\\beta_px_p)}}{1+\\exp{(\\beta_0+\\beta_1x_1+\\beta_2x_2+\\dots+\\beta_px_p)}}.\n",
    "$$"
   ]
  },
  {
   "cell_type": "markdown",
   "metadata": {},
   "source": [
    "## Including more classes\n",
    "\n",
    "Till now we have mainly focused on two classes, the so-called binary system. Suppose we wish to extend to $K$ classes.\n",
    "Let us for the sake of simplicity assume we have only two predictors. We have then following model"
   ]
  },
  {
   "cell_type": "markdown",
   "metadata": {},
   "source": [
    "1\n",
    "5\n",
    " \n",
    "<\n",
    "<\n",
    "<\n",
    "!\n",
    "!\n",
    "M\n",
    "A\n",
    "T\n",
    "H\n",
    "_\n",
    "B\n",
    "L\n",
    "O\n",
    "C\n",
    "K"
   ]
  },
  {
   "cell_type": "markdown",
   "metadata": {},
   "source": [
    "$$\n",
    "\\log{\\frac{p(C=2\\vert x)}{p(K\\vert x)}} = \\beta_{20}+\\beta_{21}x_1,\n",
    "$$"
   ]
  },
  {
   "cell_type": "markdown",
   "metadata": {},
   "source": [
    "and so on till the class $C=K-1$ class"
   ]
  },
  {
   "cell_type": "markdown",
   "metadata": {},
   "source": [
    "$$\n",
    "\\log{\\frac{p(C=K-1\\vert x)}{p(K\\vert x)}} = \\beta_{(K-1)0}+\\beta_{(K-1)1}x_1,\n",
    "$$"
   ]
  },
  {
   "cell_type": "markdown",
   "metadata": {},
   "source": [
    "and the model is specified in term of $K-1$ so-called log-odds or **logit** transformations.\n",
    "\n",
    "\n",
    "## The Softmax function\n",
    "\n",
    "In our discussion of neural networks we will encounter the above again in terms of the so-called **Softmax** function.\n",
    "\n",
    "The softmax function is used in various multiclass classification\n",
    "methods, such as multinomial logistic regression (also known as\n",
    "softmax regression), multiclass linear discriminant\n",
    "analysis, naive Bayes classifiers, and artificial neural networks.\n",
    "Specifically, in multinomial logistic regression and linear\n",
    "discriminant analysis, the input to the function is the result of $K$\n",
    "distinct linear functions, and the predicted probability for the $k$-th\n",
    "class given a sample vector $\\hat{x}$ and a weighting vector $\\hat{\\beta}$ is (with two predictors):"
   ]
  },
  {
   "cell_type": "markdown",
   "metadata": {},
   "source": [
    "$$\n",
    "p(C=k\\vert \\mathbf {x} )=\\frac{\\exp{(\\beta_{k0}+\\beta_{k1}x_1)}}{1+\\sum_{l=1}^{K-1}\\exp{(\\beta_{l0}+\\beta_{l1}x_1)}}.\n",
    "$$"
   ]
  },
  {
   "cell_type": "markdown",
   "metadata": {},
   "source": [
    "It is easy to extend to more predictors. The final class is"
   ]
  },
  {
   "cell_type": "markdown",
   "metadata": {},
   "source": [
    "$$\n",
    "p(C=K\\vert \\mathbf {x} )=\\frac{1}{1+\\sum_{l=1}^{K-1}\\exp{(\\beta_{l0}+\\beta_{l1}x_1)}},\n",
    "$$"
   ]
  },
  {
   "cell_type": "markdown",
   "metadata": {},
   "source": [
    "and they sum to one. Our earlier discussions were all specialized to the case with two classes only. It is easy to see from the above that what we derived earlier is compatible with these equations. \n",
    "\n",
    "To find the optimal parameters we would typically use a gradient descent method.\n",
    "Newton's method and gradient descent methods are discussed in the material on [optimization methods](https://compphysics.github.io/MachineLearning/doc/pub/Splines/html/Splines-bs.html). \n",
    "\n",
    "\n",
    "\n",
    "## A **scikit-learn** example"
   ]
  },
  {
   "cell_type": "code",
   "execution_count": 1,
   "metadata": {
    "collapsed": false
   },
   "outputs": [],
   "source": [
    "%matplotlib inline\n",
    "\n",
    "import numpy as np\n",
    "import matplotlib.pyplot as plt\n",
    "from sklearn import datasets\n",
    "iris = datasets.load_iris()\n",
    "list(iris.keys())\n",
    "['data', 'target_names', 'feature_names', 'target', 'DESCR']\n",
    "X = iris[\"data\"][:, 3:] # petal width\n",
    "y = (iris[\"target\"] == 2).astype(np.int) # 1 if Iris-Virginica, else 0\n",
    "\n",
    "from sklearn.linear_model import LogisticRegression\n",
    "log_reg = LogisticRegression()\n",
    "log_reg.fit(X, y)\n",
    "\n",
    "X_new = np.linspace(0, 3, 1000).reshape(-1, 1)\n",
    "y_proba = log_reg.predict_proba(X_new)\n",
    "plt.plot(X_new, y_proba[:, 1], \"g-\", label=\"Iris-Virginica\")\n",
    "plt.plot(X_new, y_proba[:, 0], \"b--\", label=\"Not Iris-Virginica\")\n",
    "plt.show()"
   ]
  },
  {
   "cell_type": "markdown",
   "metadata": {},
   "source": [
    "## A simple classification problem"
   ]
  },
  {
   "cell_type": "code",
   "execution_count": 2,
   "metadata": {
    "collapsed": false
   },
   "outputs": [],
   "source": [
    "import numpy as np\n",
    "from sklearn import datasets, linear_model\n",
    "import matplotlib.pyplot as plt\n",
    "\n",
    "\n",
    "def generate_data():\n",
    "    np.random.seed(0)\n",
    "    X, y = datasets.make_moons(200, noise=0.20)\n",
    "    return X, y\n",
    "\n",
    "\n",
    "def visualize(X, y, clf):\n",
    "    # plt.scatter(X[:, 0], X[:, 1], s=40, c=y, cmap=plt.cm.Spectral)\n",
    "    # plt.show()\n",
    "    plot_decision_boundary(lambda x: clf.predict(x), X, y)\n",
    "    plt.title(\"Logistic Regression\")\n",
    "\n",
    "\n",
    "def plot_decision_boundary(pred_func, X, y):\n",
    "    # Set min and max values and give it some padding\n",
    "    x_min, x_max = X[:, 0].min() - .5, X[:, 0].max() + .5\n",
    "    y_min, y_max = X[:, 1].min() - .5, X[:, 1].max() + .5\n",
    "    h = 0.01\n",
    "    # Generate a grid of points with distance h between them\n",
    "    xx, yy = np.meshgrid(np.arange(x_min, x_max, h), np.arange(y_min, y_max, h))\n",
    "    # Predict the function value for the whole gid\n",
    "    Z = pred_func(np.c_[xx.ravel(), yy.ravel()])\n",
    "    Z = Z.reshape(xx.shape)\n",
    "    # Plot the contour and training examples\n",
    "    plt.contourf(xx, yy, Z, cmap=plt.cm.Spectral)\n",
    "    plt.scatter(X[:, 0], X[:, 1], c=y, cmap=plt.cm.Spectral)\n",
    "    plt.show()\n",
    "\n",
    "\n",
    "def classify(X, y):\n",
    "    clf = linear_model.LogisticRegressionCV()\n",
    "    clf.fit(X, y)\n",
    "    return clf\n",
    "\n",
    "\n",
    "def main():\n",
    "    X, y = generate_data()\n",
    "    # visualize(X, y)\n",
    "    clf = classify(X, y)\n",
    "    visualize(X, y, clf)\n",
    "\n",
    "\n",
    "if __name__ == \"__main__\":\n",
    "    main()"
   ]
  },
  {
   "cell_type": "markdown",
   "metadata": {},
   "source": [
    "<!-- !split  -->\n",
    "## The two-dimensional Ising model, Predicting phase transition of the two-dimensional Ising model\n",
    "\n",
    "The Hamiltonian of the two-dimensional Ising model without an external field for a constant coupling constant $J$ is given by"
   ]
  },
  {
   "cell_type": "markdown",
   "metadata": {},
   "source": [
    "<!-- Equation labels as ordinary links -->\n",
    "<div id=\"_auto2\"></div>\n",
    "\n",
    "$$\n",
    "\\begin{equation}\n",
    "    H = -J \\sum_{\\langle ij\\rangle} S_i S_j,\n",
    "\\label{_auto2} \\tag{2}\n",
    "\\end{equation}\n",
    "$$"
   ]
  },
  {
   "cell_type": "markdown",
   "metadata": {},
   "source": [
    "where $S_i \\in \\{-1, 1\\}$ and $\\langle ij \\rangle$ signifies that we only iterate over the nearest neighbors in the lattice. We will be looking at a system of $L = 40$ spins in each dimension, i.e., $L^2 = 1600$ spins in total. Opposed to the one-dimensional Ising model we will get a phase transition from an **ordered** phase to a **disordered** phase at the critical temperature"
   ]
  },
  {
   "cell_type": "markdown",
   "metadata": {},
   "source": [
    "<!-- Equation labels as ordinary links -->\n",
    "<div id=\"_auto3\"></div>\n",
    "\n",
    "$$\n",
    "\\begin{equation}\n",
    "    \\frac{T_c}{J} = \\frac{2}{\\log\\left(1 + \\sqrt{2}\\right)} \\approx 2.26,\n",
    "\\label{_auto3} \\tag{3}\n",
    "\\end{equation}\n",
    "$$"
   ]
  },
  {
   "cell_type": "markdown",
   "metadata": {},
   "source": [
    "as shown by Lars Onsager.\n",
    "\n",
    "\n",
    "Here we use **logistic regression** to predict when a phase transition\n",
    "occurs. The data we will look at is a set of spin configurations,\n",
    "i.e., individual lattices with spins, labeled **ordered** `1` or\n",
    "**disordered** `0`. Our job is to build a model which will take in a\n",
    "spin configuration and predict whether or not the spin configuration\n",
    "constitutes an ordered or a disordered phase. To achieve this we will\n",
    "represent the lattices as flattened arrays with $1600$ elements\n",
    "instead of a matrix of $40 \\times 40$ elements. As an extra test of\n",
    "the performance of the algorithms we will divide the dataset into\n",
    "three pieces. We will do a conventional train-test-split on a\n",
    "combination of totally ordered and totally disordered phases. The\n",
    "remaining \"critical-like\" states will be used as test data which we\n",
    "hope the model will be able to make good extrapolated predictions on."
   ]
  },
  {
   "cell_type": "code",
   "execution_count": 3,
   "metadata": {
    "collapsed": false
   },
   "outputs": [],
   "source": [
    "import pickle\n",
    "import os\n",
    "import glob\n",
    "import numpy as np\n",
    "import pandas as pd\n",
    "import matplotlib.pyplot as plt\n",
    "import seaborn as sns\n",
    "import sklearn.model_selection as skms\n",
    "import sklearn.linear_model as skl\n",
    "import sklearn.metrics as skm\n",
    "import tqdm\n",
    "import copy\n",
    "import time\n",
    "from IPython.display import display\n",
    "\n",
    "%matplotlib inline\n",
    "\n",
    "sns.set(color_codes=True)"
   ]
  },
  {
   "cell_type": "markdown",
   "metadata": {},
   "source": [
    "## Reading in the data\n",
    "\n",
    "Using the data from [Mehta et al.](https://physics.bu.edu/~pankajm/ML-Review-Datasets/isingMC/) (specifically the two datasets named `Ising2DFM_reSample_L40_T=All.pkl` and `Ising2DFM_reSample_L40_T=All_labels.pkl`) we have to unpack the data into numpy arrays."
   ]
  },
  {
   "cell_type": "code",
   "execution_count": 4,
   "metadata": {
    "collapsed": false
   },
   "outputs": [],
   "source": [
    "filenames = glob.glob(os.path.join(\"..\", \"dat\", \"*\"))\n",
    "label_filename = list(filter(lambda x: \"label\" in x, filenames))[0]\n",
    "dat_filename = list(filter(lambda x: \"label\" not in x, filenames))[0]\n",
    "\n",
    "# Read in the labels\n",
    "with open(label_filename, \"rb\") as f:\n",
    "    labels = pickle.load(f)\n",
    "\n",
    "# Read in the corresponding configurations\n",
    "with open(dat_filename, \"rb\") as f:\n",
    "    data = np.unpackbits(pickle.load(f)).reshape(-1, 1600).astype(\"int\")\n",
    "\n",
    "# Set spin-down to -1\n",
    "data[data == 0] = -1"
   ]
  },
  {
   "cell_type": "markdown",
   "metadata": {},
   "source": [
    "This dataset consists of $10000$ samples, i.e., $10000$ spin\n",
    "configurations with $40 \\times 40$ spins each, for $16$ temperatures\n",
    "between $0.25$ to $4.0$. Next we create a train/test-split and keep\n",
    "the data in the critical phase as a separate dataset for\n",
    "extrapolation-testing."
   ]
  },
  {
   "cell_type": "code",
   "execution_count": 5,
   "metadata": {
    "collapsed": false
   },
   "outputs": [],
   "source": [
    "# Set up slices of the dataset\n",
    "ordered = slice(0, 70000)\n",
    "critical = slice(70000, 100000)\n",
    "disordered = slice(100000, 160000)\n",
    "\n",
    "X_train, X_test, y_train, y_test = skms.train_test_split(\n",
    "    np.concatenate((data[ordered], data[disordered])),\n",
    "    np.concatenate((labels[ordered], labels[disordered])),\n",
    "    test_size=0.95\n",
    ")"
   ]
  },
  {
   "cell_type": "markdown",
   "metadata": {},
   "source": [
    "## Logistic regression\n",
    "\n",
    "Logistic regression is a linear model for classification. Recalling\n",
    "the cost function for ordinary least squares with both L2 (ridge) and\n",
    "L1 (LASSO) penalties we will see that the logistic cost function is\n",
    "very similar. In OLS we wish to predict a continuous variable\n",
    "$\\hat{y}$ using"
   ]
  },
  {
   "cell_type": "markdown",
   "metadata": {},
   "source": [
    "<!-- Equation labels as ordinary links -->\n",
    "<div id=\"_auto4\"></div>\n",
    "\n",
    "$$\n",
    "\\begin{equation}\n",
    "    \\hat{y} = X\\omega,\n",
    "\\label{_auto4} \\tag{4}\n",
    "\\end{equation}\n",
    "$$"
   ]
  },
  {
   "cell_type": "markdown",
   "metadata": {},
   "source": [
    "where $X \\in \\mathbb{R}^{n \\times p}$ is the input data and $\\omega^{p\n",
    "\\times d}$ are the weights of the regression. In a classification\n",
    "setting (binary classification in our situation) we are interested in\n",
    "a positive or negative answer. We can thus define either answer to be\n",
    "above or below some threshold. But, in order to limit the size of the\n",
    "answer and also to get a probability interpretation on how sure we are\n",
    "for either answer we can compute the sigmoid function of OLS. That is,"
   ]
  },
  {
   "cell_type": "markdown",
   "metadata": {},
   "source": [
    "<!-- Equation labels as ordinary links -->\n",
    "<div id=\"_auto5\"></div>\n",
    "\n",
    "$$\n",
    "\\begin{equation}\n",
    "    f(X\\omega) = \\frac{1}{1 + \\exp(-X\\omega)}.\n",
    "\\label{_auto5} \\tag{5}\n",
    "\\end{equation}\n",
    "$$"
   ]
  },
  {
   "cell_type": "markdown",
   "metadata": {},
   "source": [
    "We are thus interested in minizming the following cost function"
   ]
  },
  {
   "cell_type": "markdown",
   "metadata": {},
   "source": [
    "<!-- Equation labels as ordinary links -->\n",
    "<div id=\"_auto6\"></div>\n",
    "\n",
    "$$\n",
    "\\begin{equation}\n",
    "    C(X, \\omega) = \\sum_{i = 1}^n \\left\\{\n",
    "        - y_i\\log\\left( f(x_i^T\\omega) \\right)\n",
    "        - (1 - y_i)\\log\\left[1 - f(x_i^T\\omega)\\right]\n",
    "    \\right\\},\n",
    "\\label{_auto6} \\tag{6}\n",
    "\\end{equation}\n",
    "$$"
   ]
  },
  {
   "cell_type": "markdown",
   "metadata": {},
   "source": [
    "where we will restrict ourselves to a value for $f(z)$ as the sigmoid\n",
    "described above. We can also tack on a L2 (Ridge) or L1 (LASSO)\n",
    "penalization to this cost function in the same manner we did for\n",
    "linear regression.\n",
    "\n",
    "## Exploring the logistic regression\n",
    "\n",
    "The penalization factor $\\lambda$ is inverted in the case of the\n",
    "logistic regression model we use. We will explore several values of\n",
    "$\\lambda$ using both L1 and L2 penalization. We do this using a grid\n",
    "search over different parameters and run a 3-fold cross validation for\n",
    "each configuration. In other words, we fit a model 3 times for each\n",
    "configuration of the hyper parameters."
   ]
  },
  {
   "cell_type": "code",
   "execution_count": 6,
   "metadata": {
    "collapsed": false
   },
   "outputs": [],
   "source": [
    "lambdas = np.logspace(-7, -1, 7)\n",
    "\n",
    "param_grid = {\n",
    "    \"C\": list(1.0/lambdas),\n",
    "    \"penalty\": [\"l1\", \"l2\"]\n",
    "}\n",
    "clf = skms.GridSearchCV(\n",
    "    skl.LogisticRegression(),\n",
    "    param_grid=param_grid,\n",
    "    n_jobs=-1,\n",
    "    return_train_score=True\n",
    ")\n",
    "t0 = time.time()\n",
    "clf.fit(X_train, y_train)\n",
    "t1 = time.time()\n",
    "\n",
    "print (\n",
    "    \"Time spent fitting GridSearchCV(LogisticRegression): {0:.3f} sec\".format(\n",
    "        t1 - t0\n",
    "    )\n",
    ")"
   ]
  },
  {
   "cell_type": "markdown",
   "metadata": {},
   "source": [
    "We can see that logistic regression is quite slow and using the grid\n",
    "search and cross validation results in quite a heavy\n",
    "computation. Below we show the results of the different\n",
    "configurations."
   ]
  },
  {
   "cell_type": "code",
   "execution_count": 7,
   "metadata": {
    "collapsed": false
   },
   "outputs": [],
   "source": [
    "logreg_df = pd.DataFrame(clf.cv_results_)\n",
    "\n",
    "display(logreg_df)"
   ]
  },
  {
   "cell_type": "markdown",
   "metadata": {},
   "source": [
    "## Accuracy of a classification model\n",
    "\n",
    "To determine how well a classification model is performing we count\n",
    "the number of correctly labeled classes and divide by the number of\n",
    "classes in total. The accuracy is thus given by"
   ]
  },
  {
   "cell_type": "markdown",
   "metadata": {},
   "source": [
    "<!-- Equation labels as ordinary links -->\n",
    "<div id=\"_auto7\"></div>\n",
    "\n",
    "$$\n",
    "\\begin{equation}\n",
    "    a(y, \\hat{y}) = \\frac{1}{n}\\sum_{i = 1}^{n} I(y_i = \\hat{y}_i),\n",
    "\\label{_auto7} \\tag{7}\n",
    "\\end{equation}\n",
    "$$"
   ]
  },
  {
   "cell_type": "markdown",
   "metadata": {},
   "source": [
    "where $I(y_i = \\hat{y}_i)$ is the indicator function given by"
   ]
  },
  {
   "cell_type": "markdown",
   "metadata": {},
   "source": [
    "<!-- Equation labels as ordinary links -->\n",
    "<div id=\"_auto8\"></div>\n",
    "\n",
    "$$\n",
    "\\begin{equation}\n",
    "    I(x = y) = \\begin{array}{cc}\n",
    "    1 & x = y, \\\\\n",
    "    0 & x \\neq y.\n",
    "    \\end{array}\n",
    "\\label{_auto8} \\tag{8}\n",
    "\\end{equation}\n",
    "$$"
   ]
  },
  {
   "cell_type": "markdown",
   "metadata": {},
   "source": [
    "This is the accuracy provided by Scikit-learn when using **sklearn.metrics.accuracyscore**.\n",
    "\n",
    "Below we compute the accuracy of the best fit model on the training data (which should give a good accuracy), the test data (which has not been shown to the model) and the critical data (completely new data that needs to be extrapolated)."
   ]
  },
  {
   "cell_type": "code",
   "execution_count": 8,
   "metadata": {
    "collapsed": false
   },
   "outputs": [],
   "source": [
    "train_accuracy = skm.accuracy_score(y_train, clf.predict(X_train))\n",
    "test_accuracy = skm.accuracy_score(y_test, clf.predict(X_test))\n",
    "critical_accuracy = skm.accuracy_score(labels[critical], clf.predict(data[critical]))\n",
    "\n",
    "print (\"Accuracy on train data: {0}\".format(train_accuracy))\n",
    "print (\"Accuracy on test data: {0}\".format(test_accuracy))\n",
    "print (\"Accuracy on critical data: {0}\".format(critical_accuracy))"
   ]
  },
  {
   "cell_type": "markdown",
   "metadata": {},
   "source": [
    "We can see that we get quite good accuracy on the training data, but gradually worsening accuracy on the test and critical data.\n",
    "\n",
    "## Analyzing the results\n",
    "\n",
    "Below we show a different metric for determining the quality of our\n",
    "model, namely the **reciever operating characteristic** (ROC). The ROC\n",
    "curve tells us how well the model correctly classifies the different\n",
    "labels. We plot the **true positive rate** (the rate of predicted\n",
    "positive classes that are positive) versus the **false positive rate**\n",
    "(the rate of predicted positive classes that are negative). The ROC\n",
    "curve is built by computing the true positive rate and the false\n",
    "positive rate for varying **thresholds**, i.e, which probability we\n",
    "should acredit a certain class.\n",
    "\n",
    "By computing the **area under the curve** (AUC) of the ROC curve we get an estimate of how well our model is performing. Pure guessing will get an AUC of $0.5$. A perfect score will get an AUC of $1.0$."
   ]
  },
  {
   "cell_type": "code",
   "execution_count": 9,
   "metadata": {
    "collapsed": false
   },
   "outputs": [],
   "source": [
    "fig = plt.figure(figsize=(20, 14))\n",
    "\n",
    "for (_X, _y), label in zip(\n",
    "    [\n",
    "        (X_train, y_train),\n",
    "        (X_test, y_test),\n",
    "        (data[critical], labels[critical])\n",
    "    ],\n",
    "    [\"Train\", \"Test\", \"Critical\"]\n",
    "):\n",
    "    proba = clf.predict_proba(_X)\n",
    "    fpr, tpr, _ = skm.roc_curve(_y, proba[:, 1])\n",
    "    roc_auc = skm.auc(fpr, tpr)\n",
    "\n",
    "    print (\"LogisticRegression AUC ({0}): {1}\".format(label, roc_auc))\n",
    "\n",
    "    plt.plot(fpr, tpr, label=\"{0} (AUC = {1})\".format(label, roc_auc), linewidth=4.0)\n",
    "\n",
    "plt.plot([0, 1], [0, 1], \"--\", label=\"Guessing (AUC = 0.5)\", linewidth=4.0)\n",
    "\n",
    "plt.title(r\"The ROC curve for LogisticRegression\", fontsize=18)\n",
    "plt.xlabel(r\"False positive rate\", fontsize=18)\n",
    "plt.ylabel(r\"True positive rate\", fontsize=18)\n",
    "plt.axis([-0.01, 1.01, -0.01, 1.01])\n",
    "plt.xticks(fontsize=18)\n",
    "plt.yticks(fontsize=18)\n",
    "plt.legend(loc=\"best\", fontsize=18)\n",
    "plt.show()"
   ]
  },
  {
   "cell_type": "markdown",
   "metadata": {},
   "source": [
    "We can see that this plot of the ROC looks very strange. This tells us\n",
    "that logistic regression is quite inept at predicting the Ising model\n",
    "transition and is therefore highly non-linear. The ROC curve for the\n",
    "training data looks quite good, but as the testing data is so far off\n",
    "we see that we are dealing with an overfit model.\n",
    "\n",
    "\n",
    "<!-- !split  -->\n",
    "## Credit Card data set"
   ]
  },
  {
   "cell_type": "code",
   "execution_count": 10,
   "metadata": {
    "collapsed": false
   },
   "outputs": [],
   "source": [
    "import pandas as pd\n",
    "import os\n",
    "import numpy as np\n",
    "\n",
    "from tensorflow.keras.models import Sequential\n",
    "from tensorflow.keras.layers import Dense\n",
    "from tensorflow.keras.utils import to_categorical\n",
    "import tensorflow as tf\n",
    "from sklearn.model_selection import train_test_split\n",
    "from sklearn.preprocessing import StandardScaler, OneHotEncoder\n",
    "from sklearn.metrics import confusion_matrix, accuracy_score, roc_auc_score"
   ]
  },
  {
   "cell_type": "markdown",
   "metadata": {},
   "source": [
    "The following runs the data preparation that is used for all models.\n",
    "\n",
    "We scale all features by SciKit-learn's standard scaler. The standard\n",
    "scalars subtracts the mean, so that the means of the standardized\n",
    "variables equal zero. Furthermore the standard scaler divides the\n",
    "features by their respective variances, meaning that the variances of the\n",
    "standardized features equals one."
   ]
  },
  {
   "cell_type": "code",
   "execution_count": 11,
   "metadata": {
    "collapsed": false
   },
   "outputs": [],
   "source": [
    "# Trying to set the seed\n",
    "np.random.seed(0)\n",
    "import random\n",
    "random.seed(0)\n",
    "\n",
    "# Reading file into data frame\n",
    "cwd = os.getcwd()\n",
    "filename = cwd + '/default of credit card clients.xls'\n",
    "nanDict = {}\n",
    "df = pd.read_excel(filename, header=1, skiprows=0, index_col=0, na_values=nanDict)\n",
    "\n",
    "df.rename(index=str, columns={\"default payment next month\": \"defaultPaymentNextMonth\"}, inplace=True)\n",
    "\n",
    "# Features and targets \n",
    "X = df.loc[:, df.columns != 'defaultPaymentNextMonth'].values\n",
    "y = df.loc[:, df.columns == 'defaultPaymentNextMonth'].values\n",
    "\n",
    "# Categorical variables to one-hot's\n",
    "onehotencoder = OneHotEncoder(categorical_features = [3])\n",
    "X = onehotencoder.fit_transform(X).toarray()\n",
    "X = X[:, 1:] \n",
    "\n",
    "# Train-test split\n",
    "trainingShare = 0.5 \n",
    "seed  = 1\n",
    "XTrain, XTest, yTrain, yTest=train_test_split(X, y, train_size=trainingShare, \\\n",
    "                                              test_size = 1-trainingShare,\n",
    "                                             random_state=seed)\n",
    "\n",
    "# Input Scaling\n",
    "sc = StandardScaler()\n",
    "XTrain = sc.fit_transform(XTrain)\n",
    "XTest = sc.transform(XTest)\n",
    "\n",
    "# One-hot's of the target vector\n",
    "Y_train_onehot, Y_test_onehot = to_categorical(yTrain), to_categorical(yTest)\n",
    "\n",
    "# Remove instances with zeros only for past bill statements or paid amounts\n",
    "\n",
    "df = df.drop(df[(df.BILL_AMT1 == 0) &\n",
    "                (df.BILL_AMT2 == 0) &\n",
    "                (df.BILL_AMT3 == 0) &\n",
    "                (df.BILL_AMT4 == 0) &\n",
    "                (df.BILL_AMT5 == 0) &\n",
    "                (df.BILL_AMT6 == 0) &\n",
    "                (df.PAY_AMT1 == 0) &\n",
    "                (df.PAY_AMT2 == 0) &\n",
    "                (df.PAY_AMT3 == 0) &\n",
    "                (df.PAY_AMT4 == 0) &\n",
    "                (df.PAY_AMT5 == 0) &\n",
    "                (df.PAY_AMT6 == 0)].index)\n",
    "\n",
    "df = df.drop(df[(df.BILL_AMT1 == 0) &\n",
    "                (df.BILL_AMT2 == 0) &\n",
    "                (df.BILL_AMT3 == 0) &\n",
    "                (df.BILL_AMT4 == 0) &\n",
    "                (df.BILL_AMT5 == 0) &\n",
    "                (df.BILL_AMT6 == 0)].index)\n",
    "\n",
    "df = df.drop(df[(df.PAY_AMT1 == 0) &\n",
    "                (df.PAY_AMT2 == 0) &\n",
    "                (df.PAY_AMT3 == 0) &\n",
    "                (df.PAY_AMT4 == 0) &\n",
    "                (df.PAY_AMT5 == 0) &\n",
    "                (df.PAY_AMT6 == 0)].index)\n",
    "\n",
    "# Descriptive information\n",
    "print('Number of empty elements in data: ', df.isnull().values.any())\n",
    "print('Observations: ', df.shape[0])\n",
    "print('Percentage defaults: ', df['defaultPaymentNextMonth'].astype(bool).sum(axis=0)/df.shape[0]*100)"
   ]
  },
  {
   "cell_type": "markdown",
   "metadata": {},
   "source": [
    "This is not the same number of observations as in Yeh and Lien\n",
    "(2009). Yeh and Lien (2009) have 25 000 observations. However, we have\n",
    "the same number of observations as in Pyzhov and Pyzhov (2017), which\n",
    "is said to use the same dataset as Yeh and Lien (2009).\n",
    "\n",
    "The percentage of individuals with default is the same as in the Yeh and Lien (2009).\n",
    "\n",
    "\n",
    "Will will essentially deal with two classes.\n",
    "For two classen and two paramaters we have"
   ]
  },
  {
   "cell_type": "markdown",
   "metadata": {},
   "source": [
    "$$\n",
    "\\begin{align*}\n",
    "p(y_i=1|x_i,\\hat{\\beta}) &= \\frac{\\exp{(\\beta_0+\\beta_1x_i)}}{1+\\exp{(\\beta_0+\\beta_1x_i)}},\\nonumber\\\\\n",
    "p(y_i=0|x_i,\\hat{\\beta}) &= 1 - p(y_i=1|x_i,\\hat{\\beta}),\n",
    "\\end{align*}\n",
    "$$"
   ]
  },
  {
   "cell_type": "markdown",
   "metadata": {},
   "source": [
    "The solution is found by maximizing the likelihhod function"
   ]
  },
  {
   "cell_type": "markdown",
   "metadata": {},
   "source": [
    "$$\n",
    "\\begin{align*}\n",
    "P(\\mathcal{D}|\\hat{\\beta})& = \\prod_{i=1}^n \\left[p(y_i=1|x_i,\\hat{\\beta})\\right]^{y_i}\\left[1-p(y_i=1|x_i,\\hat{\\beta}))\\right]^{1-y_i}\\nonumber \\\\\n",
    "\\end{align*}\n",
    "$$"
   ]
  },
  {
   "cell_type": "markdown",
   "metadata": {},
   "source": [
    "We will use the cross-entropy as objective function. The cross-entropy is the negative log of the likelihood function"
   ]
  },
  {
   "cell_type": "markdown",
   "metadata": {},
   "source": [
    "$$\n",
    "\\mathcal{C}(\\hat{\\beta})=-\\sum_{i=1}^n  \\left(y_i(\\beta_0+\\beta_1x_i) -\\log{(1+\\exp{(\\beta_0+\\beta_1x_i)})}\\right).\n",
    "$$"
   ]
  },
  {
   "cell_type": "markdown",
   "metadata": {},
   "source": [
    "The minus sign in the cross-entropy is in order to make this a convex function so that we get a minimization problem. \n",
    "\n",
    "To find the minimum of the above function, we differentiate it and set the result to zero"
   ]
  },
  {
   "cell_type": "markdown",
   "metadata": {},
   "source": [
    "$$\n",
    "\\frac{\\partial \\mathcal{C}(\\hat{\\beta})}{\\partial \\beta_0} = -\\sum_{i=1}^n  \\left(y_i -\\frac{\\exp{(\\beta_0+\\beta_1x_i)}}{1+\\exp{(\\beta_0+\\beta_1x_i)}}\\right),\n",
    "$$"
   ]
  },
  {
   "cell_type": "markdown",
   "metadata": {},
   "source": [
    "$$\n",
    "\\frac{\\partial \\mathcal{C}(\\hat{\\beta})}{\\partial \\beta_1} = -\\sum_{i=1}^n  \\left(y_ix_i -x_i\\frac{\\exp{(\\beta_0+\\beta_1x_i)}}{1+\\exp{(\\beta_0+\\beta_1x_i)}}\\right).\n",
    "$$"
   ]
  },
  {
   "cell_type": "markdown",
   "metadata": {},
   "source": [
    "The above can be rewritten as"
   ]
  },
  {
   "cell_type": "markdown",
   "metadata": {},
   "source": [
    "$$\n",
    "\\frac{\\partial \\mathcal{C}(\\hat{\\beta})}{\\partial \\hat{\\beta}} = -\\hat{X}^T\\left(\\hat{y}-\\hat{p}\\right).\n",
    "$$"
   ]
  },
  {
   "cell_type": "markdown",
   "metadata": {},
   "source": [
    "We see that there is no explicit expression for the parameters, like\n",
    "we have in e.g. OLS. Hence iterative methods must be applied, and we\n",
    "will apply the gradient descent method which basically says for some\n",
    "variabe $\\theta$, we update it with"
   ]
  },
  {
   "cell_type": "markdown",
   "metadata": {},
   "source": [
    "$$\n",
    "\\hat{\\theta} = \\hat{\\theta} - \\eta \\nabla \\hat{\\theta}.\n",
    "$$"
   ]
  },
  {
   "cell_type": "markdown",
   "metadata": {},
   "source": [
    "The second term in the above equation is the gradient. In our case the\n",
    "gradient for the regression parameters are given by the linear algebra\n",
    "equation above"
   ]
  },
  {
   "cell_type": "code",
   "execution_count": 12,
   "metadata": {
    "collapsed": false
   },
   "outputs": [],
   "source": [
    "from sklearn.linear_model import LogisticRegression\n",
    "from sklearn.model_selection import GridSearchCV\n",
    "\n",
    "lmbdas=np.logspace(-5,7,13)\n",
    "parameters = [{'C': 1./lmbdas}]\n",
    "scoring = ['accuracy', 'roc_auc']\n",
    "logReg = LogisticRegression()\n",
    "gridSearch = GridSearchCV(logReg, parameters, cv=5, scoring=scoring, refit='roc_auc') \n",
    "# \"refit\" gives the metric used deciding best model. \n",
    "# See more http://scikit-learn.org/stable/auto_examples/model_selection/plot_multi_metric_evaluation.html\n",
    "gridSearch.fit(XTrain, yTrain.ravel())"
   ]
  },
  {
   "cell_type": "code",
   "execution_count": 13,
   "metadata": {
    "collapsed": false
   },
   "outputs": [],
   "source": [
    "def gridSearchSummary(method, scoring):\n",
    "    \"\"\"Prints best parameters from Grid search\n",
    "    and AUC with standard deviation for all \n",
    "    parameter combos \"\"\"\n",
    "    \n",
    "    method = eval(method)\n",
    "    if scoring == 'accuracy':\n",
    "        mean = 'mean_test_score'\n",
    "        sd = 'std_test_score'\n",
    "    elif scoring == 'auc':\n",
    "        mean = 'mean_test_roc_auc'\n",
    "        sd = 'std_test_roc_auc'\n",
    "    print(\"Best: %f using %s\" % (method.best_score_, method.best_params_))\n",
    "    means = method.cv_results_[mean]\n",
    "    stds = method.cv_results_[sd]\n",
    "    params = method.cv_results_['params']\n",
    "    for mean, stdev, param in zip(means, stds, params):\n",
    "        print(\"%f (%f) with: %r\" % (mean, stdev, param))\n",
    "\n",
    "gridSearchSummary('gridSearch', 'auc')"
   ]
  },
  {
   "cell_type": "markdown",
   "metadata": {},
   "source": [
    "We create a function for printing the accuracy of the results and the so-called confusion matrices."
   ]
  },
  {
   "cell_type": "markdown",
   "metadata": {},
   "source": [
    "        def createConfusionMatrix(method, printOut=True):\n",
    "            \"\"\"\n",
    "            Computes and prints confusion matrices, accuracy scores,\n",
    "            and AUC for test and training sets \n",
    "            \"\"\"\n",
    "            confusionArray = np.zeros(6, dtype=object)\n",
    "            method = eval(method)\n",
    "            \n",
    "            # Train\n",
    "            yPredTrain = method.predict(XTrain)\n",
    "            yPredTrain = (yPredTrain > 0.5)\n",
    "            cm = confusion_matrix(\n",
    "                yTrain, yPredTrain) \n",
    "            cm = np.around(cm/cm.sum(axis=1)[:,None], 2)\n",
    "            confusionArray[0] = cm\n",
    "            \n",
    "            accScore = accuracy_score(yTrain, yPredTrain)\n",
    "            confusionArray[1] = accScore\n",
    "            \n",
    "            AUC = roc_auc_score(yTrain, yPredTrain)\n",
    "            confusionArray[2] = AUC\n",
    "            \n",
    "            if printOut:\n",
    "                print('\\n###################  Training  ###############')\n",
    "                print('\\nTraining Confusion matrix: \\n', cm)\n",
    "                print('\\nTraining Accuracy score: \\n', accScore)\n",
    "                print('\\nTrain AUC: \\n', AUC)\n",
    "            \n",
    "            # Test\n",
    "            yPred = method.predict(XTest)\n",
    "            yPred = (yPred > 0.5)\n",
    "            cm = confusion_matrix(\n",
    "                yTest, yPred) \n",
    "            cm = np.around(cm/cm.sum(axis=1)[:,None], 2)\n",
    "            confusionArray[3] = cm\n",
    "            \n",
    "            accScore = accuracy_score(yTest, yPred)\n",
    "            confusionArray[4] = accScore\n",
    "            \n",
    "            AUC = roc_auc_score(yTest, yPred)\n",
    "            confusionArray[5] = AUC\n",
    "            \n",
    "            if printOut:\n",
    "                print('\\n###################  Testing  ###############')\n",
    "                print('\\nTest Confusion matrix: \\n', cm)\n",
    "                print('\\nTest Accuracy score: \\n', accScore)\n",
    "                print('\\nTestAUC: \\n', AUC)    \n",
    "            \n",
    "            return confusionArray\n",
    "        \n",
    "        \n",
    "        confusionArrayLogreg = createConfusionMatrix('gridSearch', printOut=False)\n"
   ]
  },
  {
   "cell_type": "markdown",
   "metadata": {},
   "source": [
    "        import matplotlib.pyplot as plt\n",
    "        import seaborn\n",
    "        import scikitplot as skplt\n",
    "        \n",
    "        seaborn.set(style=\"white\", context=\"notebook\", font_scale=1.5, \n",
    "                    rc={\"axes.grid\": True, \"legend.frameon\": False,\n",
    "        \"lines.markeredgewidth\": 1.4, \"lines.markersize\": 10})\n",
    "        seaborn.set_context(\"notebook\", font_scale=1.5, rc={\"lines.linewidth\": 4.5})\n",
    "        \n",
    "        yPred = gridSearch.predict_proba(XTest) \n",
    "        print(yTest.ravel().shape, yPred.shape)\n",
    "        skplt.metrics.plot_cumulative_gain(yTest.ravel(), yPred)\n",
    "        \n",
    "        defaults = sum(yTest == 1)\n",
    "        total = len(yTest)\n",
    "        defaultRate = defaults/total\n",
    "        def bestCurve(defaults, total, defaultRate):\n",
    "            x = np.linspace(0, 1, total)\n",
    "            \n",
    "            y1 = np.linspace(0, 1, defaults)\n",
    "            y2 = np.ones(total-defaults)\n",
    "            y3 = np.concatenate([y1,y2])\n",
    "            return x, y3\n",
    "        \n",
    "        x, best = bestCurve(defaults=defaults, total=total, defaultRate=defaultRate)    \n",
    "        plt.plot(x, best)    \n",
    "        \n",
    "        plt.show()\n"
   ]
  },
  {
   "cell_type": "markdown",
   "metadata": {},
   "source": [
    "## The Pulsar classification case"
   ]
  },
  {
   "cell_type": "markdown",
   "metadata": {},
   "source": [
    "        \n",
    "        import numpy as np\n",
    "        from sklearn import metrics\n",
    "        from sklearn import linear_model\n",
    "        import sklearn\n",
    "        import random\n",
    "        import time as tm\n",
    "        import xlrd\n",
    "        \n",
    "        \n",
    "        from sys import platform as sys_pf\n",
    "        if sys_pf == 'darwin':\n",
    "            import matplotlib\n",
    "            matplotlib.use(\"TkAgg\")\n",
    "        from matplotlib import pyplot as plt\n",
    "        \n",
    "        \n",
    "        def predict(x,beta):\n",
    "            \"\"\"\n",
    "            Function that predicts labels based on the beta parameters that has been\n",
    "            calculatted.\n",
    "            Inputs: datapoints and beta parameters\n",
    "            Output: predicted label\n",
    "            \"\"\"\n",
    "            ypred = x @ beta\n",
    "            ypred = 1 / (1 + np.exp(-ypred))\n",
    "            if np.isnan(np.sum(ypred)):\n",
    "                ypred_0 = np.zeros((ypred.shape))\n",
    "                return ypred_0\n",
    "            ypred[ypred < 0.5] = 0\n",
    "            ypred[ypred >= 0.5] = 1\n",
    "            return ypred\n",
    "        \n",
    "        \n",
    "        def beta_update(lr,x,y,beta):\n",
    "            \"\"\"\n",
    "            Function to calculate the new beta parameters without regularization.\n",
    "            Inputs: data, labels, beta parameters\n",
    "            Output: updated beta\n",
    "            \"\"\"\n",
    "            output = 1 / (1 + np.exp(-(x @ beta)))\n",
    "            delta = x.T @ (output - y.reshape((len(y),1)))\n",
    "            new_beta = beta - lr * delta/len(y)\n",
    "            return new_beta\n",
    "        \n",
    "        def beta_update_l2(lr,x,y,beta,lamb):\n",
    "            \"\"\"\n",
    "            Function to calculate the new beta parameters with l1 regularization.\n",
    "            Inputs: data, labels, beta parameters, lambda\n",
    "            Output: updated beta\n",
    "            \"\"\"\n",
    "            output = 1 / (1 + np.exp(-(x @ beta)))\n",
    "            delta = x.T @ (output - y.reshape((len(y),1)))\n",
    "            new_beta = beta - lr * (delta/len(y) + lamb * beta)\n",
    "            return new_beta\n",
    "        \n",
    "        def confusion(targets, pred_targets):\n",
    "            \"\"\"\n",
    "            Calculates the onfusion matrix for the SVM.\n",
    "            Inputs: Predicted and correct labels that are going to be assessed.\n",
    "            Outputs: confusion matrix.\n",
    "            \"\"\"\n",
    "            #create confuison matrix\n",
    "            conf = np.zeros((2,2))\n",
    "        \n",
    "        \n",
    "            #Remove redundant dimensions\n",
    "            sq_targets = np.squeeze(targets).astype(int)\n",
    "            sq_pred_targets = np.squeeze(pred_targets).astype(int)\n",
    "        \n",
    "        \n",
    "            #for loop runs through the test input\n",
    "            for i in range(0,targets.shape[0]):\n",
    "        \n",
    "        \n",
    "                #Increments the values in the confusion matrix\n",
    "                #based on the results\n",
    "                conf[sq_targets[i]][sq_pred_targets[i]] = conf[sq_targets[i]][sq_pred_targets[i]] + 1\n",
    "        \n",
    "        \n",
    "            return conf\n",
    "        \n",
    "        #adjustable parameters\n",
    "        trainp = 0.5 #percentage of the data to be used for training\n",
    "        minibatch = 10 #minibatch size\n",
    "        lr = 0.2 #learning rate\n",
    "        lamb = [0.00001, 0.0001,0.001, 0.01, 1, 10,100] #value of lambda\n",
    "        #lamb = [0.00001, 0.0001,0.001, 0.01, 1,10,100,1000,10000] #a larger lambda\n",
    "        boot_runs = 100 #number of bootstrap runs\n",
    "        \n",
    "        #Get data\n",
    "        data = np.genfromtxt('pulsar_stars.csv', delimiter=',',skip_header=1)\n",
    "        target = data[:,8]\n",
    "        \n",
    "        \n",
    "        #Subtract the mean for each inout\n",
    "        data[:,:8] = data[:,:8] - np.mean(data[:,:8], axis=0, keepdims=True)\n",
    "        \n",
    "        #Divide the data by the max to reduce the size of the inputs\n",
    "        #max_abs_data = np.std(data[:,:23],axis=0,keepdims=True)\n",
    "        max_abs_data = np.max(data[:,:8], axis=0, keepdims=True)\n",
    "        data = data[:,:8]/max_abs_data\n",
    "        \n",
    "        \n",
    "        # Randomly order the data\n",
    "        order = list(range(data.shape[0]))\n",
    "        np.random.shuffle(order)\n",
    "        data = data[order,:]\n",
    "        target = target[order]\n",
    "        \n",
    "        #find total samples and calculate the number of training data\n",
    "        sampn = len(target)\n",
    "        trainn = int(sampn*trainp)\n",
    "        \n",
    "        \n",
    "        #split the data into training and test sets\n",
    "        xt = np.zeros((trainn,data.shape[1]+1))\n",
    "        xt[:,0] = -1\n",
    "        xt[:,1:] = data[:trainn,:]\n",
    "        yt = target[:trainn]\n",
    "        \n",
    "        xte = np.zeros((sampn-trainn,data.shape[1]+1))\n",
    "        xte[:,0] = -1\n",
    "        xte[:,1:] = data[trainn:,:]\n",
    "        yte = target[trainn:]\n",
    "        \n",
    "        \n",
    "        \n",
    "        #array to store the ac scores\n",
    "        train_ac = np.zeros(len(lamb))\n",
    "        test_ac = np.zeros(len(lamb))\n",
    "        train_ac_l2 = np.zeros(len(lamb))\n",
    "        test_ac_l2 = np.zeros(len(lamb))\n",
    "        train_ac_sci = np.zeros(len(lamb))\n",
    "        test_ac_sci = np.zeros(len(lamb))\n",
    "        \n",
    "        \n",
    "        \n",
    "        \n",
    "        count = 0\n",
    "        for l in lamb:\n",
    "            #array to store ac score in bootruns\n",
    "            b_train_ac = np.zeros(boot_runs)\n",
    "            b_test_ac = np.zeros(boot_runs)\n",
    "            b_train_ac_l2 = np.zeros(boot_runs)\n",
    "            b_test_ac_l2 = np.zeros(boot_runs)\n",
    "            b_train_ac_sci = np.zeros(boot_runs)\n",
    "            b_test_ac_sci = np.zeros(boot_runs)\n",
    "            for j in range(boot_runs):\n",
    "        \n",
    "                #use scikit to take randoms samples with replacement\n",
    "                x_boot, y_boot = sklearn.utils.resample(xt,yt)\n",
    "        \n",
    "                #initialize the beta parameters\n",
    "                beta = (2/np.sqrt(data.shape[1]+1)) * np.random.random_sample((data.shape[1]+1,1)) -1/np.sqrt(data.shape[1]+1)\n",
    "                beta_l2 = (2/np.sqrt(data.shape[1]+1)) * np.random.random_sample((data.shape[1]+1,1)) -1/np.sqrt(data.shape[1]+1)\n",
    "        \n",
    "                #variable to store the best score\n",
    "                best_score = 0\n",
    "                best_score_l2 = 0\n",
    "                for k in range(0,50):\n",
    "        \n",
    "                    for i in range(0,trainn,minibatch):\n",
    "        \n",
    "                        #update beta parameters\n",
    "                        beta = beta_update(lr,x_boot[i:i+minibatch,:],y_boot[i:i+minibatch],beta)\n",
    "                        beta_l2 = beta_update_l2(lr,x_boot[i:i+minibatch,:],y_boot[i:i+minibatch],beta_l2,l)\n",
    "        \n",
    "                    #checks the score of the model and stores the best parameters\n",
    "                    temp_pred = predict(x_boot,beta)\n",
    "                    temp_score = np.sum(y_boot.reshape((trainn,1)) == temp_pred) / len(y_boot)\n",
    "                    if temp_score > best_score:\n",
    "                        best_beta = beta\n",
    "                        best_score = temp_score\n",
    "        \n",
    "                    temp_pred = predict(x_boot,beta_l2)\n",
    "                    temp_score = np.sum(y_boot.reshape((trainn,1)) == temp_pred) / len(y_boot)\n",
    "                    if temp_score > best_score_l2:\n",
    "                        best_beta_l2 = beta_l2\n",
    "                        best_score_l2 = temp_score\n",
    "        \n",
    "        \n",
    "                    #reshuffle the data so the model does not train the same way\n",
    "                    order = list(range(np.shape(x_boot)[0]))\n",
    "                    np.random.shuffle(order)\n",
    "                    x_boot = x_boot[order,:]\n",
    "                    y_boot = y_boot[order]\n",
    "        \n",
    "                #predicts the labels using beta\n",
    "                ypred = predict(xte,best_beta)\n",
    "                ypred_train = predict(x_boot,best_beta)\n",
    "        \n",
    "        \n",
    "                #predicts the labels using beta_l2\n",
    "                ypred_l2 = predict(xte,best_beta_l2)\n",
    "                ypred_train_l2 = predict(x_boot,best_beta_l2)\n",
    "        \n",
    "        \n",
    "                #fiting a scikit model\n",
    "                scilearn = linear_model.LogisticRegression(penalty='l2',C=1/l).fit(x_boot, y_boot)\n",
    "        \n",
    "        \n",
    "                #calualte the score of the predicted labels\n",
    "                b_test_ac[j]= (np.sum(yte.reshape((sampn - trainn,1)) == ypred) / len(yte))*100\n",
    "                b_train_ac[j]= (np.sum(y_boot.reshape((trainn,1)) == ypred_train) / len(y_boot))*100\n",
    "        \n",
    "        \n",
    "                b_test_ac_l2[j]= (np.sum(yte.reshape((sampn - trainn,1)) == ypred_l2) / len(yte))*100\n",
    "                b_train_ac_l2[j] = (np.sum(y_boot.reshape((trainn,1)) == ypred_train_l2) / len(y_boot))*100\n",
    "        \n",
    "        \n",
    "                #calualte the score of the scikit models\n",
    "                b_test_ac_sci[j] = scilearn.score(xte,yte) * 100\n",
    "                b_train_ac_sci[j] = scilearn.score(x_boot,y_boot) * 100\n",
    "        \n",
    "        \n",
    "            #Stor the mean of the accuracy of each run in the bootstrap\n",
    "            train_ac[count] = np.mean(b_train_ac)\n",
    "            test_ac[count] = np.mean(b_test_ac)\n",
    "            train_ac_l2[count] = np.mean(b_train_ac_l2)\n",
    "            test_ac_l2[count] = np.mean(b_test_ac_l2)\n",
    "            train_ac_sci[count]= np.mean(b_train_ac_sci)\n",
    "            test_ac_sci[count] = np.mean(b_test_ac_sci)\n",
    "            \n",
    "            #print results\n",
    "            print(\"Created minibatch method:\")\n",
    "            print(\"Train score: %.4f\" %train_ac[count])\n",
    "            print(\"Test score: %.4f\" %test_ac[count])\n",
    "            print(\"Test: Max score: %f Min score: %f\\n\" %(np.max(b_test_ac),np.min(b_test_ac)))\n",
    "        \n",
    "            print(\"Created minibatch with L2 regularization lambda = %.5f:\" %l)\n",
    "            print(\"Train score: %.4f\" %train_ac_l2[count])\n",
    "            print(\"Test score: %.4f\" %test_ac_l2[count])\n",
    "            print(\"Test: Max score: %f Min score: %f\\n\" %(np.max(b_test_ac_l2),np.min(b_test_ac_l2)))\n",
    "        \n",
    "            print(\"Scikit learn method lambda = %.5f:\" %l)\n",
    "            print(\"Train score: %.4f\" %train_ac_sci[count])\n",
    "            print(\"Test score: %.4f\" %test_ac_sci[count])\n",
    "            print(\"Test: Max score: %f Min score: %f\\n\" %(np.max(b_test_ac_sci),np.min(b_test_ac_sci)))\n",
    "        \n",
    "        \n",
    "            print(\"--------------\\n\")\n",
    "        \n",
    "        \n",
    "        \n",
    "            count += 1\n",
    "        plt.figure(1)\n",
    "        # Plot our performance on both the training and test data\n",
    "        plt.semilogx(lamb, train_ac, 'b',label='Created method train')\n",
    "        plt.semilogx(lamb, test_ac,'--b',label='Created method test')\n",
    "        plt.semilogx(lamb, train_ac_l2,'r',label='Created L2 train',linewidth=1)\n",
    "        plt.semilogx(lamb, test_ac_l2,'--r',label='Created L2 test',linewidth=1)\n",
    "        plt.semilogx(lamb, train_ac_sci, 'g',label='Scikit train')\n",
    "        plt.semilogx(lamb, test_ac_sci, '--g',label='Scikit test')\n",
    "        \n",
    "        \n",
    "        \n",
    "        plt.title(\"Accuracy scores for test and training data with different values for lambda\", fontsize = 16)\n",
    "        plt.legend(loc='lower left',fontsize=16)\n",
    "        plt.xlim([min(lamb), max(lamb)])\n",
    "        plt.xlabel('Lambda',fontsize=15)\n",
    "        plt.ylabel('Accuracy score [%]',fontsize=15)\n",
    "        plt.tick_params(labelsize=15)\n",
    "        \n",
    "        plt.show()\n",
    "        \n"
   ]
  }
 ],
 "metadata": {},
 "nbformat": 4,
 "nbformat_minor": 2
}
