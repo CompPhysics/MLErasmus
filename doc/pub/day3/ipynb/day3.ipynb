{
 "cells": [
  {
   "cell_type": "markdown",
   "metadata": {},
   "source": [
    "<!-- dom:TITLE: Data Analysis and Machine Learning: Day 3, Ridge and Lasso Regression and Resampling Methods -->\n",
    "# Data Analysis and Machine Learning: Day 3, Ridge and Lasso Regression and Resampling Methods\n",
    "<!-- dom:AUTHOR: Morten Hjorth-Jensen at Department of Physics and Center for Computing in Science Education, University of Oslo, Norway & Department of Physics and Astronomy and Facility for Rare Ion Beams and National Superconducting Cyclotron Laboratory, Michigan State University, USA -->\n",
    "<!-- Author: -->  \n",
    "**Morten Hjorth-Jensen**, Department of Physics and Center for Computing in Science Education, University of Oslo, Norway and Department of Physics and Astronomy and Facility for Rare Ion Beams and National Superconducting Cyclotron Laboratory, Michigan State University, USA\n",
    "\n",
    "Date: **Jan 22, 2021**\n",
    "\n",
    "Copyright 1999-2021, Morten Hjorth-Jensen. Released under CC Attribution-NonCommercial 4.0 license\n",
    "\n",
    "\n",
    "\n",
    "## Plans for Day 3\n",
    "\n",
    "* Statistics, probability theory and resampling methods\n",
    "\n",
    "* Shrinkage methods: Ridge and Lasso Regression\n",
    "\n",
    "## Why resampling methods\n",
    "\n",
    "Before we proceed, we need to rethink what we have been doing. In our\n",
    "eager to fit the data, we have omitted several important elements in\n",
    "our regression analysis. In what follows we will\n",
    "1. look at statistical properties, including a discussion of mean values, variance and the so-called bias-variance tradeoff\n",
    "\n",
    "2. introduce resampling techniques like cross-validation, bootstrapping and jackknife and more\n",
    "\n",
    "This will allow us to link the standard linear algebra methods we have discussed above to a statistical interpretation of the methods. \n",
    "\n",
    "\n",
    "\n",
    "\n",
    "\n",
    "## Resampling methods\n",
    "Resampling methods are an indispensable tool in modern\n",
    "statistics. They involve repeatedly drawing samples from a training\n",
    "set and refitting a model of interest on each sample in order to\n",
    "obtain additional information about the fitted model. For example, in\n",
    "order to estimate the variability of a linear regression fit, we can\n",
    "repeatedly draw different samples from the training data, fit a linear\n",
    "regression to each new sample, and then examine the extent to which\n",
    "the resulting fits differ. Such an approach may allow us to obtain\n",
    "information that would not be available from fitting the model only\n",
    "once using the original training sample.\n",
    "\n",
    "Two resampling methods are often used in Machine Learning analyses,\n",
    "1. The **bootstrap method**\n",
    "\n",
    "2. and **Cross-Validation**\n",
    "\n",
    "In addition there are several other methods such as the Jackknife and the Blocking methods. We will discuss in particular\n",
    "cross-validation and the bootstrap method.\n",
    "\n",
    "\n",
    "\n",
    "\n",
    "## Resampling approaches can be computationally expensive\n",
    "\n",
    "Resampling approaches can be computationally expensive, because they\n",
    "involve fitting the same statistical method multiple times using\n",
    "different subsets of the training data. However, due to recent\n",
    "advances in computing power, the computational requirements of\n",
    "resampling methods generally are not prohibitive. In this chapter, we\n",
    "discuss two of the most commonly used resampling methods,\n",
    "cross-validation and the bootstrap. Both methods are important tools\n",
    "in the practical application of many statistical learning\n",
    "procedures. For example, cross-validation can be used to estimate the\n",
    "test error associated with a given statistical learning method in\n",
    "order to evaluate its performance, or to select the appropriate level\n",
    "of flexibility. The process of evaluating a model’s performance is\n",
    "known as model assessment, whereas the process of selecting the proper\n",
    "level of flexibility for a model is known as model selection. The\n",
    "bootstrap is widely used.\n",
    "\n",
    "\n",
    "\n",
    "## Why resampling methods ?\n",
    "**Statistical analysis.**\n",
    "\n",
    "\n",
    "* Our simulations can be treated as *computer experiments*. This is particularly the case for Monte Carlo methods\n",
    "\n",
    "* The results can be analysed with the same statistical tools as we would use analysing experimental data.\n",
    "\n",
    "* As in all experiments, we are looking for expectation values and an estimate of how accurate they are, i.e., possible sources for errors.\n",
    "\n",
    "    \n",
    "\n",
    "## Statistical analysis\n",
    "\n",
    "* As in other experiments, many numerical  experiments have two classes of errors:\n",
    "\n",
    "  * Statistical errors\n",
    "\n",
    "  * Systematical errors\n",
    "\n",
    "\n",
    "* Statistical errors can be estimated using standard tools from statistics\n",
    "\n",
    "* Systematical errors are method specific and must be treated differently from case to case.\n",
    "\n",
    "    \n",
    "\n",
    "\n",
    "\n",
    "\n",
    "<!-- !split  -->\n",
    "## Linking the regression analysis with a statistical interpretation\n",
    "\n",
    "\n",
    "The\n",
    "advantage of doing linear regression is that we actually end up with\n",
    "analytical expressions for several statistical quantities.  \n",
    "Standard least squares and Ridge regression  allow us to\n",
    "derive quantities like the variance and other expectation values in a\n",
    "rather straightforward way.\n",
    "\n",
    "\n",
    "It is assumed that $\\varepsilon_i\n",
    "\\sim \\mathcal{N}(0, \\sigma^2)$ and the $\\varepsilon_{i}$ are\n",
    "independent, i.e.:"
   ]
  },
  {
   "cell_type": "markdown",
   "metadata": {},
   "source": [
    "$$\n",
    "\\begin{align*} \n",
    "\\mbox{Cov}(\\varepsilon_{i_1},\n",
    "\\varepsilon_{i_2}) & = \\left\\{ \\begin{array}{lcc} \\sigma^2 & \\mbox{if}\n",
    "& i_1 = i_2, \\\\ 0 & \\mbox{if} & i_1 \\not= i_2.  \\end{array} \\right.\n",
    "\\end{align*}\n",
    "$$"
   ]
  },
  {
   "cell_type": "markdown",
   "metadata": {},
   "source": [
    "The randomness of $\\varepsilon_i$ implies that\n",
    "$\\mathbf{y}_i$ is also a random variable. In particular,\n",
    "$\\mathbf{y}_i$ is normally distributed, because $\\varepsilon_i \\sim\n",
    "\\mathcal{N}(0, \\sigma^2)$ and $\\mathbf{X}_{i,\\ast} \\, \\boldsymbol{\\beta}$ is a\n",
    "non-random scalar. To specify the parameters of the distribution of\n",
    "$\\mathbf{y}_i$ we need to calculate its first two moments. \n",
    "\n",
    "Recall that $\\boldsymbol{X}$ is a matrix of dimensionality $n\\times p$. The\n",
    "notation above $\\mathbf{X}_{i,\\ast}$ means that we are looking at the\n",
    "row number $i$ and perform a sum over all values $p$.\n",
    "\n",
    "\n",
    "## Assumptions made\n",
    "\n",
    "The assumption we have made here can be summarized as (and this is going to be useful when we discuss the bias-variance trade off)\n",
    "that there exists a function $f(\\boldsymbol{x})$ and  a normal distributed error $\\boldsymbol{\\varepsilon}\\sim \\mathcal{N}(0, \\sigma^2)$\n",
    "which describe our data"
   ]
  },
  {
   "cell_type": "markdown",
   "metadata": {},
   "source": [
    "$$\n",
    "\\boldsymbol{y} = f(\\boldsymbol{x})+\\boldsymbol{\\varepsilon}\n",
    "$$"
   ]
  },
  {
   "cell_type": "markdown",
   "metadata": {},
   "source": [
    "We approximate this function with our model from the solution of the linear regression equations, that is our\n",
    "function $f$ is approximated by $\\boldsymbol{\\tilde{y}}$ where we want to minimize $(\\boldsymbol{y}-\\boldsymbol{\\tilde{y}})^2$, our MSE, with"
   ]
  },
  {
   "cell_type": "markdown",
   "metadata": {},
   "source": [
    "$$\n",
    "\\boldsymbol{\\tilde{y}} = \\boldsymbol{X}\\boldsymbol{\\beta}.\n",
    "$$"
   ]
  },
  {
   "cell_type": "markdown",
   "metadata": {},
   "source": [
    "## Expectation value and variance\n",
    "\n",
    "We can calculate the expectation value of $\\boldsymbol{y}$ for a given element $i$"
   ]
  },
  {
   "cell_type": "markdown",
   "metadata": {},
   "source": [
    "$$\n",
    "\\begin{align*} \n",
    "\\mathbb{E}(y_i) & =\n",
    "\\mathbb{E}(\\mathbf{X}_{i, \\ast} \\, \\boldsymbol{\\beta}) + \\mathbb{E}(\\varepsilon_i)\n",
    "\\, \\, \\, = \\, \\, \\, \\mathbf{X}_{i, \\ast} \\, \\beta, \n",
    "\\end{align*}\n",
    "$$"
   ]
  },
  {
   "cell_type": "markdown",
   "metadata": {},
   "source": [
    "while\n",
    "its variance is"
   ]
  },
  {
   "cell_type": "markdown",
   "metadata": {},
   "source": [
    "$$\n",
    "\\begin{align*} \\mbox{Var}(y_i) & = \\mathbb{E} \\{ [y_i\n",
    "- \\mathbb{E}(y_i)]^2 \\} \\, \\, \\, = \\, \\, \\, \\mathbb{E} ( y_i^2 ) -\n",
    "[\\mathbb{E}(y_i)]^2  \\\\  & = \\mathbb{E} [ ( \\mathbf{X}_{i, \\ast} \\,\n",
    "\\beta + \\varepsilon_i )^2] - ( \\mathbf{X}_{i, \\ast} \\, \\boldsymbol{\\beta})^2 \\\\ &\n",
    "= \\mathbb{E} [ ( \\mathbf{X}_{i, \\ast} \\, \\boldsymbol{\\beta})^2 + 2 \\varepsilon_i\n",
    "\\mathbf{X}_{i, \\ast} \\, \\boldsymbol{\\beta} + \\varepsilon_i^2 ] - ( \\mathbf{X}_{i,\n",
    "\\ast} \\, \\beta)^2 \\\\  & = ( \\mathbf{X}_{i, \\ast} \\, \\boldsymbol{\\beta})^2 + 2\n",
    "\\mathbb{E}(\\varepsilon_i) \\mathbf{X}_{i, \\ast} \\, \\boldsymbol{\\beta} +\n",
    "\\mathbb{E}(\\varepsilon_i^2 ) - ( \\mathbf{X}_{i, \\ast} \\, \\boldsymbol{\\beta})^2 \n",
    "\\\\ & = \\mathbb{E}(\\varepsilon_i^2 ) \\, \\, \\, = \\, \\, \\,\n",
    "\\mbox{Var}(\\varepsilon_i) \\, \\, \\, = \\, \\, \\, \\sigma^2.  \n",
    "\\end{align*}\n",
    "$$"
   ]
  },
  {
   "cell_type": "markdown",
   "metadata": {},
   "source": [
    "Hence, $y_i \\sim \\mathcal{N}( \\mathbf{X}_{i, \\ast} \\, \\boldsymbol{\\beta}, \\sigma^2)$, that is $\\boldsymbol{y}$ follows a normal distribution with \n",
    "mean value $\\boldsymbol{X}\\boldsymbol{\\beta}$ and variance $\\sigma^2$ (not be confused with the singular values of the SVD). \n",
    "\n",
    "## Expectation value and variance for $\\boldsymbol{\\beta}$\n",
    "\n",
    "With the OLS expressions for the parameters $\\boldsymbol{\\beta}$ we can evaluate the expectation value"
   ]
  },
  {
   "cell_type": "markdown",
   "metadata": {},
   "source": [
    "$$\n",
    "\\mathbb{E}(\\boldsymbol{\\beta}) = \\mathbb{E}[ (\\mathbf{X}^{\\top} \\mathbf{X})^{-1}\\mathbf{X}^{T} \\mathbf{Y}]=(\\mathbf{X}^{T} \\mathbf{X})^{-1}\\mathbf{X}^{T} \\mathbb{E}[ \\mathbf{Y}]=(\\mathbf{X}^{T} \\mathbf{X})^{-1} \\mathbf{X}^{T}\\mathbf{X}\\boldsymbol{\\beta}=\\boldsymbol{\\beta}.\n",
    "$$"
   ]
  },
  {
   "cell_type": "markdown",
   "metadata": {},
   "source": [
    "This means that the estimator of the regression parameters is unbiased.\n",
    "\n",
    "We can also calculate the variance\n",
    "\n",
    "The variance of $\\boldsymbol{\\beta}$ is"
   ]
  },
  {
   "cell_type": "markdown",
   "metadata": {},
   "source": [
    "$$\n",
    "\\begin{eqnarray*}\n",
    "\\mbox{Var}(\\boldsymbol{\\beta}) & = & \\mathbb{E} \\{ [\\boldsymbol{\\beta} - \\mathbb{E}(\\boldsymbol{\\beta})] [\\boldsymbol{\\beta} - \\mathbb{E}(\\boldsymbol{\\beta})]^{T} \\}\n",
    "\\\\\n",
    "& = & \\mathbb{E} \\{ [(\\mathbf{X}^{T} \\mathbf{X})^{-1} \\, \\mathbf{X}^{T} \\mathbf{Y} - \\boldsymbol{\\beta}] \\, [(\\mathbf{X}^{T} \\mathbf{X})^{-1} \\, \\mathbf{X}^{T} \\mathbf{Y} - \\boldsymbol{\\beta}]^{T} \\}\n",
    "\\\\\n",
    "% & = & \\mathbb{E} \\{ [(\\mathbf{X}^{T} \\mathbf{X})^{-1} \\, \\mathbf{X}^{T} \\mathbf{Y}] \\, [(\\mathbf{X}^{T} \\mathbf{X})^{-1} \\, \\mathbf{X}^{T} \\mathbf{Y}]^{T} \\} - \\boldsymbol{\\beta} \\, \\boldsymbol{\\beta}^{T}\n",
    "% \\\\\n",
    "% & = & \\mathbb{E} \\{ (\\mathbf{X}^{T} \\mathbf{X})^{-1} \\, \\mathbf{X}^{T} \\mathbf{Y} \\, \\mathbf{Y}^{T} \\, \\mathbf{X} \\, (\\mathbf{X}^{T} \\mathbf{X})^{-1}  \\} - \\boldsymbol{\\beta} \\, \\boldsymbol{\\beta}^{T}\n",
    "% \\\\\n",
    "& = & (\\mathbf{X}^{T} \\mathbf{X})^{-1} \\, \\mathbf{X}^{T} \\, \\mathbb{E} \\{ \\mathbf{Y} \\, \\mathbf{Y}^{T} \\} \\, \\mathbf{X} \\, (\\mathbf{X}^{T} \\mathbf{X})^{-1} - \\boldsymbol{\\beta} \\, \\boldsymbol{\\beta}^{T}\n",
    "\\\\\n",
    "& = & (\\mathbf{X}^{T} \\mathbf{X})^{-1} \\, \\mathbf{X}^{T} \\, \\{ \\mathbf{X} \\, \\boldsymbol{\\beta} \\, \\boldsymbol{\\beta}^{T} \\,  \\mathbf{X}^{T} + \\sigma^2 \\} \\, \\mathbf{X} \\, (\\mathbf{X}^{T} \\mathbf{X})^{-1} - \\boldsymbol{\\beta} \\, \\boldsymbol{\\beta}^{T}\n",
    "% \\\\\n",
    "% & = & (\\mathbf{X}^T \\mathbf{X})^{-1} \\, \\mathbf{X}^T \\, \\mathbf{X} \\, \\boldsymbol{\\beta} \\, \\boldsymbol{\\beta}^T \\,  \\mathbf{X}^T \\, \\mathbf{X} \\, (\\mathbf{X}^T % \\mathbf{X})^{-1}\n",
    "% \\\\\n",
    "% & & + \\, \\, \\sigma^2 \\, (\\mathbf{X}^T \\mathbf{X})^{-1} \\, \\mathbf{X}^T  \\, \\mathbf{X} \\, (\\mathbf{X}^T \\mathbf{X})^{-1} - \\boldsymbol{\\beta} \\boldsymbol{\\beta}^T\n",
    "\\\\\n",
    "& = & \\boldsymbol{\\beta} \\, \\boldsymbol{\\beta}^{T}  + \\sigma^2 \\, (\\mathbf{X}^{T} \\mathbf{X})^{-1} - \\boldsymbol{\\beta} \\, \\boldsymbol{\\beta}^{T}\n",
    "\\, \\, \\, = \\, \\, \\, \\sigma^2 \\, (\\mathbf{X}^{T} \\mathbf{X})^{-1},\n",
    "\\end{eqnarray*}\n",
    "$$"
   ]
  },
  {
   "cell_type": "markdown",
   "metadata": {},
   "source": [
    "where we have used  that $\\mathbb{E} (\\mathbf{Y} \\mathbf{Y}^{T}) =\n",
    "\\mathbf{X} \\, \\boldsymbol{\\beta} \\, \\boldsymbol{\\beta}^{T} \\, \\mathbf{X}^{T} +\n",
    "\\sigma^2 \\, \\mathbf{I}_{nn}$. From $\\mbox{Var}(\\boldsymbol{\\beta}) = \\sigma^2\n",
    "\\, (\\mathbf{X}^{T} \\mathbf{X})^{-1}$, one obtains an estimate of the\n",
    "variance of the estimate of the $j$-th regression coefficient:\n",
    "$\\boldsymbol{\\sigma}^2 (\\boldsymbol{\\beta}_j ) = \\boldsymbol{\\sigma}^2 [(\\mathbf{X}^{T} \\mathbf{X})^{-1}]_{jj}$. This may be used to\n",
    "construct a confidence interval for the estimates.\n",
    "\n",
    "\n",
    "In a similar way, we can obtain analytical expressions for say the\n",
    "expectation values of the parameters $\\boldsymbol{\\beta}$ and their variance\n",
    "when we employ Ridge regression, allowing us again to define a confidence interval. \n",
    "\n",
    "It is rather straightforward to show that"
   ]
  },
  {
   "cell_type": "markdown",
   "metadata": {},
   "source": [
    "$$\n",
    "\\mathbb{E} \\big[ \\boldsymbol{\\beta}^{\\mathrm{Ridge}} \\big]=(\\mathbf{X}^{T} \\mathbf{X} + \\lambda \\mathbf{I}_{pp})^{-1} (\\mathbf{X}^{\\top} \\mathbf{X})\\boldsymbol{\\beta}^{\\mathrm{OLS}}.\n",
    "$$"
   ]
  },
  {
   "cell_type": "markdown",
   "metadata": {},
   "source": [
    "We see clearly that \n",
    "$\\mathbb{E} \\big[ \\boldsymbol{\\beta}^{\\mathrm{Ridge}} \\big] \\not= \\boldsymbol{\\beta}^{\\mathrm{OLS}}$ for any $\\lambda > 0$. We say then that the ridge estimator is biased.\n",
    "\n",
    "We can also compute the variance as"
   ]
  },
  {
   "cell_type": "markdown",
   "metadata": {},
   "source": [
    "$$\n",
    "\\mbox{Var}[\\boldsymbol{\\beta}^{\\mathrm{Ridge}}]=\\sigma^2[  \\mathbf{X}^{T} \\mathbf{X} + \\lambda \\mathbf{I} ]^{-1}  \\mathbf{X}^{T} \\mathbf{X} \\{ [  \\mathbf{X}^{\\top} \\mathbf{X} + \\lambda \\mathbf{I} ]^{-1}\\}^{T},\n",
    "$$"
   ]
  },
  {
   "cell_type": "markdown",
   "metadata": {},
   "source": [
    "and it is easy to see that if the parameter $\\lambda$ goes to infinity then the variance of Ridge parameters $\\boldsymbol{\\beta}$ goes to zero. \n",
    "\n",
    "With this, we can compute the difference"
   ]
  },
  {
   "cell_type": "markdown",
   "metadata": {},
   "source": [
    "$$\n",
    "\\mbox{Var}[\\boldsymbol{\\beta}^{\\mathrm{OLS}}]-\\mbox{Var}(\\boldsymbol{\\beta}^{\\mathrm{Ridge}})=\\sigma^2 [  \\mathbf{X}^{T} \\mathbf{X} + \\lambda \\mathbf{I} ]^{-1}[ 2\\lambda\\mathbf{I} + \\lambda^2 (\\mathbf{X}^{T} \\mathbf{X})^{-1} ] \\{ [  \\mathbf{X}^{T} \\mathbf{X} + \\lambda \\mathbf{I} ]^{-1}\\}^{T}.\n",
    "$$"
   ]
  },
  {
   "cell_type": "markdown",
   "metadata": {},
   "source": [
    "The difference is non-negative definite since each component of the\n",
    "matrix product is non-negative definite. \n",
    "This means the variance we obtain with the standard OLS will always for $\\lambda > 0$ be larger than the variance of $\\boldsymbol{\\beta}$ obtained with the Ridge estimator. This has interesting consequences when we discuss the so-called bias-variance trade-off below. \n",
    "\n",
    "\n",
    "## Resampling methods\n",
    "\n",
    "With all these analytical equations for both the OLS and Ridge\n",
    "regression, we will now outline how to assess a given model. This will\n",
    "lead us to a discussion of the so-called bias-variance tradeoff (see\n",
    "below) and so-called resampling methods.\n",
    "\n",
    "One of the quantities we have discussed as a way to measure errors is\n",
    "the mean-squared error (MSE), mainly used for fitting of continuous\n",
    "functions. Another choice is the absolute error.\n",
    "\n",
    "In the discussions below we will focus on the MSE and in particular since we will split the data into test and training data,\n",
    "we discuss the\n",
    "1. prediction error or simply the **test error** $\\mathrm{Err_{Test}}$, where we have a fixed training set and the test error is the MSE arising from the data reserved for testing. We discuss also the \n",
    "\n",
    "2. training error $\\mathrm{Err_{Train}}$, which is the average loss over the training data.\n",
    "\n",
    "As our model becomes more and more complex, more of the training data tends to  used. The training may thence adapt to more complicated structures in the data. This may lead to a decrease in the bias (see below for code example) and a slight increase of the variance for the test error.\n",
    "For a certain level of complexity the test error will reach minimum, before starting to increase again. The\n",
    "training error reaches a saturation.\n",
    "\n",
    "\n",
    "\n",
    "\n",
    "## Resampling methods: Jackknife and Bootstrap\n",
    "\n",
    "Two famous\n",
    "resampling methods are the **independent bootstrap** and **the jackknife**. \n",
    "\n",
    "The jackknife is a special case of the independent bootstrap. Still, the jackknife was made\n",
    "popular prior to the independent bootstrap. And as the popularity of\n",
    "the independent bootstrap soared, new variants, such as **the dependent bootstrap**.\n",
    "\n",
    "The Jackknife and independent bootstrap work for\n",
    "independent, identically distributed random variables.\n",
    "If these conditions are not\n",
    "satisfied, the methods will fail.  Yet, it should be said that if the data are\n",
    "independent, identically distributed, and we only want to estimate the\n",
    "variance of $\\overline{X}$ (which often is the case), then there is no\n",
    "need for bootstrapping. \n",
    "\n",
    "## Resampling methods: Jackknife\n",
    "\n",
    "The Jackknife works by making many replicas of the estimator $\\widehat{\\theta}$. \n",
    "The jackknife is a resampling method where we systematically leave out one observation from the vector of observed values $\\boldsymbol{x} = (x_1,x_2,\\cdots,X_n)$. \n",
    "Let $\\boldsymbol{x}_i$ denote the vector"
   ]
  },
  {
   "cell_type": "markdown",
   "metadata": {},
   "source": [
    "$$\n",
    "\\boldsymbol{x}_i = (x_1,x_2,\\cdots,x_{i-1},x_{i+1},\\cdots,x_n),\n",
    "$$"
   ]
  },
  {
   "cell_type": "markdown",
   "metadata": {},
   "source": [
    "which equals the vector $\\boldsymbol{x}$ with the exception that observation\n",
    "number $i$ is left out. Using this notation, define\n",
    "$\\widehat{\\theta}_i$ to be the estimator\n",
    "$\\widehat{\\theta}$ computed using $\\vec{X}_i$. \n",
    "\n",
    "\n",
    "## Jackknife code example"
   ]
  },
  {
   "cell_type": "code",
   "execution_count": 1,
   "metadata": {
    "collapsed": false
   },
   "outputs": [],
   "source": [
    "from numpy import *\n",
    "from numpy.random import randint, randn\n",
    "from time import time\n",
    "\n",
    "def jackknife(data, stat):\n",
    "    n = len(data);t = zeros(n); inds = arange(n); t0 = time()\n",
    "    ## 'jackknifing' by leaving out an observation for each i                                                                                                                      \n",
    "    for i in range(n):\n",
    "        t[i] = stat(delete(data,i) )\n",
    "\n",
    "    # analysis                                                                                                                                                                     \n",
    "    print(\"Runtime: %g sec\" % (time()-t0)); print(\"Jackknife Statistics :\")\n",
    "    print(\"original           bias      std. error\")\n",
    "    print(\"%8g %14g %15g\" % (stat(data),(n-1)*mean(t)/n, (n*var(t))**.5))\n",
    "\n",
    "    return t\n",
    "\n",
    "\n",
    "# Returns mean of data samples                                                                                                                                                     \n",
    "def stat(data):\n",
    "    return mean(data)\n",
    "\n",
    "\n",
    "mu, sigma = 100, 15\n",
    "datapoints = 10000\n",
    "x = mu + sigma*random.randn(datapoints)\n",
    "# jackknife returns the data sample                                                                                                                                                \n",
    "t = jackknife(x, stat)"
   ]
  },
  {
   "cell_type": "markdown",
   "metadata": {},
   "source": [
    "## Resampling methods: Bootstrap\n",
    "Bootstrapping is a nonparametric approach to statistical inference\n",
    "that substitutes computation for more traditional distributional\n",
    "assumptions and asymptotic results. Bootstrapping offers a number of\n",
    "advantages: \n",
    "1. The bootstrap is quite general, although there are some cases in which it fails.  \n",
    "\n",
    "2. Because it does not require distributional assumptions (such as normally distributed errors), the bootstrap can provide more accurate inferences when the data are not well behaved or when the sample size is small.  \n",
    "\n",
    "3. It is possible to apply the bootstrap to statistics with sampling distributions that are difficult to derive, even asymptotically. \n",
    "\n",
    "4. It is relatively simple to apply the bootstrap to complex data-collection plans (such as stratified and clustered samples).\n",
    "\n",
    "\n",
    "\n",
    "\n",
    "## Resampling methods: Bootstrap background\n",
    "\n",
    "Since $\\widehat{\\theta} = \\widehat{\\theta}(\\boldsymbol{X})$ is a function of random variables,\n",
    "$\\widehat{\\theta}$ itself must be a random variable. Thus it has\n",
    "a pdf, call this function $p(\\boldsymbol{t})$. The aim of the bootstrap is to\n",
    "estimate $p(\\boldsymbol{t})$ by the relative frequency of\n",
    "$\\widehat{\\theta}$. You can think of this as using a histogram\n",
    "in the place of $p(\\boldsymbol{t})$. If the relative frequency closely\n",
    "resembles $p(\\vec{t})$, then using numerics, it is straight forward to\n",
    "estimate all the interesting parameters of $p(\\boldsymbol{t})$ using point\n",
    "estimators.  \n",
    "\n",
    "\n",
    "## Resampling methods: More Bootstrap background\n",
    "\n",
    "In the case that $\\widehat{\\theta}$ has\n",
    "more than one component, and the components are independent, we use the\n",
    "same estimator on each component separately.  If the probability\n",
    "density function of $X_i$, $p(x)$, had been known, then it would have\n",
    "been straight forward to do this by: \n",
    "1. Drawing lots of numbers from $p(x)$, suppose we call one such set of numbers $(X_1^*, X_2^*, \\cdots, X_n^*)$. \n",
    "\n",
    "2. Then using these numbers, we could compute a replica of $\\widehat{\\theta}$ called $\\widehat{\\theta}^*$. \n",
    "\n",
    "By repeated use of (1) and (2), many\n",
    "estimates of $\\widehat{\\theta}$ could have been obtained. The\n",
    "idea is to use the relative frequency of $\\widehat{\\theta}^*$\n",
    "(think of a histogram) as an estimate of $p(\\boldsymbol{t})$.\n",
    "\n",
    "## Resampling methods: Bootstrap approach\n",
    "\n",
    "But\n",
    "unless there is enough information available about the process that\n",
    "generated $X_1,X_2,\\cdots,X_n$, $p(x)$ is in general\n",
    "unknown. Therefore, [Efron in 1979](https://projecteuclid.org/euclid.aos/1176344552)  asked the\n",
    "question: What if we replace $p(x)$ by the relative frequency\n",
    "of the observation $X_i$; if we draw observations in accordance with\n",
    "the relative frequency of the observations, will we obtain the same\n",
    "result in some asymptotic sense? The answer is yes.\n",
    "\n",
    "\n",
    "Instead of generating the histogram for the relative\n",
    "frequency of the observation $X_i$, just draw the values\n",
    "$(X_1^*,X_2^*,\\cdots,X_n^*)$ with replacement from the vector\n",
    "$\\boldsymbol{X}$. \n",
    "\n",
    "## Resampling methods: Bootstrap steps\n",
    "\n",
    "The independent bootstrap works like this: \n",
    "\n",
    "1. Draw with replacement $n$ numbers for the observed variables $\\boldsymbol{x} = (x_1,x_2,\\cdots,x_n)$. \n",
    "\n",
    "2. Define a vector $\\boldsymbol{x}^*$ containing the values which were drawn from $\\boldsymbol{x}$. \n",
    "\n",
    "3. Using the vector $\\boldsymbol{x}^*$ compute $\\widehat{\\theta}^*$ by evaluating $\\widehat \\theta$ under the observations $\\boldsymbol{x}^*$. \n",
    "\n",
    "4. Repeat this process $k$ times. \n",
    "\n",
    "When you are done, you can draw a histogram of the relative frequency\n",
    "of $\\widehat \\theta^*$. This is your estimate of the probability\n",
    "distribution $p(t)$. Using this probability distribution you can\n",
    "estimate any statistics thereof. In principle you never draw the\n",
    "histogram of the relative frequency of $\\widehat{\\theta}^*$. Instead\n",
    "you use the estimators corresponding to the statistic of interest. For\n",
    "example, if you are interested in estimating the variance of $\\widehat\n",
    "\\theta$, apply the etsimator $\\widehat \\sigma^2$ to the values\n",
    "$\\widehat \\theta ^*$.\n",
    "\n",
    "\n",
    "## Code example for the Bootstrap method\n",
    "\n",
    "The following code starts with a Gaussian distribution with mean value\n",
    "$\\mu =100$ and variance $\\sigma=15$. We use this to generate the data\n",
    "used in the bootstrap analysis. The bootstrap analysis returns a data\n",
    "set after a given number of bootstrap operations (as many as we have\n",
    "data points). This data set consists of estimated mean values for each\n",
    "bootstrap operation. The histogram generated by the bootstrap method\n",
    "shows that the distribution for these mean values is also a Gaussian,\n",
    "centered around the mean value $\\mu=100$ but with standard deviation\n",
    "$\\sigma/\\sqrt{n}$, where $n$ is the number of bootstrap samples (in\n",
    "this case the same as the number of original data points). The value\n",
    "of the standard deviation is what we expect from the central limit\n",
    "theorem."
   ]
  },
  {
   "cell_type": "code",
   "execution_count": 2,
   "metadata": {
    "collapsed": false
   },
   "outputs": [],
   "source": [
    "%matplotlib inline\n",
    "\n",
    "from numpy import *\n",
    "from numpy.random import randint, randn\n",
    "from time import time\n",
    "import matplotlib.mlab as mlab\n",
    "import matplotlib.pyplot as plt\n",
    "\n",
    "# Returns mean of bootstrap samples                                                                                                                                                \n",
    "def stat(data):\n",
    "    return mean(data)\n",
    "\n",
    "# Bootstrap algorithm\n",
    "def bootstrap(data, statistic, R):\n",
    "    t = zeros(R); n = len(data); inds = arange(n); t0 = time()\n",
    "    # non-parametric bootstrap         \n",
    "    for i in range(R):\n",
    "        t[i] = statistic(data[randint(0,n,n)])\n",
    "\n",
    "    # analysis    \n",
    "    print(\"Runtime: %g sec\" % (time()-t0)); print(\"Bootstrap Statistics :\")\n",
    "    print(\"original           bias      std. error\")\n",
    "    print(\"%8g %8g %14g %15g\" % (statistic(data), std(data),mean(t),std(t)))\n",
    "    return t\n",
    "\n",
    "\n",
    "mu, sigma = 100, 15\n",
    "datapoints = 10000\n",
    "x = mu + sigma*random.randn(datapoints)\n",
    "# bootstrap returns the data sample                                    \n",
    "t = bootstrap(x, stat, datapoints)\n",
    "# the histogram of the bootstrapped  data                                                                                                    \n",
    "n, binsboot, patches = plt.hist(t, 50, normed=1, facecolor='red', alpha=0.75)\n",
    "\n",
    "# add a 'best fit' line  \n",
    "y = mlab.normpdf( binsboot, mean(t), std(t))\n",
    "lt = plt.plot(binsboot, y, 'r--', linewidth=1)\n",
    "plt.xlabel('Smarts')\n",
    "plt.ylabel('Probability')\n",
    "plt.axis([99.5, 100.6, 0, 3.0])\n",
    "plt.grid(True)\n",
    "\n",
    "plt.show()"
   ]
  },
  {
   "cell_type": "markdown",
   "metadata": {},
   "source": [
    "<!-- !split  -->\n",
    "## Various steps in cross-validation\n",
    "\n",
    "When the repetitive splitting of the data set is done randomly,\n",
    "samples may accidently end up in a fast majority of the splits in\n",
    "either training or test set. Such samples may have an unbalanced\n",
    "influence on either model building or prediction evaluation. To avoid\n",
    "this $k$-fold cross-validation structures the data splitting. The\n",
    "samples are divided into $k$ more or less equally sized exhaustive and\n",
    "mutually exclusive subsets. In turn (at each split) one of these\n",
    "subsets plays the role of the test set while the union of the\n",
    "remaining subsets constitutes the training set. Such a splitting\n",
    "warrants a balanced representation of each sample in both training and\n",
    "test set over the splits. Still the division into the $k$ subsets\n",
    "involves a degree of randomness. This may be fully excluded when\n",
    "choosing $k=n$. This particular case is referred to as leave-one-out\n",
    "cross-validation (LOOCV). \n",
    "\n",
    "\n",
    "## Cross-validation in brief\n",
    "\n",
    "For the various values of $k$\n",
    "\n",
    "1. shuffle the dataset randomly.\n",
    "\n",
    "2. Split the dataset into $k$ groups.\n",
    "\n",
    "3. For each unique group:\n",
    "\n",
    "a. Decide which group to use as set for test data\n",
    "\n",
    "b. Take the remaining groups as a training data set\n",
    "\n",
    "c. Fit a model on the training set and evaluate it on the test set\n",
    "\n",
    "d. Retain the evaluation score and discard the model\n",
    "\n",
    "\n",
    "5. Summarize the model using the sample of model evaluation scores\n",
    "\n",
    "## Code Example for Cross-validation and $k$-fold Cross-validation\n",
    "\n",
    "The code here uses Ridge regression with cross-validation (CV)  resampling and $k$-fold CV in order to fit a specific polynomial."
   ]
  },
  {
   "cell_type": "code",
<<<<<<< HEAD
   "execution_count": 3,
   "metadata": {
    "collapsed": false
   },
   "outputs": [],
=======
   "execution_count": 5,
   "metadata": {},
   "outputs": [
    {
     "data": {
      "image/png": "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\n",
      "text/plain": [
       "<Figure size 432x288 with 1 Axes>"
      ]
     },
     "metadata": {
      "needs_background": "light"
     },
     "output_type": "display_data"
    }
   ],
>>>>>>> 2a6699212de47bf83bb9a8a90172d9e4474c812a
   "source": [
    "import numpy as np\n",
    "import matplotlib.pyplot as plt\n",
    "# splits data\n",
    "from sklearn.model_selection import KFold\n",
    "from sklearn.linear_model import Ridge\n",
    "# performs CV and outputs score\n",
    "from sklearn.model_selection import cross_val_score\n",
    "from sklearn.preprocessing import PolynomialFeatures\n",
    "\n",
    "# A seed just to ensure that the random numbers are the same for every run.\n",
    "# Useful for eventual debugging.\n",
    "np.random.seed(3155)\n",
    "\n",
    "# Generate the data.\n",
    "nsamples = 100\n",
    "x = np.random.randn(nsamples)\n",
    "y = 3*x**2 + np.random.randn(nsamples)\n",
    "\n",
    "## Cross-validation on Ridge regression using KFold only\n",
    "\n",
    "# Decide degree on polynomial to fit\n",
    "poly = PolynomialFeatures(degree = 10)\n",
    "\n",
    "# Decide which values of lambda to use\n",
    "nlambdas = 500\n",
    "lambdas = np.logspace(-7, 1, nlambdas)\n",
    "\n",
    "# Initialize a KFold instance\n",
    "k = 5\n",
    "kfold = KFold(n_splits = k)\n",
    "\n",
    "# Perform the cross-validation to estimate MSE\n",
    "scores_KFold = np.zeros((nlambdas, k))\n",
    "\n",
    "i = 0\n",
    "for lmb in lambdas:\n",
    "    ridge = Ridge(alpha = lmb)\n",
    "    j = 0\n",
    "    for train_inds, test_inds in kfold.split(x):\n",
    "        xtrain = x[train_inds]\n",
    "        ytrain = y[train_inds]\n",
    "\n",
    "        xtest = x[test_inds]\n",
    "        ytest = y[test_inds]\n",
    "\n",
    "        Xtrain = poly.fit_transform(xtrain[:, np.newaxis])\n",
    "        ridge.fit(Xtrain, ytrain[:, np.newaxis])\n",
    "\n",
    "        Xtest = poly.fit_transform(xtest[:, np.newaxis])\n",
    "        ypred = ridge.predict(Xtest)\n",
    "\n",
    "        scores_KFold[i,j] = np.sum((ypred - ytest[:, np.newaxis])**2)/np.size(ypred)\n",
    "\n",
    "        j += 1\n",
    "    i += 1\n",
    "\n",
    "\n",
    "estimated_mse_KFold = np.mean(scores_KFold, axis = 1)\n",
    "\n",
    "## Cross-validation using cross_val_score from sklearn along with KFold\n",
    "\n",
    "# kfold is an instance initialized above as:\n",
    "# kfold = KFold(n_splits = k)\n",
    "\n",
    "estimated_mse_sklearn = np.zeros(nlambdas)\n",
    "i = 0\n",
    "for lmb in lambdas:\n",
    "    ridge = Ridge(alpha = lmb)\n",
    "\n",
    "    X = poly.fit_transform(x[:, np.newaxis])\n",
    "    estimated_mse_folds = cross_val_score(ridge, X, y[:, np.newaxis], scoring='neg_mean_squared_error', cv=kfold)\n",
    "\n",
    "    # cross_val_score return an array containing the estimated negative mse for every fold.\n",
    "    # we have to the the mean of every array in order to get an estimate of the mse of the model\n",
    "    estimated_mse_sklearn[i] = np.mean(-estimated_mse_folds)\n",
    "\n",
    "    i += 1\n",
    "\n",
    "## Plot and compare the slightly different ways to perform cross-validation\n",
    "\n",
    "plt.figure()\n",
    "\n",
    "plt.plot(np.log10(lambdas), estimated_mse_sklearn, label = 'cross_val_score')\n",
    "plt.plot(np.log10(lambdas), estimated_mse_KFold, 'r--', label = 'KFold')\n",
    "\n",
    "plt.xlabel('log10(lambda)')\n",
    "plt.ylabel('mse')\n",
    "\n",
    "plt.legend()\n",
    "\n",
    "plt.show()"
   ]
  },
  {
   "cell_type": "markdown",
   "metadata": {},
   "source": [
    "## The bias-variance tradeoff\n",
    "\n",
    "\n",
    "We will discuss the bias-variance tradeoff in the context of\n",
    "continuous predictions such as regression. However, many of the\n",
    "intuitions and ideas discussed here also carry over to classification\n",
    "tasks. Consider a dataset $\\mathcal{L}$ consisting of the data\n",
    "$\\mathbf{X}_\\mathcal{L}=\\{(y_j, \\boldsymbol{x}_j), j=0\\ldots n-1\\}$. \n",
    "\n",
    "Let us assume that the true data is generated from a noisy model"
   ]
  },
  {
   "cell_type": "markdown",
   "metadata": {},
   "source": [
    "$$\n",
    "\\boldsymbol{y}=f(\\boldsymbol{x}) + \\boldsymbol{\\epsilon}\n",
    "$$"
   ]
  },
  {
   "cell_type": "markdown",
   "metadata": {},
   "source": [
    "where $\\epsilon$ is normally distributed with mean zero and standard deviation $\\sigma^2$.\n",
    "\n",
    "In our derivation of the ordinary least squares method we defined then\n",
    "an approximation to the function $f$ in terms of the parameters\n",
    "$\\boldsymbol{\\beta}$ and the design matrix $\\boldsymbol{X}$ which embody our model,\n",
    "that is $\\boldsymbol{\\tilde{y}}=\\boldsymbol{X}\\boldsymbol{\\beta}$. \n",
    "\n",
    "Thereafter we found the parameters $\\boldsymbol{\\beta}$ by optimizing the means squared error via the so-called cost function"
   ]
  },
  {
   "cell_type": "markdown",
   "metadata": {},
   "source": [
    "$$\n",
    "C(\\boldsymbol{X},\\boldsymbol{\\beta}) =\\frac{1}{n}\\sum_{i=0}^{n-1}(y_i-\\tilde{y}_i)^2=\\mathbb{E}\\left[(\\boldsymbol{y}-\\boldsymbol{\\tilde{y}})^2\\right].\n",
    "$$"
   ]
  },
  {
   "cell_type": "markdown",
   "metadata": {},
   "source": [
    "We can rewrite this as"
   ]
  },
  {
   "cell_type": "markdown",
   "metadata": {},
   "source": [
    "$$\n",
    "\\mathbb{E}\\left[(\\boldsymbol{y}-\\boldsymbol{\\tilde{y}})^2\\right]=\\frac{1}{n}\\sum_i(f_i-\\mathbb{E}\\left[\\boldsymbol{\\tilde{y}}\\right])^2+\\frac{1}{n}\\sum_i(\\tilde{y}_i-\\mathbb{E}\\left[\\boldsymbol{\\tilde{y}}\\right])^2+\\sigma^2.\n",
    "$$"
   ]
  },
  {
   "cell_type": "markdown",
   "metadata": {},
   "source": [
    "The three terms represent the square of the bias of the learning\n",
    "method, which can be thought of as the error caused by the simplifying\n",
    "assumptions built into the method. The second term represents the\n",
    "variance of the chosen model and finally the last terms is variance of\n",
    "the error $\\boldsymbol{\\epsilon}$.\n",
    "\n",
    "To derive this equation, we need to recall that the variance of $\\boldsymbol{y}$ and $\\boldsymbol{\\epsilon}$ are both equal to $\\sigma^2$. The mean value of $\\boldsymbol{\\epsilon}$ is by definition equal to zero. Furthermore, the function $f$ is not a stochastics variable, idem for $\\boldsymbol{\\tilde{y}}$.\n",
    "We use a more compact notation in terms of the expectation value"
   ]
  },
  {
   "cell_type": "markdown",
   "metadata": {},
   "source": [
    "$$\n",
    "\\mathbb{E}\\left[(\\boldsymbol{y}-\\boldsymbol{\\tilde{y}})^2\\right]=\\mathbb{E}\\left[(\\boldsymbol{f}+\\boldsymbol{\\epsilon}-\\boldsymbol{\\tilde{y}})^2\\right],\n",
    "$$"
   ]
  },
  {
   "cell_type": "markdown",
   "metadata": {},
   "source": [
    "and adding and subtracting $\\mathbb{E}\\left[\\boldsymbol{\\tilde{y}}\\right]$ we get"
   ]
  },
  {
   "cell_type": "markdown",
   "metadata": {},
   "source": [
    "$$\n",
    "\\mathbb{E}\\left[(\\boldsymbol{y}-\\boldsymbol{\\tilde{y}})^2\\right]=\\mathbb{E}\\left[(\\boldsymbol{f}+\\boldsymbol{\\epsilon}-\\boldsymbol{\\tilde{y}}+\\mathbb{E}\\left[\\boldsymbol{\\tilde{y}}\\right]-\\mathbb{E}\\left[\\boldsymbol{\\tilde{y}}\\right])^2\\right],\n",
    "$$"
   ]
  },
  {
   "cell_type": "markdown",
   "metadata": {},
   "source": [
    "which, using the abovementioned expectation values can be rewritten as"
   ]
  },
  {
   "cell_type": "markdown",
   "metadata": {},
   "source": [
    "$$\n",
    "\\mathbb{E}\\left[(\\boldsymbol{y}-\\boldsymbol{\\tilde{y}})^2\\right]=\\mathbb{E}\\left[(\\boldsymbol{y}-\\mathbb{E}\\left[\\boldsymbol{\\tilde{y}}\\right])^2\\right]+\\mathrm{Var}\\left[\\boldsymbol{\\tilde{y}}\\right]+\\sigma^2,\n",
    "$$"
   ]
  },
  {
   "cell_type": "markdown",
   "metadata": {},
   "source": [
    "that is the rewriting in terms of the so-called bias, the variance of the model $\\boldsymbol{\\tilde{y}}$ and the variance of $\\boldsymbol{\\epsilon}$.\n",
    "\n",
    "\n",
    "\n",
    "\n",
    "\n",
    "## Example code for Bias-Variance tradeoff"
   ]
  },
  {
   "cell_type": "code",
   "execution_count": 4,
   "metadata": {
    "collapsed": false
   },
   "outputs": [],
   "source": [
    "import matplotlib.pyplot as plt\n",
    "import numpy as np\n",
    "from sklearn.linear_model import LinearRegression, Ridge, Lasso\n",
    "from sklearn.preprocessing import PolynomialFeatures\n",
    "from sklearn.model_selection import train_test_split\n",
    "from sklearn.pipeline import make_pipeline\n",
    "from sklearn.utils import resample\n",
    "\n",
    "np.random.seed(2018)\n",
    "\n",
    "n = 500\n",
    "n_boostraps = 100\n",
    "degree = 18  # A quite high value, just to show.\n",
    "noise = 0.1\n",
    "\n",
    "# Make data set.\n",
    "x = np.linspace(-1, 3, n).reshape(-1, 1)\n",
    "y = np.exp(-x**2) + 1.5 * np.exp(-(x-2)**2) + np.random.normal(0, 0.1, x.shape)\n",
    "\n",
    "# Hold out some test data that is never used in training.\n",
    "x_train, x_test, y_train, y_test = train_test_split(x, y, test_size=0.2)\n",
    "\n",
    "# Combine x transformation and model into one operation.\n",
    "# Not neccesary, but convenient.\n",
    "model = make_pipeline(PolynomialFeatures(degree=degree), LinearRegression(fit_intercept=False))\n",
    "\n",
    "# The following (m x n_bootstraps) matrix holds the column vectors y_pred\n",
    "# for each bootstrap iteration.\n",
    "y_pred = np.empty((y_test.shape[0], n_boostraps))\n",
    "for i in range(n_boostraps):\n",
    "    x_, y_ = resample(x_train, y_train)\n",
    "\n",
    "    # Evaluate the new model on the same test data each time.\n",
    "    y_pred[:, i] = model.fit(x_, y_).predict(x_test).ravel()\n",
    "\n",
    "# Note: Expectations and variances taken w.r.t. different training\n",
    "# data sets, hence the axis=1. Subsequent means are taken across the test data\n",
    "# set in order to obtain a total value, but before this we have error/bias/variance\n",
    "# calculated per data point in the test set.\n",
    "# Note 2: The use of keepdims=True is important in the calculation of bias as this \n",
    "# maintains the column vector form. Dropping this yields very unexpected results.\n",
    "error = np.mean( np.mean((y_test - y_pred)**2, axis=1, keepdims=True) )\n",
    "bias = np.mean( (y_test - np.mean(y_pred, axis=1, keepdims=True))**2 )\n",
    "variance = np.mean( np.var(y_pred, axis=1, keepdims=True) )\n",
    "print('Error:', error)\n",
    "print('Bias^2:', bias)\n",
    "print('Var:', variance)\n",
    "print('{} >= {} + {} = {}'.format(error, bias, variance, bias+variance))\n",
    "\n",
    "plt.plot(x[::5, :], y[::5, :], label='f(x)')\n",
    "plt.scatter(x_test, y_test, label='Data points')\n",
    "plt.scatter(x_test, np.mean(y_pred, axis=1), label='Pred')\n",
    "plt.legend()\n",
    "plt.show()"
   ]
  },
  {
   "cell_type": "markdown",
   "metadata": {},
   "source": [
    "## Understanding what happens"
   ]
  },
  {
   "cell_type": "code",
   "execution_count": 5,
   "metadata": {
    "collapsed": false
   },
   "outputs": [],
   "source": [
    "import matplotlib.pyplot as plt\n",
    "import numpy as np\n",
    "from sklearn.linear_model import LinearRegression, Ridge, Lasso\n",
    "from sklearn.preprocessing import PolynomialFeatures\n",
    "from sklearn.model_selection import train_test_split\n",
    "from sklearn.pipeline import make_pipeline\n",
    "from sklearn.utils import resample\n",
    "\n",
    "np.random.seed(2018)\n",
    "\n",
    "n = 40\n",
    "n_boostraps = 100\n",
    "maxdegree = 14\n",
    "\n",
    "\n",
    "# Make data set.\n",
    "x = np.linspace(-3, 3, n).reshape(-1, 1)\n",
    "y = np.exp(-x**2) + 1.5 * np.exp(-(x-2)**2)+ np.random.normal(0, 0.1, x.shape)\n",
    "error = np.zeros(maxdegree)\n",
    "bias = np.zeros(maxdegree)\n",
    "variance = np.zeros(maxdegree)\n",
    "polydegree = np.zeros(maxdegree)\n",
    "x_train, x_test, y_train, y_test = train_test_split(x, y, test_size=0.2)\n",
    "\n",
    "for degree in range(maxdegree):\n",
    "    model = make_pipeline(PolynomialFeatures(degree=degree), LinearRegression(fit_intercept=False))\n",
    "    y_pred = np.empty((y_test.shape[0], n_boostraps))\n",
    "    for i in range(n_boostraps):\n",
    "        x_, y_ = resample(x_train, y_train)\n",
    "        y_pred[:, i] = model.fit(x_, y_).predict(x_test).ravel()\n",
    "\n",
    "    polydegree[degree] = degree\n",
    "    error[degree] = np.mean( np.mean((y_test - y_pred)**2, axis=1, keepdims=True) )\n",
    "    bias[degree] = np.mean( (y_test - np.mean(y_pred, axis=1, keepdims=True))**2 )\n",
    "    variance[degree] = np.mean( np.var(y_pred, axis=1, keepdims=True) )\n",
    "    print('Polynomial degree:', degree)\n",
    "    print('Error:', error[degree])\n",
    "    print('Bias^2:', bias[degree])\n",
    "    print('Var:', variance[degree])\n",
    "    print('{} >= {} + {} = {}'.format(error[degree], bias[degree], variance[degree], bias[degree]+variance[degree]))\n",
    "\n",
    "plt.plot(polydegree, error, label='Error')\n",
    "plt.plot(polydegree, bias, label='bias')\n",
    "plt.plot(polydegree, variance, label='Variance')\n",
    "plt.legend()\n",
    "plt.show()"
   ]
  },
  {
   "cell_type": "markdown",
   "metadata": {},
   "source": [
    "<!-- !split  -->\n",
    "## Summing up\n",
    "\n",
    "\n",
    "\n",
    "\n",
    "The bias-variance tradeoff summarizes the fundamental tension in\n",
    "machine learning, particularly supervised learning, between the\n",
    "complexity of a model and the amount of training data needed to train\n",
    "it.  Since data is often limited, in practice it is often useful to\n",
    "use a less-complex model with higher bias, that is  a model whose asymptotic\n",
    "performance is worse than another model because it is easier to\n",
    "train and less sensitive to sampling noise arising from having a\n",
    "finite-sized training dataset (smaller variance). \n",
    "\n",
    "\n",
    "\n",
    "The above equations tell us that in\n",
    "order to minimize the expected test error, we need to select a\n",
    "statistical learning method that simultaneously achieves low variance\n",
    "and low bias. Note that variance is inherently a nonnegative quantity,\n",
    "and squared bias is also nonnegative. Hence, we see that the expected\n",
    "test MSE can never lie below $Var(\\epsilon)$, the irreducible error.\n",
    "\n",
    "\n",
    "What do we mean by the variance and bias of a statistical learning\n",
    "method? The variance refers to the amount by which our model would change if we\n",
    "estimated it using a different training data set. Since the training\n",
    "data are used to fit the statistical learning method, different\n",
    "training data sets  will result in a different estimate. But ideally the\n",
    "estimate for our model should not vary too much between training\n",
    "sets. However, if a method has high variance  then small changes in\n",
    "the training data can result in large changes in the model. In general, more\n",
    "flexible statistical methods have higher variance.\n",
    "\n",
    "\n",
    "You may also find this recent [article](https://www.pnas.org/content/116/32/15849) of interest.\n",
    "\n",
    "## Another Example from Scikit-Learn's Repository"
   ]
  },
  {
   "cell_type": "code",
<<<<<<< HEAD
   "execution_count": 6,
   "metadata": {
    "collapsed": false
   },
   "outputs": [],
=======
   "execution_count": 8,
   "metadata": {},
   "outputs": [
    {
     "name": "stdout",
     "output_type": "stream",
     "text": [
      "\n",
      "============================\n",
      "Underfitting vs. Overfitting\n",
      "============================\n",
      "\n",
      "This example demonstrates the problems of underfitting and overfitting and\n",
      "how we can use linear regression with polynomial features to approximate\n",
      "nonlinear functions. The plot shows the function that we want to approximate,\n",
      "which is a part of the cosine function. In addition, the samples from the\n",
      "real function and the approximations of different models are displayed. The\n",
      "models have polynomial features of different degrees. We can see that a\n",
      "linear function (polynomial with degree 1) is not sufficient to fit the\n",
      "training samples. This is called **underfitting**. A polynomial of degree 4\n",
      "approximates the true function almost perfectly. However, for higher degrees\n",
      "the model will **overfit** the training data, i.e. it learns the noise of the\n",
      "training data.\n",
      "We evaluate quantitatively **overfitting** / **underfitting** by using\n",
      "cross-validation. We calculate the mean squared error (MSE) on the validation\n",
      "set, the higher, the less likely the model generalizes correctly from the\n",
      "training data.\n",
      "\n"
     ]
    },
    {
     "data": {
      "image/png": "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\n",
      "text/plain": [
       "<Figure size 1008x360 with 3 Axes>"
      ]
     },
     "metadata": {},
     "output_type": "display_data"
    }
   ],
>>>>>>> 2a6699212de47bf83bb9a8a90172d9e4474c812a
   "source": [
    "\"\"\"\n",
    "============================\n",
    "Underfitting vs. Overfitting\n",
    "============================\n",
    "\n",
    "This example demonstrates the problems of underfitting and overfitting and\n",
    "how we can use linear regression with polynomial features to approximate\n",
    "nonlinear functions. The plot shows the function that we want to approximate,\n",
    "which is a part of the cosine function. In addition, the samples from the\n",
    "real function and the approximations of different models are displayed. The\n",
    "models have polynomial features of different degrees. We can see that a\n",
    "linear function (polynomial with degree 1) is not sufficient to fit the\n",
    "training samples. This is called **underfitting**. A polynomial of degree 4\n",
    "approximates the true function almost perfectly. However, for higher degrees\n",
    "the model will **overfit** the training data, i.e. it learns the noise of the\n",
    "training data.\n",
    "We evaluate quantitatively **overfitting** / **underfitting** by using\n",
    "cross-validation. We calculate the mean squared error (MSE) on the validation\n",
    "set, the higher, the less likely the model generalizes correctly from the\n",
    "training data.\n",
    "\"\"\"\n",
    "\n",
    "print(__doc__)\n",
    "\n",
    "import numpy as np\n",
    "import matplotlib.pyplot as plt\n",
    "from sklearn.pipeline import Pipeline\n",
    "from sklearn.preprocessing import PolynomialFeatures\n",
    "from sklearn.linear_model import LinearRegression\n",
    "from sklearn.model_selection import cross_val_score\n",
    "\n",
    "\n",
    "def true_fun(X):\n",
    "    return np.cos(1.5 * np.pi * X)\n",
    "\n",
    "np.random.seed(0)\n",
    "\n",
    "n_samples = 30\n",
    "degrees = [1, 4, 15]\n",
    "\n",
    "X = np.sort(np.random.rand(n_samples))\n",
    "y = true_fun(X)+ np.random.randn(n_samples) * 0.1\n",
    "\n",
    "plt.figure(figsize=(14, 5))\n",
    "for i in range(len(degrees)):\n",
    "    ax = plt.subplot(1, len(degrees), i + 1)\n",
    "    plt.setp(ax, xticks=(), yticks=())\n",
    "\n",
    "    polynomial_features = PolynomialFeatures(degree=degrees[i],\n",
    "                                             include_bias=False)\n",
    "    linear_regression = LinearRegression()\n",
    "    pipeline = Pipeline([(\"polynomial_features\", polynomial_features),\n",
    "                         (\"linear_regression\", linear_regression)])\n",
    "    pipeline.fit(X[:, np.newaxis], y)\n",
    "\n",
    "    # Evaluate the models using crossvalidation\n",
    "    scores = cross_val_score(pipeline, X[:, np.newaxis], y,\n",
    "                             scoring=\"neg_mean_squared_error\", cv=10)\n",
    "\n",
    "    X_test = np.linspace(0, 1, 100)\n",
    "    plt.plot(X_test, pipeline.predict(X_test[:, np.newaxis]), label=\"Model\")\n",
    "    plt.plot(X_test, true_fun(X_test), label=\"True function\")\n",
    "    plt.scatter(X, y, edgecolor='b', s=20, label=\"Samples\")\n",
    "    plt.xlabel(\"x\")\n",
    "    plt.ylabel(\"y\")\n",
    "    plt.xlim((0, 1))\n",
    "    plt.ylim((-2, 2))\n",
    "    plt.legend(loc=\"best\")\n",
    "    plt.title(\"Degree {}\\nMSE = {:.2e}(+/- {:.2e})\".format(\n",
    "        degrees[i], -scores.mean(), scores.std()))\n",
    "plt.show()"
   ]
  },
  {
   "cell_type": "markdown",
   "metadata": {},
   "source": [
    "## More examples on bootstrap and cross-validation and errors"
   ]
  },
  {
   "cell_type": "code",
<<<<<<< HEAD
   "execution_count": 7,
   "metadata": {
    "collapsed": false
   },
   "outputs": [],
=======
   "execution_count": 9,
   "metadata": {},
   "outputs": [
    {
     "name": "stdout",
     "output_type": "stream",
     "text": [
      "Degree of polynomial:   1\n",
      "Mean squared error on training data: 439230.69504801\n",
      "Mean squared error on test data: 481979.17861098\n",
      "Degree of polynomial:   2\n",
      "Mean squared error on training data: 115822.95008046\n",
      "Mean squared error on test data: 123711.53703498\n",
      "Degree of polynomial:   3\n",
      "Mean squared error on training data: 9011.85263220\n",
      "Mean squared error on test data: 10913.84780262\n",
      "Degree of polynomial:   4\n",
      "Mean squared error on training data: 303.47610036\n",
      "Mean squared error on test data: 426.30787294\n",
      "Degree of polynomial:   5\n",
      "Mean squared error on training data: 3.80354994\n",
      "Mean squared error on test data: 5.98822371\n",
      "Degree of polynomial:   6\n",
      "Mean squared error on training data: 3.66204648\n",
      "Mean squared error on test data: 8.14812206\n",
      "Degree of polynomial:   7\n",
      "Mean squared error on training data: 0.47075725\n",
      "Mean squared error on test data: 2.00607783\n",
      "Degree of polynomial:   8\n",
      "Mean squared error on training data: 0.04912436\n",
      "Mean squared error on test data: 0.21596432\n",
      "Degree of polynomial:   9\n",
      "Mean squared error on training data: 0.02522069\n",
      "Mean squared error on test data: 0.08576932\n",
      "Degree of polynomial:  10\n",
      "Mean squared error on training data: 0.02511518\n",
      "Mean squared error on test data: 1.20015436\n",
      "Degree of polynomial:  11\n",
      "Mean squared error on training data: 0.01640891\n",
      "Mean squared error on test data: 1.35533774\n",
      "Degree of polynomial:  12\n",
      "Mean squared error on training data: 0.00813803\n",
      "Mean squared error on test data: 0.17446471\n",
      "Degree of polynomial:  13\n",
      "Mean squared error on training data: 0.00759119\n",
      "Mean squared error on test data: 1.08131003\n",
      "Degree of polynomial:  14\n",
      "Mean squared error on training data: 0.00472199\n",
      "Mean squared error on test data: 0.81333793\n",
      "Degree of polynomial:  15\n",
      "Mean squared error on training data: 0.00410478\n",
      "Mean squared error on test data: 92.09134487\n",
      "Degree of polynomial:  16\n",
      "Mean squared error on training data: 0.00315593\n",
      "Mean squared error on test data: 234.39702576\n",
      "Degree of polynomial:  17\n",
      "Mean squared error on training data: 0.00242999\n",
      "Mean squared error on test data: 1271.30089246\n",
      "Degree of polynomial:  18\n",
      "Mean squared error on training data: 0.00228740\n",
      "Mean squared error on test data: 108.19447480\n",
      "Degree of polynomial:  19\n",
      "Mean squared error on training data: 0.00156372\n",
      "Mean squared error on test data: 1370.87688189\n",
      "Degree of polynomial:  20\n",
      "Mean squared error on training data: 0.00137855\n",
      "Mean squared error on test data: 1784.55302510\n",
      "Degree of polynomial:  21\n",
      "Mean squared error on training data: 0.00118381\n",
      "Mean squared error on test data: 14800.44463527\n",
      "Degree of polynomial:  22\n",
      "Mean squared error on training data: 0.00092320\n",
      "Mean squared error on test data: 896.16917927\n",
      "Degree of polynomial:  23\n",
      "Mean squared error on training data: 0.00085874\n",
      "Mean squared error on test data: 5584.29514389\n",
      "Degree of polynomial:  24\n",
      "Mean squared error on training data: 0.00084496\n",
      "Mean squared error on test data: 1716.95826358\n",
      "Degree of polynomial:  25\n",
      "Mean squared error on training data: 0.00078972\n",
      "Mean squared error on test data: 136257.67539741\n",
      "Degree of polynomial:  26\n",
      "Mean squared error on training data: 0.00076901\n",
      "Mean squared error on test data: 17665.08198148\n",
      "Degree of polynomial:  27\n",
      "Mean squared error on training data: 0.00069043\n",
      "Mean squared error on test data: 2830.69268903\n",
      "Degree of polynomial:  28\n",
      "Mean squared error on training data: 0.00062409\n",
      "Mean squared error on test data: 3966.37658912\n",
      "Degree of polynomial:  29\n",
      "Mean squared error on training data: 0.00060591\n",
      "Mean squared error on test data: 2917.01074262\n"
     ]
    },
    {
     "name": "stderr",
     "output_type": "stream",
     "text": [
      "/Users/MortenImac/anaconda3/lib/python3.6/site-packages/ipykernel_launcher.py:73: RuntimeWarning: divide by zero encountered in log10\n",
      "/Users/MortenImac/anaconda3/lib/python3.6/site-packages/ipykernel_launcher.py:74: RuntimeWarning: divide by zero encountered in log10\n"
     ]
    },
    {
     "data": {
      "image/png": "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\n",
      "text/plain": [
       "<Figure size 432x288 with 1 Axes>"
      ]
     },
     "metadata": {
      "needs_background": "light"
     },
     "output_type": "display_data"
    }
   ],
>>>>>>> 2a6699212de47bf83bb9a8a90172d9e4474c812a
   "source": [
    "# Common imports\n",
    "import os\n",
    "import numpy as np\n",
    "import pandas as pd\n",
    "import matplotlib.pyplot as plt\n",
    "from sklearn.linear_model import LinearRegression, Ridge, Lasso\n",
    "from sklearn.model_selection import train_test_split\n",
    "from sklearn.utils import resample\n",
    "from sklearn.metrics import mean_squared_error\n",
    "# Where to save the figures and data files\n",
    "PROJECT_ROOT_DIR = \"Results\"\n",
    "FIGURE_ID = \"Results/FigureFiles\"\n",
    "DATA_ID = \"DataFiles/\"\n",
    "\n",
    "if not os.path.exists(PROJECT_ROOT_DIR):\n",
    "    os.mkdir(PROJECT_ROOT_DIR)\n",
    "\n",
    "if not os.path.exists(FIGURE_ID):\n",
    "    os.makedirs(FIGURE_ID)\n",
    "\n",
    "if not os.path.exists(DATA_ID):\n",
    "    os.makedirs(DATA_ID)\n",
    "\n",
    "def image_path(fig_id):\n",
    "    return os.path.join(FIGURE_ID, fig_id)\n",
    "\n",
    "def data_path(dat_id):\n",
    "    return os.path.join(DATA_ID, dat_id)\n",
    "\n",
    "def save_fig(fig_id):\n",
    "    plt.savefig(image_path(fig_id) + \".png\", format='png')\n",
    "\n",
    "infile = open(data_path(\"EoS.csv\"),'r')\n",
    "\n",
    "# Read the EoS data as  csv file and organize the data into two arrays with density and energies\n",
    "EoS = pd.read_csv(infile, names=('Density', 'Energy'))\n",
    "EoS['Energy'] = pd.to_numeric(EoS['Energy'], errors='coerce')\n",
    "EoS = EoS.dropna()\n",
    "Energies = EoS['Energy']\n",
    "Density = EoS['Density']\n",
    "#  The design matrix now as function of various polytrops\n",
    "\n",
    "Maxpolydegree = 30\n",
    "X = np.zeros((len(Density),Maxpolydegree))\n",
    "X[:,0] = 1.0\n",
    "testerror = np.zeros(Maxpolydegree)\n",
    "trainingerror = np.zeros(Maxpolydegree)\n",
    "polynomial = np.zeros(Maxpolydegree)\n",
    "\n",
    "trials = 100\n",
    "for polydegree in range(1, Maxpolydegree):\n",
    "    polynomial[polydegree] = polydegree\n",
    "    for degree in range(polydegree):\n",
    "        X[:,degree] = Density**(degree/3.0)\n",
    "\n",
    "# loop over trials in order to estimate the expectation value of the MSE\n",
    "    testerror[polydegree] = 0.0\n",
    "    trainingerror[polydegree] = 0.0\n",
    "    for samples in range(trials):\n",
    "        x_train, x_test, y_train, y_test = train_test_split(X, Energies, test_size=0.2)\n",
    "        model = LinearRegression(fit_intercept=True).fit(x_train, y_train)\n",
    "        ypred = model.predict(x_train)\n",
    "        ytilde = model.predict(x_test)\n",
    "        testerror[polydegree] += mean_squared_error(y_test, ytilde)\n",
    "        trainingerror[polydegree] += mean_squared_error(y_train, ypred) \n",
    "\n",
    "    testerror[polydegree] /= trials\n",
    "    trainingerror[polydegree] /= trials\n",
    "    print(\"Degree of polynomial: %3d\"% polynomial[polydegree])\n",
    "    print(\"Mean squared error on training data: %.8f\" % trainingerror[polydegree])\n",
    "    print(\"Mean squared error on test data: %.8f\" % testerror[polydegree])\n",
    "\n",
    "plt.plot(polynomial, np.log10(trainingerror), label='Training Error')\n",
    "plt.plot(polynomial, np.log10(testerror), label='Test Error')\n",
    "plt.xlabel('Polynomial degree')\n",
    "plt.ylabel('log10[MSE]')\n",
    "plt.legend()\n",
    "plt.show()"
   ]
  },
  {
   "cell_type": "markdown",
   "metadata": {},
   "source": [
    "<!-- !split  -->\n",
    "## The same example but now with cross-validation"
   ]
  },
  {
   "cell_type": "code",
   "execution_count": 8,
   "metadata": {
    "collapsed": false
   },
   "outputs": [],
   "source": [
    "# Common imports\n",
    "import os\n",
    "import numpy as np\n",
    "import pandas as pd\n",
    "import matplotlib.pyplot as plt\n",
    "from sklearn.linear_model import LinearRegression, Ridge, Lasso\n",
    "from sklearn.metrics import mean_squared_error\n",
    "from sklearn.model_selection import KFold\n",
    "from sklearn.model_selection import cross_val_score\n",
    "\n",
    "\n",
    "# Where to save the figures and data files\n",
    "PROJECT_ROOT_DIR = \"Results\"\n",
    "FIGURE_ID = \"Results/FigureFiles\"\n",
    "DATA_ID = \"DataFiles/\"\n",
    "\n",
    "if not os.path.exists(PROJECT_ROOT_DIR):\n",
    "    os.mkdir(PROJECT_ROOT_DIR)\n",
    "\n",
    "if not os.path.exists(FIGURE_ID):\n",
    "    os.makedirs(FIGURE_ID)\n",
    "\n",
    "if not os.path.exists(DATA_ID):\n",
    "    os.makedirs(DATA_ID)\n",
    "\n",
    "def image_path(fig_id):\n",
    "    return os.path.join(FIGURE_ID, fig_id)\n",
    "\n",
    "def data_path(dat_id):\n",
    "    return os.path.join(DATA_ID, dat_id)\n",
    "\n",
    "def save_fig(fig_id):\n",
    "    plt.savefig(image_path(fig_id) + \".png\", format='png')\n",
    "\n",
    "infile = open(data_path(\"EoS.csv\"),'r')\n",
    "\n",
    "# Read the EoS data as  csv file and organize the data into two arrays with density and energies\n",
    "EoS = pd.read_csv(infile, names=('Density', 'Energy'))\n",
    "EoS['Energy'] = pd.to_numeric(EoS['Energy'], errors='coerce')\n",
    "EoS = EoS.dropna()\n",
    "Energies = EoS['Energy']\n",
    "Density = EoS['Density']\n",
    "#  The design matrix now as function of various polytrops\n",
    "\n",
    "Maxpolydegree = 30\n",
    "X = np.zeros((len(Density),Maxpolydegree))\n",
    "X[:,0] = 1.0\n",
    "estimated_mse_sklearn = np.zeros(Maxpolydegree)\n",
    "polynomial = np.zeros(Maxpolydegree)\n",
    "k =5\n",
    "kfold = KFold(n_splits = k)\n",
    "\n",
    "for polydegree in range(1, Maxpolydegree):\n",
    "    polynomial[polydegree] = polydegree\n",
    "    for degree in range(polydegree):\n",
    "        X[:,degree] = Density**(degree/3.0)\n",
    "        OLS = LinearRegression()\n",
    "# loop over trials in order to estimate the expectation value of the MSE\n",
    "    estimated_mse_folds = cross_val_score(OLS, X, Energies, scoring='neg_mean_squared_error', cv=kfold)\n",
    "#[:, np.newaxis]\n",
    "    estimated_mse_sklearn[polydegree] = np.mean(-estimated_mse_folds)\n",
    "\n",
    "plt.plot(polynomial, np.log10(estimated_mse_sklearn), label='Test Error')\n",
    "plt.xlabel('Polynomial degree')\n",
    "plt.ylabel('log10[MSE]')\n",
    "plt.legend()\n",
    "plt.show()"
   ]
  },
  {
   "cell_type": "markdown",
   "metadata": {},
   "source": [
    "## Cross-validation with Ridge"
   ]
  },
  {
   "cell_type": "code",
   "execution_count": 9,
   "metadata": {
    "collapsed": false
   },
   "outputs": [],
   "source": [
    "import numpy as np\n",
    "import matplotlib.pyplot as plt\n",
    "from sklearn.model_selection import KFold\n",
    "from sklearn.linear_model import Ridge\n",
    "from sklearn.model_selection import cross_val_score\n",
    "from sklearn.preprocessing import PolynomialFeatures\n",
    "\n",
    "# A seed just to ensure that the random numbers are the same for every run.\n",
    "np.random.seed(3155)\n",
    "# Generate the data.\n",
    "n = 100\n",
    "x = np.linspace(-3, 3, n).reshape(-1, 1)\n",
    "y = np.exp(-x**2) + 1.5 * np.exp(-(x-2)**2)+ np.random.normal(0, 0.1, x.shape)\n",
    "# Decide degree on polynomial to fit\n",
    "poly = PolynomialFeatures(degree = 10)\n",
    "\n",
    "# Decide which values of lambda to use\n",
    "nlambdas = 500\n",
    "lambdas = np.logspace(-3, 5, nlambdas)\n",
    "# Initialize a KFold instance\n",
    "k = 5\n",
    "kfold = KFold(n_splits = k)\n",
    "estimated_mse_sklearn = np.zeros(nlambdas)\n",
    "i = 0\n",
    "for lmb in lambdas:\n",
    "    ridge = Ridge(alpha = lmb)\n",
    "    estimated_mse_folds = cross_val_score(ridge, x, y, scoring='neg_mean_squared_error', cv=kfold)\n",
    "    estimated_mse_sklearn[i] = np.mean(-estimated_mse_folds)\n",
    "    i += 1\n",
    "plt.figure()\n",
    "plt.plot(np.log10(lambdas), estimated_mse_sklearn, label = 'cross_val_score')\n",
    "plt.xlabel('log10(lambda)')\n",
    "plt.ylabel('MSE')\n",
    "plt.legend()\n",
    "plt.show()"
   ]
  },
  {
   "cell_type": "markdown",
   "metadata": {},
   "source": [
    "## Ridge and LASSO Regression\n",
    "\n",
    "Let us remind ourselves about the expression for the standard Mean Squared Error (MSE) which we used to define our cost function and the equations for the ordinary least squares (OLS) method, that is \n",
    "our optimization problem is"
   ]
  },
  {
   "cell_type": "markdown",
   "metadata": {},
   "source": [
    "$$\n",
    "{\\displaystyle \\min_{\\boldsymbol{\\beta}\\in {\\mathbb{R}}^{p}}}\\frac{1}{n}\\left\\{\\left(\\boldsymbol{y}-\\boldsymbol{X}\\boldsymbol{\\beta}\\right)^T\\left(\\boldsymbol{y}-\\boldsymbol{X}\\boldsymbol{\\beta}\\right)\\right\\}.\n",
    "$$"
   ]
  },
  {
   "cell_type": "markdown",
   "metadata": {},
   "source": [
    "or we can state it as"
   ]
  },
  {
   "cell_type": "markdown",
   "metadata": {},
   "source": [
    "$$\n",
    "{\\displaystyle \\min_{\\boldsymbol{\\beta}\\in\n",
    "{\\mathbb{R}}^{p}}}\\frac{1}{n}\\sum_{i=0}^{n-1}\\left(y_i-\\tilde{y}_i\\right)^2=\\frac{1}{n}\\vert\\vert \\boldsymbol{y}-\\boldsymbol{X}\\boldsymbol{\\beta}\\vert\\vert_2^2,\n",
    "$$"
   ]
  },
  {
   "cell_type": "markdown",
   "metadata": {},
   "source": [
    "where we have used the definition of  a norm-2 vector, that is"
   ]
  },
  {
   "cell_type": "markdown",
   "metadata": {},
   "source": [
    "$$\n",
    "\\vert\\vert \\boldsymbol{x}\\vert\\vert_2 = \\sqrt{\\sum_i x_i^2}.\n",
    "$$"
   ]
  },
  {
   "cell_type": "markdown",
   "metadata": {},
   "source": [
    "By minimizing the above equation with respect to the parameters\n",
    "$\\boldsymbol{\\beta}$ we could then obtain an analytical expression for the\n",
    "parameters $\\boldsymbol{\\beta}$.  We can add a regularization parameter $\\lambda$ by\n",
    "defining a new cost function to be optimized, that is"
   ]
  },
  {
   "cell_type": "markdown",
   "metadata": {},
   "source": [
    "$$\n",
    "{\\displaystyle \\min_{\\boldsymbol{\\beta}\\in\n",
    "{\\mathbb{R}}^{p}}}\\frac{1}{n}\\vert\\vert \\boldsymbol{y}-\\boldsymbol{X}\\boldsymbol{\\beta}\\vert\\vert_2^2+\\lambda\\vert\\vert \\boldsymbol{\\beta}\\vert\\vert_2^2\n",
    "$$"
   ]
  },
  {
   "cell_type": "markdown",
   "metadata": {},
   "source": [
    "which leads to the Ridge regression minimization problem where we\n",
    "require that $\\vert\\vert \\boldsymbol{\\beta}\\vert\\vert_2^2\\le t$, where $t$ is\n",
    "a finite number larger than zero. By defining"
   ]
  },
  {
   "cell_type": "markdown",
   "metadata": {},
   "source": [
    "$$\n",
    "C(\\boldsymbol{X},\\boldsymbol{\\beta})=\\frac{1}{n}\\vert\\vert \\boldsymbol{y}-\\boldsymbol{X}\\boldsymbol{\\beta}\\vert\\vert_2^2+\\lambda\\vert\\vert \\boldsymbol{\\beta}\\vert\\vert_1,\n",
    "$$"
   ]
  },
  {
   "cell_type": "markdown",
   "metadata": {},
   "source": [
    "we have a new optimization equation"
   ]
  },
  {
   "cell_type": "markdown",
   "metadata": {},
   "source": [
    "$$\n",
    "{\\displaystyle \\min_{\\boldsymbol{\\beta}\\in\n",
    "{\\mathbb{R}}^{p}}}\\frac{1}{n}\\vert\\vert \\boldsymbol{y}-\\boldsymbol{X}\\boldsymbol{\\beta}\\vert\\vert_2^2+\\lambda\\vert\\vert \\boldsymbol{\\beta}\\vert\\vert_1\n",
    "$$"
   ]
  },
  {
   "cell_type": "markdown",
   "metadata": {},
   "source": [
    "which leads to Lasso regression. Lasso stands for least absolute shrinkage and selection operator. \n",
    "\n",
    "Here we have defined the norm-1 as"
   ]
  },
  {
   "cell_type": "markdown",
   "metadata": {},
   "source": [
    "$$\n",
    "\\vert\\vert \\boldsymbol{x}\\vert\\vert_1 = \\sum_i \\vert x_i\\vert.\n",
    "$$"
   ]
  },
  {
   "cell_type": "markdown",
   "metadata": {},
   "source": [
    "## More on Ridge Regression\n",
    "\n",
    "Using the matrix-vector expression for Ridge regression,"
   ]
  },
  {
   "cell_type": "markdown",
   "metadata": {},
   "source": [
    "$$\n",
    "C(\\boldsymbol{X},\\boldsymbol{\\beta})=\\frac{1}{n}\\left\\{(\\boldsymbol{y}-\\boldsymbol{X}\\boldsymbol{\\beta})^T(\\boldsymbol{y}-\\boldsymbol{X}\\boldsymbol{\\beta})\\right\\}+\\lambda\\boldsymbol{\\beta}^T\\boldsymbol{\\beta},\n",
    "$$"
   ]
  },
  {
   "cell_type": "markdown",
   "metadata": {},
   "source": [
    "by taking the derivatives with respect to $\\boldsymbol{\\beta}$ we obtain then\n",
    "a slightly modified matrix inversion problem which for finite values\n",
    "of $\\lambda$ does not suffer from singularity problems. We obtain"
   ]
  },
  {
   "cell_type": "markdown",
   "metadata": {},
   "source": [
    "$$\n",
    "\\boldsymbol{\\beta}^{\\mathrm{Ridge}} = \\left(\\boldsymbol{X}^T\\boldsymbol{X}+\\lambda\\boldsymbol{I}\\right)^{-1}\\boldsymbol{X}^T\\boldsymbol{y},\n",
    "$$"
   ]
  },
  {
   "cell_type": "markdown",
   "metadata": {},
   "source": [
    "with $\\boldsymbol{I}$ being a $p\\times p$ identity matrix with the constraint that"
   ]
  },
  {
   "cell_type": "markdown",
   "metadata": {},
   "source": [
    "$$\n",
    "\\sum_{i=0}^{p-1} \\beta_i^2 \\leq t,\n",
    "$$"
   ]
  },
  {
   "cell_type": "markdown",
   "metadata": {},
   "source": [
    "with $t$ a finite positive number. \n",
    "\n",
    "\n",
    "\n",
    "<!-- !split  -->\n",
    "## A better understanding of regularization\n",
    "\n",
    "The parameter $\\lambda$ that we have introduced in the Ridge (and\n",
    "Lasso as well) regression is often called a regularization parameter\n",
    "or shrinkage parameter. It is common to call it a hyperparameter. What does it mean mathemtically?\n",
    "\n",
    "Here we will first look at how to analyze the difference between the\n",
    "standard OLS equations and the Ridge expressions in terms of a linear\n",
    "algebra analysis using the SVD algorithm. Thereafter, we will link\n",
    "(see the material on the bias-variance tradeoff below) these\n",
    "observation to the statisical analysis of the results. In particular\n",
    "we consider how the variance of the parameters $\\boldsymbol{\\beta}$ is\n",
    "affected by changing the parameter $\\lambda$.\n",
    "\n",
    "## Decomposing the OLS and Ridge expressions\n",
    "\n",
    "We have our design matrix\n",
    " $\\boldsymbol{X}\\in {\\mathbb{R}}^{n\\times p}$. With the SVD we decompose it as"
   ]
  },
  {
   "cell_type": "markdown",
   "metadata": {},
   "source": [
    "$$\n",
    "\\boldsymbol{X} = \\boldsymbol{U\\Sigma V^T},\n",
    "$$"
   ]
  },
  {
   "cell_type": "markdown",
   "metadata": {},
   "source": [
    "with $\\boldsymbol{U}\\in {\\mathbb{R}}^{n\\times n}$, $\\boldsymbol{\\Sigma}\\in {\\mathbb{R}}^{n\\times p}$\n",
    "and $\\boldsymbol{V}\\in {\\mathbb{R}}^{p\\times p}$.\n",
    "\n",
    "The matrices $\\boldsymbol{U}$ and $\\boldsymbol{V}$ are unitary/orthonormal matrices, that is in case the matrices are real we have $\\boldsymbol{U}^T\\boldsymbol{U}=\\boldsymbol{U}\\boldsymbol{U}^T=\\boldsymbol{I}$ and $\\boldsymbol{V}^T\\boldsymbol{V}=\\boldsymbol{V}\\boldsymbol{V}^T=\\boldsymbol{I}$.\n",
    "\n",
    "Below we discuss some of the mathematics of the SVD decompostion.\n",
    "\n",
    "## The singular value decomposition\n",
    "\n",
    "\n",
    "The examples we have looked at so far are cases where we normally can\n",
    "invert the matrix $\\boldsymbol{X}^T\\boldsymbol{X}$. Using a polynomial expansion as we\n",
    "did both for the masses and the fitting of the equation of state,\n",
    "leads to row vectors of the design matrix which are essentially\n",
    "orthogonal due to the polynomial character of our model. Obtaining the inverse of the design matrix is then often done via a so-called LU, QR or Cholesky decomposition. \n",
    "\n",
    "\n",
    "\n",
    "This may\n",
    "however not the be case in general and a standard matrix inversion\n",
    "algorithm based on say LU, QR or Cholesky decomposition may lead to singularities. We will see examples of this below.\n",
    "\n",
    "There is however a way to partially circumvent this problem and also gain some insights about the ordinary least squares approach, and later shrinkage methods like Ridge and Lasso regressions. \n",
    "\n",
    "This is given by the **Singular Value Decomposition** algorithm, perhaps\n",
    "the most powerful linear algebra algorithm.  Let us look at a\n",
    "different example where we may have problems with the standard matrix\n",
    "inversion algorithm. Thereafter we dive into the math of the SVD.\n",
    "\n",
    "\n",
    "\n",
    "\n",
    "\n",
    "## Linear Regression Problems\n",
    "\n",
    "One of the typical problems we encounter with linear regression, in particular \n",
    "when the matrix $\\boldsymbol{X}$ (our so-called design matrix) is high-dimensional, \n",
    "are problems with near singular or singular matrices. The column vectors of $\\boldsymbol{X}$ \n",
    "may be linearly dependent, normally referred to as super-collinearity.  \n",
    "This means that the matrix may be rank deficient and it is basically impossible to \n",
    "to model the data using linear regression. As an example, consider the matrix"
   ]
  },
  {
   "cell_type": "markdown",
   "metadata": {},
   "source": [
    "$$\n",
    "\\begin{align*}\n",
    "\\mathbf{X} & =  \\left[\n",
    "\\begin{array}{rrr}\n",
    "1 & -1 & 2\n",
    "\\\\\n",
    "1 & 0 & 1\n",
    "\\\\\n",
    "1 & 2  & -1\n",
    "\\\\\n",
    "1 & 1  & 0\n",
    "\\end{array} \\right]\n",
    "\\end{align*}\n",
    "$$"
   ]
  },
  {
   "cell_type": "markdown",
   "metadata": {},
   "source": [
    "The columns of $\\boldsymbol{X}$ are linearly dependent. We see this easily since the \n",
    "the first column is the row-wise sum of the other two columns. The rank (more correct,\n",
    "the column rank) of a matrix is the dimension of the space spanned by the\n",
    "column vectors. Hence, the rank of $\\mathbf{X}$ is equal to the number\n",
    "of linearly independent columns. In this particular case the matrix has rank 2.\n",
    "\n",
    "Super-collinearity of an $(n \\times p)$-dimensional design matrix $\\mathbf{X}$ implies\n",
    "that the inverse of the matrix $\\boldsymbol{X}^T\\boldsymbol{X}$ (the matrix we need to invert to solve the linear regression equations) is non-invertible. If we have a square matrix that does not have an inverse, we say this matrix singular. The example here demonstrates this"
   ]
  },
  {
   "cell_type": "markdown",
   "metadata": {},
   "source": [
    "$$\n",
    "\\begin{align*}\n",
    "\\boldsymbol{X} & =  \\left[\n",
    "\\begin{array}{rr}\n",
    "1 & -1\n",
    "\\\\\n",
    "1 & -1\n",
    "\\end{array} \\right].\n",
    "\\end{align*}\n",
    "$$"
   ]
  },
  {
   "cell_type": "markdown",
   "metadata": {},
   "source": [
    "We see easily that  $\\mbox{det}(\\boldsymbol{X}) = x_{11} x_{22} - x_{12} x_{21} = 1 \\times (-1) - 1 \\times (-1) = 0$. Hence, $\\mathbf{X}$ is singular and its inverse is undefined.\n",
    "This is equivalent to saying that the matrix $\\boldsymbol{X}$ has at least an eigenvalue which is zero.\n",
    "\n",
    "\n",
    "## Fixing the singularity\n",
    "\n",
    "If our design matrix $\\boldsymbol{X}$ which enters the linear regression problem"
   ]
  },
  {
   "cell_type": "markdown",
   "metadata": {},
   "source": [
    "<!-- Equation labels as ordinary links -->\n",
    "<div id=\"_auto1\"></div>\n",
    "\n",
    "$$\n",
    "\\begin{equation}\n",
    "\\boldsymbol{\\beta}  =  (\\boldsymbol{X}^{T} \\boldsymbol{X})^{-1} \\boldsymbol{X}^{T} \\boldsymbol{y},\n",
    "\\label{_auto1} \\tag{1}\n",
    "\\end{equation}\n",
    "$$"
   ]
  },
  {
   "cell_type": "markdown",
   "metadata": {},
   "source": [
    "has linearly dependent column vectors, we will not be able to compute the inverse\n",
    "of $\\boldsymbol{X}^T\\boldsymbol{X}$ and we cannot find the parameters (estimators) $\\beta_i$. \n",
    "The estimators are only well-defined if $(\\boldsymbol{X}^{T}\\boldsymbol{X})^{-1}$ exits. \n",
    "This is more likely to happen when the matrix $\\boldsymbol{X}$ is high-dimensional. In this case it is likely to encounter a situation where \n",
    "the regression parameters $\\beta_i$ cannot be estimated.\n",
    "\n",
    "A cheap  *ad hoc* approach is  simply to add a small diagonal component to the matrix to invert, that is we change"
   ]
  },
  {
   "cell_type": "markdown",
   "metadata": {},
   "source": [
    "$$\n",
    "\\boldsymbol{X}^{T} \\boldsymbol{X} \\rightarrow \\boldsymbol{X}^{T} \\boldsymbol{X}+\\lambda \\boldsymbol{I},\n",
    "$$"
   ]
  },
  {
   "cell_type": "markdown",
   "metadata": {},
   "source": [
    "where $\\boldsymbol{I}$ is the identity matrix.  When we discuss **Ridge** regression this is actually what we end up evaluating. The parameter $\\lambda$ is called a hyperparameter. More about this later. \n",
    "\n",
    "\n",
    "\n",
    "## Basic math of the SVD\n",
    "\n",
    "\n",
    "From standard linear algebra we know that a square matrix $\\boldsymbol{X}$ can be diagonalized if and only it is \n",
    "a so-called [normal matrix](https://en.wikipedia.org/wiki/Normal_matrix), that is if $\\boldsymbol{X}\\in {\\mathbb{R}}^{n\\times n}$\n",
    "we have $\\boldsymbol{X}\\boldsymbol{X}^T=\\boldsymbol{X}^T\\boldsymbol{X}$ or if $\\boldsymbol{X}\\in {\\mathbb{C}}^{n\\times n}$ we have $\\boldsymbol{X}\\boldsymbol{X}^{\\dagger}=\\boldsymbol{X}^{\\dagger}\\boldsymbol{X}$.\n",
    "The matrix has then a set of eigenpairs"
   ]
  },
  {
   "cell_type": "markdown",
   "metadata": {},
   "source": [
    "$$\n",
    "(\\lambda_1,\\boldsymbol{u}_1),\\dots, (\\lambda_n,\\boldsymbol{u}_n),\n",
    "$$"
   ]
  },
  {
   "cell_type": "markdown",
   "metadata": {},
   "source": [
    "and the eigenvalues are given by the diagonal matrix"
   ]
  },
  {
   "cell_type": "markdown",
   "metadata": {},
   "source": [
    "$$\n",
    "\\boldsymbol{\\Sigma}=\\mathrm{Diag}(\\lambda_1, \\dots,\\lambda_n).\n",
    "$$"
   ]
  },
  {
   "cell_type": "markdown",
   "metadata": {},
   "source": [
    "The matrix $\\boldsymbol{X}$ can be written in terms of an orthogonal/unitary transformation $\\boldsymbol{U}$"
   ]
  },
  {
   "cell_type": "markdown",
   "metadata": {},
   "source": [
    "$$\n",
    "\\boldsymbol{X} = \\boldsymbol{U}\\boldsymbol{\\Sigma}\\boldsymbol{V}^T,\n",
    "$$"
   ]
  },
  {
   "cell_type": "markdown",
   "metadata": {},
   "source": [
    "with $\\boldsymbol{U}\\boldsymbol{U}^T=\\boldsymbol{I}$ or $\\boldsymbol{U}\\boldsymbol{U}^{\\dagger}=\\boldsymbol{I}$.\n",
    "\n",
    "Not all square matrices are diagonalizable. A matrix like the one discussed above"
   ]
  },
  {
   "cell_type": "markdown",
   "metadata": {},
   "source": [
    "$$\n",
    "\\boldsymbol{X} = \\begin{bmatrix} \n",
    "1&  -1 \\\\\n",
    "1& -1\\\\\n",
    "\\end{bmatrix}\n",
    "$$"
   ]
  },
  {
   "cell_type": "markdown",
   "metadata": {},
   "source": [
    "is not diagonalizable, it is a so-called [defective matrix](https://en.wikipedia.org/wiki/Defective_matrix). It is easy to see that the condition\n",
    "$\\boldsymbol{X}\\boldsymbol{X}^T=\\boldsymbol{X}^T\\boldsymbol{X}$ is not fulfilled. \n",
    "\n",
    "\n",
    "## The SVD, a Fantastic Algorithm\n",
    "\n",
    "\n",
    "However, and this is the strength of the SVD algorithm, any general\n",
    "matrix $\\boldsymbol{X}$ can be decomposed in terms of a diagonal matrix and\n",
    "two orthogonal/unitary matrices.  The [Singular Value Decompostion\n",
    "(SVD) theorem](https://en.wikipedia.org/wiki/Singular_value_decomposition)\n",
    "states that a general $m\\times n$ matrix $\\boldsymbol{X}$ can be written in\n",
    "terms of a diagonal matrix $\\boldsymbol{\\Sigma}$ of dimensionality $m\\times n$\n",
    "and two orthognal matrices $\\boldsymbol{U}$ and $\\boldsymbol{V}$, where the first has\n",
    "dimensionality $m \\times m$ and the last dimensionality $n\\times n$.\n",
    "We have then"
   ]
  },
  {
   "cell_type": "markdown",
   "metadata": {},
   "source": [
    "$$\n",
    "\\boldsymbol{X} = \\boldsymbol{U}\\boldsymbol{\\Sigma}\\boldsymbol{V}^T\n",
    "$$"
   ]
  },
  {
   "cell_type": "markdown",
   "metadata": {},
   "source": [
    "As an example, the above defective matrix can be decomposed as"
   ]
  },
  {
   "cell_type": "markdown",
   "metadata": {},
   "source": [
    "$$\n",
    "\\boldsymbol{X} = \\frac{1}{\\sqrt{2}}\\begin{bmatrix}  1&  1 \\\\ 1& -1\\\\ \\end{bmatrix} \\begin{bmatrix}  2&  0 \\\\ 0& 0\\\\ \\end{bmatrix}    \\frac{1}{\\sqrt{2}}\\begin{bmatrix}  1&  -1 \\\\ 1& 1\\\\ \\end{bmatrix}=\\boldsymbol{U}\\boldsymbol{\\Sigma}\\boldsymbol{V}^T,\n",
    "$$"
   ]
  },
  {
   "cell_type": "markdown",
   "metadata": {},
   "source": [
    "with eigenvalues $\\sigma_1=2$ and $\\sigma_2=0$. \n",
    "The SVD exits always! \n",
    "\n",
    "The SVD\n",
    "decomposition (singular values) gives eigenvalues \n",
    "$\\sigma_i\\geq\\sigma_{i+1}$ for all $i$ and for dimensions larger than $i=p$, the\n",
    "eigenvalues (singular values) are zero.\n",
    "\n",
    "In the general case, where our design matrix $\\boldsymbol{X}$ has dimension\n",
    "$n\\times p$, the matrix is thus decomposed into an $n\\times n$\n",
    "orthogonal matrix $\\boldsymbol{U}$, a $p\\times p$ orthogonal matrix $\\boldsymbol{V}$\n",
    "and a diagonal matrix $\\boldsymbol{\\Sigma}$ with $r=\\mathrm{min}(n,p)$\n",
    "singular values $\\sigma_i\\geq 0$ on the main diagonal and zeros filling\n",
    "the rest of the matrix.  There are at most $p$ singular values\n",
    "assuming that $n > p$. In our regression examples for the nuclear\n",
    "masses and the equation of state this is indeed the case, while for\n",
    "the Ising model we have $p > n$. These are often cases that lead to\n",
    "near singular or singular matrices.\n",
    "\n",
    "The columns of $\\boldsymbol{U}$ are called the left singular vectors while the columns of $\\boldsymbol{V}$ are the right singular vectors.\n",
    "\n",
    "## Economy-size SVD\n",
    "\n",
    "If we assume that $n > p$, then our matrix $\\boldsymbol{U}$ has dimension $n\n",
    "\\times n$. The last $n-p$ columns of $\\boldsymbol{U}$ become however\n",
    "irrelevant in our calculations since they are multiplied with the\n",
    "zeros in $\\boldsymbol{\\Sigma}$.\n",
    "\n",
    "The economy-size decomposition removes extra rows or columns of zeros\n",
    "from the diagonal matrix of singular values, $\\boldsymbol{\\Sigma}$, along with the columns\n",
    "in either $\\boldsymbol{U}$ or $\\boldsymbol{V}$ that multiply those zeros in the expression. \n",
    "Removing these zeros and columns can improve execution time\n",
    "and reduce storage requirements without compromising the accuracy of\n",
    "the decomposition.\n",
    "\n",
    "If $n > p$, we keep only the first $p$ columns of $\\boldsymbol{U}$ and $\\boldsymbol{\\Sigma}$ has dimension $p\\times p$. \n",
    "If $p > n$, then only the first $n$ columns of $\\boldsymbol{V}$ are computed and $\\boldsymbol{\\Sigma}$ has dimension $n\\times n$.\n",
    "The $n=p$ case is obvious, we retain the full SVD. \n",
    "In general the economy-size SVD leads to less FLOPS and still conserving the desired accuracy.\n",
    "\n",
    "## Codes for the SVD"
   ]
  },
  {
   "cell_type": "code",
   "execution_count": 10,
   "metadata": {
    "collapsed": false
   },
   "outputs": [],
   "source": [
    "import numpy as np\n",
    "# SVD inversion\n",
    "def SVDinv(A):\n",
    "    ''' Takes as input a numpy matrix A and returns inv(A) based on singular value decomposition (SVD).\n",
    "    SVD is numerically more stable than the inversion algorithms provided by\n",
    "    numpy and scipy.linalg at the cost of being slower.\n",
    "    '''\n",
    "    U, s, VT = np.linalg.svd(A)\n",
    "#    print('test U')\n",
    "#    print( (np.transpose(U) @ U - U @np.transpose(U)))\n",
    "#    print('test VT')\n",
    "#    print( (np.transpose(VT) @ VT - VT @np.transpose(VT)))\n",
    "    print(U)\n",
    "    print(s)\n",
    "    print(VT)\n",
    "\n",
    "    D = np.zeros((len(U),len(VT)))\n",
    "    for i in range(0,len(VT)):\n",
    "        D[i,i]=s[i]\n",
    "    UT = np.transpose(U); V = np.transpose(VT); invD = np.linalg.inv(D)\n",
    "    return np.matmul(V,np.matmul(invD,UT))\n",
    "\n",
    "\n",
    "X = np.array([ [1.0, -1.0, 2.0], [1.0, 0.0, 1.0], [1.0, 2.0, -1.0], [1.0, 1.0, 0.0] ])\n",
    "print(X)\n",
    "A = np.transpose(X) @ X\n",
    "print(A)\n",
    "# Brute force inversion of super-collinear matrix\n",
    "#B = np.linalg.inv(A)\n",
    "#print(B)\n",
    "C = SVDinv(A)\n",
    "print(C)"
   ]
  },
  {
   "cell_type": "markdown",
   "metadata": {},
   "source": [
    "The matrix $\\boldsymbol{X}$ has columns that are linearly dependent. The first\n",
    "column is the row-wise sum of the other two columns. The rank of a\n",
    "matrix (the column rank) is the dimension of space spanned by the\n",
    "column vectors. The rank of the matrix is the number of linearly\n",
    "independent columns, in this case just $2$. We see this from the\n",
    "singular values when running the above code. Running the standard\n",
    "inversion algorithm for matrix inversion with $\\boldsymbol{X}^T\\boldsymbol{X}$ results\n",
    "in the program terminating due to a singular matrix.\n",
    "\n",
    "\n",
    "\n",
    "## Mathematical Properties\n",
    "\n",
    "There are several interesting mathematical properties which will be\n",
    "relevant when we are going to discuss the differences between say\n",
    "ordinary least squares (OLS) and **Ridge** regression.\n",
    "\n",
    "We have from OLS that the parameters of the linear approximation are given by"
   ]
  },
  {
   "cell_type": "markdown",
   "metadata": {},
   "source": [
    "$$\n",
    "\\boldsymbol{\\tilde{y}} = \\boldsymbol{X}\\boldsymbol{\\beta} = \\boldsymbol{X}\\left(\\boldsymbol{X}^T\\boldsymbol{X}\\right)^{-1}\\boldsymbol{X}^T\\boldsymbol{y}.\n",
    "$$"
   ]
  },
  {
   "cell_type": "markdown",
   "metadata": {},
   "source": [
    "The matrix to invert can be rewritten in terms of our SVD decomposition as"
   ]
  },
  {
   "cell_type": "markdown",
   "metadata": {},
   "source": [
    "$$\n",
    "\\boldsymbol{X}^T\\boldsymbol{X} = \\boldsymbol{V}\\boldsymbol{\\Sigma}^T\\boldsymbol{U}^T\\boldsymbol{U}\\boldsymbol{\\Sigma}\\boldsymbol{V}^T.\n",
    "$$"
   ]
  },
  {
   "cell_type": "markdown",
   "metadata": {},
   "source": [
    "Using the orthogonality properties of $\\boldsymbol{U}$ we have"
   ]
  },
  {
   "cell_type": "markdown",
   "metadata": {},
   "source": [
    "$$\n",
    "\\boldsymbol{X}^T\\boldsymbol{X} = \\boldsymbol{V}\\boldsymbol{\\Sigma}^T\\boldsymbol{\\Sigma}\\boldsymbol{V}^T =  \\boldsymbol{V}\\boldsymbol{D}\\boldsymbol{V}^T,\n",
    "$$"
   ]
  },
  {
   "cell_type": "markdown",
   "metadata": {},
   "source": [
    "with $\\boldsymbol{D}$ being a diagonal matrix with values along the diagonal given by the singular values squared. \n",
    "\n",
    "This means that"
   ]
  },
  {
   "cell_type": "markdown",
   "metadata": {},
   "source": [
    "$$\n",
    "(\\boldsymbol{X}^T\\boldsymbol{X})\\boldsymbol{V} = \\boldsymbol{V}\\boldsymbol{D},\n",
    "$$"
   ]
  },
  {
   "cell_type": "markdown",
   "metadata": {},
   "source": [
    "that is the eigenvectors of $(\\boldsymbol{X}^T\\boldsymbol{X})$ are given by the columns of the right singular matrix of $\\boldsymbol{X}$ and the eigenvalues are the squared singular values.  It is easy to show (show this) that"
   ]
  },
  {
   "cell_type": "markdown",
   "metadata": {},
   "source": [
    "$$\n",
    "(\\boldsymbol{X}\\boldsymbol{X}^T)\\boldsymbol{U} = \\boldsymbol{U}\\boldsymbol{D},\n",
    "$$"
   ]
  },
  {
   "cell_type": "markdown",
   "metadata": {},
   "source": [
    "that is, the eigenvectors of $(\\boldsymbol{X}\\boldsymbol{X})^T$ are the columns of the left singular matrix and the eigenvalues are the same. \n",
    "\n",
    "Going back to our OLS equation we have"
   ]
  },
  {
   "cell_type": "markdown",
   "metadata": {},
   "source": [
    "$$\n",
    "\\boldsymbol{X}\\boldsymbol{\\beta} = \\boldsymbol{X}\\left(\\boldsymbol{V}\\boldsymbol{D}\\boldsymbol{V}^T \\right)^{-1}\\boldsymbol{X}^T\\boldsymbol{y}=\\boldsymbol{U\\Sigma V^T}\\left(\\boldsymbol{V}\\boldsymbol{D}\\boldsymbol{V}^T \\right)^{-1}(\\boldsymbol{U\\Sigma V^T})^T\\boldsymbol{y}=\\boldsymbol{U}\\boldsymbol{U}^T\\boldsymbol{y}.\n",
    "$$"
   ]
  },
  {
   "cell_type": "markdown",
   "metadata": {},
   "source": [
    "## OLS and Ridge in terms of an SVD Decomposition\n",
    "\n",
    "We have then"
   ]
  },
  {
   "cell_type": "markdown",
   "metadata": {},
   "source": [
    "$$\n",
    "\\tilde{y}^{OLS}={\\bf X}\\hat{\\beta}^{OLS}=\\sum_{j=1}^p {\\bf u}_j{\\bf u}_j^T{\\bf y},\n",
    "$$"
   ]
  },
  {
   "cell_type": "markdown",
   "metadata": {},
   "source": [
    "for ordinary least squares (OLS) \n",
    "and for Ridge we have"
   ]
  },
  {
   "cell_type": "markdown",
   "metadata": {},
   "source": [
    "$$\n",
    "\\tilde{y}^{Ridge}={\\bf X}\\hat{\\beta}^{Ridge}=\\sum_{j=1}^p {\\bf u}_j\\frac{\\sigma_j^2}{\\sigma_j^2+\\lambda}{\\bf u}_j^T{\\bf y}.\n",
    "$$"
   ]
  },
  {
   "cell_type": "markdown",
   "metadata": {},
   "source": [
    "Note that the summation runs up tp $p$ only and not $n$.\n",
    "\n",
    "Here we have that ${\\bf X} = {\\bf U}{\\bf \\Sigma}{\\bf V}^T$, with $\\Sigma$ being an $n\\times p$ matrix and\n",
    "${\\bf V}$ being a $p\\times p$ matrix. We also have assumed here that $ n > p$.\n",
    "\n",
    "\n",
    "## Ridge and SVD\n",
    "We see that Ridge regression is nothing but the standard\n",
    "OLS with a modified diagonal term added to $\\boldsymbol{X}^T\\boldsymbol{X}$. The\n",
    "consequences, in particular for our discussion of the bias-variance tradeoff \n",
    "are rather interesting.\n",
    "\n",
    "Furthermore, if we use the result below in terms of the SVD decomposition, we have"
   ]
  },
  {
   "cell_type": "markdown",
   "metadata": {},
   "source": [
    "$$\n",
    "(\\boldsymbol{X}\\boldsymbol{X}^T)\\boldsymbol{U} = \\boldsymbol{U}\\boldsymbol{D}.\n",
    "$$"
   ]
  },
  {
   "cell_type": "markdown",
   "metadata": {},
   "source": [
    "We can  analyse the OLS solutions in terms of the eigenvectors (the columns) of the right singular value matrix $\\boldsymbol{U}$ as"
   ]
  },
  {
   "cell_type": "markdown",
   "metadata": {},
   "source": [
    "$$\n",
    "\\boldsymbol{X}\\boldsymbol{\\beta} = \\boldsymbol{X}\\left(\\boldsymbol{V}\\boldsymbol{D}\\boldsymbol{V}^T \\right)^{-1}\\boldsymbol{X}^T\\boldsymbol{y}=\\boldsymbol{U\\Sigma V^T}\\left(\\boldsymbol{V}\\boldsymbol{D}\\boldsymbol{V}^T \\right)^{-1}(\\boldsymbol{U\\Sigma V^T})^T\\boldsymbol{y}=\\boldsymbol{U}\\boldsymbol{U}^T\\boldsymbol{y}\n",
    "$$"
   ]
  },
  {
   "cell_type": "markdown",
   "metadata": {},
   "source": [
    "For Ridge regression this becomes"
   ]
  },
  {
   "cell_type": "markdown",
   "metadata": {},
   "source": [
    "$$\n",
    "\\boldsymbol{X}\\boldsymbol{\\beta}^{\\mathrm{Ridge}} = \\boldsymbol{U\\Sigma V^T}\\left(\\boldsymbol{V}\\boldsymbol{D}\\boldsymbol{V}^T+\\lambda\\boldsymbol{I} \\right)^{-1}(\\boldsymbol{U\\Sigma V^T})^T\\boldsymbol{y}=\\sum_{j=0}^{p-1}\\boldsymbol{u}_j\\boldsymbol{u}_j^T\\frac{\\sigma_j^2}{\\sigma_j^2+\\lambda}\\boldsymbol{y},\n",
    "$$"
   ]
  },
  {
   "cell_type": "markdown",
   "metadata": {},
   "source": [
    "with the vectors $\\boldsymbol{u}_j$ being the columns of $\\boldsymbol{U}$. \n",
    "\n",
    "## Interpreting the Ridge results\n",
    "\n",
    "Since $\\lambda \\geq 0$, it means that compared to OLS, we have"
   ]
  },
  {
   "cell_type": "markdown",
   "metadata": {},
   "source": [
    "$$\n",
    "\\frac{\\sigma_j^2}{\\sigma_j^2+\\lambda} \\leq 1.\n",
    "$$"
   ]
  },
  {
   "cell_type": "markdown",
   "metadata": {},
   "source": [
    "Ridge regression finds the coordinates of $\\boldsymbol{y}$ with respect to the\n",
    "orthonormal basis $\\boldsymbol{U}$, it then shrinks the coordinates by\n",
    "$\\frac{\\sigma_j^2}{\\sigma_j^2+\\lambda}$. Recall that the SVD has\n",
    "eigenvalues ordered in a descending way, that is $\\sigma_i \\geq\n",
    "\\sigma_{i+1}$.\n",
    "\n",
    "For small eigenvalues $\\sigma_i$ it means that their contributions become less important, a fact which can be used to reduce the number of degrees of freedom.\n",
    "Actually, calculating the variance of $\\boldsymbol{X}\\boldsymbol{v}_j$ shows that this quantity is equal to $\\sigma_j^2/n$.\n",
    "With a parameter $\\lambda$ we can thus shrink the role of specific parameters.  \n",
    "\n",
    "\n",
    "## More interpretations\n",
    "\n",
    "For the sake of simplicity, let us assume that the design matrix is orthonormal, that is"
   ]
  },
  {
   "cell_type": "markdown",
   "metadata": {},
   "source": [
    "$$\n",
    "\\boldsymbol{X}^T\\boldsymbol{X}=(\\boldsymbol{X}^T\\boldsymbol{X})^{-1} =\\boldsymbol{I}.\n",
    "$$"
   ]
  },
  {
   "cell_type": "markdown",
   "metadata": {},
   "source": [
    "In this case the standard OLS results in"
   ]
  },
  {
   "cell_type": "markdown",
   "metadata": {},
   "source": [
    "$$\n",
    "\\boldsymbol{\\beta}^{\\mathrm{OLS}} = \\boldsymbol{X}^T\\boldsymbol{y}=\\sum_{i=0}^{p-1}\\boldsymbol{u}_j\\boldsymbol{u}_j^T\\boldsymbol{y},\n",
    "$$"
   ]
  },
  {
   "cell_type": "markdown",
   "metadata": {},
   "source": [
    "and"
   ]
  },
  {
   "cell_type": "markdown",
   "metadata": {},
   "source": [
    "$$\n",
    "\\boldsymbol{\\beta}^{\\mathrm{Ridge}} = \\left(\\boldsymbol{I}+\\lambda\\boldsymbol{I}\\right)^{-1}\\boldsymbol{X}^T\\boldsymbol{y}=\\left(1+\\lambda\\right)^{-1}\\boldsymbol{\\beta}^{\\mathrm{OLS}},\n",
    "$$"
   ]
  },
  {
   "cell_type": "markdown",
   "metadata": {},
   "source": [
    "that is the Ridge estimator scales the OLS estimator by the inverse of a factor $1+\\lambda$, and\n",
    "the Ridge estimator converges to zero when the hyperparameter goes to\n",
    "infinity.\n",
    "\n",
    "For more discussions of Ridge and Lasso regression, [Wessel van Wieringen's](https://arxiv.org/abs/1509.09169) article is highly recommended.\n",
    "Similarly, [Mehta et al's article](https://arxiv.org/abs/1803.08823) is also recommended."
   ]
  }
 ],
 "metadata": {},
 "nbformat": 4,
 "nbformat_minor": 4
}
