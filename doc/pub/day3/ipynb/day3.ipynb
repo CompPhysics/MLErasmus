{
 "cells": [
  {
   "cell_type": "markdown",
   "id": "d8e7d59b",
   "metadata": {},
   "source": [
    "<!-- HTML file automatically generated from DocOnce source (https://github.com/doconce/doconce/)\n",
    "doconce format html Day3.do.txt --no_mako -->\n",
    "<!-- dom:TITLE: Data Analysis and Machine Learning: Ridge and Lasso Regression and Resampling Methods -->"
   ]
  },
  {
   "cell_type": "markdown",
   "id": "bf6186e0",
   "metadata": {},
   "source": [
    "# Data Analysis and Machine Learning: Ridge and Lasso Regression and Resampling Methods\n",
    "**Morten Hjorth-Jensen**, Department of Physics and Center for Computing in Science Education, University of Oslo, Norway and Department of Physics and Astronomy and Facility for Rare Isotope Beams and National Superconducting Cyclotron Laboratory, Michigan State University, USA\n",
    "\n",
    "Date: **October 17 and 24, 2022**"
   ]
  },
  {
   "cell_type": "markdown",
   "id": "b00c932d",
   "metadata": {},
   "source": [
    "## Plans for Sessions 4-6\n",
    "\n",
    "* More on Ridge and Lasso Regression\n",
    "\n",
    "* Statistics, probability theory and resampling methods\n",
    "\n",
    "  * [Video of Lecture October 24](https://youtu.be/rfa_khkpXg0)\n",
    "\n",
    "  * [Video of Lecture October 31](https://youtu.be/c8OOUqCGkC4)"
   ]
  },
  {
   "cell_type": "markdown",
   "id": "bb187fff",
   "metadata": {},
   "source": [
    "## Ridge and LASSO Regression\n",
    "\n",
    "Let us remind ourselves about the expression for the standard Mean Squared Error (MSE) which we used to define our cost function and the equations for the ordinary least squares (OLS) method, that is \n",
    "our optimization problem is"
   ]
  },
  {
   "cell_type": "markdown",
   "id": "3c387457",
   "metadata": {},
   "source": [
    "$$\n",
    "{\\displaystyle \\min_{\\boldsymbol{\\beta}\\in {\\mathbb{R}}^{p}}}\\frac{1}{n}\\left\\{\\left(\\boldsymbol{y}-\\boldsymbol{X}\\boldsymbol{\\beta}\\right)^T\\left(\\boldsymbol{y}-\\boldsymbol{X}\\boldsymbol{\\beta}\\right)\\right\\}.\n",
    "$$"
   ]
  },
  {
   "cell_type": "markdown",
   "id": "dc33acb7",
   "metadata": {},
   "source": [
    "or we can state it as"
   ]
  },
  {
   "cell_type": "markdown",
   "id": "0cc679e6",
   "metadata": {},
   "source": [
    "$$\n",
    "{\\displaystyle \\min_{\\boldsymbol{\\beta}\\in\n",
    "{\\mathbb{R}}^{p}}}\\frac{1}{n}\\sum_{i=0}^{n-1}\\left(y_i-\\tilde{y}_i\\right)^2=\\frac{1}{n}\\vert\\vert \\boldsymbol{y}-\\boldsymbol{X}\\boldsymbol{\\beta}\\vert\\vert_2^2,\n",
    "$$"
   ]
  },
  {
   "cell_type": "markdown",
   "id": "a685abab",
   "metadata": {},
   "source": [
    "where we have used the definition of  a norm-2 vector, that is"
   ]
  },
  {
   "cell_type": "markdown",
   "id": "31f9b39a",
   "metadata": {},
   "source": [
    "$$\n",
    "\\vert\\vert \\boldsymbol{x}\\vert\\vert_2 = \\sqrt{\\sum_i x_i^2}.\n",
    "$$"
   ]
  },
  {
   "cell_type": "markdown",
   "id": "b1166c41",
   "metadata": {},
   "source": [
    "## From OLS to Ridge and Lasso\n",
    "\n",
    "By minimizing the above equation with respect to the parameters\n",
    "$\\boldsymbol{\\beta}$ we could then obtain an analytical expression for the\n",
    "parameters $\\boldsymbol{\\beta}$.  We can add a regularization parameter $\\lambda$ by\n",
    "defining a new cost function to be optimized, that is"
   ]
  },
  {
   "cell_type": "markdown",
   "id": "003ba099",
   "metadata": {},
   "source": [
    "$$\n",
    "{\\displaystyle \\min_{\\boldsymbol{\\beta}\\in\n",
    "{\\mathbb{R}}^{p}}}\\frac{1}{n}\\vert\\vert \\boldsymbol{y}-\\boldsymbol{X}\\boldsymbol{\\beta}\\vert\\vert_2^2+\\lambda\\vert\\vert \\boldsymbol{\\beta}\\vert\\vert_2^2\n",
    "$$"
   ]
  },
  {
   "cell_type": "markdown",
   "id": "53811ea0",
   "metadata": {},
   "source": [
    "which leads to the Ridge regression minimization problem where we\n",
    "require that $\\vert\\vert \\boldsymbol{\\beta}\\vert\\vert_2^2\\le t$, where $t$ is\n",
    "a finite number larger than zero. By defining"
   ]
  },
  {
   "cell_type": "markdown",
   "id": "13d4906c",
   "metadata": {},
   "source": [
    "$$\n",
    "C(\\boldsymbol{X},\\boldsymbol{\\beta})=\\frac{1}{n}\\vert\\vert \\boldsymbol{y}-\\boldsymbol{X}\\boldsymbol{\\beta}\\vert\\vert_2^2+\\lambda\\vert\\vert \\boldsymbol{\\beta}\\vert\\vert_1,\n",
    "$$"
   ]
  },
  {
   "cell_type": "markdown",
   "id": "ac016e3d",
   "metadata": {},
   "source": [
    "we have a new optimization equation"
   ]
  },
  {
   "cell_type": "markdown",
   "id": "78b0355f",
   "metadata": {},
   "source": [
    "$$\n",
    "{\\displaystyle \\min_{\\boldsymbol{\\beta}\\in\n",
    "{\\mathbb{R}}^{p}}}\\frac{1}{n}\\vert\\vert \\boldsymbol{y}-\\boldsymbol{X}\\boldsymbol{\\beta}\\vert\\vert_2^2+\\lambda\\vert\\vert \\boldsymbol{\\beta}\\vert\\vert_1\n",
    "$$"
   ]
  },
  {
   "cell_type": "markdown",
   "id": "291e88ac",
   "metadata": {},
   "source": [
    "which leads to Lasso regression. Lasso stands for least absolute shrinkage and selection operator. \n",
    "\n",
    "Here we have defined the norm-1 as"
   ]
  },
  {
   "cell_type": "markdown",
   "id": "46aa4b58",
   "metadata": {},
   "source": [
    "$$\n",
    "\\vert\\vert \\boldsymbol{x}\\vert\\vert_1 = \\sum_i \\vert x_i\\vert.\n",
    "$$"
   ]
  },
  {
   "cell_type": "markdown",
   "id": "ce71226f",
   "metadata": {},
   "source": [
    "## Deriving the  Ridge Regression Equations\n",
    "\n",
    "Using the matrix-vector expression for Ridge regression and dropping the parameter $1/n$ in front of the standard means squared error equation, we have"
   ]
  },
  {
   "cell_type": "markdown",
   "id": "5485d273",
   "metadata": {},
   "source": [
    "$$\n",
    "C(\\boldsymbol{X},\\boldsymbol{\\beta})=\\left\\{(\\boldsymbol{y}-\\boldsymbol{X}\\boldsymbol{\\beta})^T(\\boldsymbol{y}-\\boldsymbol{X}\\boldsymbol{\\beta})\\right\\}+\\lambda\\boldsymbol{\\beta}^T\\boldsymbol{\\beta},\n",
    "$$"
   ]
  },
  {
   "cell_type": "markdown",
   "id": "9c6c7aa4",
   "metadata": {},
   "source": [
    "and \n",
    "taking the derivatives with respect to $\\boldsymbol{\\beta}$ we obtain then\n",
    "a slightly modified matrix inversion problem which for finite values\n",
    "of $\\lambda$ does not suffer from singularity problems. We obtain\n",
    "the optimal parameters"
   ]
  },
  {
   "cell_type": "markdown",
   "id": "322a35ea",
   "metadata": {},
   "source": [
    "$$\n",
    "\\hat{\\boldsymbol{\\beta}}_{\\mathrm{Ridge}} = \\left(\\boldsymbol{X}^T\\boldsymbol{X}+\\lambda\\boldsymbol{I}\\right)^{-1}\\boldsymbol{X}^T\\boldsymbol{y},\n",
    "$$"
   ]
  },
  {
   "cell_type": "markdown",
   "id": "673c9cc8",
   "metadata": {},
   "source": [
    "with $\\boldsymbol{I}$ being a $p\\times p$ identity matrix with the constraint that"
   ]
  },
  {
   "cell_type": "markdown",
   "id": "da5c8740",
   "metadata": {},
   "source": [
    "$$\n",
    "\\sum_{i=0}^{p-1} \\beta_i^2 \\leq t,\n",
    "$$"
   ]
  },
  {
   "cell_type": "markdown",
   "id": "3f2d449d",
   "metadata": {},
   "source": [
    "with $t$ a finite positive number. \n",
    "\n",
    "When we compare this with the ordinary least squares result we have"
   ]
  },
  {
   "cell_type": "markdown",
   "id": "1cb08e66",
   "metadata": {},
   "source": [
    "$$\n",
    "\\hat{\\boldsymbol{\\beta}}_{\\mathrm{OLS}} = \\left(\\boldsymbol{X}^T\\boldsymbol{X}\\right)^{-1}\\boldsymbol{X}^T\\boldsymbol{y},\n",
    "$$"
   ]
  },
  {
   "cell_type": "markdown",
   "id": "588bbf61",
   "metadata": {},
   "source": [
    "which can lead to singular matrices. However, with the SVD, we can always compute the inverse of the matrix $\\boldsymbol{X}^T\\boldsymbol{X}$.\n",
    "\n",
    "We see that Ridge regression is nothing but the standard OLS with a\n",
    "modified diagonal term added to $\\boldsymbol{X}^T\\boldsymbol{X}$. The consequences, in\n",
    "particular for our discussion of the bias-variance tradeoff are rather\n",
    "interesting. We will see that for specific values of $\\lambda$, we may\n",
    "even reduce the variance of the optimal parameters $\\boldsymbol{\\beta}$. These topics and other related ones, will be discussed after the more linear algebra oriented analysis here."
   ]
  },
  {
   "cell_type": "markdown",
   "id": "9c497526",
   "metadata": {},
   "source": [
    "## SVD analysis\n",
    "\n",
    "Using our insights about the SVD of the design matrix $\\boldsymbol{X}$ \n",
    "We have already analyzed the OLS solutions in terms of the eigenvectors (the columns) of the right singular value matrix $\\boldsymbol{U}$ as"
   ]
  },
  {
   "cell_type": "markdown",
   "id": "afa27269",
   "metadata": {},
   "source": [
    "$$\n",
    "\\tilde{\\boldsymbol{y}}_{\\mathrm{OLS}}=\\boldsymbol{X}\\boldsymbol{\\beta}  =\\boldsymbol{U}\\boldsymbol{U}^T\\boldsymbol{y}.\n",
    "$$"
   ]
  },
  {
   "cell_type": "markdown",
   "id": "3a766694",
   "metadata": {},
   "source": [
    "For Ridge regression this becomes"
   ]
  },
  {
   "cell_type": "markdown",
   "id": "f1f9cc34",
   "metadata": {},
   "source": [
    "$$\n",
    "\\tilde{\\boldsymbol{y}}_{\\mathrm{Ridge}}=\\boldsymbol{X}\\boldsymbol{\\beta}_{\\mathrm{Ridge}} = \\boldsymbol{U\\Sigma V^T}\\left(\\boldsymbol{V}\\boldsymbol{\\Sigma}^2\\boldsymbol{V}^T+\\lambda\\boldsymbol{I} \\right)^{-1}(\\boldsymbol{U\\Sigma V^T})^T\\boldsymbol{y}=\\sum_{j=0}^{p-1}\\boldsymbol{u}_j\\boldsymbol{u}_j^T\\frac{\\sigma_j^2}{\\sigma_j^2+\\lambda}\\boldsymbol{y},\n",
    "$$"
   ]
  },
  {
   "cell_type": "markdown",
   "id": "57731f57",
   "metadata": {},
   "source": [
    "with the vectors $\\boldsymbol{u}_j$ being the columns of $\\boldsymbol{U}$ from the SVD of the matrix $\\boldsymbol{X}$."
   ]
  },
  {
   "cell_type": "markdown",
   "id": "721fc608",
   "metadata": {},
   "source": [
    "## Interpreting the Ridge results\n",
    "\n",
    "Since $\\lambda \\geq 0$, it means that compared to OLS, we have"
   ]
  },
  {
   "cell_type": "markdown",
   "id": "6bb10963",
   "metadata": {},
   "source": [
    "$$\n",
    "\\frac{\\sigma_j^2}{\\sigma_j^2+\\lambda} \\leq 1.\n",
    "$$"
   ]
  },
  {
   "cell_type": "markdown",
   "id": "97c3d610",
   "metadata": {},
   "source": [
    "Ridge regression finds the coordinates of $\\boldsymbol{y}$ with respect to the\n",
    "orthonormal basis $\\boldsymbol{U}$, it then shrinks the coordinates by\n",
    "$\\frac{\\sigma_j^2}{\\sigma_j^2+\\lambda}$. Recall that the SVD has\n",
    "eigenvalues ordered in a descending way, that is $\\sigma_i \\geq\n",
    "\\sigma_{i+1}$.\n",
    "\n",
    "For small eigenvalues $\\sigma_i$ it means that their contributions become less important, a fact which can be used to reduce the number of degrees of freedom. More about this when we have covered the material on a statistical interpretation of various linear regression methods."
   ]
  },
  {
   "cell_type": "markdown",
   "id": "bbeba639",
   "metadata": {},
   "source": [
    "## More interpretations\n",
    "\n",
    "For the sake of simplicity, let us assume that the design matrix is orthonormal, that is"
   ]
  },
  {
   "cell_type": "markdown",
   "id": "f170745d",
   "metadata": {},
   "source": [
    "$$\n",
    "\\boldsymbol{X}^T\\boldsymbol{X}=(\\boldsymbol{X}^T\\boldsymbol{X})^{-1} =\\boldsymbol{I}.\n",
    "$$"
   ]
  },
  {
   "cell_type": "markdown",
   "id": "1fc25304",
   "metadata": {},
   "source": [
    "In this case the standard OLS results in"
   ]
  },
  {
   "cell_type": "markdown",
   "id": "9e7c6ed7",
   "metadata": {},
   "source": [
    "$$\n",
    "\\boldsymbol{\\beta}^{\\mathrm{OLS}} = \\boldsymbol{X}^T\\boldsymbol{y}=\\sum_{i=0}^{p-1}\\boldsymbol{u}_j\\boldsymbol{u}_j^T\\boldsymbol{y},\n",
    "$$"
   ]
  },
  {
   "cell_type": "markdown",
   "id": "0cd7f48b",
   "metadata": {},
   "source": [
    "and"
   ]
  },
  {
   "cell_type": "markdown",
   "id": "81dd88ec",
   "metadata": {},
   "source": [
    "$$\n",
    "\\boldsymbol{\\beta}^{\\mathrm{Ridge}} = \\left(\\boldsymbol{I}+\\lambda\\boldsymbol{I}\\right)^{-1}\\boldsymbol{X}^T\\boldsymbol{y}=\\left(1+\\lambda\\right)^{-1}\\boldsymbol{\\beta}^{\\mathrm{OLS}},\n",
    "$$"
   ]
  },
  {
   "cell_type": "markdown",
   "id": "72073f5c",
   "metadata": {},
   "source": [
    "that is the Ridge estimator scales the OLS estimator by the inverse of a factor $1+\\lambda$, and\n",
    "the Ridge estimator converges to zero when the hyperparameter goes to\n",
    "infinity.\n",
    "\n",
    "We will come back to more interpreations after we have gone through some of the statistical analysis part. \n",
    "\n",
    "For more discussions of Ridge and Lasso regression, [Wessel van Wieringen's](https://arxiv.org/abs/1509.09169) article is highly recommended.\n",
    "Similarly, [Mehta et al's article](https://arxiv.org/abs/1803.08823) is also recommended."
   ]
  },
  {
   "cell_type": "markdown",
   "id": "d0b3e5b9",
   "metadata": {},
   "source": [
    "## Deriving the  Lasso Regression Equations\n",
    "\n",
    "Using the matrix-vector expression for Lasso regression and dropping the parameter $1/n$ in front of the standard mean squared error equation, we have the following **cost** function"
   ]
  },
  {
   "cell_type": "markdown",
   "id": "6e962514",
   "metadata": {},
   "source": [
    "$$\n",
    "C(\\boldsymbol{X},\\boldsymbol{\\beta})=\\left\\{(\\boldsymbol{y}-\\boldsymbol{X}\\boldsymbol{\\beta})^T(\\boldsymbol{y}-\\boldsymbol{X}\\boldsymbol{\\beta})\\right\\}+\\lambda\\vert\\vert\\boldsymbol{\\beta}\\vert\\vert_1,\n",
    "$$"
   ]
  },
  {
   "cell_type": "markdown",
   "id": "d047390b",
   "metadata": {},
   "source": [
    "Taking the derivative with respect to $\\boldsymbol{\\beta}$ and recalling that the derivative of the absolute value is (we drop the boldfaced vector symbol for simplicty)"
   ]
  },
  {
   "cell_type": "markdown",
   "id": "f4dadef0",
   "metadata": {},
   "source": [
    "$$\n",
    "\\frac{d \\vert \\beta\\vert}{d \\boldsymbol{\\beta}}=\\mathrm{sgn}(\\boldsymbol{\\beta})=\\left\\{\\begin{array}{cc} 1 & \\beta > 0 \\\\-1 & \\beta < 0, \\end{array}\\right.\n",
    "$$"
   ]
  },
  {
   "cell_type": "markdown",
   "id": "fe2361d9",
   "metadata": {},
   "source": [
    "we have that the derivative of the cost function is"
   ]
  },
  {
   "cell_type": "markdown",
   "id": "619a7ade",
   "metadata": {},
   "source": [
    "$$\n",
    "\\frac{\\partial C(\\boldsymbol{X},\\boldsymbol{\\beta})}{\\partial \\boldsymbol{\\beta}}=-2\\boldsymbol{X}^T(\\boldsymbol{y}-\\boldsymbol{X}\\boldsymbol{\\beta})+\\lambda sgn(\\boldsymbol{\\beta})=0,\n",
    "$$"
   ]
  },
  {
   "cell_type": "markdown",
   "id": "1314aa4d",
   "metadata": {},
   "source": [
    "and reordering we have"
   ]
  },
  {
   "cell_type": "markdown",
   "id": "11638638",
   "metadata": {},
   "source": [
    "$$\n",
    "\\boldsymbol{X}^T\\boldsymbol{X}\\boldsymbol{\\beta}+\\lambda sgn(\\boldsymbol{\\beta})=2\\boldsymbol{X}^T\\boldsymbol{y}.\n",
    "$$"
   ]
  },
  {
   "cell_type": "markdown",
   "id": "e0809460",
   "metadata": {},
   "source": [
    "This equation does not lead to a nice analytical equation as in Ridge regression or ordinary least squares. This equation can however be solved by using standard convex optimization algorithms using for example the Python package [CVXOPT](https://cvxopt.org/). We will discuss this later."
   ]
  },
  {
   "cell_type": "markdown",
   "id": "7d821702",
   "metadata": {},
   "source": [
    "## Simple example to illustrate Ordinary Least Squares, Ridge and Lasso Regression\n",
    "\n",
    "Let us assume that our design matrix is given by unit (identity) matrix, that is a square diagonal matrix with ones only along the\n",
    "diagonal. In this case we have an equal number of rows and columns $n=p$.\n",
    "\n",
    "Our model approximation is just $\\tilde{\\boldsymbol{y}}=\\boldsymbol{\\beta}$ and the mean squared error and thereby the cost function for ordinary least sqquares (OLS) is then (we drop the term $1/n$)"
   ]
  },
  {
   "cell_type": "markdown",
   "id": "1eaa933c",
   "metadata": {},
   "source": [
    "$$\n",
    "C(\\boldsymbol{\\beta})=\\sum_{i=0}^{p-1}(y_i-\\beta_i)^2,\n",
    "$$"
   ]
  },
  {
   "cell_type": "markdown",
   "id": "eb9d14d5",
   "metadata": {},
   "source": [
    "and minimizing we have that"
   ]
  },
  {
   "cell_type": "markdown",
   "id": "03958d9b",
   "metadata": {},
   "source": [
    "$$\n",
    "\\hat{\\beta}_i^{\\mathrm{OLS}} = y_i.\n",
    "$$"
   ]
  },
  {
   "cell_type": "markdown",
   "id": "6856c1d3",
   "metadata": {},
   "source": [
    "## Ridge Regression\n",
    "\n",
    "For Ridge regression our cost function is"
   ]
  },
  {
   "cell_type": "markdown",
   "id": "588e5c3a",
   "metadata": {},
   "source": [
    "$$\n",
    "C(\\boldsymbol{\\beta})=\\sum_{i=0}^{p-1}(y_i-\\beta_i)^2+\\lambda\\sum_{i=0}^{p-1}\\beta_i^2,\n",
    "$$"
   ]
  },
  {
   "cell_type": "markdown",
   "id": "154e03ea",
   "metadata": {},
   "source": [
    "and minimizing we have that"
   ]
  },
  {
   "cell_type": "markdown",
   "id": "1d8e35e4",
   "metadata": {},
   "source": [
    "$$\n",
    "\\hat{\\beta}_i^{\\mathrm{Ridge}} = \\frac{y_i}{1+\\lambda}.\n",
    "$$"
   ]
  },
  {
   "cell_type": "markdown",
   "id": "2aee119d",
   "metadata": {},
   "source": [
    "## Lasso Regression\n",
    "\n",
    "For Lasso regression our cost function is"
   ]
  },
  {
   "cell_type": "markdown",
   "id": "c985fb56",
   "metadata": {},
   "source": [
    "$$\n",
    "C(\\boldsymbol{\\beta})=\\sum_{i=0}^{p-1}(y_i-\\beta_i)^2+\\lambda\\sum_{i=0}^{p-1}\\vert\\beta_i\\vert=\\sum_{i=0}^{p-1}(y_i-\\beta_i)^2+\\lambda\\sum_{i=0}^{p-1}\\sqrt{\\beta_i^2},\n",
    "$$"
   ]
  },
  {
   "cell_type": "markdown",
   "id": "dfb4e60f",
   "metadata": {},
   "source": [
    "and minimizing we have that"
   ]
  },
  {
   "cell_type": "markdown",
   "id": "f7ed8d1f",
   "metadata": {},
   "source": [
    "$$\n",
    "-2\\sum_{i=0}^{p-1}(y_i-\\beta_i)+\\lambda \\sum_{i=0}^{p-1}\\frac{(\\beta_i)}{\\vert\\beta_i\\vert}=0,\n",
    "$$"
   ]
  },
  {
   "cell_type": "markdown",
   "id": "b3d06d7b",
   "metadata": {},
   "source": [
    "which leads to"
   ]
  },
  {
   "cell_type": "markdown",
   "id": "0cce4247",
   "metadata": {},
   "source": [
    "$$\n",
    "\\hat{\\boldsymbol{\\beta}}_i^{\\mathrm{Lasso}} = \\left\\{\\begin{array}{ccc}y_i-\\frac{\\lambda}{2} &\\mathrm{if} & y_i> \\frac{\\lambda}{2}\\\\\n",
    "                                                          y_i+\\frac{\\lambda}{2} &\\mathrm{if} & y_i< -\\frac{\\lambda}{2}\\\\\n",
    "\t\t\t\t\t\t\t  0 &\\mathrm{if} & \\vert y_i\\vert\\le  \\frac{\\lambda}{2}\\end{array}\\right.\\\\.\n",
    "$$"
   ]
  },
  {
   "cell_type": "markdown",
   "id": "ea90780e",
   "metadata": {},
   "source": [
    "Plotting these results ([figure in handwritten notes for week 36](https://github.com/CompPhysics/MachineLearning/blob/master/doc/HandWrittenNotes/2021/NotesSeptember9.pdf)) shows clearly that Lasso regression suppresses (sets to zero) values of $\\beta_i$ for specific values of $\\lambda$. Ridge regression reduces on the other hand the values of $\\beta_i$ as function of $\\lambda$."
   ]
  },
  {
   "cell_type": "markdown",
   "id": "37aca879",
   "metadata": {},
   "source": [
    "## Yet another Example\n",
    "\n",
    "Let us assume we have a data set with outputs/targets given by the vector"
   ]
  },
  {
   "cell_type": "markdown",
   "id": "f9766381",
   "metadata": {},
   "source": [
    "$$\n",
    "\\boldsymbol{y}=\\begin{bmatrix}4 \\\\ 2 \\\\3\\end{bmatrix},\n",
    "$$"
   ]
  },
  {
   "cell_type": "markdown",
   "id": "8d16bbb9",
   "metadata": {},
   "source": [
    "and our inputs as a $3\\times 2$ design matrix"
   ]
  },
  {
   "cell_type": "markdown",
   "id": "98c9bb73",
   "metadata": {},
   "source": [
    "$$\n",
    "\\boldsymbol{X}=\\begin{bmatrix}2 & 0\\\\ 0 & 1 \\\\ 0 & 0\\end{bmatrix},\n",
    "$$"
   ]
  },
  {
   "cell_type": "markdown",
   "id": "86b18472",
   "metadata": {},
   "source": [
    "meaning that we have two features and two unknown parameters $\\beta_0$ and $\\beta_1$ to be determined either by ordinary least squares, Ridge or Lasso regression."
   ]
  },
  {
   "cell_type": "markdown",
   "id": "05dda68c",
   "metadata": {},
   "source": [
    "## The OLS case\n",
    "\n",
    "For ordinary least squares (OLS) we know that the optimal solution is"
   ]
  },
  {
   "cell_type": "markdown",
   "id": "60d77961",
   "metadata": {},
   "source": [
    "$$\n",
    "\\hat{\\boldsymbol{\\beta}}^{\\mathrm{OLS}}=\\left( \\boldsymbol{X}^T\\boldsymbol{X}\\right)^{-1}\\boldsymbol{X}^T\\boldsymbol{y}.\n",
    "$$"
   ]
  },
  {
   "cell_type": "markdown",
   "id": "b513bc95",
   "metadata": {},
   "source": [
    "Inserting the above values we obtain that"
   ]
  },
  {
   "cell_type": "markdown",
   "id": "6f6a1fa5",
   "metadata": {},
   "source": [
    "$$\n",
    "\\hat{\\boldsymbol{\\beta}}^{\\mathrm{OLS}}=\\begin{bmatrix}2 \\\\ 2\\end{bmatrix},\n",
    "$$"
   ]
  },
  {
   "cell_type": "markdown",
   "id": "b92a0ebf",
   "metadata": {},
   "source": [
    "The code which implements this simpler case is presented after the discussion of Ridge and Lasso."
   ]
  },
  {
   "cell_type": "markdown",
   "id": "c256efae",
   "metadata": {},
   "source": [
    "## The Ridge case\n",
    "\n",
    "For Ridge regression we have"
   ]
  },
  {
   "cell_type": "markdown",
   "id": "8cd22cb2",
   "metadata": {},
   "source": [
    "$$\n",
    "\\hat{\\boldsymbol{\\beta}}^{\\mathrm{Ridge}}=\\left( \\boldsymbol{X}^T\\boldsymbol{X}+\\lambda\\boldsymbol{I}\\right)^{-1}\\boldsymbol{X}^T\\boldsymbol{y}.\n",
    "$$"
   ]
  },
  {
   "cell_type": "markdown",
   "id": "c47fb57b",
   "metadata": {},
   "source": [
    "Inserting the above values we obtain that"
   ]
  },
  {
   "cell_type": "markdown",
   "id": "c8f3563a",
   "metadata": {},
   "source": [
    "$$\n",
    "\\hat{\\boldsymbol{\\beta}}^{\\mathrm{Ridge}}=\\begin{bmatrix}\\frac{8}{4+\\lambda} \\\\ \\frac{2}{1+\\lambda}\\end{bmatrix},\n",
    "$$"
   ]
  },
  {
   "cell_type": "markdown",
   "id": "c05e67ae",
   "metadata": {},
   "source": [
    "There is normally a constraint on the value of $\\vert\\vert \\boldsymbol{\\beta}\\vert\\vert_2$ via the parameter $\\lambda$.\n",
    "Let us for simplicity assume that $\\beta_0^2+\\beta_1^2=1$ as constraint. This will allow us to find an expression for the optimal values of $\\beta$ and $\\lambda$.\n",
    "\n",
    "To see this, let us write the cost function for Ridge regression."
   ]
  },
  {
   "cell_type": "markdown",
   "id": "088348d8",
   "metadata": {},
   "source": [
    "## Writing the Cost Function\n",
    "\n",
    "We define the MSE without the $1/n$ factor and have then, using that"
   ]
  },
  {
   "cell_type": "markdown",
   "id": "bddbd1c1",
   "metadata": {},
   "source": [
    "$$\n",
    "\\boldsymbol{X}\\boldsymbol{\\beta}=\\begin{bmatrix} 2\\beta_0 \\\\ \\beta_1 \\\\0 \\end{bmatrix},\n",
    "$$"
   ]
  },
  {
   "cell_type": "markdown",
   "id": "7a40414e",
   "metadata": {},
   "source": [
    "$$\n",
    "C(\\boldsymbol{\\beta})=(4-2\\beta_0)^2+(2-\\beta_1)^2+\\lambda(\\beta_0^2+\\beta_1^2),\n",
    "$$"
   ]
  },
  {
   "cell_type": "markdown",
   "id": "f92e5503",
   "metadata": {},
   "source": [
    "and taking the derivative with respect to $\\beta_0$ we get"
   ]
  },
  {
   "cell_type": "markdown",
   "id": "5cbe9d1e",
   "metadata": {},
   "source": [
    "$$\n",
    "\\beta_0=\\frac{8}{4+\\lambda},\n",
    "$$"
   ]
  },
  {
   "cell_type": "markdown",
   "id": "a8eec4f1",
   "metadata": {},
   "source": [
    "and for $\\beta_1$ we obtain"
   ]
  },
  {
   "cell_type": "markdown",
   "id": "0e437273",
   "metadata": {},
   "source": [
    "$$\n",
    "\\beta_1=\\frac{2}{1+\\lambda},\n",
    "$$"
   ]
  },
  {
   "cell_type": "markdown",
   "id": "8dfcdb9a",
   "metadata": {},
   "source": [
    "Using the constraint for $\\beta_0^2+\\beta_1^2=1$ we can constrain $\\lambda$ by solving"
   ]
  },
  {
   "cell_type": "markdown",
   "id": "ed9eef99",
   "metadata": {},
   "source": [
    "$$\n",
    "\\left(\\frac{8}{4+\\lambda}\\right)^2+\\left(\\frac{2}{1+\\lambda}\\right)^2=1,\n",
    "$$"
   ]
  },
  {
   "cell_type": "markdown",
   "id": "109d8af0",
   "metadata": {},
   "source": [
    "which gives $\\lambda=4.571$ and $\\beta_0=0.933$ and $\\beta_1=0.359$."
   ]
  },
  {
   "cell_type": "markdown",
   "id": "92c5efb6",
   "metadata": {},
   "source": [
    "## Lasso case\n",
    "\n",
    "For Lasso we need now, keeping a  constraint on $\\vert\\beta_0\\vert+\\vert\\beta_1\\vert=1$,  to take the derivative of the absolute values of $\\beta_0$\n",
    "and $\\beta_1$. This gives us the following derivatives of the cost function"
   ]
  },
  {
   "cell_type": "markdown",
   "id": "b2c1153c",
   "metadata": {},
   "source": [
    "$$\n",
    "C(\\boldsymbol{\\beta})=(4-2\\beta_0)^2+(2-\\beta_1)^2+\\lambda(\\vert\\beta_0\\vert+\\vert\\beta_1\\vert),\n",
    "$$"
   ]
  },
  {
   "cell_type": "markdown",
   "id": "4194b2e5",
   "metadata": {},
   "source": [
    "$$\n",
    "\\frac{\\partial C(\\boldsymbol{\\beta})}{\\partial \\beta_0}=-4(4-2\\beta_0)+\\lambda\\mathrm{sgn}(\\beta_0)=0,\n",
    "$$"
   ]
  },
  {
   "cell_type": "markdown",
   "id": "131e1a42",
   "metadata": {},
   "source": [
    "and"
   ]
  },
  {
   "cell_type": "markdown",
   "id": "f33fc096",
   "metadata": {},
   "source": [
    "$$\n",
    "\\frac{\\partial C(\\boldsymbol{\\beta})}{\\partial \\beta_1}=-2(2-\\beta_1)+\\lambda\\mathrm{sgn}(\\beta_1)=0.\n",
    "$$"
   ]
  },
  {
   "cell_type": "markdown",
   "id": "dd0dae02",
   "metadata": {},
   "source": [
    "We have now four cases to solve besides the trivial cases $\\beta_0$ and/or $\\beta_1$ are zero, namely\n",
    "1. $\\beta_0 > 0$ and $\\beta_1 > 0$,\n",
    "\n",
    "2. $\\beta_0 > 0$ and $\\beta_1 < 0$,\n",
    "\n",
    "3. $\\beta_0 < 0$ and $\\beta_1 > 0$,\n",
    "\n",
    "4. $\\beta_0 < 0$ and $\\beta_1 < 0$."
   ]
  },
  {
   "cell_type": "markdown",
   "id": "b0f52a05",
   "metadata": {},
   "source": [
    "## The first Case\n",
    "\n",
    "If we consider the first case, we have then"
   ]
  },
  {
   "cell_type": "markdown",
   "id": "7fb366ed",
   "metadata": {},
   "source": [
    "$$\n",
    "-4(4-2\\beta_0)+\\lambda=0,\n",
    "$$"
   ]
  },
  {
   "cell_type": "markdown",
   "id": "86c44d93",
   "metadata": {},
   "source": [
    "and"
   ]
  },
  {
   "cell_type": "markdown",
   "id": "89459eeb",
   "metadata": {},
   "source": [
    "$$\n",
    "-2(2-\\beta_1)+\\lambda=0.\n",
    "$$"
   ]
  },
  {
   "cell_type": "markdown",
   "id": "cccaa858",
   "metadata": {},
   "source": [
    "which yields"
   ]
  },
  {
   "cell_type": "markdown",
   "id": "cc7b7758",
   "metadata": {},
   "source": [
    "$$\n",
    "\\beta_0=\\frac{16+\\lambda}{8},\n",
    "$$"
   ]
  },
  {
   "cell_type": "markdown",
   "id": "6d800c85",
   "metadata": {},
   "source": [
    "and"
   ]
  },
  {
   "cell_type": "markdown",
   "id": "8c528d5c",
   "metadata": {},
   "source": [
    "$$\n",
    "\\beta_1=\\frac{4+\\lambda}{2}.\n",
    "$$"
   ]
  },
  {
   "cell_type": "markdown",
   "id": "05cb813a",
   "metadata": {},
   "source": [
    "Using the constraint on $\\beta_0$ and $\\beta_1$ we can then find the optimal value of $\\lambda$ for the different cases. We leave this as an exercise to you."
   ]
  },
  {
   "cell_type": "markdown",
   "id": "d57718fb",
   "metadata": {},
   "source": [
    "## Simple code for solving the above problem\n",
    "\n",
    "Here we set up the OLS, Ridge and Lasso functionality in order to study the above example. Note that here we have opted for a set of values of $\\lambda$, meaning that we need to perform a search in order to find the optimal values.\n",
    "\n",
    "First we study and compare the OLS and Ridge results.  The next code compares all three methods."
   ]
  },
  {
   "cell_type": "code",
   "execution_count": 1,
   "id": "e5cbb58c",
   "metadata": {},
   "outputs": [],
   "source": [
    "%matplotlib inline\n",
    "\n",
    "import os\n",
    "import numpy as np\n",
    "import pandas as pd\n",
    "import matplotlib.pyplot as plt\n",
    "\n",
    "def R2(y_data, y_model):\n",
    "    return 1 - np.sum((y_data - y_model) ** 2) / np.sum((y_data - np.mean(y_data)) ** 2)\n",
    "def MSE(y_data,y_model):\n",
    "    n = np.size(y_model)\n",
    "    return np.sum((y_data-y_model)**2)/n\n",
    "\n",
    "\n",
    "# A seed just to ensure that the random numbers are the same for every run.\n",
    "# Useful for eventual debugging.\n",
    "\n",
    "X = np.array( [ [ 2, 0], [0, 1], [0,0]])\n",
    "y = np.array( [4, 2, 3])\n",
    "\n",
    "\n",
    "# matrix inversion to find beta\n",
    "OLSbeta = np.linalg.inv(X.T @ X) @ X.T @ y\n",
    "print(OLSbeta)\n",
    "# and then make the prediction\n",
    "ytildeOLS = X @ OLSbeta\n",
    "print(\"Training MSE for OLS\")\n",
    "print(MSE(y,ytildeOLS))\n",
    "ypredictOLS = X @ OLSbeta\n",
    "\n",
    "# Repeat now for Ridge regression and various values of the regularization parameter\n",
    "I = np.eye(2,2)\n",
    "# Decide which values of lambda to use\n",
    "nlambdas = 100\n",
    "MSEPredict = np.zeros(nlambdas)\n",
    "lambdas = np.logspace(-4, 4, nlambdas)\n",
    "for i in range(nlambdas):\n",
    "    lmb = lambdas[i]\n",
    "    Ridgebeta = np.linalg.inv(X.T @ X+lmb*I) @ X.T @ y\n",
    "#    print(Ridgebeta)\n",
    "    # and then make the prediction\n",
    "    ypredictRidge = X @ Ridgebeta\n",
    "    MSEPredict[i] = MSE(y,ypredictRidge)\n",
    "#    print(MSEPredict[i])\n",
    "    # Now plot the results\n",
    "plt.figure()\n",
    "plt.plot(np.log10(lambdas), MSEPredict, 'r--', label = 'MSE Ridge Train')\n",
    "plt.xlabel('log10(lambda)')\n",
    "plt.ylabel('MSE')\n",
    "plt.legend()\n",
    "plt.show()"
   ]
  },
  {
   "cell_type": "markdown",
   "id": "8f33b1d0",
   "metadata": {},
   "source": [
    "We see here that we reach a plateau. What is actually happening?"
   ]
  },
  {
   "cell_type": "markdown",
   "id": "c7d9e649",
   "metadata": {},
   "source": [
    "## With Lasso Regression"
   ]
  },
  {
   "cell_type": "code",
   "execution_count": 2,
   "id": "de0d78be",
   "metadata": {},
   "outputs": [],
   "source": [
    "import os\n",
    "import numpy as np\n",
    "import pandas as pd\n",
    "import matplotlib.pyplot as plt\n",
    "from sklearn import linear_model\n",
    "\n",
    "def R2(y_data, y_model):\n",
    "    return 1 - np.sum((y_data - y_model) ** 2) / np.sum((y_data - np.mean(y_data)) ** 2)\n",
    "def MSE(y_data,y_model):\n",
    "    n = np.size(y_model)\n",
    "    return np.sum((y_data-y_model)**2)/n\n",
    "\n",
    "\n",
    "# A seed just to ensure that the random numbers are the same for every run.\n",
    "# Useful for eventual debugging.\n",
    "\n",
    "X = np.array( [ [ 2, 0], [0, 1], [0,0]])\n",
    "y = np.array( [4, 2, 3])\n",
    "\n",
    "\n",
    "# matrix inversion to find beta\n",
    "OLSbeta = np.linalg.inv(X.T @ X) @ X.T @ y\n",
    "print(OLSbeta)\n",
    "# and then make the prediction\n",
    "ytildeOLS = X @ OLSbeta\n",
    "print(\"Training MSE for OLS\")\n",
    "print(MSE(y,ytildeOLS))\n",
    "ypredictOLS = X @ OLSbeta\n",
    "\n",
    "# Repeat now for Ridge regression and various values of the regularization parameter\n",
    "I = np.eye(2,2)\n",
    "# Decide which values of lambda to use\n",
    "nlambdas = 100\n",
    "MSERidgePredict = np.zeros(nlambdas)\n",
    "MSELassoPredict = np.zeros(nlambdas)\n",
    "lambdas = np.logspace(-4, 4, nlambdas)\n",
    "for i in range(nlambdas):\n",
    "    lmb = lambdas[i]\n",
    "    Ridgebeta = np.linalg.inv(X.T @ X+lmb*I) @ X.T @ y\n",
    "    print(Ridgebeta)\n",
    "    # and then make the prediction\n",
    "    ypredictRidge = X @ Ridgebeta\n",
    "    MSERidgePredict[i] = MSE(y,ypredictRidge)\n",
    "    RegLasso = linear_model.Lasso(lmb)\n",
    "    RegLasso.fit(X,y)\n",
    "    ypredictLasso = RegLasso.predict(X)\n",
    "    print(RegLasso.coef_)\n",
    "    MSELassoPredict[i] = MSE(y,ypredictLasso)\n",
    "# Now plot the results\n",
    "plt.figure()\n",
    "plt.plot(np.log10(lambdas), MSERidgePredict, 'r--', label = 'MSE Ridge Train')\n",
    "plt.plot(np.log10(lambdas), MSELassoPredict, 'r--', label = 'MSE Lasso Train')\n",
    "plt.xlabel('log10(lambda)')\n",
    "plt.ylabel('MSE')\n",
    "plt.legend()\n",
    "plt.show()"
   ]
  },
  {
   "cell_type": "markdown",
   "id": "bc0adde1",
   "metadata": {},
   "source": [
    "## Another Example, now with a polynomial fit"
   ]
  },
  {
   "cell_type": "code",
   "execution_count": 3,
   "id": "eaa98840",
   "metadata": {},
   "outputs": [],
   "source": [
    "import os\n",
    "import numpy as np\n",
    "import pandas as pd\n",
    "import matplotlib.pyplot as plt\n",
    "from sklearn.model_selection import train_test_split\n",
    "from sklearn import linear_model\n",
    "\n",
    "def R2(y_data, y_model):\n",
    "    return 1 - np.sum((y_data - y_model) ** 2) / np.sum((y_data - np.mean(y_data)) ** 2)\n",
    "def MSE(y_data,y_model):\n",
    "    n = np.size(y_model)\n",
    "    return np.sum((y_data-y_model)**2)/n\n",
    "\n",
    "\n",
    "# A seed just to ensure that the random numbers are the same for every run.\n",
    "# Useful for eventual debugging.\n",
    "np.random.seed(3155)\n",
    "\n",
    "x = np.random.rand(100)\n",
    "y = 2.0+5*x*x+0.1*np.random.randn(100)\n",
    "\n",
    "# number of features p (here degree of polynomial\n",
    "p = 3\n",
    "#  The design matrix now as function of a given polynomial\n",
    "X = np.zeros((len(x),p))\n",
    "X[:,0] = 1.0\n",
    "X[:,1] = x\n",
    "X[:,2] = x*x\n",
    "# We split the data in test and training data\n",
    "X_train, X_test, y_train, y_test = train_test_split(X, y, test_size=0.2)\n",
    "\n",
    "# matrix inversion to find beta\n",
    "OLSbeta = np.linalg.inv(X_train.T @ X_train) @ X_train.T @ y_train\n",
    "print(OLSbeta)\n",
    "# and then make the prediction\n",
    "ytildeOLS = X_train @ OLSbeta\n",
    "print(\"Training MSE for OLS\")\n",
    "print(MSE(y_train,ytildeOLS))\n",
    "ypredictOLS = X_test @ OLSbeta\n",
    "print(\"Test MSE OLS\")\n",
    "print(MSE(y_test,ypredictOLS))\n",
    "\n",
    "# Repeat now for Lasso and Ridge regression and various values of the regularization parameter\n",
    "I = np.eye(p,p)\n",
    "# Decide which values of lambda to use\n",
    "nlambdas = 100\n",
    "MSEPredict = np.zeros(nlambdas)\n",
    "MSETrain = np.zeros(nlambdas)\n",
    "MSELassoPredict = np.zeros(nlambdas)\n",
    "MSELassoTrain = np.zeros(nlambdas)\n",
    "lambdas = np.logspace(-4, 4, nlambdas)\n",
    "for i in range(nlambdas):\n",
    "    lmb = lambdas[i]\n",
    "    Ridgebeta = np.linalg.inv(X_train.T @ X_train+lmb*I) @ X_train.T @ y_train\n",
    "    # include lasso using Scikit-Learn\n",
    "    RegLasso = linear_model.Lasso(lmb)\n",
    "    RegLasso.fit(X_train,y_train)\n",
    "    # and then make the prediction\n",
    "    ytildeRidge = X_train @ Ridgebeta\n",
    "    ypredictRidge = X_test @ Ridgebeta\n",
    "    ytildeLasso = RegLasso.predict(X_train)\n",
    "    ypredictLasso = RegLasso.predict(X_test)\n",
    "    MSEPredict[i] = MSE(y_test,ypredictRidge)\n",
    "    MSETrain[i] = MSE(y_train,ytildeRidge)\n",
    "    MSELassoPredict[i] = MSE(y_test,ypredictLasso)\n",
    "    MSELassoTrain[i] = MSE(y_train,ytildeLasso)\n",
    "\n",
    "# Now plot the results\n",
    "plt.figure()\n",
    "plt.plot(np.log10(lambdas), MSETrain, label = 'MSE Ridge train')\n",
    "plt.plot(np.log10(lambdas), MSEPredict, 'r--', label = 'MSE Ridge Test')\n",
    "plt.plot(np.log10(lambdas), MSELassoTrain, label = 'MSE Lasso train')\n",
    "plt.plot(np.log10(lambdas), MSELassoPredict, 'r--', label = 'MSE Lasso Test')\n",
    "\n",
    "plt.xlabel('log10(lambda)')\n",
    "plt.ylabel('MSE')\n",
    "plt.legend()\n",
    "plt.show()"
   ]
  },
  {
   "cell_type": "markdown",
   "id": "1fbf5430",
   "metadata": {},
   "source": [
    "## Linking the regression analysis with a statistical interpretation\n",
    "\n",
    "We will now couple the discussions of ordinary least squares, Ridge\n",
    "and Lasso regression with a statistical interpretation, that is we\n",
    "move from a linear algebra analysis to a statistical analysis. In\n",
    "particular, we will focus on what the regularization terms can result\n",
    "in.  We will amongst other things show that the regularization\n",
    "parameter can reduce considerably the variance of the parameters\n",
    "$\\beta$.\n",
    "\n",
    "The\n",
    "advantage of doing linear regression is that we actually end up with\n",
    "analytical expressions for several statistical quantities.  \n",
    "Standard least squares and Ridge regression  allow us to\n",
    "derive quantities like the variance and other expectation values in a\n",
    "rather straightforward way.\n",
    "\n",
    "It is assumed that $\\varepsilon_i\n",
    "\\sim \\mathcal{N}(0, \\sigma^2)$ and the $\\varepsilon_{i}$ are\n",
    "independent, i.e.:"
   ]
  },
  {
   "cell_type": "markdown",
   "id": "003eea6b",
   "metadata": {},
   "source": [
    "$$\n",
    "\\begin{align*} \n",
    "\\mbox{Cov}(\\varepsilon_{i_1},\n",
    "\\varepsilon_{i_2}) & = \\left\\{ \\begin{array}{lcc} \\sigma^2 & \\mbox{if}\n",
    "& i_1 = i_2, \\\\ 0 & \\mbox{if} & i_1 \\not= i_2.  \\end{array} \\right.\n",
    "\\end{align*}\n",
    "$$"
   ]
  },
  {
   "cell_type": "markdown",
   "id": "e781c15c",
   "metadata": {},
   "source": [
    "The randomness of $\\varepsilon_i$ implies that\n",
    "$\\mathbf{y}_i$ is also a random variable. In particular,\n",
    "$\\mathbf{y}_i$ is normally distributed, because $\\varepsilon_i \\sim\n",
    "\\mathcal{N}(0, \\sigma^2)$ and $\\mathbf{X}_{i,\\ast} \\, \\boldsymbol{\\beta}$ is a\n",
    "non-random scalar. To specify the parameters of the distribution of\n",
    "$\\mathbf{y}_i$ we need to calculate its first two moments. \n",
    "\n",
    "Recall that $\\boldsymbol{X}$ is a matrix of dimensionality $n\\times p$. The\n",
    "notation above $\\mathbf{X}_{i,\\ast}$ means that we are looking at the\n",
    "row number $i$ and perform a sum over all values $p$."
   ]
  },
  {
   "cell_type": "markdown",
   "id": "61bc6683",
   "metadata": {},
   "source": [
    "## Assumptions made\n",
    "\n",
    "The assumption we have made here can be summarized as (and this is going to be useful when we discuss the bias-variance trade off)\n",
    "that there exists a function $f(\\boldsymbol{x})$ and  a normal distributed error $\\boldsymbol{\\varepsilon}\\sim \\mathcal{N}(0, \\sigma^2)$\n",
    "which describe our data"
   ]
  },
  {
   "cell_type": "markdown",
   "id": "2214f054",
   "metadata": {},
   "source": [
    "$$\n",
    "\\boldsymbol{y} = f(\\boldsymbol{x})+\\boldsymbol{\\varepsilon}\n",
    "$$"
   ]
  },
  {
   "cell_type": "markdown",
   "id": "13eeda9f",
   "metadata": {},
   "source": [
    "We approximate this function with our model from the solution of the linear regression equations, that is our\n",
    "function $f$ is approximated by $\\boldsymbol{\\tilde{y}}$ where we want to minimize $(\\boldsymbol{y}-\\boldsymbol{\\tilde{y}})^2$, our MSE, with"
   ]
  },
  {
   "cell_type": "markdown",
   "id": "0ff70d84",
   "metadata": {},
   "source": [
    "$$\n",
    "\\boldsymbol{\\tilde{y}} = \\boldsymbol{X}\\boldsymbol{\\beta}.\n",
    "$$"
   ]
  },
  {
   "cell_type": "markdown",
   "id": "228c5144",
   "metadata": {},
   "source": [
    "## Expectation value and variance\n",
    "\n",
    "We can calculate the expectation value of $\\boldsymbol{y}$ for a given element $i$"
   ]
  },
  {
   "cell_type": "markdown",
   "id": "ecb2f31d",
   "metadata": {},
   "source": [
    "$$\n",
    "\\begin{align*} \n",
    "\\mathbb{E}(y_i) & =\n",
    "\\mathbb{E}(\\mathbf{X}_{i, \\ast} \\, \\boldsymbol{\\beta}) + \\mathbb{E}(\\varepsilon_i)\n",
    "\\, \\, \\, = \\, \\, \\, \\mathbf{X}_{i, \\ast} \\, \\beta, \n",
    "\\end{align*}\n",
    "$$"
   ]
  },
  {
   "cell_type": "markdown",
   "id": "05f5f640",
   "metadata": {},
   "source": [
    "while\n",
    "its variance is"
   ]
  },
  {
   "cell_type": "markdown",
   "id": "b0ad8779",
   "metadata": {},
   "source": [
    "$$\n",
    "\\begin{align*} \\mbox{Var}(y_i) & = \\mathbb{E} \\{ [y_i\n",
    "- \\mathbb{E}(y_i)]^2 \\} \\, \\, \\, = \\, \\, \\, \\mathbb{E} ( y_i^2 ) -\n",
    "[\\mathbb{E}(y_i)]^2  \\\\  & = \\mathbb{E} [ ( \\mathbf{X}_{i, \\ast} \\,\n",
    "\\beta + \\varepsilon_i )^2] - ( \\mathbf{X}_{i, \\ast} \\, \\boldsymbol{\\beta})^2 \\\\ &\n",
    "= \\mathbb{E} [ ( \\mathbf{X}_{i, \\ast} \\, \\boldsymbol{\\beta})^2 + 2 \\varepsilon_i\n",
    "\\mathbf{X}_{i, \\ast} \\, \\boldsymbol{\\beta} + \\varepsilon_i^2 ] - ( \\mathbf{X}_{i,\n",
    "\\ast} \\, \\beta)^2 \\\\  & = ( \\mathbf{X}_{i, \\ast} \\, \\boldsymbol{\\beta})^2 + 2\n",
    "\\mathbb{E}(\\varepsilon_i) \\mathbf{X}_{i, \\ast} \\, \\boldsymbol{\\beta} +\n",
    "\\mathbb{E}(\\varepsilon_i^2 ) - ( \\mathbf{X}_{i, \\ast} \\, \\boldsymbol{\\beta})^2 \n",
    "\\\\ & = \\mathbb{E}(\\varepsilon_i^2 ) \\, \\, \\, = \\, \\, \\,\n",
    "\\mbox{Var}(\\varepsilon_i) \\, \\, \\, = \\, \\, \\, \\sigma^2.  \n",
    "\\end{align*}\n",
    "$$"
   ]
  },
  {
   "cell_type": "markdown",
   "id": "e3d68a82",
   "metadata": {},
   "source": [
    "Hence, $y_i \\sim \\mathcal{N}( \\mathbf{X}_{i, \\ast} \\, \\boldsymbol{\\beta}, \\sigma^2)$, that is $\\boldsymbol{y}$ follows a normal distribution with \n",
    "mean value $\\boldsymbol{X}\\boldsymbol{\\beta}$ and variance $\\sigma^2$ (not be confused with the singular values of the SVD)."
   ]
  },
  {
   "cell_type": "markdown",
   "id": "5c30e91d",
   "metadata": {},
   "source": [
    "## Expectation value and variance for $\\boldsymbol{\\beta}$\n",
    "\n",
    "With the OLS expressions for the parameters $\\boldsymbol{\\beta}$ we can evaluate the expectation value"
   ]
  },
  {
   "cell_type": "markdown",
   "id": "279b0d54",
   "metadata": {},
   "source": [
    "$$\n",
    "\\mathbb{E}(\\boldsymbol{\\beta}) = \\mathbb{E}[ (\\mathbf{X}^{\\top} \\mathbf{X})^{-1}\\mathbf{X}^{T} \\mathbf{Y}]=(\\mathbf{X}^{T} \\mathbf{X})^{-1}\\mathbf{X}^{T} \\mathbb{E}[ \\mathbf{Y}]=(\\mathbf{X}^{T} \\mathbf{X})^{-1} \\mathbf{X}^{T}\\mathbf{X}\\boldsymbol{\\beta}=\\boldsymbol{\\beta}.\n",
    "$$"
   ]
  },
  {
   "cell_type": "markdown",
   "id": "a2b34c26",
   "metadata": {},
   "source": [
    "This means that the estimator of the regression parameters is unbiased.\n",
    "\n",
    "We can also calculate the variance\n",
    "\n",
    "The variance of $\\boldsymbol{\\beta}$ is"
   ]
  },
  {
   "cell_type": "markdown",
   "id": "77e19587",
   "metadata": {},
   "source": [
    "$$\n",
    "\\begin{eqnarray*}\n",
    "\\mbox{Var}(\\boldsymbol{\\beta}) & = & \\mathbb{E} \\{ [\\boldsymbol{\\beta} - \\mathbb{E}(\\boldsymbol{\\beta})] [\\boldsymbol{\\beta} - \\mathbb{E}(\\boldsymbol{\\beta})]^{T} \\}\n",
    "\\\\\n",
    "& = & \\mathbb{E} \\{ [(\\mathbf{X}^{T} \\mathbf{X})^{-1} \\, \\mathbf{X}^{T} \\mathbf{Y} - \\boldsymbol{\\beta}] \\, [(\\mathbf{X}^{T} \\mathbf{X})^{-1} \\, \\mathbf{X}^{T} \\mathbf{Y} - \\boldsymbol{\\beta}]^{T} \\}\n",
    "\\\\\n",
    "% & = & \\mathbb{E} \\{ [(\\mathbf{X}^{T} \\mathbf{X})^{-1} \\, \\mathbf{X}^{T} \\mathbf{Y}] \\, [(\\mathbf{X}^{T} \\mathbf{X})^{-1} \\, \\mathbf{X}^{T} \\mathbf{Y}]^{T} \\} - \\boldsymbol{\\beta} \\, \\boldsymbol{\\beta}^{T}\n",
    "% \\\\\n",
    "% & = & \\mathbb{E} \\{ (\\mathbf{X}^{T} \\mathbf{X})^{-1} \\, \\mathbf{X}^{T} \\mathbf{Y} \\, \\mathbf{Y}^{T} \\, \\mathbf{X} \\, (\\mathbf{X}^{T} \\mathbf{X})^{-1}  \\} - \\boldsymbol{\\beta} \\, \\boldsymbol{\\beta}^{T}\n",
    "% \\\\\n",
    "& = & (\\mathbf{X}^{T} \\mathbf{X})^{-1} \\, \\mathbf{X}^{T} \\, \\mathbb{E} \\{ \\mathbf{Y} \\, \\mathbf{Y}^{T} \\} \\, \\mathbf{X} \\, (\\mathbf{X}^{T} \\mathbf{X})^{-1} - \\boldsymbol{\\beta} \\, \\boldsymbol{\\beta}^{T}\n",
    "\\\\\n",
    "& = & (\\mathbf{X}^{T} \\mathbf{X})^{-1} \\, \\mathbf{X}^{T} \\, \\{ \\mathbf{X} \\, \\boldsymbol{\\beta} \\, \\boldsymbol{\\beta}^{T} \\,  \\mathbf{X}^{T} + \\sigma^2 \\} \\, \\mathbf{X} \\, (\\mathbf{X}^{T} \\mathbf{X})^{-1} - \\boldsymbol{\\beta} \\, \\boldsymbol{\\beta}^{T}\n",
    "% \\\\\n",
    "% & = & (\\mathbf{X}^T \\mathbf{X})^{-1} \\, \\mathbf{X}^T \\, \\mathbf{X} \\, \\boldsymbol{\\beta} \\, \\boldsymbol{\\beta}^T \\,  \\mathbf{X}^T \\, \\mathbf{X} \\, (\\mathbf{X}^T % \\mathbf{X})^{-1}\n",
    "% \\\\\n",
    "% & & + \\, \\, \\sigma^2 \\, (\\mathbf{X}^T \\mathbf{X})^{-1} \\, \\mathbf{X}^T  \\, \\mathbf{X} \\, (\\mathbf{X}^T \\mathbf{X})^{-1} - \\boldsymbol{\\beta} \\boldsymbol{\\beta}^T\n",
    "\\\\\n",
    "& = & \\boldsymbol{\\beta} \\, \\boldsymbol{\\beta}^{T}  + \\sigma^2 \\, (\\mathbf{X}^{T} \\mathbf{X})^{-1} - \\boldsymbol{\\beta} \\, \\boldsymbol{\\beta}^{T}\n",
    "\\, \\, \\, = \\, \\, \\, \\sigma^2 \\, (\\mathbf{X}^{T} \\mathbf{X})^{-1},\n",
    "\\end{eqnarray*}\n",
    "$$"
   ]
  },
  {
   "cell_type": "markdown",
   "id": "2be8ff68",
   "metadata": {},
   "source": [
    "where we have used  that $\\mathbb{E} (\\mathbf{Y} \\mathbf{Y}^{T}) =\n",
    "\\mathbf{X} \\, \\boldsymbol{\\beta} \\, \\boldsymbol{\\beta}^{T} \\, \\mathbf{X}^{T} +\n",
    "\\sigma^2 \\, \\mathbf{I}_{nn}$. From $\\mbox{Var}(\\boldsymbol{\\beta}) = \\sigma^2\n",
    "\\, (\\mathbf{X}^{T} \\mathbf{X})^{-1}$, one obtains an estimate of the\n",
    "variance of the estimate of the $j$-th regression coefficient:\n",
    "$\\boldsymbol{\\sigma}^2 (\\boldsymbol{\\beta}_j ) = \\boldsymbol{\\sigma}^2 [(\\mathbf{X}^{T} \\mathbf{X})^{-1}]_{jj} $. This may be used to\n",
    "construct a confidence interval for the estimates.\n",
    "\n",
    "In a similar way, we can obtain analytical expressions for say the\n",
    "expectation values of the parameters $\\boldsymbol{\\beta}$ and their variance\n",
    "when we employ Ridge regression, allowing us again to define a confidence interval. \n",
    "\n",
    "It is rather straightforward to show that"
   ]
  },
  {
   "cell_type": "markdown",
   "id": "0464d4ad",
   "metadata": {},
   "source": [
    "$$\n",
    "\\mathbb{E} \\big[ \\boldsymbol{\\beta}^{\\mathrm{Ridge}} \\big]=(\\mathbf{X}^{T} \\mathbf{X} + \\lambda \\mathbf{I}_{pp})^{-1} (\\mathbf{X}^{\\top} \\mathbf{X})\\boldsymbol{\\beta}^{\\mathrm{OLS}}.\n",
    "$$"
   ]
  },
  {
   "cell_type": "markdown",
   "id": "4c77bac8",
   "metadata": {},
   "source": [
    "We see clearly that \n",
    "$\\mathbb{E} \\big[ \\boldsymbol{\\beta}^{\\mathrm{Ridge}} \\big] \\not= \\boldsymbol{\\beta}^{\\mathrm{OLS}}$ for any $\\lambda > 0$. We say then that the ridge estimator is biased.\n",
    "\n",
    "We can also compute the variance as"
   ]
  },
  {
   "cell_type": "markdown",
   "id": "f1008476",
   "metadata": {},
   "source": [
    "$$\n",
    "\\mbox{Var}[\\boldsymbol{\\beta}^{\\mathrm{Ridge}}]=\\sigma^2[  \\mathbf{X}^{T} \\mathbf{X} + \\lambda \\mathbf{I} ]^{-1}  \\mathbf{X}^{T} \\mathbf{X} \\{ [  \\mathbf{X}^{\\top} \\mathbf{X} + \\lambda \\mathbf{I} ]^{-1}\\}^{T},\n",
    "$$"
   ]
  },
  {
   "cell_type": "markdown",
   "id": "b4315954",
   "metadata": {},
   "source": [
    "and it is easy to see that if the parameter $\\lambda$ goes to infinity then the variance of Ridge parameters $\\boldsymbol{\\beta}$ goes to zero. \n",
    "\n",
    "With this, we can compute the difference"
   ]
  },
  {
   "cell_type": "markdown",
   "id": "cb759f6e",
   "metadata": {},
   "source": [
    "$$\n",
    "\\mbox{Var}[\\boldsymbol{\\beta}^{\\mathrm{OLS}}]-\\mbox{Var}(\\boldsymbol{\\beta}^{\\mathrm{Ridge}})=\\sigma^2 [  \\mathbf{X}^{T} \\mathbf{X} + \\lambda \\mathbf{I} ]^{-1}[ 2\\lambda\\mathbf{I} + \\lambda^2 (\\mathbf{X}^{T} \\mathbf{X})^{-1} ] \\{ [  \\mathbf{X}^{T} \\mathbf{X} + \\lambda \\mathbf{I} ]^{-1}\\}^{T}.\n",
    "$$"
   ]
  },
  {
   "cell_type": "markdown",
   "id": "668baa4f",
   "metadata": {},
   "source": [
    "The difference is non-negative definite since each component of the\n",
    "matrix product is non-negative definite. \n",
    "This means the variance we obtain with the standard OLS will always for $\\lambda > 0$ be larger than the variance of $\\boldsymbol{\\beta}$ obtained with the Ridge estimator. This has interesting consequences when we discuss the so-called bias-variance trade-off below."
   ]
  },
  {
   "cell_type": "markdown",
   "id": "b061bc23",
   "metadata": {},
   "source": [
    "## Deriving OLS from a probability distribution\n",
    "\n",
    "Our basic assumption when we derived the OLS equations was to assume\n",
    "that our output is determined by a given continuous function\n",
    "$f(\\boldsymbol{x})$ and a random noise $\\boldsymbol{\\epsilon}$ given by the normal\n",
    "distribution with zero mean value and an undetermined variance\n",
    "$\\sigma^2$.\n",
    "\n",
    "We found above that the outputs $\\boldsymbol{y}$ have a mean value given by\n",
    "$\\boldsymbol{X}\\hat{\\boldsymbol{\\beta}}$ and variance $\\sigma^2$. Since the entries to\n",
    "the design matrix are not stochastic variables, we can assume that the\n",
    "probability distribution of our targets is also a normal distribution\n",
    "but now with mean value $\\boldsymbol{X}\\hat{\\boldsymbol{\\beta}}$. This means that a\n",
    "single output $y_i$ is given by the Gaussian distribution"
   ]
  },
  {
   "cell_type": "markdown",
   "id": "f6d16327",
   "metadata": {},
   "source": [
    "$$\n",
    "y_i\\sim \\mathcal{N}(\\boldsymbol{X}_{i,*}\\boldsymbol{\\beta}, \\sigma^2)=\\frac{1}{\\sqrt{2\\pi\\sigma^2}}\\exp{\\left[-\\frac{(y_i-\\boldsymbol{X}_{i,*}\\boldsymbol{\\beta})^2}{2\\sigma^2}\\right]}.\n",
    "$$"
   ]
  },
  {
   "cell_type": "markdown",
   "id": "728e6e9a",
   "metadata": {},
   "source": [
    "## Independent and Identically Distrubuted (iid)\n",
    "\n",
    "We assume now that the various $y_i$ values are stochastically distributed according to the above Gaussian distribution. \n",
    "We define this distribution as"
   ]
  },
  {
   "cell_type": "markdown",
   "id": "f338cc56",
   "metadata": {},
   "source": [
    "$$\n",
    "p(y_i, \\boldsymbol{X}\\vert\\boldsymbol{\\beta})=\\frac{1}{\\sqrt{2\\pi\\sigma^2}}\\exp{\\left[-\\frac{(y_i-\\boldsymbol{X}_{i,*}\\boldsymbol{\\beta})^2}{2\\sigma^2}\\right]},\n",
    "$$"
   ]
  },
  {
   "cell_type": "markdown",
   "id": "ac69cc29",
   "metadata": {},
   "source": [
    "which reads as finding the likelihood of an event $y_i$ with the input variables $\\boldsymbol{X}$ given the parameters (to be determined) $\\boldsymbol{\\beta}$.\n",
    "\n",
    "Since these events are assumed to be independent and identicall distributed we can build the probability distribution function (PDF) for all possible event $\\boldsymbol{y}$ as the product of the single events, that is we have"
   ]
  },
  {
   "cell_type": "markdown",
   "id": "a93cdb49",
   "metadata": {},
   "source": [
    "$$\n",
    "p(\\boldsymbol{y},\\boldsymbol{X}\\vert\\boldsymbol{\\beta})=\\prod_{i=0}^{n-1}\\frac{1}{\\sqrt{2\\pi\\sigma^2}}\\exp{\\left[-\\frac{(y_i-\\boldsymbol{X}_{i,*}\\boldsymbol{\\beta})^2}{2\\sigma^2}\\right]}=\\prod_{i=0}^{n-1}p(y_i,\\boldsymbol{X}\\vert\\boldsymbol{\\beta}).\n",
    "$$"
   ]
  },
  {
   "cell_type": "markdown",
   "id": "893f8f0a",
   "metadata": {},
   "source": [
    "We will write this in a more compact form reserving $\\boldsymbol{D}$ for the domain of events, including the ouputs (targets) and the inputs. That is\n",
    "in case we have a simple one-dimensional input and output case"
   ]
  },
  {
   "cell_type": "markdown",
   "id": "1f5c5e41",
   "metadata": {},
   "source": [
    "$$\n",
    "\\boldsymbol{D}=[(x_0,y_0), (x_1,y_1),\\dots, (x_{n-1},y_{n-1})].\n",
    "$$"
   ]
  },
  {
   "cell_type": "markdown",
   "id": "64d26704",
   "metadata": {},
   "source": [
    "In the more general case the various inputs should be replaced by the possible features represented by the input data set $\\boldsymbol{X}$. \n",
    "We can now rewrite the above probability as"
   ]
  },
  {
   "cell_type": "markdown",
   "id": "c2cad71c",
   "metadata": {},
   "source": [
    "$$\n",
    "p(\\boldsymbol{D}\\vert\\boldsymbol{\\beta})=\\prod_{i=0}^{n-1}\\frac{1}{\\sqrt{2\\pi\\sigma^2}}\\exp{\\left[-\\frac{(y_i-\\boldsymbol{X}_{i,*}\\boldsymbol{\\beta})^2}{2\\sigma^2}\\right]}.\n",
    "$$"
   ]
  },
  {
   "cell_type": "markdown",
   "id": "b9b11e54",
   "metadata": {},
   "source": [
    "It is a conditional probability (see below) and reads as the likelihood of a domain of events $\\boldsymbol{D}$ given a set of parameters $\\boldsymbol{\\beta}$."
   ]
  },
  {
   "cell_type": "markdown",
   "id": "de5aaa55",
   "metadata": {},
   "source": [
    "## Maximum Likelihood Estimation (MLE)\n",
    "\n",
    "In statistics, maximum likelihood estimation (MLE) is a method of\n",
    "estimating the parameters of an assumed probability distribution,\n",
    "given some observed data. This is achieved by maximizing a likelihood\n",
    "function so that, under the assumed statistical model, the observed\n",
    "data is the most probable. \n",
    "\n",
    "We will assume here that our events are given by the above Gaussian\n",
    "distribution and we will determine the optimal parameters $\\beta$ by\n",
    "maximizing the above PDF. However, computing the derivatives of a\n",
    "product function is cumbersome and can easily lead to overflow and/or\n",
    "underflowproblems, with potentials for loss of numerical precision.\n",
    "\n",
    "In practice, it is more convenient to maximize the logarithm of the\n",
    "PDF because it is a monotonically increasing function of the argument.\n",
    "Alternatively, and this will be our option, we will minimize the\n",
    "negative of the logarithm since this is a monotonically decreasing\n",
    "function.\n",
    "\n",
    "Note also that maximization/minimization of the logarithm of the PDF\n",
    "is equivalent to the maximization/minimization of the function itself."
   ]
  },
  {
   "cell_type": "markdown",
   "id": "155939c1",
   "metadata": {},
   "source": [
    "## A new Cost Function\n",
    "\n",
    "We could now define a new cost function to minimize, namely the negative logarithm of the above PDF"
   ]
  },
  {
   "cell_type": "markdown",
   "id": "47280436",
   "metadata": {},
   "source": [
    "$$\n",
    "C(\\boldsymbol{\\beta}=-\\log{\\prod_{i=0}^{n-1}p(y_i,\\boldsymbol{X}\\vert\\boldsymbol{\\beta})}=-\\sum_{i=0}^{n-1}\\log{p(y_i,\\boldsymbol{X}\\vert\\boldsymbol{\\beta})},\n",
    "$$"
   ]
  },
  {
   "cell_type": "markdown",
   "id": "cd001239",
   "metadata": {},
   "source": [
    "which becomes"
   ]
  },
  {
   "cell_type": "markdown",
   "id": "57d3b398",
   "metadata": {},
   "source": [
    "$$\n",
    "C(\\boldsymbol{\\beta}=\\frac{n}{2}\\log{2\\pi\\sigma^2}+\\frac{\\vert\\vert (\\boldsymbol{y}-\\boldsymbol{X}\\boldsymbol{\\beta})\\vert\\vert_2^2}{2\\sigma^2}.\n",
    "$$"
   ]
  },
  {
   "cell_type": "markdown",
   "id": "6aa6f5f5",
   "metadata": {},
   "source": [
    "Taking the derivative of the *new* cost function with respect to the parameters $\\beta$ we recognize our familiar OLS equation, namely"
   ]
  },
  {
   "cell_type": "markdown",
   "id": "d863778a",
   "metadata": {},
   "source": [
    "$$\n",
    "\\boldsymbol{X}^T\\left(\\boldsymbol{y}-\\boldsymbol{X}\\boldsymbol{\\beta}\\right) =0,\n",
    "$$"
   ]
  },
  {
   "cell_type": "markdown",
   "id": "28a5bcbb",
   "metadata": {},
   "source": [
    "which leads to the well-known OLS equation for the optimal paramters $\\beta$"
   ]
  },
  {
   "cell_type": "markdown",
   "id": "5b238ddd",
   "metadata": {},
   "source": [
    "$$\n",
    "\\hat{\\boldsymbol{\\beta}}^{\\mathrm{OLS}}=\\left(\\boldsymbol{X}^T\\boldsymbol{X}\\right)^{-1}\\boldsymbol{X}^T\\boldsymbol{y}!\n",
    "$$"
   ]
  },
  {
   "cell_type": "markdown",
   "id": "65d66926",
   "metadata": {},
   "source": [
    "Before we make a similar analysis for Ridge and Lasso regression, we need a short reminder on statistics."
   ]
  },
  {
   "cell_type": "markdown",
   "id": "cc571114",
   "metadata": {},
   "source": [
    "## More basic Statistics and Bayes' theorem\n",
    "\n",
    "A central theorem in statistics is Bayes' theorem. This theorem plays a similar role as the good old Pythagoras' theorem in geometry.\n",
    "Bayes' theorem is extremely simple to derive. But to do so we need some basic axioms from statistics.\n",
    "\n",
    "Assume we have two domains of events $X=[x_0,x_1,\\dots,x_{n-1}]$ and $Y=[y_0,y_1,\\dots,y_{n-1}]$.\n",
    "\n",
    "We define also the likelihood for $X$ and $Y$ as $p(X)$ and $p(Y)$ respectively.\n",
    "The likelihood of a specific event $x_i$ (or $y_i$) is then written as $p(X=x_i)$ or just $p(x_i)=p_i$. \n",
    "\n",
    "**Union of events is given by.**"
   ]
  },
  {
   "cell_type": "markdown",
   "id": "5994407b",
   "metadata": {},
   "source": [
    "$$\n",
    "p(X \\cup Y)= p(X)+p(Y)-p(X \\cap Y).\n",
    "$$"
   ]
  },
  {
   "cell_type": "markdown",
   "id": "ec304836",
   "metadata": {},
   "source": [
    "**The product rule (aka joint probability) is given by.**"
   ]
  },
  {
   "cell_type": "markdown",
   "id": "b92aa077",
   "metadata": {},
   "source": [
    "$$\n",
    "p(X \\cup Y)= p(X,Y)= p(X\\vert Y)p(Y)=p(Y\\vert X)p(X),\n",
    "$$"
   ]
  },
  {
   "cell_type": "markdown",
   "id": "e1887127",
   "metadata": {},
   "source": [
    "where we read $p(X\\vert Y)$ as the likelihood of obtaining $X$ given $Y$.\n",
    "\n",
    "If we have independent events then $p(X,Y)=p(X)p(Y)$."
   ]
  },
  {
   "cell_type": "markdown",
   "id": "42e4939a",
   "metadata": {},
   "source": [
    "## Marginal Probability\n",
    "\n",
    "The marginal probability is defined in terms of only one of the set of variables $X,Y$. For a discrete probability we have"
   ]
  },
  {
   "cell_type": "markdown",
   "id": "aef39fa3",
   "metadata": {},
   "source": [
    "$$\n",
    "p(X)=\\sum_{i=0}^{n-1}p(X,Y=y_i)=\\sum_{i=0}^{n-1}p(X\\vert Y=y_i)p(Y=y_i)=\\sum_{i=0}^{n-1}p(X\\vert y_i)p(y_i).\n",
    "$$"
   ]
  },
  {
   "cell_type": "markdown",
   "id": "00407019",
   "metadata": {},
   "source": [
    "## Conditional  Probability\n",
    "\n",
    "The conditional  probability, if $p(Y) > 0$, is"
   ]
  },
  {
   "cell_type": "markdown",
   "id": "e98958f7",
   "metadata": {},
   "source": [
    "$$\n",
    "p(X\\vert Y)= \\frac{p(X,Y)}{p(Y)}=\\frac{p(X,Y)}{\\sum_{i=0}^{n-1}p(Y\\vert X=x_i)p(x_i)}.\n",
    "$$"
   ]
  },
  {
   "cell_type": "markdown",
   "id": "fc387a05",
   "metadata": {},
   "source": [
    "## Bayes' Theorem\n",
    "\n",
    "If we combine the conditional probability with the marginal probability and the standard product rule, we have"
   ]
  },
  {
   "cell_type": "markdown",
   "id": "b01d29ab",
   "metadata": {},
   "source": [
    "$$\n",
    "p(X\\vert Y)= \\frac{p(X,Y)}{p(Y)},\n",
    "$$"
   ]
  },
  {
   "cell_type": "markdown",
   "id": "545af735",
   "metadata": {},
   "source": [
    "which we can rewrite as"
   ]
  },
  {
   "cell_type": "markdown",
   "id": "1178fdca",
   "metadata": {},
   "source": [
    "$$\n",
    "p(X\\vert Y)= \\frac{p(X,Y)}{\\sum_{i=0}^{n-1}p(Y\\vert X=x_i)p(x_i)}=\\frac{p(Y\\vert X)p(X)}{\\sum_{i=0}^{n-1}p(Y\\vert X=x_i)p(x_i)},\n",
    "$$"
   ]
  },
  {
   "cell_type": "markdown",
   "id": "b3cc57d9",
   "metadata": {},
   "source": [
    "which is Bayes' theorem. It allows us to evaluate the uncertainty in in $X$ after we have observed $Y$. We can easily interchange $X$ with $Y$."
   ]
  },
  {
   "cell_type": "markdown",
   "id": "e0caa4b9",
   "metadata": {},
   "source": [
    "## Interpretations of Bayes' Theorem\n",
    "\n",
    "The quantity $p(Y\\vert X)$ on the right-hand side of the theorem is\n",
    "evaluated for the observed data $Y$ and can be viewed as a function of\n",
    "the parameter space represented by $X$. This function is not\n",
    "necesseraly normalized and is normally called the likelihood function.\n",
    "\n",
    "The function $p(X)$ on the right hand side is called the prior while the function on the left hand side is the called the posterior probability. The denominator on the right hand side serves as a normalization factor for the posterior distribution.\n",
    "\n",
    "Let us try to illustrate Bayes' theorem through an example."
   ]
  },
  {
   "cell_type": "markdown",
   "id": "e8da2080",
   "metadata": {},
   "source": [
    "## Example of Usage of Bayes' theorem\n",
    "\n",
    "Let us suppose that you are undergoing a series of mammography scans in\n",
    "order to rule out possible breast cancer cases.  We define the\n",
    "sensitivity for a positive event by the variable $X$. It takes binary\n",
    "values with $X=1$ representing a positive event and $X=0$ being a\n",
    "negative event. We reserve $Y$ as a classification parameter for\n",
    "either a negative or a positive breast cancer confirmation. (Short note on wordings: positive here means having breast cancer, although none of us would consider this being a  positive thing).\n",
    "\n",
    "We let $Y=1$ represent the the case of having breast cancer and $Y=0$ as not.\n",
    "\n",
    "Let us assume that if you have breast cancer, the test will be positive with a probability of $0.8$, that is we have"
   ]
  },
  {
   "cell_type": "markdown",
   "id": "8c20411a",
   "metadata": {},
   "source": [
    "$$\n",
    "p(X=1\\vert Y=1) =0.8.\n",
    "$$"
   ]
  },
  {
   "cell_type": "markdown",
   "id": "f3be9994",
   "metadata": {},
   "source": [
    "This obviously sounds  scary since many would conclude that if the test is positive, there is a likelihood of $80\\%$ for having cancer.\n",
    "It is however not correct, as the following Bayesian analysis shows."
   ]
  },
  {
   "cell_type": "markdown",
   "id": "e5b6c033",
   "metadata": {},
   "source": [
    "## Doing it correctly\n",
    "\n",
    "If we look at various national surveys on breast cancer, the general likelihood of developing breast cancer is a very small number.\n",
    "Let us assume that the prior probability in the population as a whole is"
   ]
  },
  {
   "cell_type": "markdown",
   "id": "8cf447c3",
   "metadata": {},
   "source": [
    "$$\n",
    "p(Y=1) =0.004.\n",
    "$$"
   ]
  },
  {
   "cell_type": "markdown",
   "id": "7ae223a1",
   "metadata": {},
   "source": [
    "We need also to account for the fact that the test may produce a false positive result (false alarm). Let us here assume that we have"
   ]
  },
  {
   "cell_type": "markdown",
   "id": "1902ca2f",
   "metadata": {},
   "source": [
    "$$\n",
    "p(X=1\\vert Y=0) =0.1.\n",
    "$$"
   ]
  },
  {
   "cell_type": "markdown",
   "id": "492a3080",
   "metadata": {},
   "source": [
    "Using Bayes' theorem we can then find the posterior probability that the person has breast cancer in case of a positive test, that is we can compute"
   ]
  },
  {
   "cell_type": "markdown",
   "id": "593f1e52",
   "metadata": {},
   "source": [
    "$$\n",
    "p(Y=1\\vert X=1)=\\frac{p(X=1\\vert Y=1)p(Y=1)}{p(X=1\\vert Y=1)p(Y=1)+p(X=1\\vert Y=0)p(Y=0)}=\\frac{0.8\\times 0.004}{0.8\\times 0.004+0.1\\times 0.996}=0.031.\n",
    "$$"
   ]
  },
  {
   "cell_type": "markdown",
   "id": "c7acf6c1",
   "metadata": {},
   "source": [
    "That is, in case of a positive test, there is only a $3\\%$ chance of having breast cancer!"
   ]
  },
  {
   "cell_type": "markdown",
   "id": "23832fd2",
   "metadata": {},
   "source": [
    "## Bayes' Theorem and Ridge and Lasso Regression\n",
    "\n",
    "Hitherto we have discussed Ridge and Lasso regression in terms of a\n",
    "linear analysis. This may to many of you feel rather technical and\n",
    "perhaps not that intuitive. The question is whether we can develop a\n",
    "more intuitive way of understanding what Ridge and Lasso express.\n",
    "\n",
    "Before we proceed let us perform a Ridge, Lasso  and OLS analysis of a polynomial fit."
   ]
  },
  {
   "cell_type": "markdown",
   "id": "e84316ab",
   "metadata": {},
   "source": [
    "## Test Function for what happens with OLS, Ridge and Lasso\n",
    "\n",
    "We will play around with a study of the values for the optimal\n",
    "parameters $\\boldsymbol{\\beta}$ using OLS, Ridge and Lasso regression.  For\n",
    "OLS, you will notice as function of the noise and polynomial degree,\n",
    "that the parameters $\\beta$ will fluctuate from order to order in the\n",
    "polynomial fit and that for larger and larger polynomial degrees of freedom, the parameters will tend to increase in value for OLS.\n",
    "\n",
    "For Ridge and Lasso regression, the higher order parameters will typically be reduced, providing thereby less fluctuations from one order to another one."
   ]
  },
  {
   "cell_type": "code",
   "execution_count": 4,
   "id": "b69d6d9f",
   "metadata": {},
   "outputs": [],
   "source": [
    "import numpy as np\n",
    "import matplotlib.pyplot as plt\n",
    "from sklearn.model_selection import train_test_split\n",
    "from sklearn import linear_model\n",
    "\n",
    "def R2(y_data, y_model):\n",
    "    return 1 - np.sum((y_data - y_model) ** 2) / np.sum((y_data - np.mean(y_data)) ** 2)\n",
    "def MSE(y_data,y_model):\n",
    "    n = np.size(y_model)\n",
    "    return np.sum((y_data-y_model)**2)/n\n",
    "\n",
    "# Make data set.\n",
    "n = 10000\n",
    "x = np.random.rand(n)\n",
    "y = np.exp(-x**2) + 1.5 * np.exp(-(x-2)**2)+ np.random.randn(n)\n",
    "\n",
    "Maxpolydegree = 5\n",
    "X = np.zeros((len(x),Maxpolydegree))\n",
    "X[:,0] = 1.0\n",
    "\n",
    "for polydegree in range(1, Maxpolydegree):\n",
    "    for degree in range(polydegree):\n",
    "        X[:,degree] = x**(degree)\n",
    "\n",
    "\n",
    "# We split the data in test and training data\n",
    "X_train, X_test, y_train, y_test = train_test_split(X, y, test_size=0.2)\n",
    "\n",
    "# matrix inversion to find beta\n",
    "OLSbeta = np.linalg.pinv(X_train.T @ X_train) @ X_train.T @ y_train\n",
    "print(OLSbeta)\n",
    "ypredictOLS = X_test @ OLSbeta\n",
    "print(\"Test MSE OLS\")\n",
    "print(MSE(y_test,ypredictOLS))\n",
    "# Repeat now for Lasso and Ridge regression and various values of the regularization parameter using Scikit-Learn\n",
    "# Decide which values of lambda to use\n",
    "nlambdas = 4\n",
    "MSERidgePredict = np.zeros(nlambdas)\n",
    "MSELassoPredict = np.zeros(nlambdas)\n",
    "lambdas = np.logspace(-3, 1, nlambdas)\n",
    "for i in range(nlambdas):\n",
    "    lmb = lambdas[i]\n",
    "    # Make the fit using Ridge and Lasso\n",
    "    RegRidge = linear_model.Ridge(lmb,fit_intercept=False)\n",
    "    RegRidge.fit(X_train,y_train)\n",
    "    RegLasso = linear_model.Lasso(lmb,fit_intercept=False)\n",
    "    RegLasso.fit(X_train,y_train)\n",
    "    # and then make the prediction\n",
    "    ypredictRidge = RegRidge.predict(X_test)\n",
    "    ypredictLasso = RegLasso.predict(X_test)\n",
    "    # Compute the MSE and print it\n",
    "    MSERidgePredict[i] = MSE(y_test,ypredictRidge)\n",
    "    MSELassoPredict[i] = MSE(y_test,ypredictLasso)\n",
    "    print(lmb,RegRidge.coef_)\n",
    "    print(lmb,RegLasso.coef_)\n",
    "# Now plot the results\n",
    "plt.figure()\n",
    "plt.plot(np.log10(lambdas), MSERidgePredict, 'b', label = 'MSE Ridge Test')\n",
    "plt.plot(np.log10(lambdas), MSELassoPredict, 'r', label = 'MSE Lasso Test')\n",
    "plt.xlabel('log10(lambda)')\n",
    "plt.ylabel('MSE')\n",
    "plt.legend()\n",
    "plt.show()"
   ]
  },
  {
   "cell_type": "markdown",
   "id": "2d4112d0",
   "metadata": {},
   "source": [
    "How can we understand this?"
   ]
  },
  {
   "cell_type": "markdown",
   "id": "1197e791",
   "metadata": {},
   "source": [
    "## Invoking Bayes' theorem\n",
    "\n",
    "Using Bayes' theorem we can gain a better intuition about Ridge and Lasso regression. \n",
    "\n",
    "For ordinary least squares we postulated that the maximum likelihood for the doamin of events $\\boldsymbol{D}$ (one-dimensional case)"
   ]
  },
  {
   "cell_type": "markdown",
   "id": "b3f19300",
   "metadata": {},
   "source": [
    "$$\n",
    "\\boldsymbol{D}=[(x_0,y_0), (x_1,y_1),\\dots, (x_{n-1},y_{n-1})],\n",
    "$$"
   ]
  },
  {
   "cell_type": "markdown",
   "id": "a196ff26",
   "metadata": {},
   "source": [
    "is given by"
   ]
  },
  {
   "cell_type": "markdown",
   "id": "81dcc38d",
   "metadata": {},
   "source": [
    "$$\n",
    "p(\\boldsymbol{D}\\vert\\boldsymbol{\\beta})=\\prod_{i=0}^{n-1}\\frac{1}{\\sqrt{2\\pi\\sigma^2}}\\exp{\\left[-\\frac{(y_i-\\boldsymbol{X}_{i,*}\\boldsymbol{\\beta})^2}{2\\sigma^2}\\right]}.\n",
    "$$"
   ]
  },
  {
   "cell_type": "markdown",
   "id": "f11aa2f1",
   "metadata": {},
   "source": [
    "In Bayes' theorem this function plays the role of the so-called likelihood. We could now ask the question what is the posterior probability of a parameter set $\\boldsymbol{\\beta}$ given a domain of events $\\boldsymbol{D}$?  That is, how can we define the posterior probability"
   ]
  },
  {
   "cell_type": "markdown",
   "id": "653f7e2b",
   "metadata": {},
   "source": [
    "$$\n",
    "p(\\boldsymbol{\\beta}\\vert\\boldsymbol{D}).\n",
    "$$"
   ]
  },
  {
   "cell_type": "markdown",
   "id": "39257be4",
   "metadata": {},
   "source": [
    "Bayes' theorem comes to our rescue here since (omitting the normalization constant)"
   ]
  },
  {
   "cell_type": "markdown",
   "id": "b85b8083",
   "metadata": {},
   "source": [
    "$$\n",
    "p(\\boldsymbol{\\beta}\\vert\\boldsymbol{D})\\propto p(\\boldsymbol{D}\\vert\\boldsymbol{\\beta})p(\\boldsymbol{\\beta}).\n",
    "$$"
   ]
  },
  {
   "cell_type": "markdown",
   "id": "625e0168",
   "metadata": {},
   "source": [
    "We have a model for $p(\\boldsymbol{D}\\vert\\boldsymbol{\\beta})$ but need one for the **prior** $p(\\boldsymbol{\\beta}$!"
   ]
  },
  {
   "cell_type": "markdown",
   "id": "466939e7",
   "metadata": {},
   "source": [
    "## Ridge and Bayes\n",
    "\n",
    "With the posterior probability defined by a likelihood which we have\n",
    "already modeled and an unknown prior, we are now ready to make\n",
    "additional models for the prior.\n",
    "\n",
    "We can, based on our discussions of the variance of $\\boldsymbol{\\beta}$ and the mean value, assume that the prior for the values $\\boldsymbol{\\beta}$ is given by a Gaussian with mean value zero and variance $\\tau^2$, that is"
   ]
  },
  {
   "cell_type": "markdown",
   "id": "82387704",
   "metadata": {},
   "source": [
    "$$\n",
    "p(\\boldsymbol{\\beta})=\\prod_{j=0}^{p-1}\\exp{\\left(-\\frac{\\beta_j^2}{2\\tau^2}\\right)}.\n",
    "$$"
   ]
  },
  {
   "cell_type": "markdown",
   "id": "4009da9c",
   "metadata": {},
   "source": [
    "Our posterior probability becomes then (omitting the normalization factor which is just a constant)"
   ]
  },
  {
   "cell_type": "markdown",
   "id": "9bb4313f",
   "metadata": {},
   "source": [
    "$$\n",
    "p(\\boldsymbol{\\beta\\vert\\boldsymbol{D})}=\\prod_{i=0}^{n-1}\\frac{1}{\\sqrt{2\\pi\\sigma^2}}\\exp{\\left[-\\frac{(y_i-\\boldsymbol{X}_{i,*}\\boldsymbol{\\beta})^2}{2\\sigma^2}\\right]}\\prod_{j=0}^{p-1}\\exp{\\left(-\\frac{\\beta_j^2}{2\\tau^2}\\right)}.\n",
    "$$"
   ]
  },
  {
   "cell_type": "markdown",
   "id": "e463fbf3",
   "metadata": {},
   "source": [
    "We can now optimize this quantity with respect to $\\boldsymbol{\\beta}$. As we\n",
    "did for OLS, this is most conveniently done by taking the negative\n",
    "logarithm of the posterior probability. Doing so and leaving out the\n",
    "constants terms that do not depend on $\\beta$, we have"
   ]
  },
  {
   "cell_type": "markdown",
   "id": "3bb78973",
   "metadata": {},
   "source": [
    "$$\n",
    "C(\\boldsymbol{\\beta})=\\frac{\\vert\\vert (\\boldsymbol{y}-\\boldsymbol{X}\\boldsymbol{\\beta})\\vert\\vert_2^2}{2\\sigma^2}+\\frac{1}{2\\tau^2}\\vert\\vert\\boldsymbol{\\beta}\\vert\\vert_2^2,\n",
    "$$"
   ]
  },
  {
   "cell_type": "markdown",
   "id": "4a54754d",
   "metadata": {},
   "source": [
    "and replacing $1/2\\tau^2$ with $\\lambda$ we have"
   ]
  },
  {
   "cell_type": "markdown",
   "id": "609f72cc",
   "metadata": {},
   "source": [
    "$$\n",
    "C(\\boldsymbol{\\beta})=\\frac{\\vert\\vert (\\boldsymbol{y}-\\boldsymbol{X}\\boldsymbol{\\beta})\\vert\\vert_2^2}{2\\sigma^2}+\\lambda\\vert\\vert\\boldsymbol{\\beta}\\vert\\vert_2^2,\n",
    "$$"
   ]
  },
  {
   "cell_type": "markdown",
   "id": "2f711a84",
   "metadata": {},
   "source": [
    "which is our Ridge cost function!  Nice, isn't it?"
   ]
  },
  {
   "cell_type": "markdown",
   "id": "d1ac542b",
   "metadata": {},
   "source": [
    "## Lasso and Bayes\n",
    "\n",
    "To derive the Lasso cost function, we simply replace the Gaussian prior with an exponential distribution ([Laplace in this case](https://en.wikipedia.org/wiki/Laplace_distribution)) with zero mean value,  that is"
   ]
  },
  {
   "cell_type": "markdown",
   "id": "51a64df9",
   "metadata": {},
   "source": [
    "$$\n",
    "p(\\boldsymbol{\\beta})=\\prod_{j=0}^{p-1}\\exp{\\left(-\\frac{\\vert\\beta_j\\vert}{\\tau}\\right)}.\n",
    "$$"
   ]
  },
  {
   "cell_type": "markdown",
   "id": "c081b7dd",
   "metadata": {},
   "source": [
    "Our posterior probability becomes then (omitting the normalization factor which is just a constant)"
   ]
  },
  {
   "cell_type": "markdown",
   "id": "97edd064",
   "metadata": {},
   "source": [
    "$$\n",
    "p(\\boldsymbol{\\beta}\\vert\\boldsymbol{D})=\\prod_{i=0}^{n-1}\\frac{1}{\\sqrt{2\\pi\\sigma^2}}\\exp{\\left[-\\frac{(y_i-\\boldsymbol{X}_{i,*}\\boldsymbol{\\beta})^2}{2\\sigma^2}\\right]}\\prod_{j=0}^{p-1}\\exp{\\left(-\\frac{\\vert\\beta_j\\vert}{\\tau}\\right)}.\n",
    "$$"
   ]
  },
  {
   "cell_type": "markdown",
   "id": "1e344ff3",
   "metadata": {},
   "source": [
    "Taking the negative\n",
    "logarithm of the posterior probability and leaving out the\n",
    "constants terms that do not depend on $\\beta$, we have"
   ]
  },
  {
   "cell_type": "markdown",
   "id": "f2ed2ae3",
   "metadata": {},
   "source": [
    "$$\n",
    "C(\\boldsymbol{\\beta}=\\frac{\\vert\\vert (\\boldsymbol{y}-\\boldsymbol{X}\\boldsymbol{\\beta})\\vert\\vert_2^2}{2\\sigma^2}+\\frac{1}{\\tau}\\vert\\vert\\boldsymbol{\\beta}\\vert\\vert_1,\n",
    "$$"
   ]
  },
  {
   "cell_type": "markdown",
   "id": "cabd8b20",
   "metadata": {},
   "source": [
    "and replacing $1/\\tau$ with $\\lambda$ we have"
   ]
  },
  {
   "cell_type": "markdown",
   "id": "db30aa63",
   "metadata": {},
   "source": [
    "$$\n",
    "C(\\boldsymbol{\\beta}=\\frac{\\vert\\vert (\\boldsymbol{y}-\\boldsymbol{X}\\boldsymbol{\\beta})\\vert\\vert_2^2}{2\\sigma^2}+\\lambda\\vert\\vert\\boldsymbol{\\beta}\\vert\\vert_1,\n",
    "$$"
   ]
  },
  {
   "cell_type": "markdown",
   "id": "158d2d14",
   "metadata": {},
   "source": [
    "which is our Lasso cost function!"
   ]
  },
  {
   "cell_type": "markdown",
   "id": "55f636b2",
   "metadata": {},
   "source": [
    "## Deriving OLS from a probability distribution\n",
    "\n",
    "Our basic assumption when we derived the OLS equations was to assume\n",
    "that our output is determined by a given continuous function\n",
    "$f(\\boldsymbol{x})$ and a random noise $\\boldsymbol{\\epsilon}$ given by the normal\n",
    "distribution with zero mean value and an undetermined variance\n",
    "$\\sigma^2$.\n",
    "\n",
    "We found above that the outputs $\\boldsymbol{y}$ have a mean value given by\n",
    "$\\boldsymbol{X}\\hat{\\boldsymbol{\\beta}}$ and variance $\\sigma^2$. Since the entries to\n",
    "the design matrix are not stochastic variables, we can assume that the\n",
    "probability distribution of our targets is also a normal distribution\n",
    "but now with mean value $\\boldsymbol{X}\\hat{\\boldsymbol{\\beta}}$. This means that a\n",
    "single output $y_i$ is given by the Gaussian distribution"
   ]
  },
  {
   "cell_type": "markdown",
   "id": "a9c0d4ee",
   "metadata": {},
   "source": [
    "$$\n",
    "y_i\\sim \\mathcal{N}(\\boldsymbol{X}_{i,*}\\boldsymbol{\\beta}, \\sigma^2)=\\frac{1}{\\sqrt{2\\pi\\sigma^2}}\\exp{\\left[-\\frac{(y_i-\\boldsymbol{X}_{i,*}\\boldsymbol{\\beta})^2}{2\\sigma^2}\\right]}.\n",
    "$$"
   ]
  },
  {
   "cell_type": "markdown",
   "id": "6b70092f",
   "metadata": {},
   "source": [
    "## Independent and Identically Distrubuted (iid)\n",
    "\n",
    "We assume now that the various $y_i$ values are stochastically distributed according to the above Gaussian distribution. \n",
    "We define this distribution as"
   ]
  },
  {
   "cell_type": "markdown",
   "id": "baa40a70",
   "metadata": {},
   "source": [
    "$$\n",
    "p(y_i, \\boldsymbol{X}\\vert\\boldsymbol{\\beta})=\\frac{1}{\\sqrt{2\\pi\\sigma^2}}\\exp{\\left[-\\frac{(y_i-\\boldsymbol{X}_{i,*}\\boldsymbol{\\beta})^2}{2\\sigma^2}\\right]},\n",
    "$$"
   ]
  },
  {
   "cell_type": "markdown",
   "id": "3f691833",
   "metadata": {},
   "source": [
    "which reads as finding the likelihood of an event $y_i$ with the input variables $\\boldsymbol{X}$ given the parameters (to be determined) $\\boldsymbol{\\beta}$.\n",
    "\n",
    "Since these events are assumed to be independent and identicall distributed we can build the probability distribution function (PDF) for all possible event $\\boldsymbol{y}$ as the product of the single events, that is we have"
   ]
  },
  {
   "cell_type": "markdown",
   "id": "70606898",
   "metadata": {},
   "source": [
    "$$\n",
    "p(\\boldsymbol{y},\\boldsymbol{X}\\vert\\boldsymbol{\\beta})=\\prod_{i=0}^{n-1}\\frac{1}{\\sqrt{2\\pi\\sigma^2}}\\exp{\\left[-\\frac{(y_i-\\boldsymbol{X}_{i,*}\\boldsymbol{\\beta})^2}{2\\sigma^2}\\right]}=\\prod_{i=0}^{n-1}p(y_i,\\boldsymbol{X}\\vert\\boldsymbol{\\beta}).\n",
    "$$"
   ]
  },
  {
   "cell_type": "markdown",
   "id": "577e9691",
   "metadata": {},
   "source": [
    "We will write this in a more compact form reserving $\\boldsymbol{D}$ for the domain of events, including the ouputs (targets) and the inputs. That is\n",
    "in case we have a simple one-dimensional input and output case"
   ]
  },
  {
   "cell_type": "markdown",
   "id": "0287a405",
   "metadata": {},
   "source": [
    "$$\n",
    "\\boldsymbol{D}=[(x_0,y_0), (x_1,y_1),\\dots, (x_{n-1},y_{n-1})].\n",
    "$$"
   ]
  },
  {
   "cell_type": "markdown",
   "id": "6a566f06",
   "metadata": {},
   "source": [
    "In the more general case the various inputs should be replaced by the possible features represented by the input data set $\\boldsymbol{X}$. \n",
    "We can now rewrite the above probability as"
   ]
  },
  {
   "cell_type": "markdown",
   "id": "9083dbf8",
   "metadata": {},
   "source": [
    "$$\n",
    "p(\\boldsymbol{D}\\vert\\boldsymbol{\\beta})=\\prod_{i=0}^{n-1}\\frac{1}{\\sqrt{2\\pi\\sigma^2}}\\exp{\\left[-\\frac{(y_i-\\boldsymbol{X}_{i,*}\\boldsymbol{\\beta})^2}{2\\sigma^2}\\right]}.\n",
    "$$"
   ]
  },
  {
   "cell_type": "markdown",
   "id": "b5145d81",
   "metadata": {},
   "source": [
    "It is a conditional probability (see below) and reads as the likelihood of a domain of events $\\boldsymbol{D}$ given a set of parameters $\\boldsymbol{\\beta}$."
   ]
  },
  {
   "cell_type": "markdown",
   "id": "d1d05433",
   "metadata": {},
   "source": [
    "## Maximum Likelihood Estimation (MLE)\n",
    "\n",
    "In statistics, maximum likelihood estimation (MLE) is a method of\n",
    "estimating the parameters of an assumed probability distribution,\n",
    "given some observed data. This is achieved by maximizing a likelihood\n",
    "function so that, under the assumed statistical model, the observed\n",
    "data is the most probable. \n",
    "\n",
    "We will assume here that our events are given by the above Gaussian\n",
    "distribution and we will determine the optimal parameters $\\beta$ by\n",
    "maximizing the above PDF. However, computing the derivatives of a\n",
    "product function is cumbersome and can easily lead to overflow and/or\n",
    "underflowproblems, with potentials for loss of numerical precision.\n",
    "\n",
    "In practice, it is more convenient to maximize the logarithm of the\n",
    "PDF because it is a monotonically increasing function of the argument.\n",
    "Alternatively, and this will be our option, we will minimize the\n",
    "negative of the logarithm since this is a monotonically decreasing\n",
    "function.\n",
    "\n",
    "Note also that maximization/minimization of the logarithm of the PDF\n",
    "is equivalent to the maximization/minimization of the function itself."
   ]
  },
  {
   "cell_type": "markdown",
   "id": "6f81e58a",
   "metadata": {},
   "source": [
    "## A new Cost Function\n",
    "\n",
    "We could now define a new cost function to minimize, namely the negative logarithm of the above PDF"
   ]
  },
  {
   "cell_type": "markdown",
   "id": "36f38030",
   "metadata": {},
   "source": [
    "$$\n",
    "C(\\boldsymbol{\\beta}=-\\log{\\prod_{i=0}^{n-1}p(y_i,\\boldsymbol{X}\\vert\\boldsymbol{\\beta})}=-\\sum_{i=0}^{n-1}\\log{p(y_i,\\boldsymbol{X}\\vert\\boldsymbol{\\beta})},\n",
    "$$"
   ]
  },
  {
   "cell_type": "markdown",
   "id": "cdd7a70e",
   "metadata": {},
   "source": [
    "which becomes"
   ]
  },
  {
   "cell_type": "markdown",
   "id": "355df3af",
   "metadata": {},
   "source": [
    "$$\n",
    "C(\\boldsymbol{\\beta}=\\frac{n}{2}\\log{2\\pi\\sigma^2}+\\frac{\\vert\\vert (\\boldsymbol{y}-\\boldsymbol{X}\\boldsymbol{\\beta})\\vert\\vert_2^2}{2\\sigma^2}.\n",
    "$$"
   ]
  },
  {
   "cell_type": "markdown",
   "id": "ad5a74a1",
   "metadata": {},
   "source": [
    "Taking the derivative of the *new* cost function with respect to the parameters $\\beta$ we recognize our familiar OLS equation, namely"
   ]
  },
  {
   "cell_type": "markdown",
   "id": "af05e73e",
   "metadata": {},
   "source": [
    "$$\n",
    "\\boldsymbol{X}^T\\left(\\boldsymbol{y}-\\boldsymbol{X}\\boldsymbol{\\beta}\\right) =0,\n",
    "$$"
   ]
  },
  {
   "cell_type": "markdown",
   "id": "0656db58",
   "metadata": {},
   "source": [
    "which leads to the well-known OLS equation for the optimal paramters $\\beta$"
   ]
  },
  {
   "cell_type": "markdown",
   "id": "2b94a672",
   "metadata": {},
   "source": [
    "$$\n",
    "\\hat{\\boldsymbol{\\beta}}^{\\mathrm{OLS}}=\\left(\\boldsymbol{X}^T\\boldsymbol{X}\\right)^{-1}\\boldsymbol{X}^T\\boldsymbol{y}!\n",
    "$$"
   ]
  },
  {
   "cell_type": "markdown",
   "id": "94ba3dda",
   "metadata": {},
   "source": [
    "## Bayes' Theorem\n",
    "\n",
    "If we combine the conditional probability with the marginal probability and the standard product rule, we have"
   ]
  },
  {
   "cell_type": "markdown",
   "id": "2fbf4290",
   "metadata": {},
   "source": [
    "$$\n",
    "p(X\\vert Y)= \\frac{p(X,Y)}{p(Y)},\n",
    "$$"
   ]
  },
  {
   "cell_type": "markdown",
   "id": "16f908e4",
   "metadata": {},
   "source": [
    "which we can rewrite as"
   ]
  },
  {
   "cell_type": "markdown",
   "id": "d46cc98b",
   "metadata": {},
   "source": [
    "$$\n",
    "p(X\\vert Y)= \\frac{p(X,Y)}{\\sum_{i=0}^{n-1}p(Y\\vert X=x_i)p(x_i)}=\\frac{p(Y\\vert X)p(X)}{\\sum_{i=0}^{n-1}p(Y\\vert X=x_i)p(x_i)},\n",
    "$$"
   ]
  },
  {
   "cell_type": "markdown",
   "id": "c7d2496e",
   "metadata": {},
   "source": [
    "which is Bayes' theorem. It allows us to evaluate the uncertainty in in $X$ after we have observed $Y$. We can easily interchange $X$ with $Y$."
   ]
  },
  {
   "cell_type": "markdown",
   "id": "fe459f66",
   "metadata": {},
   "source": [
    "## Interpretations of Bayes' Theorem\n",
    "\n",
    "The quantity $p(Y\\vert X)$ on the right-hand side of the theorem is\n",
    "evaluated for the observed data $Y$ and can be viewed as a function of\n",
    "the parameter space represented by $X$. This function is not\n",
    "necesseraly normalized and is normally called the likelihood function.\n",
    "\n",
    "The function $p(X)$ on the right hand side is called the prior while the function on the left hand side is the called the posterior probability. The denominator on the right hand side serves as a normalization factor for the posterior distribution."
   ]
  },
  {
   "cell_type": "markdown",
   "id": "b759bb7e",
   "metadata": {},
   "source": [
    "## Test Function for what happens with OLS, Ridge and Lasso\n",
    "\n",
    "We will play around with a study of the values for the optimal\n",
    "parameters $\\boldsymbol{\\beta}$ using OLS, Ridge and Lasso regression.  For\n",
    "OLS, you will notice as function of the noise and polynomial degree,\n",
    "that the parameters $\\beta$ will fluctuate from order to order in the\n",
    "polynomial fit and that for larger and larger polynomial degrees of freedom, the parameters will tend to increase in value for OLS.\n",
    "\n",
    "For Ridge and Lasso regression, the higher order parameters will typically be reduced, providing thereby less fluctuations from one order to another one."
   ]
  },
  {
   "cell_type": "code",
   "execution_count": 5,
   "id": "f3cc6421",
   "metadata": {},
   "outputs": [],
   "source": [
    "import numpy as np\n",
    "import matplotlib.pyplot as plt\n",
    "from sklearn.model_selection import train_test_split\n",
    "from sklearn import linear_model\n",
    "\n",
    "def R2(y_data, y_model):\n",
    "    return 1 - np.sum((y_data - y_model) ** 2) / np.sum((y_data - np.mean(y_data)) ** 2)\n",
    "def MSE(y_data,y_model):\n",
    "    n = np.size(y_model)\n",
    "    return np.sum((y_data-y_model)**2)/n\n",
    "\n",
    "# Make data set.\n",
    "n = 10000\n",
    "x = np.random.rand(n)\n",
    "y = np.exp(-x**2) + 1.5 * np.exp(-(x-2)**2)+ np.random.randn(n)\n",
    "\n",
    "Maxpolydegree = 5\n",
    "X = np.zeros((len(x),Maxpolydegree))\n",
    "X[:,0] = 1.0\n",
    "\n",
    "for polydegree in range(1, Maxpolydegree):\n",
    "    for degree in range(polydegree):\n",
    "        X[:,degree] = x**(degree)\n",
    "\n",
    "\n",
    "# We split the data in test and training data\n",
    "X_train, X_test, y_train, y_test = train_test_split(X, y, test_size=0.2)\n",
    "\n",
    "# matrix inversion to find beta\n",
    "OLSbeta = np.linalg.pinv(X_train.T @ X_train) @ X_train.T @ y_train\n",
    "print(OLSbeta)\n",
    "ypredictOLS = X_test @ OLSbeta\n",
    "print(\"Test MSE OLS\")\n",
    "print(MSE(y_test,ypredictOLS))\n",
    "# Repeat now for Lasso and Ridge regression and various values of the regularization parameter using Scikit-Learn\n",
    "# Decide which values of lambda to use\n",
    "nlambdas = 4\n",
    "MSERidgePredict = np.zeros(nlambdas)\n",
    "MSELassoPredict = np.zeros(nlambdas)\n",
    "lambdas = np.logspace(-3, 1, nlambdas)\n",
    "for i in range(nlambdas):\n",
    "    lmb = lambdas[i]\n",
    "    # Make the fit using Ridge and Lasso\n",
    "    RegRidge = linear_model.Ridge(lmb,fit_intercept=False)\n",
    "    RegRidge.fit(X_train,y_train)\n",
    "    RegLasso = linear_model.Lasso(lmb,fit_intercept=False)\n",
    "    RegLasso.fit(X_train,y_train)\n",
    "    # and then make the prediction\n",
    "    ypredictRidge = RegRidge.predict(X_test)\n",
    "    ypredictLasso = RegLasso.predict(X_test)\n",
    "    # Compute the MSE and print it\n",
    "    MSERidgePredict[i] = MSE(y_test,ypredictRidge)\n",
    "    MSELassoPredict[i] = MSE(y_test,ypredictLasso)\n",
    "    print(lmb,RegRidge.coef_)\n",
    "    print(lmb,RegLasso.coef_)\n",
    "# Now plot the results\n",
    "plt.figure()\n",
    "plt.plot(np.log10(lambdas), MSERidgePredict, 'b', label = 'MSE Ridge Test')\n",
    "plt.plot(np.log10(lambdas), MSELassoPredict, 'r', label = 'MSE Lasso Test')\n",
    "plt.xlabel('log10(lambda)')\n",
    "plt.ylabel('MSE')\n",
    "plt.legend()\n",
    "plt.show()"
   ]
  },
  {
   "cell_type": "markdown",
   "id": "6e49bdd7",
   "metadata": {},
   "source": [
    "How can we understand this?"
   ]
  },
  {
   "cell_type": "markdown",
   "id": "fc4bfd12",
   "metadata": {},
   "source": [
    "## Rerunning the above code\n",
    "\n",
    "Let us write out the values of the coefficients $\\beta_i$ as functions\n",
    "of the polynomial degree and noise. We will focus only on the Ridge\n",
    "results and some few selected values of the hyperparameter $\\lambda$.\n",
    "\n",
    "If we don't include any noise and run this code for different values\n",
    "of the polynomial degree, we notice that the results for $\\beta_i$ do\n",
    "not show great changes from one order to the next. This is an\n",
    "indication that for higher polynomial orders, our parameters become\n",
    "less important.\n",
    "\n",
    "If we however add noise, what happens is that the polynomial fit is\n",
    "trying to adjust the fit to traverse in the best possible way all data\n",
    "points. This can lead to large fluctuations in the parameters\n",
    "$\\beta_i$ as functions of polynomial order. It will also be reflected\n",
    "in a larger value of the variance of each parameter $\\beta_i$.  What\n",
    "Ridge regression (and Lasso as well) are doing then is to try to\n",
    "quench the fluctuations in the parameters of $\\beta_i$ which have a\n",
    "large variance (normally for higher orders in the polynomial)."
   ]
  },
  {
   "cell_type": "code",
   "execution_count": 6,
   "id": "b03971c1",
   "metadata": {},
   "outputs": [],
   "source": [
    "import numpy as np\n",
    "import pandas as pd\n",
    "from IPython.display import display\n",
    "import matplotlib.pyplot as plt\n",
    "from sklearn.model_selection import train_test_split\n",
    "from sklearn import linear_model\n",
    "\n",
    "# Make data set.\n",
    "n = 1000\n",
    "x = np.random.rand(n)\n",
    "y = np.exp(-x**2) + 1.5 * np.exp(-(x-2)**2)+ np.random.randn(n)\n",
    "\n",
    "Maxpolydegree = 5\n",
    "X = np.zeros((len(x),Maxpolydegree))\n",
    "X[:,0] = 1.0\n",
    "\n",
    "for polydegree in range(1, Maxpolydegree):\n",
    "    for degree in range(polydegree):\n",
    "        X[:,degree] = x**(degree)\n",
    "\n",
    "\n",
    "# We split the data in test and training data\n",
    "X_train, X_test, y_train, y_test = train_test_split(X, y, test_size=0.2)\n",
    "\n",
    "# Decide which values of lambda to use\n",
    "nlambdas = 5\n",
    "lambdas = np.logspace(-3, 2, nlambdas)\n",
    "for i in range(nlambdas):\n",
    "    lmb = lambdas[i]\n",
    "    # Make the fit using Ridge only\n",
    "    RegRidge = linear_model.Ridge(lmb,fit_intercept=False)\n",
    "    RegRidge.fit(X_train,y_train)\n",
    "    # and then make the prediction\n",
    "    ypredictRidge = RegRidge.predict(X_test)\n",
    "    Coeffs = np.array(RegRidge.coef_)\n",
    "    BetaValues = pd.DataFrame(Coeffs)\n",
    "    BetaValues.columns = ['beta']\n",
    "    display(BetaValues)"
   ]
  },
  {
   "cell_type": "markdown",
   "id": "f23d6795",
   "metadata": {},
   "source": [
    "## Invoking Bayes' theorem\n",
    "\n",
    "Using Bayes' theorem we can gain a better intuition about Ridge and Lasso regression. \n",
    "\n",
    "For ordinary least squares we postulated that the maximum likelihood for the doamin of events $\\boldsymbol{D}$ (one-dimensional case)"
   ]
  },
  {
   "cell_type": "markdown",
   "id": "44db28d3",
   "metadata": {},
   "source": [
    "$$\n",
    "\\boldsymbol{D}=[(x_0,y_0), (x_1,y_1),\\dots, (x_{n-1},y_{n-1})],\n",
    "$$"
   ]
  },
  {
   "cell_type": "markdown",
   "id": "317fa5ae",
   "metadata": {},
   "source": [
    "is given by"
   ]
  },
  {
   "cell_type": "markdown",
   "id": "a77a9123",
   "metadata": {},
   "source": [
    "$$\n",
    "p(\\boldsymbol{D}\\vert\\boldsymbol{\\beta})=\\prod_{i=0}^{n-1}\\frac{1}{\\sqrt{2\\pi\\sigma^2}}\\exp{\\left[-\\frac{(y_i-\\boldsymbol{X}_{i,*}\\boldsymbol{\\beta})^2}{2\\sigma^2}\\right]}.\n",
    "$$"
   ]
  },
  {
   "cell_type": "markdown",
   "id": "e2d3c817",
   "metadata": {},
   "source": [
    "In Bayes' theorem this function plays the role of the so-called likelihood. We could now ask the question what is the posterior probability of a parameter set $\\boldsymbol{\\beta}$ given a domain of events $\\boldsymbol{D}$?  That is, how can we define the posterior probability"
   ]
  },
  {
   "cell_type": "markdown",
   "id": "7815576d",
   "metadata": {},
   "source": [
    "$$\n",
    "p(\\boldsymbol{\\beta}\\vert\\boldsymbol{D}).\n",
    "$$"
   ]
  },
  {
   "cell_type": "markdown",
   "id": "7fa26ef0",
   "metadata": {},
   "source": [
    "Bayes' theorem comes to our rescue here since (omitting the normalization constant)"
   ]
  },
  {
   "cell_type": "markdown",
   "id": "d2b14a17",
   "metadata": {},
   "source": [
    "$$\n",
    "p(\\boldsymbol{\\beta}\\vert\\boldsymbol{D})\\propto p(\\boldsymbol{D}\\vert\\boldsymbol{\\beta})p(\\boldsymbol{\\beta}).\n",
    "$$"
   ]
  },
  {
   "cell_type": "markdown",
   "id": "ea92b96e",
   "metadata": {},
   "source": [
    "We have a model for $p(\\boldsymbol{D}\\vert\\boldsymbol{\\beta})$ but need one for the **prior** $p(\\boldsymbol{\\beta}$!"
   ]
  },
  {
   "cell_type": "markdown",
   "id": "20709c22",
   "metadata": {},
   "source": [
    "## Ridge and Bayes\n",
    "\n",
    "With the posterior probability defined by a likelihood which we have\n",
    "already modeled and an unknown prior, we are now ready to make\n",
    "additional models for the prior.\n",
    "\n",
    "We can, based on our discussions of the variance of $\\boldsymbol{\\beta}$ and the mean value, assume that the prior for the values $\\boldsymbol{\\beta}$ is given by a Gaussian with mean value zero and variance $\\tau^2$, that is"
   ]
  },
  {
   "cell_type": "markdown",
   "id": "12be70a0",
   "metadata": {},
   "source": [
    "$$\n",
    "p(\\boldsymbol{\\beta})=\\prod_{j=0}^{p-1}\\exp{\\left(-\\frac{\\beta_j^2}{2\\tau^2}\\right)}.\n",
    "$$"
   ]
  },
  {
   "cell_type": "markdown",
   "id": "5a668bca",
   "metadata": {},
   "source": [
    "Our posterior probability becomes then (omitting the normalization factor which is just a constant)"
   ]
  },
  {
   "cell_type": "markdown",
   "id": "001d3ba0",
   "metadata": {},
   "source": [
    "$$\n",
    "p(\\boldsymbol{\\beta\\vert\\boldsymbol{D})}=\\prod_{i=0}^{n-1}\\frac{1}{\\sqrt{2\\pi\\sigma^2}}\\exp{\\left[-\\frac{(y_i-\\boldsymbol{X}_{i,*}\\boldsymbol{\\beta})^2}{2\\sigma^2}\\right]}\\prod_{j=0}^{p-1}\\exp{\\left(-\\frac{\\beta_j^2}{2\\tau^2}\\right)}.\n",
    "$$"
   ]
  },
  {
   "cell_type": "markdown",
   "id": "16586464",
   "metadata": {},
   "source": [
    "We can now optimize this quantity with respect to $\\boldsymbol{\\beta}$. As we\n",
    "did for OLS, this is most conveniently done by taking the negative\n",
    "logarithm of the posterior probability. Doing so and leaving out the\n",
    "constants terms that do not depend on $\\beta$, we have"
   ]
  },
  {
   "cell_type": "markdown",
   "id": "0e1a0abd",
   "metadata": {},
   "source": [
    "$$\n",
    "C(\\boldsymbol{\\beta})=\\frac{\\vert\\vert (\\boldsymbol{y}-\\boldsymbol{X}\\boldsymbol{\\beta})\\vert\\vert_2^2}{2\\sigma^2}+\\frac{1}{2\\tau^2}\\vert\\vert\\boldsymbol{\\beta}\\vert\\vert_2^2,\n",
    "$$"
   ]
  },
  {
   "cell_type": "markdown",
   "id": "c49b1ef8",
   "metadata": {},
   "source": [
    "and replacing $1/2\\tau^2$ with $\\lambda$ we have"
   ]
  },
  {
   "cell_type": "markdown",
   "id": "de43cdf3",
   "metadata": {},
   "source": [
    "$$\n",
    "C(\\boldsymbol{\\beta})=\\frac{\\vert\\vert (\\boldsymbol{y}-\\boldsymbol{X}\\boldsymbol{\\beta})\\vert\\vert_2^2}{2\\sigma^2}+\\lambda\\vert\\vert\\boldsymbol{\\beta}\\vert\\vert_2^2,\n",
    "$$"
   ]
  },
  {
   "cell_type": "markdown",
   "id": "b924891b",
   "metadata": {},
   "source": [
    "which is our Ridge cost function!  Nice, isn't it?"
   ]
  },
  {
   "cell_type": "markdown",
   "id": "a48b1f87",
   "metadata": {},
   "source": [
    "## Lasso and Bayes\n",
    "\n",
    "To derive the Lasso cost function, we simply replace the Gaussian prior with an exponential distribution ([Laplace in this case](https://en.wikipedia.org/wiki/Laplace_distribution)) with zero mean value,  that is"
   ]
  },
  {
   "cell_type": "markdown",
   "id": "bdee84ab",
   "metadata": {},
   "source": [
    "$$\n",
    "p(\\boldsymbol{\\beta})=\\prod_{j=0}^{p-1}\\exp{\\left(-\\frac{\\vert\\beta_j\\vert}{\\tau}\\right)}.\n",
    "$$"
   ]
  },
  {
   "cell_type": "markdown",
   "id": "b4a50a05",
   "metadata": {},
   "source": [
    "Our posterior probability becomes then (omitting the normalization factor which is just a constant)"
   ]
  },
  {
   "cell_type": "markdown",
   "id": "b9c48f5b",
   "metadata": {},
   "source": [
    "$$\n",
    "p(\\boldsymbol{\\beta}\\vert\\boldsymbol{D})=\\prod_{i=0}^{n-1}\\frac{1}{\\sqrt{2\\pi\\sigma^2}}\\exp{\\left[-\\frac{(y_i-\\boldsymbol{X}_{i,*}\\boldsymbol{\\beta})^2}{2\\sigma^2}\\right]}\\prod_{j=0}^{p-1}\\exp{\\left(-\\frac{\\vert\\beta_j\\vert}{\\tau}\\right)}.\n",
    "$$"
   ]
  },
  {
   "cell_type": "markdown",
   "id": "8f14c3e2",
   "metadata": {},
   "source": [
    "Taking the negative\n",
    "logarithm of the posterior probability and leaving out the\n",
    "constants terms that do not depend on $\\beta$, we have"
   ]
  },
  {
   "cell_type": "markdown",
   "id": "450d77ad",
   "metadata": {},
   "source": [
    "$$\n",
    "C(\\boldsymbol{\\beta}=\\frac{\\vert\\vert (\\boldsymbol{y}-\\boldsymbol{X}\\boldsymbol{\\beta})\\vert\\vert_2^2}{2\\sigma^2}+\\frac{1}{\\tau}\\vert\\vert\\boldsymbol{\\beta}\\vert\\vert_1,\n",
    "$$"
   ]
  },
  {
   "cell_type": "markdown",
   "id": "11545167",
   "metadata": {},
   "source": [
    "and replacing $1/\\tau$ with $\\lambda$ we have"
   ]
  },
  {
   "cell_type": "markdown",
   "id": "12756a63",
   "metadata": {},
   "source": [
    "$$\n",
    "C(\\boldsymbol{\\beta}=\\frac{\\vert\\vert (\\boldsymbol{y}-\\boldsymbol{X}\\boldsymbol{\\beta})\\vert\\vert_2^2}{2\\sigma^2}+\\lambda\\vert\\vert\\boldsymbol{\\beta}\\vert\\vert_1,\n",
    "$$"
   ]
  },
  {
   "cell_type": "markdown",
   "id": "75f03ace",
   "metadata": {},
   "source": [
    "which is our Lasso cost function!"
   ]
  },
  {
   "cell_type": "markdown",
   "id": "32683af3",
   "metadata": {},
   "source": [
    "## Why resampling methods\n",
    "\n",
    "Before we proceed, we need to rethink what we have been doing. In our\n",
    "eager to fit the data, we have omitted several important elements in\n",
    "our regression analysis. In what follows we will\n",
    "1. look at statistical properties, including a discussion of mean values, variance and the so-called bias-variance tradeoff\n",
    "\n",
    "2. introduce resampling techniques like cross-validation, bootstrapping and jackknife and more\n",
    "\n",
    "and discuss how to select a given model (one of the difficult parts in machine learning)."
   ]
  },
  {
   "cell_type": "markdown",
   "id": "5dac7ff3",
   "metadata": {},
   "source": [
    "## Resampling methods\n",
    "Resampling methods are an indispensable tool in modern\n",
    "statistics. They involve repeatedly drawing samples from a training\n",
    "set and refitting a model of interest on each sample in order to\n",
    "obtain additional information about the fitted model. For example, in\n",
    "order to estimate the variability of a linear regression fit, we can\n",
    "repeatedly draw different samples from the training data, fit a linear\n",
    "regression to each new sample, and then examine the extent to which\n",
    "the resulting fits differ. Such an approach may allow us to obtain\n",
    "information that would not be available from fitting the model only\n",
    "once using the original training sample.\n",
    "\n",
    "Two resampling methods are often used in Machine Learning analyses,\n",
    "1. The **bootstrap method**\n",
    "\n",
    "2. and **Cross-Validation**\n",
    "\n",
    "In addition there are several other methods such as the Jackknife and the Blocking methods. We will discuss in particular\n",
    "cross-validation and the bootstrap method."
   ]
  },
  {
   "cell_type": "markdown",
   "id": "1ee740d9",
   "metadata": {},
   "source": [
    "## Resampling approaches can be computationally expensive\n",
    "\n",
    "Resampling approaches can be computationally expensive, because they\n",
    "involve fitting the same statistical method multiple times using\n",
    "different subsets of the training data. However, due to recent\n",
    "advances in computing power, the computational requirements of\n",
    "resampling methods generally are not prohibitive. In this chapter, we\n",
    "discuss two of the most commonly used resampling methods,\n",
    "cross-validation and the bootstrap. Both methods are important tools\n",
    "in the practical application of many statistical learning\n",
    "procedures. For example, cross-validation can be used to estimate the\n",
    "test error associated with a given statistical learning method in\n",
    "order to evaluate its performance, or to select the appropriate level\n",
    "of flexibility. The process of evaluating a model’s performance is\n",
    "known as model assessment, whereas the process of selecting the proper\n",
    "level of flexibility for a model is known as model selection. The\n",
    "bootstrap is widely used."
   ]
  },
  {
   "cell_type": "markdown",
   "id": "be68a10d",
   "metadata": {},
   "source": [
    "## Why resampling methods ?\n",
    "**Statistical analysis.**\n",
    "\n",
    "* Our simulations can be treated as *computer experiments*. This is particularly the case for Monte Carlo methods which are widely used in statistical analyses.\n",
    "\n",
    "* The results can be analysed with the same statistical tools as we would use when analysing experimental data.\n",
    "\n",
    "* As in all experiments, we are looking for expectation values and an estimate of how accurate they are, i.e., possible sources for errors."
   ]
  },
  {
   "cell_type": "markdown",
   "id": "e91ac646",
   "metadata": {},
   "source": [
    "## Statistical analysis\n",
    "\n",
    "* As in other experiments, many numerical  experiments have two classes of errors:\n",
    "\n",
    "  * Statistical errors\n",
    "\n",
    "  * Systematical errors\n",
    "\n",
    "* Statistical errors can be estimated using standard tools from statistics\n",
    "\n",
    "* Systematical errors are method specific and must be treated differently from case to case."
   ]
  },
  {
   "cell_type": "markdown",
   "id": "6bd65396",
   "metadata": {},
   "source": [
    "## Resampling methods\n",
    "\n",
    "With all these analytical equations for both the OLS and Ridge\n",
    "regression, we will now outline how to assess a given model. This will\n",
    "lead to a discussion of the so-called bias-variance tradeoff (see\n",
    "below) and so-called resampling methods.\n",
    "\n",
    "One of the quantities we have discussed as a way to measure errors is\n",
    "the mean-squared error (MSE), mainly used for fitting of continuous\n",
    "functions. Another choice is the absolute error.\n",
    "\n",
    "In the discussions below we will focus on the MSE and in particular since we will split the data into test and training data,\n",
    "we discuss the\n",
    "1. prediction error or simply the **test error** $\\mathrm{Err_{Test}}$, where we have a fixed training set and the test error is the MSE arising from the data reserved for testing. We discuss also the \n",
    "\n",
    "2. training error $\\mathrm{Err_{Train}}$, which is the average loss over the training data.\n",
    "\n",
    "As our model becomes more and more complex, more of the training data tends to  used. The training may thence adapt to more complicated structures in the data. This may lead to a decrease in the bias (see below for code example) and a slight increase of the variance for the test error.\n",
    "For a certain level of complexity the test error will reach minimum, before starting to increase again. The\n",
    "training error reaches a saturation."
   ]
  },
  {
   "cell_type": "markdown",
   "id": "8eda76ae",
   "metadata": {},
   "source": [
    "## Resampling methods: Jackknife and Bootstrap\n",
    "\n",
    "Two famous\n",
    "resampling methods are the **independent bootstrap** and **the jackknife**. \n",
    "\n",
    "The jackknife is a special case of the independent bootstrap. Still, the jackknife was made\n",
    "popular prior to the independent bootstrap. And as the popularity of\n",
    "the independent bootstrap soared, new variants, such as **the dependent bootstrap** have also been developed..\n",
    "\n",
    "The Jackknife and independent bootstrap work for\n",
    "independent, identically distributed random variables.\n",
    "If these conditions are not\n",
    "satisfied, the methods will fail.  Yet, it should be said that if the data are\n",
    "independent, identically distributed, and we only want to estimate the\n",
    "variance of $\\overline{X}$ (which often is the case), then there is no\n",
    "need for bootstrapping."
   ]
  },
  {
   "cell_type": "markdown",
   "id": "763c2a36",
   "metadata": {},
   "source": [
    "## Resampling methods: Jackknife\n",
    "\n",
    "The Jackknife works by making many replicas of the estimator $\\widehat{\\beta}$. \n",
    "The jackknife is a resampling method where we systematically leave out one observation from the vector of observed values $\\boldsymbol{x} = (x_1,x_2,\\cdots,X_n)$. \n",
    "Let $\\boldsymbol{x}_i$ denote the vector"
   ]
  },
  {
   "cell_type": "markdown",
   "id": "941cd6a3",
   "metadata": {},
   "source": [
    "$$\n",
    "\\boldsymbol{x}_i = (x_1,x_2,\\cdots,x_{i-1},x_{i+1},\\cdots,x_n),\n",
    "$$"
   ]
  },
  {
   "cell_type": "markdown",
   "id": "3a541104",
   "metadata": {},
   "source": [
    "which equals the vector $\\boldsymbol{x}$ with the exception that observation\n",
    "number $i$ is left out. Using this notation, define\n",
    "$\\widehat{\\beta}_i$ to be the estimator\n",
    "$\\widehat{\\beta}$ computed using $\\vec{X}_i$."
   ]
  },
  {
   "cell_type": "markdown",
   "id": "323061de",
   "metadata": {},
   "source": [
    "## Jackknife code example"
   ]
  },
  {
   "cell_type": "code",
   "execution_count": 7,
   "id": "8f30cda6",
   "metadata": {},
   "outputs": [],
   "source": [
    "from numpy import *\n",
    "from numpy.random import randint, randn\n",
    "from time import time\n",
    "\n",
    "def jackknife(data, stat):\n",
    "    n = len(data);t = zeros(n); inds = arange(n); t0 = time()\n",
    "    ## 'jackknifing' by leaving out an observation for each i                                                                                                                      \n",
    "    for i in range(n):\n",
    "        t[i] = stat(delete(data,i) )\n",
    "\n",
    "    # analysis                                                                                                                                                                     \n",
    "    print(\"Runtime: %g sec\" % (time()-t0)); print(\"Jackknife Statistics :\")\n",
    "    print(\"original           bias      std. error\")\n",
    "    print(\"%8g %14g %15g\" % (stat(data),(n-1)*mean(t)/n, (n*var(t))**.5))\n",
    "\n",
    "    return t\n",
    "\n",
    "\n",
    "# Returns mean of data samples                                                                                                                                                     \n",
    "def stat(data):\n",
    "    return mean(data)\n",
    "\n",
    "\n",
    "mu, sigma = 100, 15\n",
    "datapoints = 10000\n",
    "x = mu + sigma*random.randn(datapoints)\n",
    "# jackknife returns the data sample                                                                                                                                                \n",
    "t = jackknife(x, stat)"
   ]
  },
  {
   "cell_type": "markdown",
   "id": "f94874e6",
   "metadata": {},
   "source": [
    "## Resampling methods: Bootstrap\n",
    "Bootstrapping is a non-parametric approach to statistical inference\n",
    "that substitutes computation for more traditional distributional\n",
    "assumptions and asymptotic results. Bootstrapping offers a number of\n",
    "advantages: \n",
    "1. The bootstrap is quite general, although there are some cases in which it fails.  \n",
    "\n",
    "2. Because it does not require distributional assumptions (such as normally distributed errors), the bootstrap can provide more accurate inferences when the data are not well behaved or when the sample size is small.  \n",
    "\n",
    "3. It is possible to apply the bootstrap to statistics with sampling distributions that are difficult to derive, even asymptotically. \n",
    "\n",
    "4. It is relatively simple to apply the bootstrap to complex data-collection plans (such as stratified and clustered samples).\n",
    "\n",
    "The textbook by [Davison on the Bootstrap Methods and their Applications](https://www.cambridge.org/core/books/bootstrap-methods-and-their-application/ED2FD043579F27952363566DC09CBD6A) provides many more insights and proofs. In this course we will take a more practical approach and use the results and theorems provided in the literature. For those interested in reading more about the bootstrap methods, we recommend the above text and the one by [Efron and Tibshirani](https://www.routledge.com/An-Introduction-to-the-Bootstrap/Efron-Tibshirani/p/book/9780412042317).\n",
    "\n",
    "Before we proceed however, we need to remind ourselves about a central theorem in statistics, namely the so-called **central limit theorem**."
   ]
  },
  {
   "cell_type": "markdown",
   "id": "10510e9d",
   "metadata": {},
   "source": [
    "## The Central Limit Theorem\n",
    "\n",
    "Suppose we have a PDF $p(x)$ from which we generate  a series $N$\n",
    "of averages $\\mathbb{E}[x_i]$. Each mean value $\\mathbb{E}[x_i]$\n",
    "is viewed as the average of a specific measurement, e.g., throwing \n",
    "dice 100 times and then taking the average value, or producing a certain\n",
    "amount of random numbers. \n",
    "For notational ease, we set $\\mathbb{E}[x_i]=x_i$ in the discussion\n",
    "which follows. We do the same for $\\mathbb{E}[z]=z$.\n",
    "\n",
    "If we compute the mean $z$ of $m$ such mean values $x_i$"
   ]
  },
  {
   "cell_type": "markdown",
   "id": "30a2dce9",
   "metadata": {},
   "source": [
    "$$\n",
    "z=\\frac{x_1+x_2+\\dots+x_m}{m},\n",
    "$$"
   ]
  },
  {
   "cell_type": "markdown",
   "id": "e33ab8a6",
   "metadata": {},
   "source": [
    "the question we pose is which is the PDF of the new variable $z$."
   ]
  },
  {
   "cell_type": "markdown",
   "id": "9bfcbf93",
   "metadata": {},
   "source": [
    "## Finding the Limit\n",
    "\n",
    "The probability of obtaining an average value $z$ is the product of the \n",
    "probabilities of obtaining arbitrary individual mean values $x_i$,\n",
    "but with the constraint that the average is $z$. We can express this through\n",
    "the following expression"
   ]
  },
  {
   "cell_type": "markdown",
   "id": "8039df21",
   "metadata": {},
   "source": [
    "$$\n",
    "\\tilde{p}(z)=\\int dx_1p(x_1)\\int dx_2p(x_2)\\dots\\int dx_mp(x_m)\n",
    "    \\delta(z-\\frac{x_1+x_2+\\dots+x_m}{m}),\n",
    "$$"
   ]
  },
  {
   "cell_type": "markdown",
   "id": "172ddccb",
   "metadata": {},
   "source": [
    "where the $\\delta$-function enbodies the constraint that the mean is $z$.\n",
    "All measurements that lead to each individual $x_i$ are expected to\n",
    "be independent, which in turn means that we can express $\\tilde{p}$ as the \n",
    "product of individual $p(x_i)$.  The independence assumption is important in the derivation of the central limit theorem."
   ]
  },
  {
   "cell_type": "markdown",
   "id": "e3677dcd",
   "metadata": {},
   "source": [
    "## Rewriting the $\\delta$-function\n",
    "\n",
    "If we use the integral expression for the $\\delta$-function"
   ]
  },
  {
   "cell_type": "markdown",
   "id": "62716dde",
   "metadata": {},
   "source": [
    "$$\n",
    "\\delta(z-\\frac{x_1+x_2+\\dots+x_m}{m})=\\frac{1}{2\\pi}\\int_{-\\infty}^{\\infty}\n",
    "   dq\\exp{\\left(iq(z-\\frac{x_1+x_2+\\dots+x_m}{m})\\right)},\n",
    "$$"
   ]
  },
  {
   "cell_type": "markdown",
   "id": "cb5f6708",
   "metadata": {},
   "source": [
    "and inserting $e^{i\\mu q-i\\mu q}$ where $\\mu$ is the mean value\n",
    "we arrive at"
   ]
  },
  {
   "cell_type": "markdown",
   "id": "88048de6",
   "metadata": {},
   "source": [
    "$$\n",
    "\\tilde{p}(z)=\\frac{1}{2\\pi}\\int_{-\\infty}^{\\infty}\n",
    "   dq\\exp{\\left(iq(z-\\mu)\\right)}\\left[\\int_{-\\infty}^{\\infty}\n",
    "   dxp(x)\\exp{\\left(iq(\\mu-x)/m\\right)}\\right]^m,\n",
    "$$"
   ]
  },
  {
   "cell_type": "markdown",
   "id": "b1414ab9",
   "metadata": {},
   "source": [
    "with the integral over $x$ resulting in"
   ]
  },
  {
   "cell_type": "markdown",
   "id": "71cffb1c",
   "metadata": {},
   "source": [
    "$$\n",
    "\\int_{-\\infty}^{\\infty}dxp(x)\\exp{\\left(iq(\\mu-x)/m\\right)}=\n",
    "  \\int_{-\\infty}^{\\infty}dxp(x)\n",
    "   \\left[1+\\frac{iq(\\mu-x)}{m}-\\frac{q^2(\\mu-x)^2}{2m^2}+\\dots\\right].\n",
    "$$"
   ]
  },
  {
   "cell_type": "markdown",
   "id": "2cd92a4d",
   "metadata": {},
   "source": [
    "## Identifying Terms\n",
    "\n",
    "The second term on the rhs disappears since this is just the mean and \n",
    "employing the definition of $\\sigma^2$ we have"
   ]
  },
  {
   "cell_type": "markdown",
   "id": "ba8be638",
   "metadata": {},
   "source": [
    "$$\n",
    "\\int_{-\\infty}^{\\infty}dxp(x)e^{\\left(iq(\\mu-x)/m\\right)}=\n",
    "  1-\\frac{q^2\\sigma^2}{2m^2}+\\dots,\n",
    "$$"
   ]
  },
  {
   "cell_type": "markdown",
   "id": "d5a82224",
   "metadata": {},
   "source": [
    "resulting in"
   ]
  },
  {
   "cell_type": "markdown",
   "id": "002683ab",
   "metadata": {},
   "source": [
    "$$\n",
    "\\left[\\int_{-\\infty}^{\\infty}dxp(x)\\exp{\\left(iq(\\mu-x)/m\\right)}\\right]^m\\approx\n",
    "  \\left[1-\\frac{q^2\\sigma^2}{2m^2}+\\dots \\right]^m,\n",
    "$$"
   ]
  },
  {
   "cell_type": "markdown",
   "id": "cc6fa00b",
   "metadata": {},
   "source": [
    "and in the limit $m\\rightarrow \\infty$ we obtain"
   ]
  },
  {
   "cell_type": "markdown",
   "id": "2c3166c1",
   "metadata": {},
   "source": [
    "$$\n",
    "\\tilde{p}(z)=\\frac{1}{\\sqrt{2\\pi}(\\sigma/\\sqrt{m})}\n",
    "    \\exp{\\left(-\\frac{(z-\\mu)^2}{2(\\sigma/\\sqrt{m})^2}\\right)},\n",
    "$$"
   ]
  },
  {
   "cell_type": "markdown",
   "id": "0ad6b302",
   "metadata": {},
   "source": [
    "which is the normal distribution with variance\n",
    "$\\sigma^2_m=\\sigma^2/m$, where $\\sigma$ is the variance of the PDF $p(x)$\n",
    "and $\\mu$ is also the mean of the PDF $p(x)$."
   ]
  },
  {
   "cell_type": "markdown",
   "id": "393d23f4",
   "metadata": {},
   "source": [
    "## Wrapping it up\n",
    "\n",
    "Thus, the central limit theorem states that the PDF $\\tilde{p}(z)$ of\n",
    "the average of $m$ random values corresponding to a PDF $p(x)$ \n",
    "is a normal distribution whose mean is the \n",
    "mean value of the PDF $p(x)$ and whose variance is the variance\n",
    "of the PDF $p(x)$ divided by $m$, the number of values used to compute $z$.\n",
    "\n",
    "The central limit theorem leads to the well-known expression for the\n",
    "standard deviation, given by"
   ]
  },
  {
   "cell_type": "markdown",
   "id": "9f93e866",
   "metadata": {},
   "source": [
    "$$\n",
    "\\sigma_m=\n",
    "\\frac{\\sigma}{\\sqrt{m}}.\n",
    "$$"
   ]
  },
  {
   "cell_type": "markdown",
   "id": "bd03d5f4",
   "metadata": {},
   "source": [
    "The latter is true only if the average value is known exactly. This is obtained in the limit\n",
    "$m\\rightarrow \\infty$  only. Because the mean and the variance are measured quantities we obtain \n",
    "the familiar expression in statistics (the so-called Bessel correction)"
   ]
  },
  {
   "cell_type": "markdown",
   "id": "1b3a4c5a",
   "metadata": {},
   "source": [
    "$$\n",
    "\\sigma_m\\approx \n",
    "\\frac{\\sigma}{\\sqrt{m-1}}.\n",
    "$$"
   ]
  },
  {
   "cell_type": "markdown",
   "id": "0a194157",
   "metadata": {},
   "source": [
    "In many cases however the above estimate for the standard deviation,\n",
    "in particular if correlations are strong, may be too simplistic. Keep\n",
    "in mind that we have assumed that the variables $x$ are independent\n",
    "and identically distributed. This is obviously not always the\n",
    "case. For example, the random numbers (or better pseudorandom numbers)\n",
    "we generate in various calculations do always exhibit some\n",
    "correlations.\n",
    "\n",
    "The theorem is satisfied by a large class of PDFs. Note however that for a\n",
    "finite $m$, it is not always possible to find a closed form /analytic expression for\n",
    "$\\tilde{p}(x)$."
   ]
  },
  {
   "cell_type": "markdown",
   "id": "3c696f1e",
   "metadata": {},
   "source": [
    "## Confidence Intervals\n",
    "\n",
    "Confidence intervals are used in statistics and represent a type of estimate\n",
    "computed from the observed data. This gives a range of values for an\n",
    "unknown parameter such as the parameters $\\boldsymbol{\\beta}$ from linear regression.\n",
    "\n",
    "With the OLS expressions for the parameters $\\boldsymbol{\\beta}$ we found \n",
    "$\\mathbb{E}(\\boldsymbol{\\beta}) = \\boldsymbol{\\beta}$, which means that the estimator of the regression parameters is unbiased.\n",
    "\n",
    "We found also that the variance of the estimate of the $j$-th regression coefficient is\n",
    "$\\boldsymbol{\\sigma}^2 (\\boldsymbol{\\beta}_j ) = \\boldsymbol{\\sigma}^2 [(\\mathbf{X}^{T} \\mathbf{X})^{-1}]_{jj} $.\n",
    "\n",
    "This quantity will be used to\n",
    "construct a confidence interval for the estimates."
   ]
  },
  {
   "cell_type": "markdown",
   "id": "a1d8db5e",
   "metadata": {},
   "source": [
    "## Standard Approach based on the Normal Distribution\n",
    "\n",
    "We will assume that the parameters $\\beta$ follow a normal\n",
    "distribution.  We can then define the confidence interval.  Here we will be using as\n",
    "shorthands $\\mu_{\\beta}$ for the above mean value and $\\sigma_{\\beta}$\n",
    "for the standard deviation. We have then a confidence interval"
   ]
  },
  {
   "cell_type": "markdown",
   "id": "08641096",
   "metadata": {},
   "source": [
    "$$\n",
    "\\left(\\mu_{\\beta}\\pm \\frac{z\\sigma_{\\beta}}{\\sqrt{n}}\\right),\n",
    "$$"
   ]
  },
  {
   "cell_type": "markdown",
   "id": "7d906b9f",
   "metadata": {},
   "source": [
    "where $z$ defines the level of certainty (or confidence). For a normal\n",
    "distribution typical parameters are $z=2.576$ which corresponds to a\n",
    "confidence of $99\\%$ while $z=1.96$ corresponds to a confidence of\n",
    "$95\\%$.  A confidence level of $95\\%$ is commonly used and it is\n",
    "normally referred to as a *two-sigmas* confidence level, that is we\n",
    "approximate $z\\approx 2$.\n",
    "\n",
    "For more discussions of confidence intervals (and in particular linked with a discussion of the bootstrap method), see chapter 5 of the textbook by [Davison on the Bootstrap Methods and their Applications](https://www.cambridge.org/core/books/bootstrap-methods-and-their-application/ED2FD043579F27952363566DC09CBD6A)\n",
    "\n",
    "In this text you will also find an in-depth discussion of the\n",
    "Bootstrap method, why it works and various theorems related to it."
   ]
  },
  {
   "cell_type": "markdown",
   "id": "47e0bf7b",
   "metadata": {},
   "source": [
    "## Resampling methods: Bootstrap background\n",
    "\n",
    "Since $\\widehat{\\beta} = \\widehat{\\beta}(\\boldsymbol{X})$ is a function of random variables,\n",
    "$\\widehat{\\beta}$ itself must be a random variable. Thus it has\n",
    "a pdf, call this function $p(\\boldsymbol{t})$. The aim of the bootstrap is to\n",
    "estimate $p(\\boldsymbol{t})$ by the relative frequency of\n",
    "$\\widehat{\\beta}$. You can think of this as using a histogram\n",
    "in the place of $p(\\boldsymbol{t})$. If the relative frequency closely\n",
    "resembles $p(\\vec{t})$, then using numerics, it is straight forward to\n",
    "estimate all the interesting parameters of $p(\\boldsymbol{t})$ using point\n",
    "estimators."
   ]
  },
  {
   "cell_type": "markdown",
   "id": "b1df24c8",
   "metadata": {},
   "source": [
    "## Resampling methods: More Bootstrap background\n",
    "\n",
    "In the case that $\\widehat{\\beta}$ has\n",
    "more than one component, and the components are independent, we use the\n",
    "same estimator on each component separately.  If the probability\n",
    "density function of $X_i$, $p(x)$, had been known, then it would have\n",
    "been straightforward to do this by: \n",
    "1. Drawing lots of numbers from $p(x)$, suppose we call one such set of numbers $(X_1^*, X_2^*, \\cdots, X_n^*)$. \n",
    "\n",
    "2. Then using these numbers, we could compute a replica of $\\widehat{\\beta}$ called $\\widehat{\\beta}^*$. \n",
    "\n",
    "By repeated use of the above two points, many\n",
    "estimates of $\\widehat{\\beta}$ can  be obtained. The\n",
    "idea is to use the relative frequency of $\\widehat{\\beta}^*$\n",
    "(think of a histogram) as an estimate of $p(\\boldsymbol{t})$."
   ]
  },
  {
   "cell_type": "markdown",
   "id": "8f0a61fc",
   "metadata": {},
   "source": [
    "## Resampling methods: Bootstrap approach\n",
    "\n",
    "But\n",
    "unless there is enough information available about the process that\n",
    "generated $X_1,X_2,\\cdots,X_n$, $p(x)$ is in general\n",
    "unknown. Therefore, [Efron in 1979](https://projecteuclid.org/euclid.aos/1176344552)  asked the\n",
    "question: What if we replace $p(x)$ by the relative frequency\n",
    "of the observation $X_i$?\n",
    "\n",
    "If we draw observations in accordance with\n",
    "the relative frequency of the observations, will we obtain the same\n",
    "result in some asymptotic sense? The answer is yes."
   ]
  },
  {
   "cell_type": "markdown",
   "id": "993e4a7f",
   "metadata": {},
   "source": [
    "## Resampling methods: Bootstrap steps\n",
    "\n",
    "The independent bootstrap works like this: \n",
    "\n",
    "1. Draw with replacement $n$ numbers for the observed variables $\\boldsymbol{x} = (x_1,x_2,\\cdots,x_n)$. \n",
    "\n",
    "2. Define a vector $\\boldsymbol{x}^*$ containing the values which were drawn from $\\boldsymbol{x}$. \n",
    "\n",
    "3. Using the vector $\\boldsymbol{x}^*$ compute $\\widehat{\\beta}^*$ by evaluating $\\widehat \\beta$ under the observations $\\boldsymbol{x}^*$. \n",
    "\n",
    "4. Repeat this process $k$ times. \n",
    "\n",
    "When you are done, you can draw a histogram of the relative frequency\n",
    "of $\\widehat \\beta^*$. This is your estimate of the probability\n",
    "distribution $p(t)$. Using this probability distribution you can\n",
    "estimate any statistics thereof. In principle you never draw the\n",
    "histogram of the relative frequency of $\\widehat{\\beta}^*$. Instead\n",
    "you use the estimators corresponding to the statistic of interest. For\n",
    "example, if you are interested in estimating the variance of $\\widehat\n",
    "\\beta$, apply the etsimator $\\widehat \\sigma^2$ to the values\n",
    "$\\widehat \\beta^*$."
   ]
  },
  {
   "cell_type": "markdown",
   "id": "8ac65fb0",
   "metadata": {},
   "source": [
    "## Code example for the Bootstrap method\n",
    "\n",
    "The following code starts with a Gaussian distribution with mean value\n",
    "$\\mu =100$ and variance $\\sigma=15$. We use this to generate the data\n",
    "used in the bootstrap analysis. The bootstrap analysis returns a data\n",
    "set after a given number of bootstrap operations (as many as we have\n",
    "data points). This data set consists of estimated mean values for each\n",
    "bootstrap operation. The histogram generated by the bootstrap method\n",
    "shows that the distribution for these mean values is also a Gaussian,\n",
    "centered around the mean value $\\mu=100$ but with standard deviation\n",
    "$\\sigma/\\sqrt{n}$, where $n$ is the number of bootstrap samples (in\n",
    "this case the same as the number of original data points). The value\n",
    "of the standard deviation is what we expect from the central limit\n",
    "theorem."
   ]
  },
  {
   "cell_type": "code",
   "execution_count": 1,
   "id": "45037da1",
   "metadata": {},
   "outputs": [
    {
     "name": "stdout",
     "output_type": "stream",
     "text": [
      "Bootstrap Statistics :\n",
      "original           bias      std. error\n",
      " 99.9985  14.8675            100        0.148211\n"
     ]
    }
   ],
   "source": [
    "import numpy as np\n",
    "from time import time\n",
    "from scipy.stats import norm\n",
    "import matplotlib.pyplot as plt\n",
    "\n",
    "# Returns mean of bootstrap samples \n",
    "# Bootstrap algorithm\n",
    "def bootstrap(data, datapoints):\n",
    "    t = np.zeros(datapoints)\n",
    "    n = len(data)\n",
    "    # non-parametric bootstrap         \n",
    "    for i in range(datapoints):\n",
    "        t[i] = np.mean(data[np.random.randint(0,n,n)])\n",
    "    # analysis    \n",
    "    print(\"Bootstrap Statistics :\")\n",
    "    print(\"original           bias      std. error\")\n",
    "    print(\"%8g %8g %14g %15g\" % (np.mean(data), np.std(data),np.mean(t),np.std(t)))\n",
    "    return t\n",
    "\n",
    "# We set the mean value to 100 and the standard deviation to 15\n",
    "mu, sigma = 100, 15\n",
    "datapoints = 10000\n",
    "# We generate random numbers according to the normal distribution\n",
    "x = mu + sigma*np.random.randn(datapoints)\n",
    "# bootstrap returns the data sample                                    \n",
    "t = bootstrap(x, datapoints)"
   ]
  },
  {
   "cell_type": "markdown",
   "id": "5911e5ca",
   "metadata": {},
   "source": [
    "We see that our new variance and from that the standard deviation, agrees with the central limit theorem."
   ]
  },
  {
   "cell_type": "markdown",
   "id": "e85ac6c9",
   "metadata": {},
   "source": [
    "## Plotting the Histogram"
   ]
  },
  {
   "cell_type": "code",
   "execution_count": 2,
   "id": "1553c667",
   "metadata": {},
   "outputs": [
    {
     "data": {
      "image/png": "[encoded data removed]",
      "text/plain": [
       "<Figure size 640x480 with 1 Axes>"
      ]
     },
     "metadata": {},
     "output_type": "display_data"
    }
   ],
   "source": [
    "# the histogram of the bootstrapped data (normalized data if density = True)\n",
    "n, binsboot, patches = plt.hist(t, 50, density=True, facecolor='red', alpha=0.75)\n",
    "# add a 'best fit' line  \n",
    "y = norm.pdf(binsboot, np.mean(t), np.std(t))\n",
    "lt = plt.plot(binsboot, y, 'b', linewidth=1)\n",
    "plt.xlabel('x')\n",
    "plt.ylabel('Probability')\n",
    "plt.grid(True)\n",
    "plt.show()"
   ]
  },
  {
   "cell_type": "markdown",
   "id": "fb4d1bd0",
   "metadata": {},
   "source": [
    "## The bias-variance tradeoff\n",
    "\n",
    "We will discuss the bias-variance tradeoff in the context of\n",
    "continuous predictions such as regression. However, many of the\n",
    "intuitions and ideas discussed here also carry over to classification\n",
    "tasks. Consider a dataset $\\mathcal{D}$ consisting of the data\n",
    "$\\mathbf{X}_\\mathcal{D}=\\{(y_j, \\boldsymbol{x}_j), j=0\\ldots n-1\\}$. \n",
    "\n",
    "Let us assume that the true data is generated from a noisy model"
   ]
  },
  {
   "cell_type": "markdown",
   "id": "768bc7ae",
   "metadata": {},
   "source": [
    "$$\n",
    "\\boldsymbol{y}=f(\\boldsymbol{x}) + \\boldsymbol{\\epsilon}\n",
    "$$"
   ]
  },
  {
   "cell_type": "markdown",
   "id": "8ffb3218",
   "metadata": {},
   "source": [
    "where $\\epsilon$ is normally distributed with mean zero and standard deviation $\\sigma^2$.\n",
    "\n",
    "In our derivation of the ordinary least squares method we defined then\n",
    "an approximation to the function $f$ in terms of the parameters\n",
    "$\\boldsymbol{\\beta}$ and the design matrix $\\boldsymbol{X}$ which embody our model,\n",
    "that is $\\boldsymbol{\\tilde{y}}=\\boldsymbol{X}\\boldsymbol{\\beta}$. \n",
    "\n",
    "Thereafter we found the parameters $\\boldsymbol{\\beta}$ by optimizing the means squared error via the so-called cost function"
   ]
  },
  {
   "cell_type": "markdown",
   "id": "ba329a2a",
   "metadata": {},
   "source": [
    "$$\n",
    "C(\\boldsymbol{X},\\boldsymbol{\\beta}) =\\frac{1}{n}\\sum_{i=0}^{n-1}(y_i-\\tilde{y}_i)^2=\\mathbb{E}\\left[(\\boldsymbol{y}-\\boldsymbol{\\tilde{y}})^2\\right].\n",
    "$$"
   ]
  },
  {
   "cell_type": "markdown",
   "id": "67201da2",
   "metadata": {},
   "source": [
    "We can rewrite this as"
   ]
  },
  {
   "cell_type": "markdown",
   "id": "80b97f70",
   "metadata": {},
   "source": [
    "$$\n",
    "\\mathbb{E}\\left[(\\boldsymbol{y}-\\boldsymbol{\\tilde{y}})^2\\right]=\\frac{1}{n}\\sum_i(f_i-\\mathbb{E}\\left[\\boldsymbol{\\tilde{y}}\\right])^2+\\frac{1}{n}\\sum_i(\\tilde{y}_i-\\mathbb{E}\\left[\\boldsymbol{\\tilde{y}}\\right])^2+\\sigma^2.\n",
    "$$"
   ]
  },
  {
   "cell_type": "markdown",
   "id": "928c1d17",
   "metadata": {},
   "source": [
    "The three terms represent the square of the bias of the learning\n",
    "method, which can be thought of as the error caused by the simplifying\n",
    "assumptions built into the method. The second term represents the\n",
    "variance of the chosen model and finally the last terms is variance of\n",
    "the error $\\boldsymbol{\\epsilon}$.\n",
    "\n",
    "To derive this equation, we need to recall that the variance of $\\boldsymbol{y}$ and $\\boldsymbol{\\epsilon}$ are both equal to $\\sigma^2$. The mean value of $\\boldsymbol{\\epsilon}$ is by definition equal to zero. Furthermore, the function $f$ is not a stochastics variable, idem for $\\boldsymbol{\\tilde{y}}$.\n",
    "We use a more compact notation in terms of the expectation value"
   ]
  },
  {
   "cell_type": "markdown",
   "id": "bca7a5d4",
   "metadata": {},
   "source": [
    "$$\n",
    "\\mathbb{E}\\left[(\\boldsymbol{y}-\\boldsymbol{\\tilde{y}})^2\\right]=\\mathbb{E}\\left[(\\boldsymbol{f}+\\boldsymbol{\\epsilon}-\\boldsymbol{\\tilde{y}})^2\\right],\n",
    "$$"
   ]
  },
  {
   "cell_type": "markdown",
   "id": "fd3a65d2",
   "metadata": {},
   "source": [
    "and adding and subtracting $\\mathbb{E}\\left[\\boldsymbol{\\tilde{y}}\\right]$ we get"
   ]
  },
  {
   "cell_type": "markdown",
   "id": "ee677c10",
   "metadata": {},
   "source": [
    "$$\n",
    "\\mathbb{E}\\left[(\\boldsymbol{y}-\\boldsymbol{\\tilde{y}})^2\\right]=\\mathbb{E}\\left[(\\boldsymbol{f}+\\boldsymbol{\\epsilon}-\\boldsymbol{\\tilde{y}}+\\mathbb{E}\\left[\\boldsymbol{\\tilde{y}}\\right]-\\mathbb{E}\\left[\\boldsymbol{\\tilde{y}}\\right])^2\\right],\n",
    "$$"
   ]
  },
  {
   "cell_type": "markdown",
   "id": "fcbd8a68",
   "metadata": {},
   "source": [
    "which, using the abovementioned expectation values can be rewritten as"
   ]
  },
  {
   "cell_type": "markdown",
   "id": "0c312857",
   "metadata": {},
   "source": [
    "$$\n",
    "\\mathbb{E}\\left[(\\boldsymbol{y}-\\boldsymbol{\\tilde{y}})^2\\right]=\\mathbb{E}\\left[(\\boldsymbol{y}-\\mathbb{E}\\left[\\boldsymbol{\\tilde{y}}\\right])^2\\right]+\\mathrm{Var}\\left[\\boldsymbol{\\tilde{y}}\\right]+\\sigma^2,\n",
    "$$"
   ]
  },
  {
   "cell_type": "markdown",
   "id": "17025d86",
   "metadata": {},
   "source": [
    "that is the rewriting in terms of the so-called bias, the variance of the model $\\boldsymbol{\\tilde{y}}$ and the variance of $\\boldsymbol{\\epsilon}$."
   ]
  },
  {
   "cell_type": "markdown",
   "id": "1651819d",
   "metadata": {},
   "source": [
    "## A way to Read the Bias-Variance Tradeoff\n",
    "\n",
    "<!-- dom:FIGURE: [figures/BiasVariance.png, width=600 frac=0.9] -->\n",
    "<!-- begin figure -->\n",
    "\n",
    "<img src=\"figures/BiasVariance.png\" width=\"600\"><p style=\"font-size: 0.9em\"><i>Figure 1: </i></p>\n",
    "<!-- end figure -->"
   ]
  },
  {
   "cell_type": "markdown",
   "id": "7562eeb3",
   "metadata": {},
   "source": [
    "## Example code for Bias-Variance tradeoff"
   ]
  },
  {
   "cell_type": "code",
   "execution_count": 10,
   "id": "150a9322",
   "metadata": {},
   "outputs": [],
   "source": [
    "import matplotlib.pyplot as plt\n",
    "import numpy as np\n",
    "from sklearn.linear_model import LinearRegression, Ridge, Lasso\n",
    "from sklearn.preprocessing import PolynomialFeatures\n",
    "from sklearn.model_selection import train_test_split\n",
    "from sklearn.pipeline import make_pipeline\n",
    "from sklearn.utils import resample\n",
    "\n",
    "np.random.seed(2018)\n",
    "\n",
    "n = 500\n",
    "n_boostraps = 100\n",
    "degree = 18  # A quite high value, just to show.\n",
    "noise = 0.1\n",
    "\n",
    "# Make data set.\n",
    "x = np.linspace(-1, 3, n).reshape(-1, 1)\n",
    "y = np.exp(-x**2) + 1.5 * np.exp(-(x-2)**2) + np.random.normal(0, 0.1, x.shape)\n",
    "\n",
    "# Hold out some test data that is never used in training.\n",
    "x_train, x_test, y_train, y_test = train_test_split(x, y, test_size=0.2)\n",
    "\n",
    "# Combine x transformation and model into one operation.\n",
    "# Not neccesary, but convenient.\n",
    "model = make_pipeline(PolynomialFeatures(degree=degree), LinearRegression(fit_intercept=False))\n",
    "\n",
    "# The following (m x n_bootstraps) matrix holds the column vectors y_pred\n",
    "# for each bootstrap iteration.\n",
    "y_pred = np.empty((y_test.shape[0], n_boostraps))\n",
    "for i in range(n_boostraps):\n",
    "    x_, y_ = resample(x_train, y_train)\n",
    "\n",
    "    # Evaluate the new model on the same test data each time.\n",
    "    y_pred[:, i] = model.fit(x_, y_).predict(x_test).ravel()\n",
    "\n",
    "# Note: Expectations and variances taken w.r.t. different training\n",
    "# data sets, hence the axis=1. Subsequent means are taken across the test data\n",
    "# set in order to obtain a total value, but before this we have error/bias/variance\n",
    "# calculated per data point in the test set.\n",
    "# Note 2: The use of keepdims=True is important in the calculation of bias as this \n",
    "# maintains the column vector form. Dropping this yields very unexpected results.\n",
    "error = np.mean( np.mean((y_test - y_pred)**2, axis=1, keepdims=True) )\n",
    "bias = np.mean( (y_test - np.mean(y_pred, axis=1, keepdims=True))**2 )\n",
    "variance = np.mean( np.var(y_pred, axis=1, keepdims=True) )\n",
    "print('Error:', error)\n",
    "print('Bias^2:', bias)\n",
    "print('Var:', variance)\n",
    "print('{} >= {} + {} = {}'.format(error, bias, variance, bias+variance))\n",
    "\n",
    "plt.plot(x[::5, :], y[::5, :], label='f(x)')\n",
    "plt.scatter(x_test, y_test, label='Data points')\n",
    "plt.scatter(x_test, np.mean(y_pred, axis=1), label='Pred')\n",
    "plt.legend()\n",
    "plt.show()"
   ]
  },
  {
   "cell_type": "markdown",
   "id": "8d0efcf5",
   "metadata": {},
   "source": [
    "## Understanding what happens"
   ]
  },
  {
   "cell_type": "code",
   "execution_count": 7,
   "id": "9aa8bae7",
   "metadata": {},
   "outputs": [
    {
     "name": "stdout",
     "output_type": "stream",
     "text": [
      "Polynomial degree: 0\n",
      "Error: 0.3473449261227775\n",
      "Bias^2: 0.34442891766377043\n",
      "Var: 0.0029160084590072123\n",
      "0.3473449261227775 >= 0.34442891766377043 + 0.0029160084590072123 = 0.3473449261227776\n",
      "Polynomial degree: 1\n",
      "Error: 0.08320869315180461\n",
      "Bias^2: 0.08079415054390511\n",
      "Var: 0.0024145426078995267\n",
      "0.08320869315180461 >= 0.08079415054390511 + 0.0024145426078995267 = 0.08320869315180464\n",
      "Polynomial degree: 2\n",
      "Error: 0.09343098322594835\n",
      "Bias^2: 0.09094327576313584\n",
      "Var: 0.002487707462812486\n",
      "0.09343098322594835 >= 0.09094327576313584 + 0.002487707462812486 = 0.09343098322594832\n",
      "Polynomial degree: 3\n",
      "Error: 0.04412863340553515\n",
      "Bias^2: 0.04275546430846187\n",
      "Var: 0.001373169097073277\n",
      "0.04412863340553515 >= 0.04275546430846187 + 0.001373169097073277 = 0.04412863340553515\n",
      "Polynomial degree: 4\n",
      "Error: 0.04470908847589711\n",
      "Bias^2: 0.04240986903043563\n",
      "Var: 0.002299219445461492\n",
      "0.04470908847589711 >= 0.04240986903043563 + 0.002299219445461492 = 0.04470908847589712\n",
      "Polynomial degree: 5\n",
      "Error: 0.028280188155767806\n",
      "Bias^2: 0.025618771178433735\n",
      "Var: 0.002661416977334065\n",
      "0.028280188155767806 >= 0.025618771178433735 + 0.002661416977334065 = 0.0282801881557678\n",
      "Polynomial degree: 6\n",
      "Error: 0.022825849262112986\n",
      "Bias^2: 0.019549646074043754\n",
      "Var: 0.003276203188069223\n",
      "0.022825849262112986 >= 0.019549646074043754 + 0.003276203188069223 = 0.022825849262112976\n",
      "Polynomial degree: 7\n",
      "Error: 0.018582105566171715\n",
      "Bias^2: 0.014625470925816541\n",
      "Var: 0.003956634640355182\n",
      "0.018582105566171715 >= 0.014625470925816541 + 0.003956634640355182 = 0.018582105566171722\n",
      "Polynomial degree: 8\n",
      "Error: 0.012597458957966684\n",
      "Bias^2: 0.011479046694581349\n",
      "Var: 0.0011184122633853405\n",
      "0.012597458957966684 >= 0.011479046694581349 + 0.0011184122633853405 = 0.01259745895796669\n",
      "Polynomial degree: 9\n",
      "Error: 0.01280374424185193\n",
      "Bias^2: 0.011306151277137143\n",
      "Var: 0.001497592964714779\n",
      "0.01280374424185193 >= 0.011306151277137143 + 0.001497592964714779 = 0.012803744241851923\n",
      "Polynomial degree: 10\n",
      "Error: 0.013143772803255339\n",
      "Bias^2: 0.011356632052756043\n",
      "Var: 0.0017871407504993057\n",
      "0.013143772803255339 >= 0.011356632052756043 + 0.0017871407504993057 = 0.01314377280325535\n",
      "Polynomial degree: 11\n",
      "Error: 0.021091756600526423\n",
      "Bias^2: 0.010495297378142423\n",
      "Var: 0.01059645922238399\n",
      "0.021091756600526423 >= 0.010495297378142423 + 0.01059645922238399 = 0.021091756600526413\n",
      "Polynomial degree: 12\n",
      "Error: 0.016326775936432156\n",
      "Bias^2: 0.01223162067366129\n",
      "Var: 0.004095155262770857\n",
      "0.016326775936432156 >= 0.01223162067366129 + 0.004095155262770857 = 0.01632677593643215\n",
      "Polynomial degree: 13\n",
      "Error: 0.02382052092876413\n",
      "Bias^2: 0.013913695942374519\n",
      "Var: 0.009906824986389614\n",
      "0.02382052092876413 >= 0.013913695942374519 + 0.009906824986389614 = 0.023820520928764133\n",
      "Polynomial degree: 14\n",
      "Error: 0.05034958704032978\n",
      "Bias^2: 0.01625166615957143\n",
      "Var: 0.03409792088075836\n",
      "0.05034958704032978 >= 0.01625166615957143 + 0.03409792088075836 = 0.05034958704032979\n",
      "Polynomial degree: 15\n",
      "Error: 0.08727110437448897\n",
      "Bias^2: 0.015862205326577675\n",
      "Var: 0.07140889904791126\n",
      "0.08727110437448897 >= 0.015862205326577675 + 0.07140889904791126 = 0.08727110437448893\n",
      "Polynomial degree: 16\n",
      "Error: 0.04582882695902384\n",
      "Bias^2: 0.015462950344051995\n",
      "Var: 0.030365876614971858\n",
      "0.04582882695902384 >= 0.015462950344051995 + 0.030365876614971858 = 0.04582882695902385\n",
      "Polynomial degree: 17\n",
      "Error: 0.09289447054330988\n",
      "Bias^2: 0.018817167283250853\n",
      "Var: 0.07407730326005901\n",
      "0.09289447054330988 >= 0.018817167283250853 + 0.07407730326005901 = 0.09289447054330986\n",
      "Polynomial degree: 18\n",
      "Error: 240.68453474439508\n",
      "Bias^2: 2.0694653500739557\n",
      "Var: 238.615069394321\n",
      "240.68453474439508 >= 2.0694653500739557 + 238.615069394321 = 240.68453474439497\n",
      "Polynomial degree: 19\n",
      "Error: 0.5083072127230229\n",
      "Bias^2: 0.01857401488172925\n",
      "Var: 0.48973319784129365\n",
      "0.5083072127230229 >= 0.01857401488172925 + 0.48973319784129365 = 0.5083072127230229\n",
      "Polynomial degree: 20\n",
      "Error: 1.576978440380947\n",
      "Bias^2: 0.0263230698863794\n",
      "Var: 1.5506553704945674\n",
      "1.576978440380947 >= 0.0263230698863794 + 1.5506553704945674 = 1.5769784403809468\n",
      "Polynomial degree: 21\n",
      "Error: 20.92278056758611\n",
      "Bias^2: 0.27638895670251085\n",
      "Var: 20.646391610883597\n",
      "20.92278056758611 >= 0.27638895670251085 + 20.646391610883597 = 20.92278056758611\n",
      "Polynomial degree: 22\n",
      "Error: 1187.224867485578\n",
      "Bias^2: 5.478529493730315\n",
      "Var: 1181.7463379918483\n",
      "1187.224867485578 >= 5.478529493730315 + 1181.7463379918483 = 1187.2248674855787\n",
      "Polynomial degree: 23\n",
      "Error: 394.89964283357733\n",
      "Bias^2: 1.168238422076407\n",
      "Var: 393.731404411501\n",
      "394.89964283357733 >= 1.168238422076407 + 393.731404411501 = 394.8996428335774\n",
      "Polynomial degree: 24\n",
      "Error: 55590.22995578982\n",
      "Bias^2: 730.2025544646432\n",
      "Var: 54860.027401325155\n",
      "55590.22995578982 >= 730.2025544646432 + 54860.027401325155 = 55590.2299557898\n",
      "Polynomial degree: 25\n",
      "Error: 1087.6452819459596\n",
      "Bias^2: 11.821628418293537\n",
      "Var: 1075.823653527666\n",
      "1087.6452819459596 >= 11.821628418293537 + 1075.823653527666 = 1087.6452819459596\n",
      "Polynomial degree: 26\n",
      "Error: 13740.58760205557\n",
      "Bias^2: 232.0640483273183\n",
      "Var: 13508.523553728253\n",
      "13740.58760205557 >= 232.0640483273183 + 13508.523553728253 = 13740.587602055572\n",
      "Polynomial degree: 27\n",
      "Error: 71351.11129345917\n",
      "Bias^2: 45.90112275591024\n",
      "Var: 71305.21017070329\n",
      "71351.11129345917 >= 45.90112275591024 + 71305.21017070329 = 71351.1112934592\n",
      "Polynomial degree: 28\n",
      "Error: 19440653.83419541\n",
      "Bias^2: 179946.66413079208\n",
      "Var: 19260707.170064624\n",
      "19440653.83419541 >= 179946.66413079208 + 19260707.170064624 = 19440653.834195416\n",
      "Polynomial degree: 29\n",
      "Error: 21792.932925358902\n",
      "Bias^2: 313.018136298878\n",
      "Var: 21479.914789060032\n",
      "21792.932925358902 >= 313.018136298878 + 21479.914789060032 = 21792.93292535891\n"
     ]
    },
    {
     "data": {
      "image/png": "[encoded data removed]",
      "text/plain": [
       "<Figure size 640x480 with 1 Axes>"
      ]
     },
     "metadata": {},
     "output_type": "display_data"
    }
   ],
   "source": [
    "import matplotlib.pyplot as plt\n",
    "import numpy as np\n",
    "from sklearn.linear_model import LinearRegression, Ridge, Lasso\n",
    "from sklearn.preprocessing import PolynomialFeatures\n",
    "from sklearn.model_selection import train_test_split\n",
    "from sklearn.pipeline import make_pipeline\n",
    "from sklearn.utils import resample\n",
    "\n",
    "np.random.seed(2018)\n",
    "\n",
    "n = 100\n",
    "n_boostraps = 100\n",
    "maxdegree = 30\n",
    "\n",
    "\n",
    "# Make data set.\n",
    "x = np.linspace(-3, 3, n).reshape(-1, 1)\n",
    "y = np.exp(-x**2) + 1.5 * np.exp(-(x-2)**2)+ np.random.normal(0, 0.1, x.shape)\n",
    "error = np.zeros(maxdegree)\n",
    "bias = np.zeros(maxdegree)\n",
    "variance = np.zeros(maxdegree)\n",
    "polydegree = np.zeros(maxdegree)\n",
    "x_train, x_test, y_train, y_test = train_test_split(x, y, test_size=0.2)\n",
    "\n",
    "for degree in range(maxdegree):\n",
    "    model = make_pipeline(PolynomialFeatures(degree=degree), LinearRegression(fit_intercept=False))\n",
    "    y_pred = np.empty((y_test.shape[0], n_boostraps))\n",
    "    for i in range(n_boostraps):\n",
    "        x_, y_ = resample(x_train, y_train)\n",
    "        y_pred[:, i] = model.fit(x_, y_).predict(x_test).ravel()\n",
    "\n",
    "    polydegree[degree] = degree\n",
    "    error[degree] = np.mean( np.mean((y_test - y_pred)**2, axis=1, keepdims=True) )\n",
    "    bias[degree] = np.mean( (y_test - np.mean(y_pred, axis=1, keepdims=True))**2 )\n",
    "    variance[degree] = np.mean( np.var(y_pred, axis=1, keepdims=True) )\n",
    "    print('Polynomial degree:', degree)\n",
    "    print('Error:', error[degree])\n",
    "    print('Bias^2:', bias[degree])\n",
    "    print('Var:', variance[degree])\n",
    "    print('{} >= {} + {} = {}'.format(error[degree], bias[degree], variance[degree], bias[degree]+variance[degree]))\n",
    "\n",
    "plt.plot(polydegree, error, label='Error')\n",
    "plt.plot(polydegree, bias, label='bias')\n",
    "plt.plot(polydegree, variance, label='Variance')\n",
    "plt.legend()\n",
    "plt.show()"
   ]
  },
  {
   "cell_type": "markdown",
   "id": "4ce46dc9",
   "metadata": {},
   "source": [
    "## Summing up\n",
    "\n",
    "The bias-variance tradeoff summarizes the fundamental tension in\n",
    "machine learning, particularly supervised learning, between the\n",
    "complexity of a model and the amount of training data needed to train\n",
    "it.  Since data is often limited, in practice it is often useful to\n",
    "use a less-complex model with higher bias, that is  a model whose asymptotic\n",
    "performance is worse than another model because it is easier to\n",
    "train and less sensitive to sampling noise arising from having a\n",
    "finite-sized training dataset (smaller variance). \n",
    "\n",
    "The above equations tell us that in\n",
    "order to minimize the expected test error, we need to select a\n",
    "statistical learning method that simultaneously achieves low variance\n",
    "and low bias. Note that variance is inherently a nonnegative quantity,\n",
    "and squared bias is also nonnegative. Hence, we see that the expected\n",
    "test MSE can never lie below $Var(\\epsilon)$, the irreducible error.\n",
    "\n",
    "What do we mean by the variance and bias of a statistical learning\n",
    "method? The variance refers to the amount by which our model would change if we\n",
    "estimated it using a different training data set. Since the training\n",
    "data are used to fit the statistical learning method, different\n",
    "training data sets  will result in a different estimate. But ideally the\n",
    "estimate for our model should not vary too much between training\n",
    "sets. However, if a method has high variance  then small changes in\n",
    "the training data can result in large changes in the model. In general, more\n",
    "flexible statistical methods have higher variance.\n",
    "\n",
    "You may also find this recent [article](https://www.pnas.org/content/116/32/15849) of interest."
   ]
  },
  {
   "cell_type": "markdown",
   "id": "9fed7feb",
   "metadata": {},
   "source": [
    "## Another Example from Scikit-Learn's Repository"
   ]
  },
  {
   "cell_type": "code",
   "execution_count": 8,
   "id": "ffe5ccec",
   "metadata": {},
   "outputs": [
    {
     "name": "stdout",
     "output_type": "stream",
     "text": [
      "\n",
      "============================\n",
      "Underfitting vs. Overfitting\n",
      "============================\n",
      "\n",
      "This example demonstrates the problems of underfitting and overfitting and\n",
      "how we can use linear regression with polynomial features to approximate\n",
      "nonlinear functions. The plot shows the function that we want to approximate,\n",
      "which is a part of the cosine function. In addition, the samples from the\n",
      "real function and the approximations of different models are displayed. The\n",
      "models have polynomial features of different degrees. We can see that a\n",
      "linear function (polynomial with degree 1) is not sufficient to fit the\n",
      "training samples. This is called **underfitting**. A polynomial of degree 4\n",
      "approximates the true function almost perfectly. However, for higher degrees\n",
      "the model will **overfit** the training data, i.e. it learns the noise of the\n",
      "training data.\n",
      "We evaluate quantitatively **overfitting** / **underfitting** by using\n",
      "cross-validation. We calculate the mean squared error (MSE) on the validation\n",
      "set, the higher, the less likely the model generalizes correctly from the\n",
      "training data.\n",
      "\n"
     ]
    },
    {
     "data": {
      "image/png": "[encoded data removed]",
      "text/plain": [
       "<Figure size 1400x500 with 3 Axes>"
      ]
     },
     "metadata": {},
     "output_type": "display_data"
    }
   ],
   "source": [
    "\"\"\"\n",
    "============================\n",
    "Underfitting vs. Overfitting\n",
    "============================\n",
    "\n",
    "This example demonstrates the problems of underfitting and overfitting and\n",
    "how we can use linear regression with polynomial features to approximate\n",
    "nonlinear functions. The plot shows the function that we want to approximate,\n",
    "which is a part of the cosine function. In addition, the samples from the\n",
    "real function and the approximations of different models are displayed. The\n",
    "models have polynomial features of different degrees. We can see that a\n",
    "linear function (polynomial with degree 1) is not sufficient to fit the\n",
    "training samples. This is called **underfitting**. A polynomial of degree 4\n",
    "approximates the true function almost perfectly. However, for higher degrees\n",
    "the model will **overfit** the training data, i.e. it learns the noise of the\n",
    "training data.\n",
    "We evaluate quantitatively **overfitting** / **underfitting** by using\n",
    "cross-validation. We calculate the mean squared error (MSE) on the validation\n",
    "set, the higher, the less likely the model generalizes correctly from the\n",
    "training data.\n",
    "\"\"\"\n",
    "\n",
    "print(__doc__)\n",
    "\n",
    "import numpy as np\n",
    "import matplotlib.pyplot as plt\n",
    "from sklearn.pipeline import Pipeline\n",
    "from sklearn.preprocessing import PolynomialFeatures\n",
    "from sklearn.linear_model import LinearRegression\n",
    "from sklearn.model_selection import cross_val_score\n",
    "\n",
    "\n",
    "def true_fun(X):\n",
    "    return np.cos(1.5 * np.pi * X)\n",
    "\n",
    "np.random.seed(0)\n",
    "\n",
    "n_samples = 30\n",
    "degrees = [1, 4, 15]\n",
    "\n",
    "X = np.sort(np.random.rand(n_samples))\n",
    "y = true_fun(X) + np.random.randn(n_samples) * 0.1\n",
    "\n",
    "plt.figure(figsize=(14, 5))\n",
    "for i in range(len(degrees)):\n",
    "    ax = plt.subplot(1, len(degrees), i + 1)\n",
    "    plt.setp(ax, xticks=(), yticks=())\n",
    "\n",
    "    polynomial_features = PolynomialFeatures(degree=degrees[i],\n",
    "                                             include_bias=False)\n",
    "    linear_regression = LinearRegression()\n",
    "    pipeline = Pipeline([(\"polynomial_features\", polynomial_features),\n",
    "                         (\"linear_regression\", linear_regression)])\n",
    "    pipeline.fit(X[:, np.newaxis], y)\n",
    "\n",
    "    # Evaluate the models using crossvalidation\n",
    "    scores = cross_val_score(pipeline, X[:, np.newaxis], y,\n",
    "                             scoring=\"neg_mean_squared_error\", cv=10)\n",
    "\n",
    "    X_test = np.linspace(0, 1, 100)\n",
    "    plt.plot(X_test, pipeline.predict(X_test[:, np.newaxis]), label=\"Model\")\n",
    "    plt.plot(X_test, true_fun(X_test), label=\"True function\")\n",
    "    plt.scatter(X, y, edgecolor='b', s=20, label=\"Samples\")\n",
    "    plt.xlabel(\"x\")\n",
    "    plt.ylabel(\"y\")\n",
    "    plt.xlim((0, 1))\n",
    "    plt.ylim((-2, 2))\n",
    "    plt.legend(loc=\"best\")\n",
    "    plt.title(\"Degree {}\\nMSE = {:.2e}(+/- {:.2e})\".format(\n",
    "        degrees[i], -scores.mean(), scores.std()))\n",
    "plt.show()"
   ]
  },
  {
   "cell_type": "markdown",
   "id": "1e369454",
   "metadata": {},
   "source": [
    "## Various steps in cross-validation\n",
    "\n",
    "When the repetitive splitting of the data set is done randomly,\n",
    "samples may accidently end up in a fast majority of the splits in\n",
    "either training or test set. Such samples may have an unbalanced\n",
    "influence on either model building or prediction evaluation. To avoid\n",
    "this $k$-fold cross-validation structures the data splitting. The\n",
    "samples are divided into $k$ more or less equally sized exhaustive and\n",
    "mutually exclusive subsets. In turn (at each split) one of these\n",
    "subsets plays the role of the test set while the union of the\n",
    "remaining subsets constitutes the training set. Such a splitting\n",
    "warrants a balanced representation of each sample in both training and\n",
    "test set over the splits. Still the division into the $k$ subsets\n",
    "involves a degree of randomness. This may be fully excluded when\n",
    "choosing $k=n$. This particular case is referred to as leave-one-out\n",
    "cross-validation (LOOCV)."
   ]
  },
  {
   "cell_type": "markdown",
   "id": "c99c1673",
   "metadata": {},
   "source": [
    "## How to set up the cross-validation for Ridge and/or Lasso\n",
    "\n",
    "* Define a range of interest for the penalty parameter.\n",
    "\n",
    "* Divide the data set into training and test set comprising samples $\\{1, \\ldots, n\\} \\setminus i$ and $\\{ i \\}$, respectively.\n",
    "\n",
    "* Fit the linear regression model by means of ridge estimation  for each $\\lambda$ in the grid using the training set, and the corresponding estimate of the error variance $\\boldsymbol{\\sigma}_{-i}^2(\\lambda)$, as"
   ]
  },
  {
   "cell_type": "markdown",
   "id": "f4dfe41c",
   "metadata": {},
   "source": [
    "$$\n",
    "\\begin{align*}\n",
    "\\boldsymbol{\\beta}_{-i}(\\lambda) & =  ( \\boldsymbol{X}_{-i, \\ast}^{T}\n",
    "\\boldsymbol{X}_{-i, \\ast} + \\lambda \\boldsymbol{I}_{pp})^{-1}\n",
    "\\boldsymbol{X}_{-i, \\ast}^{T} \\boldsymbol{y}_{-i}\n",
    "\\end{align*}\n",
    "$$"
   ]
  },
  {
   "cell_type": "markdown",
   "id": "0ed8b686",
   "metadata": {},
   "source": [
    "* Evaluate the prediction performance of these models on the test set by $[y_i, \\boldsymbol{X}_{i, \\ast}; \\boldsymbol{\\beta}_{-i}(\\lambda), \\boldsymbol{\\sigma}_{-i}^2(\\lambda)]$. Or, by the prediction error $|y_i - \\boldsymbol{X}_{i, \\ast} \\boldsymbol{\\beta}_{-i}(\\lambda)|$, the relative error, the error squared or the R2 score function.\n",
    "\n",
    "* Repeat the first three steps  such that each sample plays the role of the test set once.\n",
    "\n",
    "* Average the prediction performances of the test sets at each grid point of the penalty bias/parameter. It is an estimate of the prediction performance of the model corresponding to this value of the penalty parameter on novel data. It is defined as"
   ]
  },
  {
   "cell_type": "markdown",
   "id": "93b7e290",
   "metadata": {},
   "source": [
    "$$\n",
    "\\begin{align*}\n",
    "\\frac{1}{n} \\sum_{i = 1}^n \\log\\{L[y_i, \\mathbf{X}_{i, \\ast}; \\boldsymbol{\\beta}_{-i}(\\lambda), \\boldsymbol{\\sigma}_{-i}^2(\\lambda)]\\}.\n",
    "\\end{align*}\n",
    "$$"
   ]
  },
  {
   "cell_type": "markdown",
   "id": "d1f0d4f4",
   "metadata": {},
   "source": [
    "## Cross-validation in brief\n",
    "\n",
    "For the various values of $k$\n",
    "\n",
    "1. shuffle the dataset randomly.\n",
    "\n",
    "2. Split the dataset into $k$ groups.\n",
    "\n",
    "3. For each unique group:\n",
    "\n",
    "a. Decide which group to use as set for test data\n",
    "\n",
    "b. Take the remaining groups as a training data set\n",
    "\n",
    "c. Fit a model on the training set and evaluate it on the test set\n",
    "\n",
    "d. Retain the evaluation score and discard the model\n",
    "\n",
    "5. Summarize the model using the sample of model evaluation scores"
   ]
  },
  {
   "cell_type": "markdown",
   "id": "e55f9b38",
   "metadata": {},
   "source": [
    "## Code Example for Cross-validation and $k$-fold Cross-validation\n",
    "\n",
    "The code here uses Ridge regression with cross-validation (CV)  resampling and $k$-fold CV in order to fit a specific polynomial."
   ]
  },
  {
   "cell_type": "code",
   "execution_count": 14,
   "id": "8a22ba7a",
   "metadata": {},
   "outputs": [
    {
     "data": {
      "image/png": "[encoded data removed]",
      "text/plain": [
       "<Figure size 640x480 with 1 Axes>"
      ]
     },
     "metadata": {},
     "output_type": "display_data"
    }
   ],
   "source": [
    "import numpy as np\n",
    "import matplotlib.pyplot as plt\n",
    "from sklearn.model_selection import KFold\n",
    "from sklearn.linear_model import Ridge\n",
    "from sklearn.model_selection import cross_val_score\n",
    "from sklearn.preprocessing import PolynomialFeatures\n",
    "\n",
    "# A seed just to ensure that the random numbers are the same for every run.\n",
    "# Useful for eventual debugging.\n",
    "np.random.seed(3155)\n",
    "\n",
    "# Generate the data.\n",
    "nsamples = 30\n",
    "x = np.random.randn(nsamples)\n",
    "y = 3*x**2 + np.random.randn(nsamples)\n",
    "\n",
    "## Cross-validation on Ridge regression using KFold only\n",
    "\n",
    "# Decide degree on polynomial to fit\n",
    "poly = PolynomialFeatures(degree = 2)\n",
    "\n",
    "# Decide which values of lambda to use\n",
    "nlambdas = 10\n",
    "lambdas = np.logspace(-3, -1, nlambdas)\n",
    "\n",
    "# Initialize a KFold instance\n",
    "k = 5\n",
    "kfold = KFold(n_splits = k)\n",
    "\n",
    "# Perform the cross-validation to estimate MSE\n",
    "scores_KFold = np.zeros((nlambdas, k))\n",
    "\n",
    "i = 0\n",
    "for lmb in lambdas:\n",
    "    ridge = Ridge(alpha = lmb)\n",
    "    j = 0\n",
    "    for train_inds, test_inds in kfold.split(x):\n",
    "        xtrain = x[train_inds]\n",
    "        ytrain = y[train_inds]\n",
    "\n",
    "        xtest = x[test_inds]\n",
    "        ytest = y[test_inds]\n",
    "\n",
    "        Xtrain = poly.fit_transform(xtrain[:, np.newaxis])\n",
    "        ridge.fit(Xtrain, ytrain[:, np.newaxis])\n",
    "\n",
    "        Xtest = poly.fit_transform(xtest[:, np.newaxis])\n",
    "        ypred = ridge.predict(Xtest)\n",
    "\n",
    "        scores_KFold[i,j] = np.sum((ypred - ytest[:, np.newaxis])**2)/np.size(ypred)\n",
    "\n",
    "        j += 1\n",
    "    i += 1\n",
    "\n",
    "\n",
    "estimated_mse_KFold = np.mean(scores_KFold, axis = 1)\n",
    "\n",
    "## Cross-validation using cross_val_score from sklearn along with KFold\n",
    "\n",
    "# kfold is an instance initialized above as:\n",
    "# kfold = KFold(n_splits = k)\n",
    "\n",
    "estimated_mse_sklearn = np.zeros(nlambdas)\n",
    "i = 0\n",
    "for lmb in lambdas:\n",
    "    ridge = Ridge(alpha = lmb)\n",
    "\n",
    "    X = poly.fit_transform(x[:, np.newaxis])\n",
    "    estimated_mse_folds = cross_val_score(ridge, X, y[:, np.newaxis], scoring='neg_mean_squared_error', cv=kfold)\n",
    "\n",
    "    # cross_val_score return an array containing the estimated negative mse for every fold.\n",
    "    # we have to the the mean of every array in order to get an estimate of the mse of the model\n",
    "    estimated_mse_sklearn[i] = np.mean(-estimated_mse_folds)\n",
    "\n",
    "    i += 1\n",
    "\n",
    "## Plot and compare the slightly different ways to perform cross-validation\n",
    "\n",
    "plt.figure()\n",
    "\n",
    "plt.plot(np.log10(lambdas), estimated_mse_sklearn, label = 'cross_val_score')\n",
    "plt.plot(np.log10(lambdas), estimated_mse_KFold, 'r--', label = 'KFold')\n",
    "\n",
    "plt.xlabel('log10(lambda)')\n",
    "plt.ylabel('mse')\n",
    "\n",
    "plt.legend()\n",
    "\n",
    "plt.show()"
   ]
  },
  {
   "cell_type": "markdown",
   "id": "5f0bc2bb",
   "metadata": {},
   "source": [
    "## More examples on bootstrap and cross-validation and errors"
   ]
  },
  {
   "cell_type": "code",
   "execution_count": 14,
   "id": "868d4a23",
   "metadata": {},
   "outputs": [],
   "source": [
    "# Common imports\n",
    "import os\n",
    "import numpy as np\n",
    "import pandas as pd\n",
    "import matplotlib.pyplot as plt\n",
    "from sklearn.linear_model import LinearRegression, Ridge, Lasso\n",
    "from sklearn.model_selection import train_test_split\n",
    "from sklearn.utils import resample\n",
    "from sklearn.metrics import mean_squared_error\n",
    "# Where to save the figures and data files\n",
    "PROJECT_ROOT_DIR = \"Results\"\n",
    "FIGURE_ID = \"Results/FigureFiles\"\n",
    "DATA_ID = \"DataFiles/\"\n",
    "\n",
    "if not os.path.exists(PROJECT_ROOT_DIR):\n",
    "    os.mkdir(PROJECT_ROOT_DIR)\n",
    "\n",
    "if not os.path.exists(FIGURE_ID):\n",
    "    os.makedirs(FIGURE_ID)\n",
    "\n",
    "if not os.path.exists(DATA_ID):\n",
    "    os.makedirs(DATA_ID)\n",
    "\n",
    "def image_path(fig_id):\n",
    "    return os.path.join(FIGURE_ID, fig_id)\n",
    "\n",
    "def data_path(dat_id):\n",
    "    return os.path.join(DATA_ID, dat_id)\n",
    "\n",
    "def save_fig(fig_id):\n",
    "    plt.savefig(image_path(fig_id) + \".png\", format='png')\n",
    "\n",
    "infile = open(data_path(\"EoS.csv\"),'r')\n",
    "\n",
    "# Read the EoS data as  csv file and organize the data into two arrays with density and energies\n",
    "EoS = pd.read_csv(infile, names=('Density', 'Energy'))\n",
    "EoS['Energy'] = pd.to_numeric(EoS['Energy'], errors='coerce')\n",
    "EoS = EoS.dropna()\n",
    "Energies = EoS['Energy']\n",
    "Density = EoS['Density']\n",
    "#  The design matrix now as function of various polytrops\n",
    "\n",
    "Maxpolydegree = 30\n",
    "X = np.zeros((len(Density),Maxpolydegree))\n",
    "X[:,0] = 1.0\n",
    "testerror = np.zeros(Maxpolydegree)\n",
    "trainingerror = np.zeros(Maxpolydegree)\n",
    "polynomial = np.zeros(Maxpolydegree)\n",
    "\n",
    "trials = 100\n",
    "for polydegree in range(1, Maxpolydegree):\n",
    "    polynomial[polydegree] = polydegree\n",
    "    for degree in range(polydegree):\n",
    "        X[:,degree] = Density**(degree/3.0)\n",
    "\n",
    "# loop over trials in order to estimate the expectation value of the MSE\n",
    "    testerror[polydegree] = 0.0\n",
    "    trainingerror[polydegree] = 0.0\n",
    "    for samples in range(trials):\n",
    "        x_train, x_test, y_train, y_test = train_test_split(X, Energies, test_size=0.2)\n",
    "        model = LinearRegression(fit_intercept=False).fit(x_train, y_train)\n",
    "        ypred = model.predict(x_train)\n",
    "        ytilde = model.predict(x_test)\n",
    "        testerror[polydegree] += mean_squared_error(y_test, ytilde)\n",
    "        trainingerror[polydegree] += mean_squared_error(y_train, ypred) \n",
    "\n",
    "    testerror[polydegree] /= trials\n",
    "    trainingerror[polydegree] /= trials\n",
    "    print(\"Degree of polynomial: %3d\"% polynomial[polydegree])\n",
    "    print(\"Mean squared error on training data: %.8f\" % trainingerror[polydegree])\n",
    "    print(\"Mean squared error on test data: %.8f\" % testerror[polydegree])\n",
    "\n",
    "plt.plot(polynomial, np.log10(trainingerror), label='Training Error')\n",
    "plt.plot(polynomial, np.log10(testerror), label='Test Error')\n",
    "plt.xlabel('Polynomial degree')\n",
    "plt.ylabel('log10[MSE]')\n",
    "plt.legend()\n",
    "plt.show()"
   ]
  },
  {
   "cell_type": "markdown",
   "id": "e690c834",
   "metadata": {},
   "source": [
    "Note that we kept the intercept column in the fitting here. This means that we need to set the **intercept** in the call to the **Scikit-Learn** function as **False**. Alternatively, we could have set up the design matrix $X$ without the first column of ones."
   ]
  },
  {
   "cell_type": "markdown",
   "id": "c78629eb",
   "metadata": {},
   "source": [
    "## The same example but now with cross-validation\n",
    "\n",
    "In this example we keep the intercept column again but add cross-validation in order to estimate the best possible value of the means squared error."
   ]
  },
  {
   "cell_type": "code",
   "execution_count": 16,
   "id": "5addea58",
   "metadata": {},
   "outputs": [
    {
     "name": "stderr",
     "output_type": "stream",
     "text": [
      "/var/folders/td/3yk470mj5p931p9dtkk0y6jw0000gn/T/ipykernel_14455/3127697733.py:63: RuntimeWarning: divide by zero encountered in log10\n",
      "  plt.plot(polynomial, np.log10(estimated_mse_sklearn), label='Test Error')\n"
     ]
    },
    {
     "data": {
      "image/png": "[encoded data removed]",
      "text/plain": [
       "<Figure size 640x480 with 1 Axes>"
      ]
     },
     "metadata": {},
     "output_type": "display_data"
    }
   ],
   "source": [
    "# Common imports\n",
    "import os\n",
    "import numpy as np\n",
    "import pandas as pd\n",
    "import matplotlib.pyplot as plt\n",
    "from sklearn.linear_model import LinearRegression, Ridge, Lasso\n",
    "from sklearn.metrics import mean_squared_error\n",
    "from sklearn.model_selection import KFold\n",
    "from sklearn.model_selection import cross_val_score\n",
    "\n",
    "\n",
    "# Where to save the figures and data files\n",
    "PROJECT_ROOT_DIR = \"Results\"\n",
    "FIGURE_ID = \"Results/FigureFiles\"\n",
    "DATA_ID = \"DataFiles/\"\n",
    "\n",
    "if not os.path.exists(PROJECT_ROOT_DIR):\n",
    "    os.mkdir(PROJECT_ROOT_DIR)\n",
    "\n",
    "if not os.path.exists(FIGURE_ID):\n",
    "    os.makedirs(FIGURE_ID)\n",
    "\n",
    "if not os.path.exists(DATA_ID):\n",
    "    os.makedirs(DATA_ID)\n",
    "\n",
    "def image_path(fig_id):\n",
    "    return os.path.join(FIGURE_ID, fig_id)\n",
    "\n",
    "def data_path(dat_id):\n",
    "    return os.path.join(DATA_ID, dat_id)\n",
    "\n",
    "def save_fig(fig_id):\n",
    "    plt.savefig(image_path(fig_id) + \".png\", format='png')\n",
    "\n",
    "infile = open(data_path(\"EoS.csv\"),'r')\n",
    "\n",
    "# Read the EoS data as  csv file and organize the data into two arrays with density and energies\n",
    "EoS = pd.read_csv(infile, names=('Density', 'Energy'))\n",
    "EoS['Energy'] = pd.to_numeric(EoS['Energy'], errors='coerce')\n",
    "EoS = EoS.dropna()\n",
    "Energies = EoS['Energy']\n",
    "Density = EoS['Density']\n",
    "#  The design matrix now as function of various polytrops\n",
    "\n",
    "Maxpolydegree = 30\n",
    "X = np.zeros((len(Density),Maxpolydegree))\n",
    "X[:,0] = 1.0\n",
    "estimated_mse_sklearn = np.zeros(Maxpolydegree)\n",
    "polynomial = np.zeros(Maxpolydegree)\n",
    "k =10\n",
    "kfold = KFold(n_splits = k)\n",
    "\n",
    "for polydegree in range(1, Maxpolydegree):\n",
    "    polynomial[polydegree] = polydegree\n",
    "    for degree in range(polydegree):\n",
    "        X[:,degree] = Density**(degree/3.0)\n",
    "        OLS = LinearRegression(fit_intercept=False)\n",
    "# loop over trials in order to estimate the expectation value of the MSE\n",
    "    estimated_mse_folds = cross_val_score(OLS, X, Energies, scoring='neg_mean_squared_error', cv=kfold)\n",
    "#[:, np.newaxis]\n",
    "    estimated_mse_sklearn[polydegree] = np.mean(-estimated_mse_folds)\n",
    "\n",
    "plt.plot(polynomial, np.log10(estimated_mse_sklearn), label='Test Error')\n",
    "plt.xlabel('Polynomial degree')\n",
    "plt.ylabel('log10[MSE]')\n",
    "plt.legend()\n",
    "plt.show()"
   ]
  },
  {
   "cell_type": "code",
   "execution_count": null,
   "id": "5b367469",
   "metadata": {},
   "outputs": [],
   "source": []
  }
 ],
 "metadata": {
  "kernelspec": {
   "display_name": "Python 3 (ipykernel)",
   "language": "python",
   "name": "python3"
  },
  "language_info": {
   "codemirror_mode": {
    "name": "ipython",
    "version": 3
   },
   "file_extension": ".py",
   "mimetype": "text/x-python",
   "name": "python",
   "nbconvert_exporter": "python",
   "pygments_lexer": "ipython3",
   "version": "3.9.10"
  }
 },
 "nbformat": 4,
 "nbformat_minor": 5
}
