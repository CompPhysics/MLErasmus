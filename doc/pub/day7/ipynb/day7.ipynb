{
 "cells": [
  {
   "cell_type": "markdown",
   "id": "317b41aa",
   "metadata": {
    "editable": true
   },
   "source": [
    "<!-- HTML file automatically generated from DocOnce source (https://github.com/doconce/doconce/)\n",
    "doconce format html day7.do.txt --no_mako -->\n",
    "<!-- dom:TITLE: Building oru own Neural Network code, and start Convolutional (CNN) and Recurrent (RNN) Neural Networks -->"
   ]
  },
  {
   "cell_type": "markdown",
   "id": "388c1f8a",
   "metadata": {
    "editable": true
   },
   "source": [
    "# Building oru own Neural Network code, and start Convolutional (CNN) and Recurrent (RNN) Neural Networks\n",
    "**Morten Hjorth-Jensen**, Department of Physics, University of Oslo and Department of Physics and Astronomy and Facility for Rare Ion Beams, Michigan State University, USA\n",
    "\n",
    "Date: **Dec 4, 2021**\n",
    "\n",
    "Copyright 1999-2021, Morten Hjorth-Jensen. Released under CC Attribution-NonCommercial 4.0 license"
   ]
  },
  {
   "cell_type": "markdown",
   "id": "0bafcafb",
   "metadata": {
    "editable": true
   },
   "source": [
    "## Plan for Day 7\n",
    "\n",
    "Reading suggestions: [Aurelien Geron's chapters 13 and 14](https://github.com/CompPhysics/MachineLearning/blob/master/doc/Textbooks/TensorflowML.pdf). \n",
    "\n",
    "**Excellent lectures on CNNs and RNNs.**\n",
    "\n",
    "* [Video  on Convolutional Neural Networks from MIT](https://www.youtube.com/watch?v=iaSUYvmCekI&ab_channel=AlexanderAmini)\n",
    "\n",
    "* [Video  on Recurrent Neural Networks from MIT](https://www.youtube.com/watch?v=SEnXr6v2ifU&ab_channel=AlexanderAmini)"
   ]
  }
 ],
 "metadata": {},
 "nbformat": 4,
 "nbformat_minor": 5
}
