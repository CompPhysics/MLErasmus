{
 "cells": [
  {
   "cell_type": "markdown",
   "metadata": {},
   "source": [
    "<!-- dom:TITLE: Homework 1 -->\n",
    "# Homework 1\n",
    "<!-- dom:AUTHOR: Data Analysis and Machine Learning -->\n",
    "<!-- Author: -->  \n",
    "**Data Analysis and Machine Learning**\n",
    "\n",
    "Date: **Jan 22, 2019**\n",
    "\n",
    "## Exercise 1\n",
    "\n",
    "The first exercise here is of a mere technical art. We want you to have \n",
    "* git as a version control software and to establish a user account on a provider like GitHub. Other providers like GitLab etc are equally fine. You can also use the University of Oslo [GitHub facilities](https://www.uio.no/tjenester/it/maskin/filer/versjonskontroll/github.html). \n",
    "\n",
    "* Install various Python packages\n",
    "\n",
    "We will make extensive use of Python as programming language and its\n",
    "myriad of available libraries.  You will find\n",
    "IPython/Jupyter notebooks invaluable in your work.  You can run **R**\n",
    "codes in the Jupyter/IPython notebooks, with the immediate benefit of\n",
    "visualizing your data. You can also use compiled languages like C++,\n",
    "Rust, Fortran etc if you prefer. The focus in these lectures will be\n",
    "on Python.\n",
    "\n",
    "If you have Python installed (we recommend Python3.6 or higher versions) and you feel\n",
    "pretty familiar with installing different packages, we recommend that\n",
    "you install the following Python packages via **pip** as \n",
    "\n",
    "1. pip install numpy scipy matplotlib ipython scikit-learn sympy pandas pillow \n",
    "\n",
    "For **Tensorflow**, we recommend following the instructions in the text of \n",
    "[Aurelien Geron, Hands‑On Machine Learning with Scikit‑Learn and TensorFlow, O'Reilly](http://shop.oreilly.com/product/0636920052289.do)\n",
    "\n",
    "We will come back to **tensorflow** later. \n",
    "\n",
    "For Python3, replace **pip** with **pip3**.\n",
    "\n",
    "For OSX users we recommend, after having installed Xcode, to\n",
    "install **brew**. Brew allows for a seamless installation of additional\n",
    "software via for example \n",
    "\n",
    "1. brew install python3\n",
    "\n",
    "For Linux users, with its variety of distributions like for example the widely popular Ubuntu distribution,\n",
    "you can use **pip** as well and simply install Python as \n",
    "\n",
    "1. sudo apt-get install python3  (or python for pyhton2.7)\n",
    "\n",
    "If you don't want to perform these operations separately and venture\n",
    "into the hassle of exploring how to set up dependencies and paths, we\n",
    "recommend two widely used distrubutions which set up all relevant\n",
    "dependencies for Python, namely \n",
    "\n",
    "* [Anaconda](https://docs.anaconda.com/), \n",
    "\n",
    "which is an open source\n",
    "distribution of the Python and R programming languages for large-scale\n",
    "data processing, predictive analytics, and scientific computing, that\n",
    "aims to simplify package management and deployment. Package versions\n",
    "are managed by the package management system **conda**. \n",
    "\n",
    "* [Enthought canopy](https://www.enthought.com/product/canopy/) \n",
    "\n",
    "is a Python\n",
    "distribution for scientific and analytic computing distribution and\n",
    "analysis environment, available for free and under a commercial\n",
    "license.\n",
    "\n",
    "We recommend using **Anaconda**.\n",
    "\n",
    "\n",
    "## Exercise 2\n",
    "\n",
    "You should install and explore\n",
    "1. Numpy and Scipy\n",
    "\n",
    "2. Matplotlib\n",
    "\n",
    "3. Pandas\n",
    "\n",
    "4. Jupyter notebook\n",
    "\n",
    "### Simple Random walk\n",
    "\n",
    "Make then a simple program which simulates a random walk and then plots the first 100 values. The example here may help."
   ]
  },
  {
   "cell_type": "code",
   "execution_count": 1,
   "metadata": {
    "collapsed": false
   },
   "outputs": [],
   "source": [
    "%matplotlib inline\n",
    "\n",
    "import random\n",
    "import matplotlib.pyplot as plt\n",
    "position = 0  \n",
    "steps = 1000\n",
    "walk = []\n",
    "for i in range(steps):     \n",
    "    step = 1 if random.randint(0,1) else -1\n",
    "    position+= step\n",
    "    walk.append(position)\n",
    "\n",
    "plt.plot(walk[:100])\n",
    "plt.show()"
   ]
  },
  {
   "cell_type": "markdown",
   "metadata": {},
   "source": [
    "### Simple Linear algebra example\n",
    "\n",
    "Write a simple program which performs basic matrix-vector multiplications and finds also the inverse of a matrix. You could use the following example"
   ]
  },
  {
   "cell_type": "code",
   "execution_count": 2,
   "metadata": {
    "collapsed": false
   },
   "outputs": [],
   "source": [
    "import numpy as np\n",
    "from numpy.linalg import inv\n",
    "x = np.array([[1., 2., 3.],[4.,5.,6.]])\n",
    "y = np.array([[6.,23,],[-1.,7.],[8.,9.]])\n",
    "print(x)\n",
    "print(y)\n",
    "z = x.dot(y)\n",
    "# equivalent to np.dot(x,y)\n",
    "print(z)\n",
    "print(np.dot(x,y))\n",
    "z = np.dot(x,np.ones(3))\n",
    "# or write it as \n",
    "z = x @ np.ones(3)\n",
    "print(z)\n",
    "\n",
    "X = np.random.randn(5,5)\n",
    "mat = X.T.dot(X)\n",
    "print(inv(mat))\n",
    "print(mat.dot(inv(mat)))"
   ]
  },
  {
   "cell_type": "markdown",
   "metadata": {},
   "source": [
    "## Exercise 3\n",
    "\n",
    "We will generate our own dataset for a function $y(x)$ where $x \\in [0,1]$ and defined by random numbers computed with the uniform distribution. The function $y$ is a quadratic polynomial in $x$ with added stochastic noise according to the normal distribution $\\cal {N}(0,1)$.\n",
    "The following simple Python instructions define our $x$ and $y$ values (with 100 data points)."
   ]
  },
  {
   "cell_type": "code",
   "execution_count": 3,
   "metadata": {
    "collapsed": false
   },
   "outputs": [],
   "source": [
    "x = np.random.rand(100,1)\n",
    "y = 5*x*x+0.1*np.random.randn(100,1)"
   ]
  },
  {
   "cell_type": "markdown",
   "metadata": {},
   "source": [
    "1. Write your own code (following the examples under the [regression slides](https://compphysics.github.io/MachineLearning/doc/pub/Regression/html/Regression-bs.html)) for computing the parametrization of the data set fitting a second-order polynomial. \n",
    "\n",
    "2. Use thereafter **scikit-learn** (see again the examples in the regression slides) and compare with your own code.   \n",
    "\n",
    "3. Using scikit-learn, compute also the mean square error, a risk metric corresponding to the expected value of the squared (quadratic) error defined as"
   ]
  },
  {
   "cell_type": "markdown",
   "metadata": {},
   "source": [
    "$$\n",
    "MSE(\\hat{y},\\hat{\\tilde{y}}) = \\frac{1}{n}\n",
    "\\sum_{i=0}^{n-1}(y_i-\\tilde{y}_i)^2,\n",
    "$$"
   ]
  },
  {
   "cell_type": "markdown",
   "metadata": {},
   "source": [
    "and the $R^2$ score function.\n",
    "If $\\tilde{\\hat{y}}_i$ is the predicted value of the $i-th$ sample and $y_i$ is the corresponding true value, then the score $R^2$ is defined as"
   ]
  },
  {
   "cell_type": "markdown",
   "metadata": {},
   "source": [
    "$$\n",
    "R^2(\\hat{y}, \\tilde{\\hat{y}}) = 1 - \\frac{\\sum_{i=0}^{n - 1} (y_i - \\tilde{y}_i)^2}{\\sum_{i=0}^{n - 1} (y_i - \\bar{y})^2},\n",
    "$$"
   ]
  },
  {
   "cell_type": "markdown",
   "metadata": {},
   "source": [
    "where we have defined the mean value  of $\\hat{y}$ as"
   ]
  },
  {
   "cell_type": "markdown",
   "metadata": {},
   "source": [
    "$$\n",
    "\\bar{y} =  \\frac{1}{n} \\sum_{i=0}^{n - 1} y_i.\n",
    "$$"
   ]
  },
  {
   "cell_type": "markdown",
   "metadata": {},
   "source": [
    "You can use the functionality included in scikit-learn. If you feel for it, you can use your own program and define functions which compute the above two functions. \n",
    "Discuss the meaning of these results. Try also to vary the coefficient in front of the added stochastic noise term and discuss the quality of the fits.\n",
    "\n",
    "\n",
    "\n",
    "\n",
    "## Exercise 4, variance of the parameters $\\beta$ in linear regression\n",
    "\n",
    "Show that the variance of the parameters $\\beta$ in the linear regression method (chapter 3, equation (3.8) of [Trevor Hastie, Robert Tibshirani, Jerome H. Friedman, The Elements of Statistical Learning, Springer](https://www.springer.com/gp/book/9780387848570)) is given as"
   ]
  },
  {
   "cell_type": "markdown",
   "metadata": {},
   "source": [
    "$$\n",
    "\\mathrm{Var}(\\hat{\\beta}) = \\left(\\hat{X}^T\\hat{X}\\right)^{-1}\\sigma^2,\n",
    "$$"
   ]
  },
  {
   "cell_type": "markdown",
   "metadata": {},
   "source": [
    "with"
   ]
  },
  {
   "cell_type": "markdown",
   "metadata": {},
   "source": [
    "$$\n",
    "\\sigma^2 = \\frac{1}{N-p-1}\\sum_{i=1}^{N} (y_i-\\tilde{y}_i)^2,\n",
    "$$"
   ]
  },
  {
   "cell_type": "markdown",
   "metadata": {},
   "source": [
    "where we have assumed that we fit a function of degree $p-1$ (for example a polynomial in $x$). \n",
    "\n",
    "## Solution to exercise 3"
   ]
  },
  {
   "cell_type": "code",
   "execution_count": 4,
   "metadata": {
    "collapsed": false
   },
   "outputs": [],
   "source": [
    "import numpy as np\n",
    "import matplotlib.pyplot as plt\n",
    "\n",
    "n = 100 # data points\n",
    "\n",
    "# The following simple Python instructions define our x and y values (with 100 data points)\n",
    "x = np.random.rand(n,1)\n",
    "y = 5*x*x+np.random.randn(n,1) # y = 5x^2 + random noise"
   ]
  },
  {
   "cell_type": "markdown",
   "metadata": {},
   "source": [
    "The above defines a set of equations"
   ]
  },
  {
   "cell_type": "markdown",
   "metadata": {},
   "source": [
    "$$\n",
    "\\hat{y} = \\hat{X}\\hat{\\beta} + \\hat{\\epsilon},\n",
    "$$"
   ]
  },
  {
   "cell_type": "markdown",
   "metadata": {},
   "source": [
    "where the elements of $\\hat{y}$ are given by $y_i = 5x_i + \\epsilon_i$. Afterwards, $\\hat{y}$ is turned into a $100\\times1$ matrix so that `np.linalg` can accept it as input.\n",
    "\n",
    "We define the matrix"
   ]
  },
  {
   "cell_type": "markdown",
   "metadata": {},
   "source": [
    "$$\n",
    "\\hat{X}=\\begin{bmatrix} \n",
    "1 & x_0 & x_0^2 \\\\\n",
    "1 & x_1 & x_1^2 \\\\\n",
    "\\vdots & \\vdots & \\vdots \\\\\n",
    "1 & x_{99} & x_{99}^2\n",
    "\\end{bmatrix},\n",
    "$$"
   ]
  },
  {
   "cell_type": "markdown",
   "metadata": {},
   "source": [
    "with $x_0$, $x_1$, $\\dots x_{99}$ given by `x = np.random.rand(100,1)`. $\\hat{X}$ is then given by:"
   ]
  },
  {
   "cell_type": "code",
   "execution_count": 5,
   "metadata": {
    "collapsed": false
   },
   "outputs": [],
   "source": [
    "X = np.c_[np.ones((n,1)), x, x*x] # column wise array concatenation\n",
    "print(X)"
   ]
  },
  {
   "cell_type": "markdown",
   "metadata": {},
   "source": [
    "For an explanation of `np.c_` see <https://stackoverflow.com/questions/39136730/confused-about-numpy-c-document-and-sample-code>.\n",
    "\n",
    "The solution for the parameters $\\hat{\\beta}$ is given by"
   ]
  },
  {
   "cell_type": "markdown",
   "metadata": {},
   "source": [
    "$$\n",
    "\\hat{\\beta} = \\left(\\hat{X}^T\\hat{X}\\right)^{-1}\\hat{X}^T\\hat{y},\n",
    "$$"
   ]
  },
  {
   "cell_type": "markdown",
   "metadata": {},
   "source": [
    "or"
   ]
  },
  {
   "cell_type": "code",
   "execution_count": 6,
   "metadata": {
    "collapsed": false
   },
   "outputs": [],
   "source": [
    "beta = np.linalg.inv(X.T.dot(X)).dot(X.T).dot(y)\n",
    "print(\"y = \" + str(beta[2,0]) + \"*x^2 + \" + str(beta[1,0]) + \"*x + \" + str(beta[0,0]))"
   ]
  },
  {
   "cell_type": "markdown",
   "metadata": {},
   "source": [
    "Now we plot the resulting function over the data points to visualize\n",
    "how good the fit looks. Here we define new points that are evenly space using the numpy function **linspace**"
   ]
  },
  {
   "cell_type": "code",
   "execution_count": 7,
   "metadata": {
    "collapsed": false
   },
   "outputs": [],
   "source": [
    "nfit = 100\n",
    "xplot = np.linspace(0.0,1.0, num=nfit)"
   ]
  },
  {
   "cell_type": "markdown",
   "metadata": {},
   "source": [
    "Then define a new matrix $\\hat{X}_{\\mathrm{plot}}$ for the evenly\n",
    "distributed values we want to use for plotting:"
   ]
  },
  {
   "cell_type": "code",
   "execution_count": 8,
   "metadata": {
    "collapsed": false
   },
   "outputs": [],
   "source": [
    "Xplot = np.c_[np.ones((nfit,1)), xplot, xplot**2] # concatenate columns (as above)"
   ]
  },
  {
   "cell_type": "markdown",
   "metadata": {},
   "source": [
    "Finally, calculate the fitted values $\\hat{y}_{\\mathrm{predict}}$\n",
    "using that matrix and the fitted parameters $\\hat{\\beta}$:"
   ]
  },
  {
   "cell_type": "code",
   "execution_count": 9,
   "metadata": {
    "collapsed": false
   },
   "outputs": [],
   "source": [
    "ypredict = Xplot.dot(beta)"
   ]
  },
  {
   "cell_type": "markdown",
   "metadata": {},
   "source": [
    "We can plot and compare with the quadratic function $y_{\\mathrm{true}} = 5x^2$ without noise as"
   ]
  },
  {
   "cell_type": "code",
   "execution_count": 10,
   "metadata": {
    "collapsed": false
   },
   "outputs": [],
   "source": [
    "ytrue = 5*xplot*xplot\n",
    "\n",
    "plt.plot(x, y ,'ro')\n",
    "plt.plot(xplot, ytrue, label=\"$y_{\\mathrm{Quadratic}}$\")\n",
    "plt.plot(xplot, ypredict, label=\"$y_{\\mathrm{predict}}$\")\n",
    "plt.xlabel(r'$x$')\n",
    "plt.ylabel(r'$y$')\n",
    "plt.title(r'Quadratic Regression')\n",
    "plt.legend()\n",
    "plt.show()"
   ]
  },
  {
   "cell_type": "markdown",
   "metadata": {},
   "source": [
    "We see that this produces a decent enough fit.\n",
    "\n",
    "We use thereafter **scikit-learn**."
   ]
  },
  {
   "cell_type": "code",
   "execution_count": 11,
   "metadata": {
    "collapsed": false
   },
   "outputs": [],
   "source": [
    "from sklearn.linear_model import LinearRegression\n",
    "\n",
    "clf2 = LinearRegression()\n",
    "clf2.fit(X, y)\n",
    "ysklearn = clf2.predict(Xplot)\n",
    "\n",
    "print(\"ypredict = \" + str(clf2.coef_[0, 2]) + \"*x^2 + \" + str(clf2.coef_[0, 1]) + \"*x + \" + str(clf2.coef_[0, 0]))\n",
    "print(\"ysklearn = \" + str(beta[2,0]) + \"*x^2 + \" + str(beta[1,0]) + \"*x + \" + str(beta[0,0]))\n",
    "# note that the indices are reversed in the scikit-learn approach compared to what we did before:\n",
    "# the shape is (1, n) instead of (n, 1)\n",
    "\n",
    "plt.plot(x, y ,'ro')\n",
    "plt.plot(xplot, ytrue, label=\"$y_{\\mathrm{true}}$\")\n",
    "plt.plot(xplot, ypredict, label=\"$y_{\\mathrm{predict}}$\")\n",
    "plt.plot(xplot, ysklearn, label=\"$y_{\\mathrm{sklearn}}$\")\n",
    "plt.xlabel(r'$x$')\n",
    "plt.ylabel(r'$y$')\n",
    "plt.title(r'Quadratic Regression')\n",
    "plt.legend()\n",
    "plt.show()"
   ]
  },
  {
   "cell_type": "markdown",
   "metadata": {},
   "source": [
    "Plotting the absolute relative error for the two predictions:"
   ]
  },
  {
   "cell_type": "code",
   "execution_count": 12,
   "metadata": {
    "collapsed": false
   },
   "outputs": [],
   "source": [
    "err_predict = abs(ypredict[:, 0] - ytrue)/abs(ytrue) # the predicted y's have shape (n, 1)\n",
    "err_sklearn = abs(ysklearn[:, 0] - ytrue)/abs(ytrue)\n",
    "\n",
    "plt.plot(xplot, err_predict, label=\"$\\epsilon_{\\mathrm{predict}}$\")\n",
    "plt.plot(xplot, err_sklearn, label=\"$\\epsilon_{\\mathrm{sklearn}}$\")\n",
    "plt.xlabel(r'$x$')\n",
    "plt.ylabel(r'$\\epsilon_{\\mathrm{rel}}$')\n",
    "plt.axis([0, xmax, 0, 2])\n",
    "plt.title(r'Absolute relative error')\n",
    "plt.legend()\n",
    "plt.show()"
   ]
  },
  {
   "cell_type": "markdown",
   "metadata": {},
   "source": [
    "It is indeed hard to see any difference between the two approaches:"
   ]
  },
  {
   "cell_type": "code",
   "execution_count": 13,
   "metadata": {
    "collapsed": false
   },
   "outputs": [],
   "source": [
    "plt.plot(xplot, abs(err_predict), label=\"$\\epsilon_{\\mathrm{predict}}$\")\n",
    "plt.plot(xplot, abs(err_sklearn), label=\"$\\epsilon_{\\mathrm{sklearn}}$\")\n",
    "plt.xlabel(r'$x$')\n",
    "plt.ylabel(r'$\\epsilon_{\\mathrm{rel}}$')\n",
    "plt.axis([0, xmax, 0, 0.02])\n",
    "plt.title(r'Absolute relative error')\n",
    "plt.legend()\n",
    "plt.show()"
   ]
  },
  {
   "cell_type": "markdown",
   "metadata": {},
   "source": [
    "The mean squared error is the expected value of the quadratic error:"
   ]
  },
  {
   "cell_type": "markdown",
   "metadata": {},
   "source": [
    "$$\n",
    "MSE\\left(\\hat{y}, \\hat{\\bar{y}}\\right) = \\frac{1}{n}\\sum\\limits_{i=1}^{n-1}\\left(y_i - \\bar{y}_i\\right)^2.\n",
    "$$"
   ]
  },
  {
   "cell_type": "markdown",
   "metadata": {},
   "source": [
    "We import this as follows"
   ]
  },
  {
   "cell_type": "code",
   "execution_count": 14,
   "metadata": {
    "collapsed": false
   },
   "outputs": [],
   "source": [
    "from sklearn.metrics import mean_squared_error\n",
    "\n",
    "# Note that the y values are not sorted, but ypredict and ysklearn are\n",
    "# (we used Xplot to find these, not X)\n",
    "\n",
    "ypredict2 = X.dot(beta)\n",
    "ysklearn2 = clf2.predict(X)\n",
    "\n",
    "# Then we find the MSE:\n",
    "\n",
    "print(\"Mean squared error (ypredict):\", mean_squared_error(y, ypredict2))\n",
    "print(\"Mean squared error (ysklearn):\", mean_squared_error(y, ysklearn2))"
   ]
  },
  {
   "cell_type": "markdown",
   "metadata": {},
   "source": [
    "The $R^2$ score function is defined as\n",
    "\n",
    "$R^2\\left(\\hat{y}, \\hat{\\bar{y}}\\right) = 1 - \\frac{\\sum\\limits_{i=0}^{n-1}\\left(y_i - \\bar{y}_i\\right)}{\\sum\\limits_{i=0}^{n-1}\\left(y_i - \\bar{y}\\right)}$\n",
    "\n",
    "where \n",
    "\n",
    "* $\\bar{y}$ is the mean value of $\\hat{y}$\n",
    "\n",
    "* $\\bar{y}_i$ is the $i$th predicted value, and\n",
    "\n",
    "* $y_i$ is the corresponding true value"
   ]
  },
  {
   "cell_type": "code",
   "execution_count": 15,
   "metadata": {
    "collapsed": false
   },
   "outputs": [],
   "source": [
    "from sklearn.metrics import r2_score\n",
    "\n",
    "print(\"R^2 score (ypredict):\", r2_score(y, ypredict2))\n",
    "print(\"R^2 score (ysklearn):\", r2_score(y, ysklearn2))"
   ]
  }
 ],
 "metadata": {},
 "nbformat": 4,
 "nbformat_minor": 2
}
