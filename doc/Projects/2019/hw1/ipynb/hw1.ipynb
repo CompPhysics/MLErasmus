{
 "cells": [
  {
   "cell_type": "markdown",
   "metadata": {},
   "source": [
    "<!-- dom:TITLE: Homework 1 -->\n",
    "# Homework 1\n",
    "<!-- dom:AUTHOR: Data Analysis and Machine Learning -->\n",
    "<!-- Author: -->  \n",
    "**Data Analysis and Machine Learning**\n",
    "\n",
    "Date: **Jan 22, 2019**\n",
    "\n",
    "## Exercise 1\n",
    "\n",
    "The first exercise here is of a mere technical art. We want you to have \n",
    "* git as a version control software and to establish a user account on a provider like GitHub. Other providers like GitLab etc are equally fine. You can also use the University of Oslo [GitHub facilities](https://www.uio.no/tjenester/it/maskin/filer/versjonskontroll/github.html). \n",
    "\n",
    "* Install various Python packages\n",
    "\n",
    "We will make extensive use of Python as programming language and its\n",
    "myriad of available libraries.  You will find\n",
    "IPython/Jupyter notebooks invaluable in your work.  You can run **R**\n",
    "codes in the Jupyter/IPython notebooks, with the immediate benefit of\n",
    "visualizing your data. You can also use compiled languages like C++,\n",
    "Rust, Fortran etc if you prefer. The focus in these lectures will be\n",
    "on Python.\n",
    "\n",
    "If you have Python installed (we recommend Python3.6 or higher versions) and you feel\n",
    "pretty familiar with installing different packages, we recommend that\n",
    "you install the following Python packages via **pip** as \n",
    "\n",
    "1. pip install numpy scipy matplotlib ipython scikit-learn sympy pandas pillow \n",
    "\n",
    "For **Tensorflow**, we recommend following the instructions in the text of \n",
    "[Aurelien Geron, Hands‑On Machine Learning with Scikit‑Learn and TensorFlow, O'Reilly](http://shop.oreilly.com/product/0636920052289.do)\n",
    "\n",
    "We will come back to **tensorflow** later. \n",
    "\n",
    "For Python3, replace **pip** with **pip3**.\n",
    "\n",
    "For OSX users we recommend, after having installed Xcode, to\n",
    "install **brew**. Brew allows for a seamless installation of additional\n",
    "software via for example \n",
    "\n",
    "1. brew install python3\n",
    "\n",
    "For Linux users, with its variety of distributions like for example the widely popular Ubuntu distribution,\n",
    "you can use **pip** as well and simply install Python as \n",
    "\n",
    "1. sudo apt-get install python3  (or python for pyhton2.7)\n",
    "\n",
    "If you don't want to perform these operations separately and venture\n",
    "into the hassle of exploring how to set up dependencies and paths, we\n",
    "recommend two widely used distrubutions which set up all relevant\n",
    "dependencies for Python, namely \n",
    "\n",
    "* [Anaconda](https://docs.anaconda.com/), \n",
    "\n",
    "which is an open source\n",
    "distribution of the Python and R programming languages for large-scale\n",
    "data processing, predictive analytics, and scientific computing, that\n",
    "aims to simplify package management and deployment. Package versions\n",
    "are managed by the package management system **conda**. \n",
    "\n",
    "* [Enthought canopy](https://www.enthought.com/product/canopy/) \n",
    "\n",
    "is a Python\n",
    "distribution for scientific and analytic computing distribution and\n",
    "analysis environment, available for free and under a commercial\n",
    "license.\n",
    "\n",
    "We recommend using **Anaconda**.\n",
    "\n",
    "\n",
    "## Exercise 2\n",
    "\n",
    "You should install and explore\n",
    "1. Numpy and Scipy\n",
    "\n",
    "2. Matplotlib\n",
    "\n",
    "3. Pandas\n",
    "\n",
    "4. Jupyter notebook\n",
    "\n",
    "### Simple Random walk\n",
    "\n",
    "Make then a simple program which simulates a random walk and then plots the first 100 values. The example here may help."
   ]
  },
  {
   "cell_type": "code",
   "execution_count": 13,
   "metadata": {},
   "outputs": [
    {
     "data": {
      "image/png": "[encoded data removed]",
      "text/plain": [
       "<Figure size 432x288 with 1 Axes>"
      ]
     },
     "metadata": {},
     "output_type": "display_data"
    }
   ],
   "source": [
    "%matplotlib inline\n",
    "\n",
    "import random\n",
    "import matplotlib.pyplot as plt\n",
    "position = 0  \n",
    "steps = 1000\n",
    "walk = []\n",
    "for i in range(steps):     \n",
    "    step = 1 if random.randint(0,1) else -1\n",
    "    position+= step\n",
    "    walk.append(position)\n",
    "\n",
    "plt.plot(walk[:100])\n",
    "plt.show()"
   ]
  },
  {
   "cell_type": "markdown",
   "metadata": {},
   "source": [
    "### Simple Linear algebra example\n",
    "\n",
    "Write a simple program which performs basic matrix-vector multiplications and finds also the inverse of a matrix. You could use the following example"
   ]
  },
  {
   "cell_type": "code",
   "execution_count": 14,
   "metadata": {},
   "outputs": [
    {
     "name": "stdout",
     "output_type": "stream",
     "text": [
      "[[1. 2. 3.]\n",
      " [4. 5. 6.]]\n",
      "[[ 6. 23.]\n",
      " [-1.  7.]\n",
      " [ 8.  9.]]\n",
      "[[ 28.  64.]\n",
      " [ 67. 181.]]\n",
      "[[ 28.  64.]\n",
      " [ 67. 181.]]\n",
      "[ 6. 15.]\n",
      "[[ 0.45593572 -0.09337782 -0.29398895 -1.24688821  0.13870947]\n",
      " [-0.09337782  1.95741879 -0.44169997  1.28470565 -1.44845197]\n",
      " [-0.29398895 -0.44169997  1.19376162  2.01783207 -0.44071126]\n",
      " [-1.24688821  1.28470565  2.01783207  9.51325217 -3.35555862]\n",
      " [ 0.13870947 -1.44845197 -0.44071126 -3.35555862  2.33966256]]\n",
      "[[ 1.00000000e+00  0.00000000e+00  0.00000000e+00 -1.77635684e-15\n",
      "   0.00000000e+00]\n",
      " [-5.55111512e-17  1.00000000e+00 -2.22044605e-16  0.00000000e+00\n",
      "   8.88178420e-16]\n",
      " [ 6.93889390e-17 -2.22044605e-16  1.00000000e+00  0.00000000e+00\n",
      "   4.44089210e-16]\n",
      " [-8.32667268e-17  2.22044605e-16  1.11022302e-16  1.00000000e+00\n",
      "   0.00000000e+00]\n",
      " [ 5.55111512e-17  8.88178420e-16 -2.22044605e-16 -1.77635684e-15\n",
      "   1.00000000e+00]]\n"
     ]
    }
   ],
   "source": [
    "import numpy as np\n",
    "from numpy.linalg import inv\n",
    "x = np.array([[1., 2., 3.],[4.,5.,6.]])\n",
    "y = np.array([[6.,23,],[-1.,7.],[8.,9.]])\n",
    "print(x)\n",
    "print(y)\n",
    "z = x.dot(y)\n",
    "# equivalent to np.dot(x,y)\n",
    "print(z)\n",
    "print(np.dot(x,y))\n",
    "z = np.dot(x,np.ones(3))\n",
    "# or write it as \n",
    "z = x @ np.ones(3)\n",
    "print(z)\n",
    "\n",
    "X = np.random.randn(5,5)\n",
    "mat = X.T.dot(X)\n",
    "print(inv(mat))\n",
    "print(mat.dot(inv(mat)))"
   ]
  },
  {
   "cell_type": "markdown",
   "metadata": {},
   "source": [
    "## Exercise 3\n",
    "\n",
    "We will generate our own dataset for a function $y(x)$ where $x \\in [0,1]$ and defined by random numbers computed with the uniform distribution. The function $y$ is a quadratic polynomial in $x$ with added stochastic noise according to the normal distribution $\\cal {N}(0,1)$.\n",
    "The following simple Python instructions define our $x$ and $y$ values (with 100 data points)."
   ]
  },
  {
   "cell_type": "code",
   "execution_count": 3,
   "metadata": {},
   "outputs": [],
   "source": [
    "x = np.random.rand(100,1)\n",
    "y = 5*x*x+0.1*np.random.randn(100,1)"
   ]
  },
  {
   "cell_type": "markdown",
   "metadata": {},
   "source": [
    "1. Write your own code (following the examples under the [regression slides](https://compphysics.github.io/MachineLearning/doc/pub/Regression/html/Regression-bs.html)) for computing the parametrization of the data set fitting a second-order polynomial. \n",
    "\n",
    "2. Use thereafter **scikit-learn** (see again the examples in the regression slides) and compare with your own code.   \n",
    "\n",
    "3. Using scikit-learn, compute also the mean square error, a risk metric corresponding to the expected value of the squared (quadratic) error defined as"
   ]
  },
  {
   "cell_type": "markdown",
   "metadata": {},
   "source": [
    "$$\n",
    "MSE(\\hat{y},\\hat{\\tilde{y}}) = \\frac{1}{n}\n",
    "\\sum_{i=0}^{n-1}(y_i-\\tilde{y}_i)^2,\n",
    "$$"
   ]
  },
  {
   "cell_type": "markdown",
   "metadata": {},
   "source": [
    "and the $R^2$ score function.\n",
    "If $\\tilde{\\hat{y}}_i$ is the predicted value of the $i-th$ sample and $y_i$ is the corresponding true value, then the score $R^2$ is defined as"
   ]
  },
  {
   "cell_type": "markdown",
   "metadata": {},
   "source": [
    "$$\n",
    "R^2(\\hat{y}, \\tilde{\\hat{y}}) = 1 - \\frac{\\sum_{i=0}^{n - 1} (y_i - \\tilde{y}_i)^2}{\\sum_{i=0}^{n - 1} (y_i - \\bar{y})^2},\n",
    "$$"
   ]
  },
  {
   "cell_type": "markdown",
   "metadata": {},
   "source": [
    "where we have defined the mean value  of $\\hat{y}$ as"
   ]
  },
  {
   "cell_type": "markdown",
   "metadata": {},
   "source": [
    "$$\n",
    "\\bar{y} =  \\frac{1}{n} \\sum_{i=0}^{n - 1} y_i.\n",
    "$$"
   ]
  },
  {
   "cell_type": "markdown",
   "metadata": {},
   "source": [
    "You can use the functionality included in scikit-learn. If you feel for it, you can use your own program and define functions which compute the above two functions. \n",
    "Discuss the meaning of these results. Try also to vary the coefficient in front of the added stochastic noise term and discuss the quality of the fits.\n",
    "\n",
    "\n",
    "\n",
    "\n",
    "## Exercise 4, variance of the parameters $\\beta$ in linear regression\n",
    "\n",
    "Show that the variance of the parameters $\\beta$ in the linear regression method (chapter 3, equation (3.8) of [Trevor Hastie, Robert Tibshirani, Jerome H. Friedman, The Elements of Statistical Learning, Springer](https://www.springer.com/gp/book/9780387848570)) is given as"
   ]
  },
  {
   "cell_type": "markdown",
   "metadata": {},
   "source": [
    "$$\n",
    "\\mathrm{Var}(\\hat{\\beta}) = \\left(\\hat{X}^T\\hat{X}\\right)^{-1}\\sigma^2,\n",
    "$$"
   ]
  },
  {
   "cell_type": "markdown",
   "metadata": {},
   "source": [
    "with"
   ]
  },
  {
   "cell_type": "markdown",
   "metadata": {},
   "source": [
    "$$\n",
    "\\sigma^2 = \\frac{1}{N-p-1}\\sum_{i=1}^{N} (y_i-\\tilde{y}_i)^2,\n",
    "$$"
   ]
  },
  {
   "cell_type": "markdown",
   "metadata": {},
   "source": [
    "where we have assumed that we fit a function of degree $p-1$ (for example a polynomial in $x$). \n",
    "\n",
    "## Solution to exercise 3"
   ]
  },
  {
   "cell_type": "code",
   "execution_count": 1,
   "metadata": {},
   "outputs": [],
   "source": [
    "import numpy as np\n",
    "import matplotlib.pyplot as plt\n",
    "\n",
    "n = 100 # data points\n",
    "\n",
    "# The following simple Python instructions define our x and y values (with 100 data points)\n",
    "x = np.random.rand(n,1)\n",
    "y = 5*x*x+np.random.randn(n,1) # y = 5x^2 + random noise"
   ]
  },
  {
   "cell_type": "markdown",
   "metadata": {},
   "source": [
    "The above defines a set of equations"
   ]
  },
  {
   "cell_type": "markdown",
   "metadata": {},
   "source": [
    "$$\n",
    "\\hat{y} = \\hat{X}\\hat{\\beta} + \\hat{\\epsilon},\n",
    "$$"
   ]
  },
  {
   "cell_type": "markdown",
   "metadata": {},
   "source": [
    "where the elements of $\\hat{y}$ are given by $y_i = 5x_i + \\epsilon_i$. Afterwards, $\\hat{y}$ is turned into a $100\\times1$ matrix so that `np.linalg` can accept it as input.\n",
    "\n",
    "We define the matrix"
   ]
  },
  {
   "cell_type": "markdown",
   "metadata": {},
   "source": [
    "$$\n",
    "\\hat{X}=\\begin{bmatrix} \n",
    "1 & x_0 & x_0^2 \\\\\n",
    "1 & x_1 & x_1^2 \\\\\n",
    "\\vdots & \\vdots & \\vdots \\\\\n",
    "1 & x_{99} & x_{99}^2\n",
    "\\end{bmatrix},\n",
    "$$"
   ]
  },
  {
   "cell_type": "markdown",
   "metadata": {},
   "source": [
    "with $x_0$, $x_1$, $\\dots x_{99}$ given by `x = np.random.rand(100,1)`. $\\hat{X}$ is then given by:"
   ]
  },
  {
   "cell_type": "code",
   "execution_count": 2,
   "metadata": {},
   "outputs": [
    {
     "name": "stdout",
     "output_type": "stream",
     "text": [
      "[[1.00000000e+00 3.16223322e-01 9.99971896e-02]\n",
      " [1.00000000e+00 2.21726491e-02 4.91626366e-04]\n",
      " [1.00000000e+00 7.52732255e-01 5.66605848e-01]\n",
      " [1.00000000e+00 9.08934024e-01 8.26161060e-01]\n",
      " [1.00000000e+00 7.33314538e-02 5.37750212e-03]\n",
      " [1.00000000e+00 7.26979804e-01 5.28499635e-01]\n",
      " [1.00000000e+00 7.94785481e-01 6.31683960e-01]\n",
      " [1.00000000e+00 4.90388379e-01 2.40480762e-01]\n",
      " [1.00000000e+00 1.58928680e-01 2.52583254e-02]\n",
      " [1.00000000e+00 9.37632525e-01 8.79154751e-01]\n",
      " [1.00000000e+00 8.75626148e-01 7.66721151e-01]\n",
      " [1.00000000e+00 7.64198125e-01 5.83998775e-01]\n",
      " [1.00000000e+00 9.99446737e-01 9.98893781e-01]\n",
      " [1.00000000e+00 1.99485105e-01 3.97943071e-02]\n",
      " [1.00000000e+00 4.95804534e-01 2.45822136e-01]\n",
      " [1.00000000e+00 6.06447343e-01 3.67778379e-01]\n",
      " [1.00000000e+00 4.80725996e-02 2.31097483e-03]\n",
      " [1.00000000e+00 9.04223185e-01 8.17619568e-01]\n",
      " [1.00000000e+00 1.89933348e-01 3.60746766e-02]\n",
      " [1.00000000e+00 8.53687742e-01 7.28782761e-01]\n",
      " [1.00000000e+00 7.06604607e-01 4.99290070e-01]\n",
      " [1.00000000e+00 8.53597349e-01 7.28628434e-01]\n",
      " [1.00000000e+00 4.18290990e-01 1.74967352e-01]\n",
      " [1.00000000e+00 7.81524204e-01 6.10780081e-01]\n",
      " [1.00000000e+00 4.06963909e-01 1.65619623e-01]\n",
      " [1.00000000e+00 3.74217561e-01 1.40038783e-01]\n",
      " [1.00000000e+00 4.21806168e-01 1.77920443e-01]\n",
      " [1.00000000e+00 9.23052112e-01 8.52025201e-01]\n",
      " [1.00000000e+00 8.37974472e-01 7.02201215e-01]\n",
      " [1.00000000e+00 4.04531361e-01 1.63645622e-01]\n",
      " [1.00000000e+00 8.79981313e-02 7.74367111e-03]\n",
      " [1.00000000e+00 6.88433925e-01 4.73941270e-01]\n",
      " [1.00000000e+00 8.75425574e-01 7.66369936e-01]\n",
      " [1.00000000e+00 2.14597877e-01 4.60522490e-02]\n",
      " [1.00000000e+00 8.76577400e-02 7.68387938e-03]\n",
      " [1.00000000e+00 6.27307337e-02 3.93514495e-03]\n",
      " [1.00000000e+00 1.58812147e-01 2.52212981e-02]\n",
      " [1.00000000e+00 2.20883704e-01 4.87896108e-02]\n",
      " [1.00000000e+00 4.47941974e-01 2.00652012e-01]\n",
      " [1.00000000e+00 5.72530243e-01 3.27790879e-01]\n",
      " [1.00000000e+00 4.28488548e-01 1.83602436e-01]\n",
      " [1.00000000e+00 1.38555666e-01 1.91976725e-02]\n",
      " [1.00000000e+00 7.02262540e-01 4.93172675e-01]\n",
      " [1.00000000e+00 5.76164328e-01 3.31965333e-01]\n",
      " [1.00000000e+00 6.43374509e-01 4.13930759e-01]\n",
      " [1.00000000e+00 4.77720906e-01 2.28217264e-01]\n",
      " [1.00000000e+00 2.21755374e-02 4.91754458e-04]\n",
      " [1.00000000e+00 8.04532094e-01 6.47271890e-01]\n",
      " [1.00000000e+00 6.39694356e-01 4.09208869e-01]\n",
      " [1.00000000e+00 3.85932763e-01 1.48944098e-01]\n",
      " [1.00000000e+00 2.69007738e-01 7.23651632e-02]\n",
      " [1.00000000e+00 3.05506055e-01 9.33339499e-02]\n",
      " [1.00000000e+00 2.94950814e-01 8.69959827e-02]\n",
      " [1.00000000e+00 7.90241024e-01 6.24480877e-01]\n",
      " [1.00000000e+00 7.47672439e-04 5.59014076e-07]\n",
      " [1.00000000e+00 9.16199647e-01 8.39421794e-01]\n",
      " [1.00000000e+00 2.23146104e-01 4.97941839e-02]\n",
      " [1.00000000e+00 3.08160997e-01 9.49632002e-02]\n",
      " [1.00000000e+00 5.62819475e-01 3.16765761e-01]\n",
      " [1.00000000e+00 4.19080227e-01 1.75628237e-01]\n",
      " [1.00000000e+00 2.91373576e-01 8.48985608e-02]\n",
      " [1.00000000e+00 2.23559856e-01 4.99790092e-02]\n",
      " [1.00000000e+00 5.43340183e-01 2.95218554e-01]\n",
      " [1.00000000e+00 8.78759908e-01 7.72218976e-01]\n",
      " [1.00000000e+00 2.28224604e-01 5.20864700e-02]\n",
      " [1.00000000e+00 5.75877076e-02 3.31634407e-03]\n",
      " [1.00000000e+00 4.75627877e-01 2.26221877e-01]\n",
      " [1.00000000e+00 3.72434628e-01 1.38707552e-01]\n",
      " [1.00000000e+00 5.61150989e-01 3.14890433e-01]\n",
      " [1.00000000e+00 4.65517679e-01 2.16706709e-01]\n",
      " [1.00000000e+00 8.04654808e-01 6.47469360e-01]\n",
      " [1.00000000e+00 8.95514011e-01 8.01945344e-01]\n",
      " [1.00000000e+00 1.57983590e-01 2.49588148e-02]\n",
      " [1.00000000e+00 4.80487438e-01 2.30868178e-01]\n",
      " [1.00000000e+00 7.89381666e-01 6.23123415e-01]\n",
      " [1.00000000e+00 3.19878702e-01 1.02322384e-01]\n",
      " [1.00000000e+00 1.54367983e-02 2.38294742e-04]\n",
      " [1.00000000e+00 8.31574703e-01 6.91516486e-01]\n",
      " [1.00000000e+00 8.29065793e-01 6.87350089e-01]\n",
      " [1.00000000e+00 9.69407950e-01 9.39751774e-01]\n",
      " [1.00000000e+00 1.77277343e-01 3.14272563e-02]\n",
      " [1.00000000e+00 7.36450184e-01 5.42358873e-01]\n",
      " [1.00000000e+00 4.74120358e-01 2.24790114e-01]\n",
      " [1.00000000e+00 1.66389196e-01 2.76853647e-02]\n",
      " [1.00000000e+00 3.39118008e-01 1.15001023e-01]\n",
      " [1.00000000e+00 2.23054741e-01 4.97534174e-02]\n",
      " [1.00000000e+00 5.21023027e-01 2.71464995e-01]\n",
      " [1.00000000e+00 1.76196583e-01 3.10452357e-02]\n",
      " [1.00000000e+00 2.33777080e-02 5.46517231e-04]\n",
      " [1.00000000e+00 5.88542500e-01 3.46382275e-01]\n",
      " [1.00000000e+00 7.78456029e-02 6.05993789e-03]\n",
      " [1.00000000e+00 4.09164728e-01 1.67415775e-01]\n",
      " [1.00000000e+00 5.04664495e-01 2.54686253e-01]\n",
      " [1.00000000e+00 3.13208107e-01 9.80993181e-02]\n",
      " [1.00000000e+00 1.36320524e-01 1.85832853e-02]\n",
      " [1.00000000e+00 6.33844931e-01 4.01759397e-01]\n",
      " [1.00000000e+00 4.97196496e-02 2.47204355e-03]\n",
      " [1.00000000e+00 7.86121712e-01 6.17987347e-01]\n",
      " [1.00000000e+00 8.91184522e-01 7.94209852e-01]\n",
      " [1.00000000e+00 5.67773987e-01 3.22367300e-01]]\n"
     ]
    }
   ],
   "source": [
    "X = np.c_[np.ones((n,1)), x, x*x] # column wise array concatenation\n",
    "print(X)"
   ]
  },
  {
   "cell_type": "markdown",
   "metadata": {},
   "source": [
    "For an explanation of `np.c_` see <https://stackoverflow.com/questions/39136730/confused-about-numpy-c-document-and-sample-code>.\n",
    "\n",
    "The solution for the parameters $\\hat{\\beta}$ is given by"
   ]
  },
  {
   "cell_type": "markdown",
   "metadata": {},
   "source": [
    "$$\n",
    "\\hat{\\beta} = \\left(\\hat{X}^T\\hat{X}\\right)^{-1}\\hat{X}^T\\hat{y},\n",
    "$$"
   ]
  },
  {
   "cell_type": "markdown",
   "metadata": {},
   "source": [
    "or"
   ]
  },
  {
   "cell_type": "code",
   "execution_count": 3,
   "metadata": {},
   "outputs": [
    {
     "name": "stdout",
     "output_type": "stream",
     "text": [
      "y = 8.06312837197166*x^2 + -2.572827776464307*x + 0.28837929656563877\n"
     ]
    }
   ],
   "source": [
    "beta = np.linalg.inv(X.T.dot(X)).dot(X.T).dot(y)\n",
    "print(\"y = \" + str(beta[2,0]) + \"*x^2 + \" + str(beta[1,0]) + \"*x + \" + str(beta[0,0]))"
   ]
  },
  {
   "cell_type": "markdown",
   "metadata": {},
   "source": [
    "Now we plot the resulting function over the data points to visualize\n",
    "how good the fit looks. Here we define new points that are evenly space using the numpy function **linspace**"
   ]
  },
  {
   "cell_type": "code",
   "execution_count": 4,
   "metadata": {},
   "outputs": [],
   "source": [
    "nfit = 100\n",
    "xplot = np.linspace(0.0,1.0, num=nfit)"
   ]
  },
  {
   "cell_type": "markdown",
   "metadata": {},
   "source": [
    "Then define a new matrix $\\hat{X}_{\\mathrm{plot}}$ for the evenly\n",
    "distributed values we want to use for plotting:"
   ]
  },
  {
   "cell_type": "code",
   "execution_count": 5,
   "metadata": {},
   "outputs": [],
   "source": [
    "Xplot = np.c_[np.ones((nfit,1)), xplot, xplot**2] # concatenate columns (as above)"
   ]
  },
  {
   "cell_type": "markdown",
   "metadata": {},
   "source": [
    "Finally, calculate the fitted values $\\hat{y}_{\\mathrm{predict}}$\n",
    "using that matrix and the fitted parameters $\\hat{\\beta}$:"
   ]
  },
  {
   "cell_type": "code",
   "execution_count": 6,
   "metadata": {},
   "outputs": [],
   "source": [
    "ypredict = Xplot.dot(beta)"
   ]
  },
  {
   "cell_type": "markdown",
   "metadata": {},
   "source": [
    "We can plot and compare with the quadratic function $y_{\\mathrm{true}} = 5x^2$ without noise as"
   ]
  },
  {
   "cell_type": "code",
   "execution_count": 7,
   "metadata": {},
   "outputs": [
    {
     "data": {
      "image/png": "[encoded data removed]",
      "text/plain": [
       "<Figure size 432x288 with 1 Axes>"
      ]
     },
     "metadata": {},
     "output_type": "display_data"
    }
   ],
   "source": [
    "ytrue = 5*xplot*xplot\n",
    "\n",
    "plt.plot(x, y ,'ro')\n",
    "plt.plot(xplot, ytrue, label=\"$y_{\\mathrm{Quadratic}}$\")\n",
    "plt.plot(xplot, ypredict, label=\"$y_{\\mathrm{predict}}$\")\n",
    "plt.xlabel(r'$x$')\n",
    "plt.ylabel(r'$y$')\n",
    "plt.title(r'Quadratic Regression')\n",
    "plt.legend()\n",
    "plt.show()"
   ]
  },
  {
   "cell_type": "markdown",
   "metadata": {},
   "source": [
    "We see that this produces a decent enough fit.\n",
    "\n",
    "We use thereafter **scikit-learn**."
   ]
  },
  {
   "cell_type": "code",
   "execution_count": 8,
   "metadata": {},
   "outputs": [
    {
     "name": "stdout",
     "output_type": "stream",
     "text": [
      "ypredict = 8.063128371971686*x^2 + -2.5728277764643246*x + 0.0\n",
      "ysklearn = 8.06312837197166*x^2 + -2.572827776464307*x + 0.28837929656563877\n"
     ]
    },
    {
     "data": {
      "image/png": "[encoded data removed]",
      "text/plain": [
       "<Figure size 432x288 with 1 Axes>"
      ]
     },
     "metadata": {},
     "output_type": "display_data"
    }
   ],
   "source": [
    "from sklearn.linear_model import LinearRegression\n",
    "\n",
    "clf2 = LinearRegression()\n",
    "clf2.fit(X, y)\n",
    "ysklearn = clf2.predict(Xplot)\n",
    "\n",
    "print(\"ypredict = \" + str(clf2.coef_[0, 2]) + \"*x^2 + \" + str(clf2.coef_[0, 1]) + \"*x + \" + str(clf2.coef_[0, 0]))\n",
    "print(\"ysklearn = \" + str(beta[2,0]) + \"*x^2 + \" + str(beta[1,0]) + \"*x + \" + str(beta[0,0]))\n",
    "# note that the indices are reversed in the scikit-learn approach compared to what we did before:\n",
    "# the shape is (1, n) instead of (n, 1)\n",
    "\n",
    "plt.plot(x, y ,'ro')\n",
    "plt.plot(xplot, ytrue, label=\"$y_{\\mathrm{true}}$\")\n",
    "plt.plot(xplot, ypredict, label=\"$y_{\\mathrm{predict}}$\")\n",
    "plt.plot(xplot, ysklearn, label=\"$y_{\\mathrm{sklearn}}$\")\n",
    "plt.xlabel(r'$x$')\n",
    "plt.ylabel(r'$y$')\n",
    "plt.title(r'Quadratic Regression')\n",
    "plt.legend()\n",
    "plt.show()"
   ]
  },
  {
   "cell_type": "markdown",
   "metadata": {},
   "source": [
    "Plotting the absolute relative error for the two predictions:"
   ]
  },
  {
   "cell_type": "code",
   "execution_count": 9,
   "metadata": {},
   "outputs": [
    {
     "name": "stderr",
     "output_type": "stream",
     "text": [
      "/usr/local/lib/python3.7/site-packages/ipykernel_launcher.py:1: RuntimeWarning: divide by zero encountered in true_divide\n",
      "  \"\"\"Entry point for launching an IPython kernel.\n",
      "/usr/local/lib/python3.7/site-packages/ipykernel_launcher.py:2: RuntimeWarning: divide by zero encountered in true_divide\n",
      "  \n"
     ]
    },
    {
     "ename": "NameError",
     "evalue": "name 'xmax' is not defined",
     "output_type": "error",
     "traceback": [
      "\u001b[0;31m---------------------------------------------------------------------------\u001b[0m",
      "\u001b[0;31mNameError\u001b[0m                                 Traceback (most recent call last)",
      "\u001b[0;32m<ipython-input-9-ff15d710282b>\u001b[0m in \u001b[0;36m<module>\u001b[0;34m\u001b[0m\n\u001b[1;32m      6\u001b[0m \u001b[0mplt\u001b[0m\u001b[0;34m.\u001b[0m\u001b[0mxlabel\u001b[0m\u001b[0;34m(\u001b[0m\u001b[0;34mr'$x$'\u001b[0m\u001b[0;34m)\u001b[0m\u001b[0;34m\u001b[0m\u001b[0m\n\u001b[1;32m      7\u001b[0m \u001b[0mplt\u001b[0m\u001b[0;34m.\u001b[0m\u001b[0mylabel\u001b[0m\u001b[0;34m(\u001b[0m\u001b[0;34mr'$\\epsilon_{\\mathrm{rel}}$'\u001b[0m\u001b[0;34m)\u001b[0m\u001b[0;34m\u001b[0m\u001b[0m\n\u001b[0;32m----> 8\u001b[0;31m \u001b[0mplt\u001b[0m\u001b[0;34m.\u001b[0m\u001b[0maxis\u001b[0m\u001b[0;34m(\u001b[0m\u001b[0;34m[\u001b[0m\u001b[0;36m0\u001b[0m\u001b[0;34m,\u001b[0m \u001b[0mxmax\u001b[0m\u001b[0;34m,\u001b[0m \u001b[0;36m0\u001b[0m\u001b[0;34m,\u001b[0m \u001b[0;36m2\u001b[0m\u001b[0;34m]\u001b[0m\u001b[0;34m)\u001b[0m\u001b[0;34m\u001b[0m\u001b[0m\n\u001b[0m\u001b[1;32m      9\u001b[0m \u001b[0mplt\u001b[0m\u001b[0;34m.\u001b[0m\u001b[0mtitle\u001b[0m\u001b[0;34m(\u001b[0m\u001b[0;34mr'Absolute relative error'\u001b[0m\u001b[0;34m)\u001b[0m\u001b[0;34m\u001b[0m\u001b[0m\n\u001b[1;32m     10\u001b[0m \u001b[0mplt\u001b[0m\u001b[0;34m.\u001b[0m\u001b[0mlegend\u001b[0m\u001b[0;34m(\u001b[0m\u001b[0;34m)\u001b[0m\u001b[0;34m\u001b[0m\u001b[0m\n",
      "\u001b[0;31mNameError\u001b[0m: name 'xmax' is not defined"
     ]
    },
    {
     "data": {
      "image/png": "[encoded data removed]",
      "text/plain": [
       "<Figure size 432x288 with 1 Axes>"
      ]
     },
     "metadata": {},
     "output_type": "display_data"
    }
   ],
   "source": [
    "err_predict = abs(ypredict[:, 0] - ytrue)/abs(ytrue) # the predicted y's have shape (n, 1)\n",
    "err_sklearn = abs(ysklearn[:, 0] - ytrue)/abs(ytrue)\n",
    "\n",
    "plt.plot(xplot, err_predict, label=\"$\\epsilon_{\\mathrm{predict}}$\")\n",
    "plt.plot(xplot, err_sklearn, label=\"$\\epsilon_{\\mathrm{sklearn}}$\")\n",
    "plt.xlabel(r'$x$')\n",
    "plt.ylabel(r'$\\epsilon_{\\mathrm{rel}}$')\n",
    "plt.axis([0, xmax, 0, 2])\n",
    "plt.title(r'Absolute relative error')\n",
    "plt.legend()\n",
    "plt.show()"
   ]
  },
  {
   "cell_type": "markdown",
   "metadata": {},
   "source": [
    "It is indeed hard to see any difference between the two approaches:"
   ]
  },
  {
   "cell_type": "code",
   "execution_count": 10,
   "metadata": {},
   "outputs": [
    {
     "ename": "NameError",
     "evalue": "name 'xmax' is not defined",
     "output_type": "error",
     "traceback": [
      "\u001b[0;31m---------------------------------------------------------------------------\u001b[0m",
      "\u001b[0;31mNameError\u001b[0m                                 Traceback (most recent call last)",
      "\u001b[0;32m<ipython-input-10-5b4cfc55baec>\u001b[0m in \u001b[0;36m<module>\u001b[0;34m\u001b[0m\n\u001b[1;32m      3\u001b[0m \u001b[0mplt\u001b[0m\u001b[0;34m.\u001b[0m\u001b[0mxlabel\u001b[0m\u001b[0;34m(\u001b[0m\u001b[0;34mr'$x$'\u001b[0m\u001b[0;34m)\u001b[0m\u001b[0;34m\u001b[0m\u001b[0m\n\u001b[1;32m      4\u001b[0m \u001b[0mplt\u001b[0m\u001b[0;34m.\u001b[0m\u001b[0mylabel\u001b[0m\u001b[0;34m(\u001b[0m\u001b[0;34mr'$\\epsilon_{\\mathrm{rel}}$'\u001b[0m\u001b[0;34m)\u001b[0m\u001b[0;34m\u001b[0m\u001b[0m\n\u001b[0;32m----> 5\u001b[0;31m \u001b[0mplt\u001b[0m\u001b[0;34m.\u001b[0m\u001b[0maxis\u001b[0m\u001b[0;34m(\u001b[0m\u001b[0;34m[\u001b[0m\u001b[0;36m0\u001b[0m\u001b[0;34m,\u001b[0m \u001b[0mxmax\u001b[0m\u001b[0;34m,\u001b[0m \u001b[0;36m0\u001b[0m\u001b[0;34m,\u001b[0m \u001b[0;36m0.02\u001b[0m\u001b[0;34m]\u001b[0m\u001b[0;34m)\u001b[0m\u001b[0;34m\u001b[0m\u001b[0m\n\u001b[0m\u001b[1;32m      6\u001b[0m \u001b[0mplt\u001b[0m\u001b[0;34m.\u001b[0m\u001b[0mtitle\u001b[0m\u001b[0;34m(\u001b[0m\u001b[0;34mr'Absolute relative error'\u001b[0m\u001b[0;34m)\u001b[0m\u001b[0;34m\u001b[0m\u001b[0m\n\u001b[1;32m      7\u001b[0m \u001b[0mplt\u001b[0m\u001b[0;34m.\u001b[0m\u001b[0mlegend\u001b[0m\u001b[0;34m(\u001b[0m\u001b[0;34m)\u001b[0m\u001b[0;34m\u001b[0m\u001b[0m\n",
      "\u001b[0;31mNameError\u001b[0m: name 'xmax' is not defined"
     ]
    },
    {
     "data": {
      "image/png": "[encoded data removed]",
      "text/plain": [
       "<Figure size 432x288 with 1 Axes>"
      ]
     },
     "metadata": {},
     "output_type": "display_data"
    }
   ],
   "source": [
    "plt.plot(xplot, abs(err_predict), label=\"$\\epsilon_{\\mathrm{predict}}$\")\n",
    "plt.plot(xplot, abs(err_sklearn), label=\"$\\epsilon_{\\mathrm{sklearn}}$\")\n",
    "plt.xlabel(r'$x$')\n",
    "plt.ylabel(r'$\\epsilon_{\\mathrm{rel}}$')\n",
    "plt.axis([0, xmax, 0, 0.02])\n",
    "plt.title(r'Absolute relative error')\n",
    "plt.legend()\n",
    "plt.show()"
   ]
  },
  {
   "cell_type": "markdown",
   "metadata": {},
   "source": [
    "The mean squared error is the expected value of the quadratic error:"
   ]
  },
  {
   "cell_type": "markdown",
   "metadata": {},
   "source": [
    "$$\n",
    "MSE\\left(\\hat{y}, \\hat{\\bar{y}}\\right) = \\frac{1}{n}\\sum\\limits_{i=1}^{n-1}\\left(y_i - \\bar{y}_i\\right)^2.\n",
    "$$"
   ]
  },
  {
   "cell_type": "markdown",
   "metadata": {},
   "source": [
    "We import this as follows"
   ]
  },
  {
   "cell_type": "code",
   "execution_count": 11,
   "metadata": {},
   "outputs": [
    {
     "name": "stdout",
     "output_type": "stream",
     "text": [
      "Mean squared error (ypredict): 1.064804194985413\n",
      "Mean squared error (ysklearn): 1.0648041949854132\n"
     ]
    }
   ],
   "source": [
    "from sklearn.metrics import mean_squared_error\n",
    "\n",
    "# Note that the y values are not sorted, but ypredict and ysklearn are\n",
    "# (we used Xplot to find these, not X)\n",
    "\n",
    "ypredict2 = X.dot(beta)\n",
    "ysklearn2 = clf2.predict(X)\n",
    "\n",
    "# Then we find the MSE:\n",
    "\n",
    "print(\"Mean squared error (ypredict):\", mean_squared_error(y, ypredict2))\n",
    "print(\"Mean squared error (ysklearn):\", mean_squared_error(y, ysklearn2))"
   ]
  },
  {
   "cell_type": "markdown",
   "metadata": {},
   "source": [
    "The $R^2$ score function is defined as\n",
    "\n",
    "$R^2\\left(\\hat{y}, \\hat{\\bar{y}}\\right) = 1 - \\frac{\\sum\\limits_{i=0}^{n-1}\\left(y_i - \\bar{y}_i\\right)}{\\sum\\limits_{i=0}^{n-1}\\left(y_i - \\bar{y}\\right)}$\n",
    "\n",
    "where \n",
    "\n",
    "* $\\bar{y}$ is the mean value of $\\hat{y}$\n",
    "\n",
    "* $\\bar{y}_i$ is the $i$th predicted value, and\n",
    "\n",
    "* $y_i$ is the corresponding true value"
   ]
  },
  {
   "cell_type": "code",
   "execution_count": 12,
   "metadata": {},
   "outputs": [
    {
     "name": "stdout",
     "output_type": "stream",
     "text": [
      "R^2 score (ypredict): 0.713553273756083\n",
      "R^2 score (ysklearn): 0.713553273756083\n"
     ]
    }
   ],
   "source": [
    "from sklearn.metrics import r2_score\n",
    "\n",
    "print(\"R^2 score (ypredict):\", r2_score(y, ypredict2))\n",
    "print(\"R^2 score (ysklearn):\", r2_score(y, ysklearn2))"
   ]
  },
  {
   "cell_type": "code",
   "execution_count": 17,
   "metadata": {},
   "outputs": [
    {
     "name": "stdout",
     "output_type": "stream",
     "text": [
      "[0 1]\n"
     ]
    }
   ],
   "source": [
    "xx = np.array([0],[1])\n",
    "print(xx)\n",
    "yy = xx*xx\n",
    "p"
   ]
  },
  {
   "cell_type": "code",
   "execution_count": null,
   "metadata": {},
   "outputs": [],
   "source": []
  }
 ],
 "metadata": {
  "kernelspec": {
   "display_name": "Python 3",
   "language": "python",
   "name": "python3"
  },
  "language_info": {
   "codemirror_mode": {
    "name": "ipython",
    "version": 3
   },
   "file_extension": ".py",
   "mimetype": "text/x-python",
   "name": "python",
   "nbconvert_exporter": "python",
   "pygments_lexer": "ipython3",
   "version": "3.7.0"
  }
 },
 "nbformat": 4,
 "nbformat_minor": 2
}
