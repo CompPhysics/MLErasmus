{
 "cells": [
  {
   "cell_type": "markdown",
   "metadata": {},
   "source": [
    "<!-- dom:TITLE: Homework 1 -->\n",
    "# Homework 1\n",
    "<!-- dom:AUTHOR: Data Analysis and Machine Learning -->\n",
    "<!-- Author: -->  \n",
    "**Data Analysis and Machine Learning**\n",
    "\n",
    "Date: **Jan 22, 2019**\n",
    "\n",
    "## Exercise 1\n",
    "\n",
    "The first exercise here is of a mere technical art. We want you to have \n",
    "* git as a version control software and to establish a user account on a provider like GitHub. Other providers like GitLab etc are equally fine. You can also use the University of Oslo [GitHub facilities](https://www.uio.no/tjenester/it/maskin/filer/versjonskontroll/github.html). \n",
    "\n",
    "* Install various Python packages\n",
    "\n",
    "We will make extensive use of Python as programming language and its\n",
    "myriad of available libraries.  You will find\n",
    "IPython/Jupyter notebooks invaluable in your work.  You can run **R**\n",
    "codes in the Jupyter/IPython notebooks, with the immediate benefit of\n",
    "visualizing your data. You can also use compiled languages like C++,\n",
    "Rust, Fortran etc if you prefer. The focus in these lectures will be\n",
    "on Python.\n",
    "\n",
    "If you have Python installed (we recommend Python3.6 or higher versions) and you feel\n",
    "pretty familiar with installing different packages, we recommend that\n",
    "you install the following Python packages via **pip** as \n",
    "\n",
    "1. pip install numpy scipy matplotlib ipython scikit-learn sympy pandas pillow \n",
    "\n",
    "For **Tensorflow**, we recommend following the instructions in the text of \n",
    "[Aurelien Geron, Hands‑On Machine Learning with Scikit‑Learn and TensorFlow, O'Reilly](http://shop.oreilly.com/product/0636920052289.do)\n",
    "\n",
    "We will come back to **tensorflow** later. \n",
    "\n",
    "For Python3, replace **pip** with **pip3**.\n",
    "\n",
    "For OSX users we recommend, after having installed Xcode, to\n",
    "install **brew**. Brew allows for a seamless installation of additional\n",
    "software via for example \n",
    "\n",
    "1. brew install python3\n",
    "\n",
    "For Linux users, with its variety of distributions like for example the widely popular Ubuntu distribution,\n",
    "you can use **pip** as well and simply install Python as \n",
    "\n",
    "1. sudo apt-get install python3  (or python for pyhton2.7)\n",
    "\n",
    "If you don't want to perform these operations separately and venture\n",
    "into the hassle of exploring how to set up dependencies and paths, we\n",
    "recommend two widely used distrubutions which set up all relevant\n",
    "dependencies for Python, namely \n",
    "\n",
    "* [Anaconda](https://docs.anaconda.com/), \n",
    "\n",
    "which is an open source\n",
    "distribution of the Python and R programming languages for large-scale\n",
    "data processing, predictive analytics, and scientific computing, that\n",
    "aims to simplify package management and deployment. Package versions\n",
    "are managed by the package management system **conda**. \n",
    "\n",
    "* [Enthought canopy](https://www.enthought.com/product/canopy/) \n",
    "\n",
    "is a Python\n",
    "distribution for scientific and analytic computing distribution and\n",
    "analysis environment, available for free and under a commercial\n",
    "license.\n",
    "\n",
    "We recommend using **Anaconda**.\n",
    "\n",
    "\n",
    "## Exercise 2\n",
    "\n",
    "You should install and explore\n",
    "1. Numpy and Scipy\n",
    "\n",
    "2. Matplotlib\n",
    "\n",
    "3. Pandas\n",
    "\n",
    "4. Jupyter notebook\n",
    "\n",
    "### Simple Random walk\n",
    "\n",
    "Make then a simple program which simulates a random walk and then plots the first 100 values. The example here may help."
   ]
  },
  {
   "cell_type": "code",
   "execution_count": 1,
   "metadata": {},
   "outputs": [],
   "source": [
    "%matplotlib inline\n",
    "\n",
    "import random\n",
    "import matplotlib.pyplot as plt\n",
    "position = 0  \n",
    "steps = 1000\n",
    "walk = []\n",
    "for i in range(steps):     \n",
    "    step = 1 if random.randint(0,1) else -1\n",
    "    position+= step\n",
    "    walk.append(position)\n",
    "\n",
    "plt.plot(walk[:100])\n",
    "plt.show()"
   ]
  },
  {
   "cell_type": "markdown",
   "metadata": {},
   "source": [
    "### Simple Linear algebra example\n",
    "\n",
    "Write a simple program which performs basic matrix-vector multiplications and finds also the inverse of a matrix. You could use the following example"
   ]
  },
  {
   "cell_type": "code",
   "execution_count": 2,
   "metadata": {},
   "outputs": [],
   "source": [
    "import numpy as np\n",
    "from numpy.linalg import inv\n",
    "x = np.array([[1., 2., 3.],[4.,5.,6.]])\n",
    "y = np.array([[6.,23,],[-1.,7.],[8.,9.]])\n",
    "print(x)\n",
    "print(y)\n",
    "z = x.dot(y)\n",
    "# equivalent to np.dot(x,y)\n",
    "print(z)\n",
    "print(np.dot(x,y))\n",
    "z = np.dot(x,np.ones(3))\n",
    "# or write it as \n",
    "z = x @ np.ones(3)\n",
    "print(z)\n",
    "\n",
    "X = np.random.randn(5,5)\n",
    "mat = X.T.dot(X)\n",
    "print(inv(mat))\n",
    "print(mat.dot(inv(mat)))"
   ]
  },
  {
   "cell_type": "markdown",
   "metadata": {},
   "source": [
    "## Exercise 3\n",
    "\n",
    "We will generate our own dataset for a function $y(x)$ where $x \\in [0,1]$ and defined by random numbers computed with the uniform distribution. The function $y$ is a quadratic polynomial in $x$ with added stochastic noise according to the normal distribution $\\cal {N}(0,1)$.\n",
    "The following simple Python instructions define our $x$ and $y$ values (with 100 data points)."
   ]
  },
  {
   "cell_type": "code",
   "execution_count": 3,
   "metadata": {},
   "outputs": [],
   "source": [
    "x = np.random.rand(100,1)\n",
    "y = 5*x*x+0.1*np.random.randn(100,1)"
   ]
  },
  {
   "cell_type": "markdown",
   "metadata": {},
   "source": [
    "1. Write your own code (following the examples under the [regression slides](https://compphysics.github.io/MachineLearning/doc/pub/Regression/html/Regression-bs.html)) for computing the parametrization of the data set fitting a second-order polynomial. \n",
    "\n",
    "2. Use thereafter **scikit-learn** (see again the examples in the regression slides) and compare with your own code.   \n",
    "\n",
    "3. Using scikit-learn, compute also the mean square error, a risk metric corresponding to the expected value of the squared (quadratic) error defined as"
   ]
  },
  {
   "cell_type": "markdown",
   "metadata": {},
   "source": [
    "$$\n",
    "MSE(\\hat{y},\\hat{\\tilde{y}}) = \\frac{1}{n}\n",
    "\\sum_{i=0}^{n-1}(y_i-\\tilde{y}_i)^2,\n",
    "$$"
   ]
  },
  {
   "cell_type": "markdown",
   "metadata": {},
   "source": [
    "and the $R^2$ score function.\n",
    "If $\\tilde{\\hat{y}}_i$ is the predicted value of the $i-th$ sample and $y_i$ is the corresponding true value, then the score $R^2$ is defined as"
   ]
  },
  {
   "cell_type": "markdown",
   "metadata": {},
   "source": [
    "$$\n",
    "R^2(\\hat{y}, \\tilde{\\hat{y}}) = 1 - \\frac{\\sum_{i=0}^{n - 1} (y_i - \\tilde{y}_i)^2}{\\sum_{i=0}^{n - 1} (y_i - \\bar{y})^2},\n",
    "$$"
   ]
  },
  {
   "cell_type": "markdown",
   "metadata": {},
   "source": [
    "where we have defined the mean value  of $\\hat{y}$ as"
   ]
  },
  {
   "cell_type": "markdown",
   "metadata": {},
   "source": [
    "$$\n",
    "\\bar{y} =  \\frac{1}{n} \\sum_{i=0}^{n - 1} y_i.\n",
    "$$"
   ]
  },
  {
   "cell_type": "markdown",
   "metadata": {},
   "source": [
    "You can use the functionality included in scikit-learn. If you feel for it, you can use your own program and define functions which compute the above two functions. \n",
    "Discuss the meaning of these results. Try also to vary the coefficient in front of the added stochastic noise term and discuss the quality of the fits.\n",
    "\n",
    "\n",
    "\n",
    "\n",
    "## Exercise 4, variance of the parameters $\\beta$ in linear regression\n",
    "\n",
    "Show that the variance of the parameters $\\beta$ in the linear regression method (chapter 3, equation (3.8) of [Trevor Hastie, Robert Tibshirani, Jerome H. Friedman, The Elements of Statistical Learning, Springer](https://www.springer.com/gp/book/9780387848570)) is given as"
   ]
  },
  {
   "cell_type": "markdown",
   "metadata": {},
   "source": [
    "$$\n",
    "\\mathrm{Var}(\\hat{\\beta}) = \\left(\\hat{X}^T\\hat{X}\\right)^{-1}\\sigma^2,\n",
    "$$"
   ]
  },
  {
   "cell_type": "markdown",
   "metadata": {},
   "source": [
    "with"
   ]
  },
  {
   "cell_type": "markdown",
   "metadata": {},
   "source": [
    "$$\n",
    "\\sigma^2 = \\frac{1}{N-p-1}\\sum_{i=1}^{N} (y_i-\\tilde{y}_i)^2,\n",
    "$$"
   ]
  },
  {
   "cell_type": "markdown",
   "metadata": {},
   "source": [
    "where we have assumed that we fit a function of degree $p-1$ (for example a polynomial in $x$). \n",
    "\n",
    "## Solution to exercise 3"
   ]
  },
  {
   "cell_type": "code",
   "execution_count": 1,
   "metadata": {},
   "outputs": [],
   "source": [
    "import numpy as np\n",
    "import matplotlib.pyplot as plt\n",
    "\n",
    "n = 100 # data points\n",
    "xmax = 1\n",
    "error = 0.1\n",
    "\n",
    "# The following simple Python instructions define our x and y values (with 100 data points)\n",
    "x = np.random.rand(n,xmax)\n",
    "y = 5*x*x+error*np.random.randn(n,xmax) # y = 5x^2 + noise\n",
    "\n",
    "#for xi, yi in zip(x, y):\n",
    "#    print(xi, yi)"
   ]
  },
  {
   "cell_type": "markdown",
   "metadata": {},
   "source": [
    "The above defines a set of equations\n",
    "\n",
    "$\\hat{y} = \\hat{X}\\hat{\\beta} + \\hat{\\epsilon}$\n",
    "\n",
    "where the elements of $\\hat{y}$ are given by $y_i = 5x_i + \\epsilon_i$. Afterwards, $\\hat{y}$ is turned into a $100\\times1$ matrix so that `np.linalg` can accept it as input.\n",
    "\n",
    "We define the matrix"
   ]
  },
  {
   "cell_type": "markdown",
   "metadata": {},
   "source": [
    "$$\n",
    "\\hat{X}=\\begin{bmatrix} \n",
    "1 & x_0 & x_0^2 \\\\\n",
    "1 & x_1 & x_1^2 \\\\\n",
    "\\vdots & \\vdots & \\vdots \\\\\n",
    "1 & x_{99} & x_{99}^2\n",
    "\\end{bmatrix}\n",
    "$$"
   ]
  },
  {
   "cell_type": "markdown",
   "metadata": {},
   "source": [
    "with $x_0$, $x_1$, $\\dots x_{99}$ given by `x = np.random.rand(100,1)`. $\\hat{X}$ is then given by:"
   ]
  },
  {
   "cell_type": "code",
   "execution_count": 2,
   "metadata": {},
   "outputs": [
    {
     "name": "stdout",
     "output_type": "stream",
     "text": [
      "[[1.00000000e+00 8.88933534e-01 7.90202828e-01]\n",
      " [1.00000000e+00 3.06984268e-01 9.42393410e-02]\n",
      " [1.00000000e+00 9.70770387e-01 9.42395145e-01]\n",
      " [1.00000000e+00 6.58967152e-02 4.34237708e-03]\n",
      " [1.00000000e+00 2.58890068e-01 6.70240671e-02]\n",
      " [1.00000000e+00 7.65713643e-01 5.86317384e-01]\n",
      " [1.00000000e+00 3.89810736e-01 1.51952410e-01]\n",
      " [1.00000000e+00 2.07839339e-01 4.31971908e-02]\n",
      " [1.00000000e+00 1.21569547e-01 1.47791548e-02]\n",
      " [1.00000000e+00 8.69053250e-01 7.55253551e-01]\n",
      " [1.00000000e+00 7.48832771e-01 5.60750519e-01]\n",
      " [1.00000000e+00 5.32814539e-01 2.83891333e-01]\n",
      " [1.00000000e+00 7.44537804e-01 5.54336542e-01]\n",
      " [1.00000000e+00 9.36921640e-01 8.77822159e-01]\n",
      " [1.00000000e+00 3.63901034e-01 1.32423963e-01]\n",
      " [1.00000000e+00 8.98816110e-01 8.07870400e-01]\n",
      " [1.00000000e+00 2.75393295e-01 7.58414667e-02]\n",
      " [1.00000000e+00 6.61560983e-01 4.37662935e-01]\n",
      " [1.00000000e+00 7.03099392e-01 4.94348755e-01]\n",
      " [1.00000000e+00 6.53515526e-02 4.27082542e-03]\n",
      " [1.00000000e+00 5.69949553e-01 3.24842493e-01]\n",
      " [1.00000000e+00 1.47712128e-01 2.18188726e-02]\n",
      " [1.00000000e+00 7.78045843e-03 6.05355334e-05]\n",
      " [1.00000000e+00 6.06127681e-02 3.67390766e-03]\n",
      " [1.00000000e+00 8.25130943e-01 6.80841073e-01]\n",
      " [1.00000000e+00 1.14974225e-01 1.32190724e-02]\n",
      " [1.00000000e+00 2.97703804e-01 8.86275549e-02]\n",
      " [1.00000000e+00 7.03626627e-01 4.95090431e-01]\n",
      " [1.00000000e+00 8.96089895e-01 8.02977100e-01]\n",
      " [1.00000000e+00 4.04059436e-01 1.63264027e-01]\n",
      " [1.00000000e+00 6.05334284e-01 3.66429595e-01]\n",
      " [1.00000000e+00 8.08059330e-01 6.52959881e-01]\n",
      " [1.00000000e+00 5.55415578e-01 3.08486465e-01]\n",
      " [1.00000000e+00 8.08611954e-01 6.53853291e-01]\n",
      " [1.00000000e+00 4.49366393e-01 2.01930155e-01]\n",
      " [1.00000000e+00 7.54862545e-01 5.69817462e-01]\n",
      " [1.00000000e+00 4.57905385e-01 2.09677342e-01]\n",
      " [1.00000000e+00 3.97527859e-01 1.58028399e-01]\n",
      " [1.00000000e+00 3.71713231e-01 1.38170726e-01]\n",
      " [1.00000000e+00 2.69204208e-01 7.24709056e-02]\n",
      " [1.00000000e+00 4.33704987e-01 1.88100015e-01]\n",
      " [1.00000000e+00 5.77398011e-01 3.33388463e-01]\n",
      " [1.00000000e+00 1.15554158e-01 1.33527634e-02]\n",
      " [1.00000000e+00 7.43894050e-01 5.53378358e-01]\n",
      " [1.00000000e+00 8.22855125e-01 6.77090557e-01]\n",
      " [1.00000000e+00 3.30470274e-02 1.09210602e-03]\n",
      " [1.00000000e+00 2.97497640e-01 8.85048460e-02]\n",
      " [1.00000000e+00 7.44523957e-01 5.54315922e-01]\n",
      " [1.00000000e+00 8.58603752e-01 7.37200403e-01]\n",
      " [1.00000000e+00 2.48567079e-01 6.17855928e-02]\n",
      " [1.00000000e+00 5.27532490e-01 2.78290528e-01]\n",
      " [1.00000000e+00 7.60522036e-01 5.78393768e-01]\n",
      " [1.00000000e+00 5.75423883e-01 3.31112645e-01]\n",
      " [1.00000000e+00 9.96136525e-01 9.92287976e-01]\n",
      " [1.00000000e+00 3.23818980e-01 1.04858732e-01]\n",
      " [1.00000000e+00 6.17013572e-01 3.80705748e-01]\n",
      " [1.00000000e+00 4.61561006e-01 2.13038563e-01]\n",
      " [1.00000000e+00 5.92937683e-01 3.51575096e-01]\n",
      " [1.00000000e+00 7.02798451e-01 4.93925663e-01]\n",
      " [1.00000000e+00 8.28359340e-01 6.86179196e-01]\n",
      " [1.00000000e+00 8.60930334e-02 7.41201041e-03]\n",
      " [1.00000000e+00 7.54019784e-01 5.68545835e-01]\n",
      " [1.00000000e+00 2.35001113e-01 5.52255231e-02]\n",
      " [1.00000000e+00 2.32482004e-01 5.40478821e-02]\n",
      " [1.00000000e+00 4.15078630e-01 1.72290269e-01]\n",
      " [1.00000000e+00 3.88532983e-01 1.50957879e-01]\n",
      " [1.00000000e+00 3.23214817e-01 1.04467818e-01]\n",
      " [1.00000000e+00 6.98070174e-02 4.87301967e-03]\n",
      " [1.00000000e+00 5.74277201e-01 3.29794304e-01]\n",
      " [1.00000000e+00 5.53959918e-01 3.06871591e-01]\n",
      " [1.00000000e+00 2.09661856e-01 4.39580937e-02]\n",
      " [1.00000000e+00 3.46790144e-01 1.20263404e-01]\n",
      " [1.00000000e+00 5.77416891e-01 3.33410266e-01]\n",
      " [1.00000000e+00 4.13593725e-01 1.71059769e-01]\n",
      " [1.00000000e+00 4.71161875e-01 2.21993512e-01]\n",
      " [1.00000000e+00 2.63229987e-01 6.92900261e-02]\n",
      " [1.00000000e+00 1.27705657e-01 1.63087348e-02]\n",
      " [1.00000000e+00 7.96855020e-01 6.34977922e-01]\n",
      " [1.00000000e+00 7.35017590e-01 5.40250857e-01]\n",
      " [1.00000000e+00 3.71594074e-01 1.38082156e-01]\n",
      " [1.00000000e+00 4.96520782e-01 2.46532887e-01]\n",
      " [1.00000000e+00 5.47154871e-01 2.99378453e-01]\n",
      " [1.00000000e+00 3.83248998e-01 1.46879795e-01]\n",
      " [1.00000000e+00 5.80921015e-01 3.37469225e-01]\n",
      " [1.00000000e+00 3.39881179e-01 1.15519216e-01]\n",
      " [1.00000000e+00 3.78557341e-01 1.43305660e-01]\n",
      " [1.00000000e+00 5.90891987e-01 3.49153340e-01]\n",
      " [1.00000000e+00 7.19421613e-01 5.17567458e-01]\n",
      " [1.00000000e+00 9.34484332e-01 8.73260966e-01]\n",
      " [1.00000000e+00 5.11936777e-01 2.62079264e-01]\n",
      " [1.00000000e+00 9.23482643e-01 8.52820193e-01]\n",
      " [1.00000000e+00 4.25123459e-01 1.80729955e-01]\n",
      " [1.00000000e+00 6.61788219e-01 4.37963647e-01]\n",
      " [1.00000000e+00 3.28079697e-01 1.07636288e-01]\n",
      " [1.00000000e+00 5.45002263e-01 2.97027467e-01]\n",
      " [1.00000000e+00 4.38621657e-01 1.92388958e-01]\n",
      " [1.00000000e+00 3.70795973e-01 1.37489653e-01]\n",
      " [1.00000000e+00 2.85027305e-01 8.12405646e-02]\n",
      " [1.00000000e+00 5.91595024e-01 3.49984673e-01]\n",
      " [1.00000000e+00 7.38437813e-01 5.45290404e-01]]\n"
     ]
    }
   ],
   "source": [
    "X = np.c_[np.ones((n,1)), x, x*x] # column wise array concatenation\n",
    "print(X)"
   ]
  },
  {
   "cell_type": "markdown",
   "metadata": {},
   "source": [
    "For an explanation of `np.c_` see <https://stackoverflow.com/questions/39136730/confused-about-numpy-c-document-and-sample-code>.\n",
    "\n",
    "The solution for the parameters $\\hat{\\beta}$ is given by\n",
    "\n",
    "$\\hat{\\beta} = \\left(\\hat{X}^T\\hat{X}\\right)^{-1}\\hat{X}^T\\hat{y}$\n",
    "\n",
    "or"
   ]
  },
  {
   "cell_type": "code",
   "execution_count": 3,
   "metadata": {},
   "outputs": [
    {
     "name": "stdout",
     "output_type": "stream",
     "text": [
      "y = 4.866689232920258*x^2 + 0.15982386826754463*x + -0.030726833074273995\n"
     ]
    }
   ],
   "source": [
    "beta = np.linalg.inv(X.T.dot(X)).dot(X.T).dot(y)\n",
    "print(\"y = \" + str(beta[2,0]) + \"*x^2 + \" + str(beta[1,0]) + \"*x + \" + str(beta[0,0]))"
   ]
  },
  {
   "cell_type": "markdown",
   "metadata": {},
   "source": [
    "Now we plot the resulting function over the data points to visualise how good the fit looks (two points would be enough for a line, but it won't cut it for a quadratic fit):"
   ]
  },
  {
   "cell_type": "code",
   "execution_count": 4,
   "metadata": {},
   "outputs": [],
   "source": [
    "nfit = 100\n",
    "xplot = np.arange(nfit)*xmax / (nfit - 1) # nfit points, evenly distributed\n",
    "#print(xplot)\n",
    "#print(xplot**2)"
   ]
  },
  {
   "cell_type": "markdown",
   "metadata": {},
   "source": [
    "Then define a new matrix $\\hat{X}_{\\mathrm{plot}}$ for the evenly distributed values we want to use for plotting:"
   ]
  },
  {
   "cell_type": "code",
   "execution_count": 5,
   "metadata": {},
   "outputs": [],
   "source": [
    "Xplot = np.c_[np.ones((nfit,1)), xplot, xplot**2] # concatenate columns (as above)"
   ]
  },
  {
   "cell_type": "markdown",
   "metadata": {},
   "source": [
    "Finally, calculate the fitted values $\\hat{y}_{\\mathrm{predict}}$ using that matrix and the fitted parameters $\\hat{\\beta}$:"
   ]
  },
  {
   "cell_type": "code",
   "execution_count": 6,
   "metadata": {},
   "outputs": [],
   "source": [
    "ypredict = Xplot.dot(beta)"
   ]
  },
  {
   "cell_type": "markdown",
   "metadata": {},
   "source": [
    "We can plot and compare with the true quadratic function $y_{\\mathrm{true}} = 5x^2$:"
   ]
  },
  {
   "cell_type": "code",
   "execution_count": 7,
   "metadata": {},
   "outputs": [
    {
     "data": {
      "image/png": "[encoded data removed]",
      "text/plain": [
       "<Figure size 432x288 with 1 Axes>"
      ]
     },
     "metadata": {},
     "output_type": "display_data"
    }
   ],
   "source": [
    "ytrue = 5*xplot*xplot\n",
    "\n",
    "plt.plot(x, y ,'ro')\n",
    "plt.plot(xplot, ytrue, label=\"$y_{\\mathrm{true}}$\")\n",
    "plt.plot(xplot, ypredict, label=\"$y_{\\mathrm{predict}}$\")\n",
    "plt.xlabel(r'$x$')\n",
    "plt.ylabel(r'$y$')\n",
    "plt.title(r'Quadratic Regression')\n",
    "plt.legend()\n",
    "plt.show()"
   ]
  },
  {
   "cell_type": "markdown",
   "metadata": {},
   "source": [
    "We see that this produces a decent enough fit.\n",
    "\n",
    "We use thereafter **scikit-learn**."
   ]
  },
  {
   "cell_type": "code",
   "execution_count": 11,
   "metadata": {},
   "outputs": [],
   "source": [
    "from sklearn.linear_model import LinearRegression\n",
    "\n",
    "clf2 = LinearRegression()\n",
    "clf2.fit(X, y)\n",
    "ysklearn = clf2.predict(Xplot)\n",
    "\n",
    "print(\"ypredict = \" + str(clf2.coef_[0, 2]) + \"*x^2 + \" + str(clf2.coef_[0, 1]) + \"*x + \" + str(clf2.coef_[0, 0]))\n",
    "print(\"ysklearn = \" + str(beta[2,0]) + \"*x^2 + \" + str(beta[1,0]) + \"*x + \" + str(beta[0,0]))\n",
    "# note that the indices are reversed in the scikit-learn approach compared to what we did before:\n",
    "# the shape is (1, n) instead of (n, 1)\n",
    "\n",
    "plt.plot(x, y ,'ro')\n",
    "plt.plot(xplot, ytrue, label=\"$y_{\\mathrm{true}}$\")\n",
    "plt.plot(xplot, ypredict, label=\"$y_{\\mathrm{predict}}$\")\n",
    "plt.plot(xplot, ysklearn, label=\"$y_{\\mathrm{sklearn}}$\")\n",
    "plt.xlabel(r'$x$')\n",
    "plt.ylabel(r'$y$')\n",
    "plt.title(r'Quadratic Regression')\n",
    "plt.legend()\n",
    "plt.show()"
   ]
  },
  {
   "cell_type": "markdown",
   "metadata": {},
   "source": [
    "Plotting the absolute relative error for the two predictions:"
   ]
  },
  {
   "cell_type": "code",
   "execution_count": 12,
   "metadata": {},
   "outputs": [],
   "source": [
    "err_predict = abs(ypredict[:, 0] - ytrue)/abs(ytrue) # the predicted y's have shape (n, 1)\n",
    "err_sklearn = abs(ysklearn[:, 0] - ytrue)/abs(ytrue)\n",
    "\n",
    "plt.plot(xplot, err_predict, label=\"$\\epsilon_{\\mathrm{predict}}$\")\n",
    "plt.plot(xplot, err_sklearn, label=\"$\\epsilon_{\\mathrm{sklearn}}$\")\n",
    "plt.xlabel(r'$x$')\n",
    "plt.ylabel(r'$\\epsilon_{\\mathrm{rel}}$')\n",
    "plt.axis([0, xmax, 0, 2])\n",
    "plt.title(r'Absolute relative error')\n",
    "plt.legend()\n",
    "plt.show()"
   ]
  },
  {
   "cell_type": "markdown",
   "metadata": {},
   "source": [
    "It is indeed hard to see any difference between the two approaches:"
   ]
  },
  {
   "cell_type": "code",
   "execution_count": 13,
   "metadata": {},
   "outputs": [],
   "source": [
    "plt.plot(xplot, abs(err_predict), label=\"$\\epsilon_{\\mathrm{predict}}$\")\n",
    "plt.plot(xplot, abs(err_sklearn), label=\"$\\epsilon_{\\mathrm{sklearn}}$\")\n",
    "plt.xlabel(r'$x$')\n",
    "plt.ylabel(r'$\\epsilon_{\\mathrm{rel}}$')\n",
    "plt.axis([0, xmax, 0, 0.02])\n",
    "plt.title(r'Absolute relative error')\n",
    "plt.legend()\n",
    "plt.show()"
   ]
  },
  {
   "cell_type": "markdown",
   "metadata": {},
   "source": [
    "The mean squared error is the expected value of the quadratic error:\n",
    "\n",
    "$MSE\\left(\\hat{y}, \\hat{\\bar{y}}\\right) = \\frac{1}{n}\\sum\\limits_{i=1}^{n-1}\\left(y_i - \\bar{y}_i\\right)^2$"
   ]
  },
  {
   "cell_type": "code",
   "execution_count": 14,
   "metadata": {},
   "outputs": [],
   "source": [
    "from sklearn.metrics import mean_squared_error\n",
    "\n",
    "# Note that the y values are not sorted, but ypredict and ysklearn are\n",
    "# (we used Xplot to find these, not X)\n",
    "# Thus, done with plotting, let us instead make new predictions based on X\n",
    "\n",
    "ypredict2 = X.dot(beta)\n",
    "ysklearn2 = clf2.predict(X)\n",
    "\n",
    "# Then we find the MSE:\n",
    "\n",
    "print(\"Mean squared error (ypredict):\", mean_squared_error(y, ypredict2))\n",
    "print(\"Mean squared error (ysklearn):\", mean_squared_error(y, ysklearn2))"
   ]
  },
  {
   "cell_type": "markdown",
   "metadata": {},
   "source": [
    "The $R^2$ score function is defined as\n",
    "\n",
    "$R^2\\left(\\hat{y}, \\hat{\\bar{y}}\\right) = 1 - \\frac{\\sum\\limits_{i=0}^{n-1}\\left(y_i - \\bar{y}_i\\right)}{\\sum\\limits_{i=0}^{n-1}\\left(y_i - \\bar{y}\\right)}$\n",
    "\n",
    "where \n",
    "\n",
    "* $\\bar{y}$ is the mean value of $\\hat{y}$\n",
    "\n",
    "* $\\bar{y}_i$ is the $i$th predicted value, and\n",
    "\n",
    "* $y_i$ is the corresponding true value"
   ]
  },
  {
   "cell_type": "code",
   "execution_count": 15,
   "metadata": {},
   "outputs": [],
   "source": [
    "from sklearn.metrics import r2_score\n",
    "\n",
    "print(\"R^2 score (ypredict):\", r2_score(y, ypredict2))\n",
    "print(\"R^2 score (ysklearn):\", r2_score(y, ysklearn2))"
   ]
  }
 ],
 "metadata": {
  "kernelspec": {
   "display_name": "Python 3",
   "language": "python",
   "name": "python3"
  },
  "language_info": {
   "codemirror_mode": {
    "name": "ipython",
    "version": 3
   },
   "file_extension": ".py",
   "mimetype": "text/x-python",
   "name": "python",
   "nbconvert_exporter": "python",
   "pygments_lexer": "ipython3",
   "version": "3.7.0"
  }
 },
 "nbformat": 4,
 "nbformat_minor": 2
}
