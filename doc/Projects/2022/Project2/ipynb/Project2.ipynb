{
 "cells": [
  {
   "cell_type": "markdown",
   "id": "ac6474e6",
   "metadata": {
    "editable": true
   },
   "source": [
    "<!-- HTML file automatically generated from DocOnce source (https://github.com/doconce/doconce/)\n",
    "doconce format html Project2.do.txt  -->\n",
    "<!-- dom:TITLE: Project 2, deadline February 15, 2023 -->"
   ]
  },
  {
   "cell_type": "markdown",
   "id": "4730a38c",
   "metadata": {
    "editable": true
   },
   "source": [
    "# Project 2, deadline February 15, 2023\n",
    "**Erasmus+ Data Analysis and Machine Learning course, Fall/Winter 2022/2023**\n",
    "\n",
    "Date: **Jan 15, 2023**"
   ]
  },
  {
   "cell_type": "markdown",
   "id": "a50f5686",
   "metadata": {
    "editable": true
   },
   "source": [
    "## Introduction to project 2\n",
    "\n",
    "For project 2, you can propose own data sets that relate to your\n",
    "research interests or just use existing data sets from say\n",
    "\n",
    "* [Kaggle](https://www.kaggle.com/datasets)\n",
    "\n",
    "* [The University of California at Irvine (UCI) with its machine learning repository](https://archive.ics.uci.edu/ml/index.php)\n",
    "\n",
    "* \"The credit card data set from [UCI](https://archive.ics.uci.edu/ml/index.php) is also interesting and links to a recent scientific article. See however below for possible project example. See in particular <https://archive.ics.uci.edu/ml/datasets/default+of+credit+card+clients> and the [article by Yeh and Lien](https://www.sciencedirect.com/science/article/abs/pii/S0957417407006719). \n",
    "\n",
    "* [The pulsar classification data set is obtained from Kaggle](https://www.kaggle.com/pavanraj159/predicting-pulsar-star-in-the-universe/notebook?scriptVersionId=4487650), where it was posted by Pavan Raj. The data file is available in the DataFiles folder of this project.\n",
    "\n",
    "* Or other data sets you find interesting and relevant.\n",
    "\n",
    "* Furthermore, if you are interested in differential equations and their solutio with deep learning methods, we present below an alternative project based on using neural networks.  This project variant is presented at the end here.\n",
    "\n",
    "The approach to the analysis of these new data sets should follow to a\n",
    "large extent what you did in project 1. That is: Whether you end up\n",
    "with a regression or a classification problem, you should employ at\n",
    "least two of the methods we have discussed among linear regression\n",
    "(including Ridge and Lasso), Logistic Regression, Neural Networks,\n",
    "Support Vector Machines (not covered during the lectures) and Decision Trees, Random Forests, Bagging and Boosting. If you\n",
    "wish to venture into convolutional neural networks or recurrent neural\n",
    "networks, or extensions of neural networks, feel free to do so.  For\n",
    "project 2, you should feel free to write your own code or use the\n",
    "available functionality of Scikit-learn, Tensorflow, etc.\n",
    "\n",
    "The estimates you used and tested in project 1 should also be\n",
    "included, that is the R2-score, MSE, accuracy scores, cross-validation and/or bootstrap etc\n",
    "if these are relevant.  If possible, you should link the data sets\n",
    "with exisiting research and analyses thereof. Scientific articles\n",
    "which have used Machine Learning algorithms to analyze the data are\n",
    "highly welcome. Perhaps you can improve previous analyses and even\n",
    "publish a new article?\n",
    "\n",
    "A critical assessment of the methods with\n",
    "ditto perspectives and recommendations is also something you need to\n",
    "include.  All in all, the report should follow the same pattern with\n",
    "abstract, introduction, methods, code, results, conclusions etc as in project 1."
   ]
  },
  {
   "cell_type": "markdown",
   "id": "be92017c",
   "metadata": {
    "editable": true
   },
   "source": [
    "### The Pulsar data.\n",
    "\n",
    "The pulsar classification data set is obtained from\n",
    "Kaggle, where it was posted by Pavan Raj. It offers an interesting\n",
    "possible classification problem. In the field of radio astronomy,\n",
    "pulsars are among the most studied phenomena in nature. But despite\n",
    "astronomers' long history with pulsars, little is actually known with\n",
    "certainty. However, much of the uncertainty likely boils down to the\n",
    "difficulty of confirming pulsar observations. While pulsars radiate\n",
    "unmistakable radio signals, they are often lost in the sheer number of\n",
    "radio signals observed by radio telescopes every day. Furthermore, due\n",
    "to the uniqueness of pulsar radio signals, classifying pulsars in\n",
    "large data sets of radio observations have historically been very\n",
    "difficult as human supervision has been a necessity. However, recent\n",
    "advances in machine learning and data mining has made this task\n",
    "much simpler by introducing incredibly fast, in comparison to humans\n",
    "that is, classification methods.\n",
    "\n",
    "The article of [Bathes et al](https://arxiv.org/abs/1209.0793) can serve as a reference for your discussions."
   ]
  },
  {
   "cell_type": "markdown",
   "id": "ed3cfd51",
   "metadata": {
    "editable": true
   },
   "source": [
    "### Other data sets\n",
    "\n",
    "Alternatively, if you would like to test the various algorithms on other data sets, please feel free to do so.\n",
    "\n",
    "We propose also an alternative to the above. This is a project on using machine learning methods (neural networks mainly) to the solution of ordinary differential equations and partial differential equations, with a final twist on how to diagonalize a symmetric matrix with neural networks.\n",
    "\n",
    "This is a field with a large interest recently, spanning from studies of turbulence in fluid mechanics and meteorology to the solution of quantum mechanical systems. As reading background you can use the slides [from week 42](https://compphysics.github.io/MachineLearning/doc/pub/week42/html/week42.html) and/or the textbook by [Yadav et al](https://www.springer.com/gp/book/9789401798150)."
   ]
  },
  {
   "cell_type": "markdown",
   "id": "974fd309",
   "metadata": {
    "editable": true
   },
   "source": [
    "## The basic structure of your project\n",
    "\n",
    "Here follows a set up on how to structure your report and analyze the data you have opted for."
   ]
  },
  {
   "cell_type": "markdown",
   "id": "9273ac48",
   "metadata": {
    "editable": true
   },
   "source": [
    "### Part a)\n",
    "\n",
    "The first part deals with structuring and reading the data, much along the same lines as done in projects 1 and 2.  Explain how the data are produced and place them in a proper context."
   ]
  },
  {
   "cell_type": "markdown",
   "id": "0b0bfffc",
   "metadata": {
    "editable": true
   },
   "source": [
    "### Part b)\n",
    "\n",
    "You need to include at least two central algorithms. Explain the basics of the methods you have chosen to work with. This would be your theory part."
   ]
  },
  {
   "cell_type": "markdown",
   "id": "2b9a4373",
   "metadata": {
    "editable": true
   },
   "source": [
    "### Part c)\n",
    "\n",
    "Then describe your algorithm and its implementation and tests you have performed."
   ]
  },
  {
   "cell_type": "markdown",
   "id": "d8ff0e4f",
   "metadata": {
    "editable": true
   },
   "source": [
    "### Part d)\n",
    "\n",
    "Then presents your results and findings, link with existing literature and more."
   ]
  },
  {
   "cell_type": "markdown",
   "id": "9237db04",
   "metadata": {
    "editable": true
   },
   "source": [
    "### Part e)\n",
    "\n",
    "Finally, here you should present a critical assessment of the methods you have studied and link your results with the existing literature."
   ]
  },
  {
   "cell_type": "markdown",
   "id": "0cb325d9",
   "metadata": {
    "editable": true
   },
   "source": [
    "## Solving partial differential equations with neural networks\n",
    "\n",
    "For this variant of project 2, we will assume that you have some\n",
    "background in the solution of partial differential equations using\n",
    "finite difference schemes. We will study the solution of the diffusion\n",
    "equation in one dimension using a standard explicit scheme and neural\n",
    "networks to solve the same equations.\n",
    "\n",
    "For the explicit scheme, you can study for example chapter 10 of the lecture notes in [Computational Physics](https://github.com/CompPhysics/ComputationalPhysics/blob/master/doc/Lectures/lectures2015.pdf) or alternative sources."
   ]
  },
  {
   "cell_type": "markdown",
   "id": "c474f502",
   "metadata": {
    "editable": true
   },
   "source": [
    "### Part a), setting up the problem\n",
    "\n",
    "The physical problem can be that of the temperature gradient in a rod of length $L=1$ at $x=0$ and $x=1$.\n",
    "We are looking at a one-dimensional\n",
    "problem"
   ]
  },
  {
   "cell_type": "markdown",
   "id": "d81be6e5",
   "metadata": {
    "editable": true
   },
   "source": [
    "$$\n",
    "\\frac{\\partial^2 u(x,t)}{\\partial x^2} =\\frac{\\partial u(x,t)}{\\partial t}, t> 0, x\\in [0,L]\n",
    "$$"
   ]
  },
  {
   "cell_type": "markdown",
   "id": "aa4c71f3",
   "metadata": {
    "editable": true
   },
   "source": [
    "or"
   ]
  },
  {
   "cell_type": "markdown",
   "id": "cd07f35e",
   "metadata": {
    "editable": true
   },
   "source": [
    "$$\n",
    "u_{xx} = u_t,\n",
    "$$"
   ]
  },
  {
   "cell_type": "markdown",
   "id": "ab98c150",
   "metadata": {
    "editable": true
   },
   "source": [
    "with initial conditions, i.e., the conditions at $t=0$,"
   ]
  },
  {
   "cell_type": "markdown",
   "id": "c06630ec",
   "metadata": {
    "editable": true
   },
   "source": [
    "$$\n",
    "u(x,0)= \\sin{(\\pi x)} \\hspace{0.5cm} 0 < x < L,\n",
    "$$"
   ]
  },
  {
   "cell_type": "markdown",
   "id": "0c1842d0",
   "metadata": {
    "editable": true
   },
   "source": [
    "with $L=1$ the length of the $x$-region of interest. The \n",
    "boundary conditions are"
   ]
  },
  {
   "cell_type": "markdown",
   "id": "2ebead6b",
   "metadata": {
    "editable": true
   },
   "source": [
    "$$\n",
    "u(0,t)= 0 \\hspace{0.5cm} t \\ge 0,\n",
    "$$"
   ]
  },
  {
   "cell_type": "markdown",
   "id": "a666c140",
   "metadata": {
    "editable": true
   },
   "source": [
    "and"
   ]
  },
  {
   "cell_type": "markdown",
   "id": "f3476ca7",
   "metadata": {
    "editable": true
   },
   "source": [
    "$$\n",
    "u(L,t)= 0 \\hspace{0.5cm} t \\ge 0.\n",
    "$$"
   ]
  },
  {
   "cell_type": "markdown",
   "id": "b5ad1e0e",
   "metadata": {
    "editable": true
   },
   "source": [
    "The function $u(x,t)$  can be the temperature gradient of a  rod.\n",
    "As time increases, the velocity approaches a linear variation with $x$. \n",
    "\n",
    "We will limit ourselves to the so-called explicit forward Euler algorithm with discretized versions of time given by a forward formula and a centered difference in space resulting in"
   ]
  },
  {
   "cell_type": "markdown",
   "id": "9775ec74",
   "metadata": {
    "editable": true
   },
   "source": [
    "$$\n",
    "u_t\\approx \\frac{u(x,t+\\Delta t)-u(x,t)}{\\Delta t}=\\frac{u(x_i,t_j+\\Delta t)-u(x_i,t_j)}{\\Delta t}\n",
    "$$"
   ]
  },
  {
   "cell_type": "markdown",
   "id": "19feed3e",
   "metadata": {
    "editable": true
   },
   "source": [
    "and"
   ]
  },
  {
   "cell_type": "markdown",
   "id": "a01e49b2",
   "metadata": {
    "editable": true
   },
   "source": [
    "$$\n",
    "u_{xx}\\approx \\frac{u(x+\\Delta x,t)-2u(x,t)+u(x-\\Delta x,t)}{\\Delta x^2},\n",
    "$$"
   ]
  },
  {
   "cell_type": "markdown",
   "id": "a4eb18b2",
   "metadata": {
    "editable": true
   },
   "source": [
    "or"
   ]
  },
  {
   "cell_type": "markdown",
   "id": "71472a76",
   "metadata": {
    "editable": true
   },
   "source": [
    "$$\n",
    "u_{xx}\\approx \\frac{u(x_i+\\Delta x,t_j)-2u(x_i,t_j)+u(x_i-\\Delta x,t_j)}{\\Delta x^2}.\n",
    "$$"
   ]
  },
  {
   "cell_type": "markdown",
   "id": "c43f4dfa",
   "metadata": {
    "editable": true
   },
   "source": [
    "Write down the algorithm and the equations you need to implement.\n",
    "Find also the analytical solution to the problem."
   ]
  },
  {
   "cell_type": "markdown",
   "id": "3bb145c9",
   "metadata": {
    "editable": true
   },
   "source": [
    "### Part b)\n",
    "\n",
    "Implement the explicit scheme  algorithm and perform tests of the solution \n",
    "for $\\Delta x=1/10$, $\\Delta x=1/100$ using  $\\Delta t$ as dictated by the stability limit of the explicit scheme. The stability criterion for the explicit scheme requires that $\\Delta t/\\Delta x^2 \\leq 1/2$. \n",
    "\n",
    "Study the solutions at two time points $t_1$ and $t_2$ where $u(x,t_1)$ is smooth but still significantly curved\n",
    "and $u(x,t_2)$ is almost linear, close to the stationary state."
   ]
  },
  {
   "cell_type": "markdown",
   "id": "7670ca4c",
   "metadata": {
    "editable": true
   },
   "source": [
    "### Part c) Neural networks\n",
    "\n",
    "Study now the lecture notes on solving ODEs and PDEs with neural\n",
    "network and use either your own code from project 2 or the\n",
    "functionality of tensorflow/keras to solve the same equation as in\n",
    "part b).  Discuss your results and compare them with the standard\n",
    "explicit scheme. Include also the analytical solution and compare with\n",
    "that."
   ]
  },
  {
   "cell_type": "markdown",
   "id": "a4de0e9f",
   "metadata": {
    "editable": true
   },
   "source": [
    "### Part d) Solving eigenvalue problems\n",
    "\n",
    "Follow the discussion in the work of Yi *et al.* in the article from\n",
    "[Computers and Mathematics with Applications 47, 1155 (2004)](https://www.sciencedirect.com/science/article/pii/S0898122104901101), and\n",
    "use your differential equation solver with neural networks, set up a\n",
    "simple square, real and symmetric $6\\times 6$ matrix and find the\n",
    "eigenvalues. Compare with the solution from numerical diagonalization with standard eigenvalue solvers from linear algebra."
   ]
  },
  {
   "cell_type": "markdown",
   "id": "21368222",
   "metadata": {
    "editable": true
   },
   "source": [
    "### Part e)\n",
    "\n",
    "Finally, present a critical assessment of the methods you have studied and discuss the potential for the solving differential equations and eigenvalue problems with machine learning methods."
   ]
  },
  {
   "cell_type": "markdown",
   "id": "cf3b8bd5",
   "metadata": {
    "editable": true
   },
   "source": [
    "## Introduction to numerical projects\n",
    "\n",
    "Here follows a brief recipe and recommendation on how to write a report for each\n",
    "project.\n",
    "\n",
    "  * Give a short description of the nature of the problem and the eventual  numerical methods you have used.\n",
    "\n",
    "  * Describe the algorithm you have used and/or developed. Here you may find it convenient to use pseudocoding. In many cases you can describe the algorithm in the program itself.\n",
    "\n",
    "  * Include the source code of your program. Comment your program properly.\n",
    "\n",
    "  * If possible, try to find analytic solutions, or known limits in order to test your program when developing the code.\n",
    "\n",
    "  * Include your results either in figure form or in a table. Remember to        label your results. All tables and figures should have relevant captions        and labels on the axes.\n",
    "\n",
    "  * Try to evaluate the reliabilty and numerical stability/precision of your results. If possible, include a qualitative and/or quantitative discussion of the numerical stability, eventual loss of precision etc.\n",
    "\n",
    "  * Try to give an interpretation of you results in your answers to  the problems.\n",
    "\n",
    "  * Critique: if possible include your comments and reflections about the  exercise, whether you felt you learnt something, ideas for improvements and  other thoughts you've made when solving the exercise. We wish to keep this course at the interactive level and your comments can help us improve it.\n",
    "\n",
    "  * Try to establish a practice where you log your work at the  computerlab. You may find such a logbook very handy at later stages in your work, especially when you don't properly remember  what a previous test version  of your program did. Here you could also record  the time spent on solving the exercise, various algorithms you may have tested or other topics which you feel worthy of mentioning."
   ]
  },
  {
   "cell_type": "markdown",
   "id": "77191db2",
   "metadata": {
    "editable": true
   },
   "source": [
    "## Format for electronic delivery of report and programs\n",
    "\n",
    "The preferred format for the report is a PDF file. You can also use DOC or postscript formats or as an ipython notebook file.  As programming language we prefer that you choose between C/C++, Fortran2008 or Python. The following prescription should be followed when preparing the report:\n",
    "\n",
    "  * Send us by email  **only** the report file or the link to your GitHub/GitLab or similar repos!  Mske sure it is public or if not, give us access. For the source code file(s) you have developed please provide us with your link to your GitHub/GitLab or similar  domain.  The report file should include all of your discussions and a list of the codes you have developed. \n",
    "\n",
    "  * In your GitHub/GitLab or similar repository, please include a folder which contains selected results. These can be in the form of output from your code for a selected set of runs and input parameters.\n",
    "\n",
    "Finally, \n",
    "we encourage you to collaborate. Optimal working groups consist of \n",
    "2-3 students. You can then hand in a common report."
   ]
  },
  {
   "cell_type": "markdown",
   "id": "c888fffe",
   "metadata": {
    "editable": true
   },
   "source": [
    "## Software and needed installations\n",
    "\n",
    "If you have Python installed (we recommend Python3) and you feel pretty familiar with installing different packages, \n",
    "we recommend that you install the following Python packages via **pip** as\n",
    "1. pip install numpy scipy matplotlib ipython scikit-learn tensorflow sympy pandas pillow\n",
    "\n",
    "For Python3, replace **pip** with **pip3**.\n",
    "\n",
    "See below for a discussion of **tensorflow** and **scikit-learn**. \n",
    "\n",
    "For OSX users we recommend also, after having installed Xcode, to install **brew**. Brew allows \n",
    "for a seamless installation of additional software via for example\n",
    "1. brew install python3\n",
    "\n",
    "For Linux users, with its variety of distributions like for example the widely popular Ubuntu distribution\n",
    "you can use **pip** as well and simply install Python as \n",
    "1. sudo apt-get install python3  (or python for python2.7)\n",
    "\n",
    "etc etc. \n",
    "\n",
    "If you don't want to install various Python packages with their dependencies separately, we recommend two widely used distrubutions which set up  all relevant dependencies for Python, namely\n",
    "1. [Anaconda](https://docs.anaconda.com/) Anaconda is an open source distribution of the Python and R programming languages for large-scale data processing, predictive analytics, and scientific computing, that aims to simplify package management and deployment. Package versions are managed by the package management system **conda**\n",
    "\n",
    "2. [Enthought canopy](https://www.enthought.com/product/canopy/)  is a Python distribution for scientific and analytic computing distribution and analysis environment, available for free and under a commercial license.\n",
    "\n",
    "Popular software packages written in Python for ML are\n",
    "\n",
    "* [Scikit-learn](http://scikit-learn.org/stable/), \n",
    "\n",
    "* [Tensorflow](https://www.tensorflow.org/),\n",
    "\n",
    "* [PyTorch](http://pytorch.org/) and \n",
    "\n",
    "* [Keras](https://keras.io/).\n",
    "\n",
    "These are all freely available at their respective GitHub sites. They \n",
    "encompass communities of developers in the thousands or more. And the number\n",
    "of code developers and contributors keeps increasing."
   ]
  }
 ],
 "metadata": {},
 "nbformat": 4,
 "nbformat_minor": 5
}
