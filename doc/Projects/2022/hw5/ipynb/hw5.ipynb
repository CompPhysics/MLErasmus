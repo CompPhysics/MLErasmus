{
 "cells": [
  {
   "cell_type": "markdown",
   "id": "0d0c5407",
   "metadata": {
    "editable": true
   },
   "source": [
    "<!-- HTML file automatically generated from DocOnce source (https://github.com/doconce/doconce/)\n",
    "doconce format html hw5.do.txt  -->\n",
    "<!-- dom:TITLE: Second week -->"
   ]
  },
  {
   "cell_type": "markdown",
   "id": "e9d8f5b7",
   "metadata": {
    "editable": true
   },
   "source": [
    "# Second week\n",
    "**Data Analysis and Machine Learning**\n",
    "\n",
    "Date: **Sep 26, 2022**"
   ]
  },
  {
   "cell_type": "markdown",
   "id": "1ad79402",
   "metadata": {
    "editable": true
   },
   "source": [
    "## Regression examples, from linear regression, via decision trees and various forests to neural networks\n",
    "\n",
    "The main aim of this project is to study some specific \n",
    "regression problems, starting with the regression algorithms studied\n",
    "in homework set 3 (exercise 2 in particular).\n",
    "We will include decision trees, random forests and eventually boosting\n",
    "methods  and neural network with **tensorflow** (feel free however to write your own code). \n",
    "\n",
    "The case we encounter here\n",
    "is  the so-called Ising model for  our training data and we will\n",
    "focus on supervised training. We will follow closely the recent\n",
    "article of [Mehta et al, arXiv\n",
    "1803.08823](https://arxiv.org/abs/1803.08823). This article stands\n",
    "out as an excellent review on machine learning (ML) algorithms.\n",
    "The added benefit is that each figure and\n",
    "model presented in [this article is accompanied by its jupyter\n",
    "notebook](https://physics.bu.edu/~pankajm/MLnotebooks.html). This\n",
    "means that we can start using these and compare with our own results.\n",
    "\n",
    "You can also look up the [Regression slides for a discussion of the Ising model](https://compphysics.github.io/MachineLearningECT/doc/pub/Day1/html/Day1.html) (scroll down to the end).\n",
    "\n",
    "Alternatively, you can replace the Ising thorughout the exercises with the nuclear binding energies. The choice is yours. Or if you have other data sets suitable for regression, feel free to use those.\n",
    "\n",
    "What follows here is however a discussion of the Ising model. The nuclear binding energies were discussed during the lectures.\n",
    "\n",
    "With the abovementioned configurations we will determine, using first\n",
    "various regression methods, the value of the coupling constant for the\n",
    "energy of the one-dimensional Ising model.\n",
    "We will mainly use **scikit-learn** or **tensorflow** or other Python packages such as **keras** or other.\n",
    "\n",
    "Feel free to use the notebooks to benchmark your code."
   ]
  },
  {
   "cell_type": "markdown",
   "id": "e0be9888",
   "metadata": {
    "editable": true
   },
   "source": [
    "### Part a): Producing the data for the one-dimensional Ising model\n",
    "\n",
    "The model we will employ in our studies is the so-called [Ising\n",
    "model](https://en.wikipedia.org/wiki/Ising_model).  Together with\n",
    "models like the [Potts\n",
    "model](https://en.wikipedia.org/wiki/Potts_model) and similar\n",
    "so-called lattice models, the Ising model has been widely studied in\n",
    "mathematics (in statistics in particular), physics, [life\n",
    "science](https://journals.aps.org/pre/abstract/10.1103/PhysRevE.93.062402),\n",
    "chemistry and even in the [social sciences in order to model social\n",
    "behavior](https://www.springer.com/gp/book/9781461420316). It is a\n",
    "simple binary value system where the variables of the model (spins often in\n",
    "physics) can take two values only, for example $\\pm 1$ or $0$ and $1$.\n",
    "The system exhibits a phase transition in two or higher dimensions and\n",
    "the first person to find the analytical expressions for various\n",
    "expectation values was the Norwegian chemist [Lars\n",
    "Onsager](https://en.wikipedia.org/wiki/Lars_Onsager) (Nobel prize in\n",
    "chemistry) after a tour de force mathematics exercise.\n",
    "\n",
    "In our discussions here we will stay with a physicist's approach and\n",
    "call the variables for spin. You could replace this with any other\n",
    "type of binary variables, ranging from a two political parties to blue\n",
    "and red spheres.  In its simplest form we define the energy of the\n",
    "system as"
   ]
  },
  {
   "cell_type": "markdown",
   "id": "04774c09",
   "metadata": {
    "editable": true
   },
   "source": [
    "$$\n",
    "E=-J\\sum_{<kl>}^{N}s_ks_l,\n",
    "$$"
   ]
  },
  {
   "cell_type": "markdown",
   "id": "b9576c69",
   "metadata": {
    "editable": true
   },
   "source": [
    "with  $s_k=\\pm 1$, $N$ is the total number of spins,\n",
    "$J$ is a coupling constant expressing the strength of the interaction\n",
    "between neighboring spins.\n",
    "\n",
    "The symbol $<kl>$ indicates that we sum over nearest\n",
    "neighbors only.\n",
    "Notice that for $J>0$ it is energetically favorable for neighboring spins\n",
    "to be aligned. This feature leads to, at low enough temperatures,\n",
    "a cooperative phenomenon called spontaneous magnetization. That is,\n",
    "through interactions between nearest neighbors, a given magnetic\n",
    "moment can influence the alignment of spins  that are separated\n",
    "from the given spin by a macroscopic distance. These long range correlations\n",
    "between spins are associated with a long-range order in which\n",
    "the lattice has a net magnetization in the absence of a magnetic field.\n",
    "\n",
    "We start by considering the one-dimensional Ising model with nearest neighbor interactions. This model does not exhibit any phase transition.\n",
    "\n",
    "Consider the 1D Ising model with nearest-neighbor interactions"
   ]
  },
  {
   "cell_type": "markdown",
   "id": "db44aedb",
   "metadata": {
    "editable": true
   },
   "source": [
    "$$\n",
    "E[\\hat{s}]=-J\\sum_{j=1}^{N}s_{j}s_{j+1},\n",
    "$$"
   ]
  },
  {
   "cell_type": "markdown",
   "id": "c3165b50",
   "metadata": {
    "editable": true
   },
   "source": [
    "on a chain of length $N$ with so-called periodic boundary conditions and $S_j=\\pm 1$ Ising spin variables.\n",
    "In one dimension, this model has no phase transition at finite temperature.\n",
    "\n",
    "In the Python code below we generate, with a coupling coefficient set to $J=1$, a large number of spin configurations say $10000$ as shown in the code below.\n",
    "It means that our data will be a set of $i=1\\ldots n$ points of the form\n",
    "$\\{(E[\\boldsymbol{s}^i],\\boldsymbol{s}^i)\\}$.\n",
    "Our task is to find the value of $J$ from the data set using linear regression.\n",
    "\n",
    "Here is the Python code you need to generate the training data, see\n",
    "also the [notebook of Mehta et\n",
    "al](https://physics.bu.edu/~pankajm/ML-Notebooks/HTML/NB_CVI-linreg_ising.html)."
   ]
  },
  {
   "cell_type": "code",
   "execution_count": 1,
   "id": "05456351",
   "metadata": {
    "collapsed": false,
    "editable": true
   },
   "outputs": [],
   "source": [
    "import numpy as np\n",
    "import scipy.sparse as sp\n",
    "np.random.seed(12)\n",
    "\n",
    "import warnings\n",
    "#Comment this to turn on warnings\n",
    "warnings.filterwarnings('ignore')\n",
    "\n",
    "### define Ising model aprams\n",
    "# system size\n",
    "L=40\n",
    "\n",
    "# create 10000 random Ising states\n",
    "states=np.random.choice([-1, 1], size=(10000,L))\n",
    "\n",
    "def ising_energies(states,L):\n",
    "    \"\"\"\n",
    "    This function calculates the energies of the states in the nn Ising Hamiltonian\n",
    "    \"\"\"\n",
    "    J=np.zeros((L,L),)\n",
    "    for i in range(L):\n",
    "        J[i,(i+1)%L]-=1.0\n",
    "    # compute energies\n",
    "    E = np.einsum('...i,ij,...j->...',states,J,states)\n",
    "\n",
    "    return E\n",
    "# calculate Ising energies\n",
    "energies=ising_energies(states,L)"
   ]
  },
  {
   "cell_type": "markdown",
   "id": "78f3caa5",
   "metadata": {
    "editable": true
   },
   "source": [
    "We can now recast the problem as a linear regression model using our codes from homework set 3 (exercise 2 in particular).\n",
    "The way we are going to build our model mimicks the way we could think of finding say the gravitional constant for the graviational force between two planets.\n",
    "In the absence of any prior knowledge, one sensible choice is the all-to-all Ising model"
   ]
  },
  {
   "cell_type": "markdown",
   "id": "c2fbb6dc",
   "metadata": {
    "editable": true
   },
   "source": [
    "$$\n",
    "E_\\mathrm{model}[\\boldsymbol{s}^i] = - \\sum_{j=1}^N \\sum_{k=1}^N J_{j,k}s_{j}^is_{k}^i.\n",
    "$$"
   ]
  },
  {
   "cell_type": "markdown",
   "id": "2d2fb3c0",
   "metadata": {
    "editable": true
   },
   "source": [
    "Here $i$ represents a particular spin configuration (one of the possible $n$ configurations we generated with the code above).\n",
    "\n",
    "This model is uniquely defined by the non-local coupling strengths $J_{jk}$ which we want to learn.\n",
    "The model is linear in $\\mathbf{J}$ which makes it possible to use linear regression.\n",
    "\n",
    "To apply linear regression, we recast this model in the form"
   ]
  },
  {
   "cell_type": "markdown",
   "id": "7dc30772",
   "metadata": {
    "editable": true
   },
   "source": [
    "$$\n",
    "E_\\mathrm{model}^i \\equiv \\mathbf{X}^i \\cdot \\mathbf{J},\n",
    "$$"
   ]
  },
  {
   "cell_type": "markdown",
   "id": "edd92891",
   "metadata": {
    "editable": true
   },
   "source": [
    "where the vectors $\\mathbf{X}^i$ represent all two-body interactions\n",
    "$\\{s_{j}^is_{k}^i \\}_{j,k=1}^N$, and the index $i$ runs over the\n",
    "samples in the data set.  To make the analogy complete, we can also\n",
    "represent the dot product by a single index $p = \\{j,k\\}$,\n",
    "i.e. $\\mathbf{X}^i \\cdot \\mathbf{J}=X^i_pJ_p$.  Note that the\n",
    "regression model does not include the minus sign, so we expect to\n",
    "learn negative $J$'s."
   ]
  },
  {
   "cell_type": "markdown",
   "id": "27ad3df7",
   "metadata": {
    "editable": true
   },
   "source": [
    "### Part b): Estimating the coupling constant of the one-dimensional Ising model using linear regression\n",
    "\n",
    "We start with the one-dimensional Ising model and use the data we have\n",
    "generated with $J=1$ in the previous point.\n",
    "\n",
    "**Use linear regression,\n",
    "Lasso and Ridge regression as done in homework 3**.\n",
    "Make an analysis of the guessed coupling constant as function of the hyperparameters $\\lambda$. \n",
    "You can compare your\n",
    "results with those of [Mehta\n",
    "et al.](https://physics.bu.edu/~pankajm/ML-Notebooks/HTML/NB_CVI-linreg_ising.html).\n",
    "Make sure it is the 1D data which is used.\n",
    "\n",
    "Discuss the methods and how they perform in computing the coupling\n",
    "constant $J$ and include a bias-variance analysis using the bootstrap resampling method.\n",
    "Discuss also the mean squared error and\n",
    "the $R2$ score as measures to assess your model.\n",
    "\n",
    "Give a critical analysis of your results.\n",
    "\n",
    "You can replace the Ising model data with the nuclear binding energy data."
   ]
  },
  {
   "cell_type": "markdown",
   "id": "819fd791",
   "metadata": {
    "editable": true
   },
   "source": [
    "### Part c): Random forests and boosting\n",
    "\n",
    "Repeat the above analysis but using random forests and boosting (XGboost or normal gradient boosting). You can use the functions\n",
    "in **scikit-learn** for random forests and gradient boosting. For **XGBoost** you need to install it separately. You can still use other functionality in **scikit-Learn**."
   ]
  },
  {
   "cell_type": "markdown",
   "id": "f52eda0e",
   "metadata": {
    "editable": true
   },
   "source": [
    "### Part d): Regression analysis of the one-dimensional Ising model using neural networks\n",
    "\n",
    "Your aim now is to use either **scikit-learn** or **tensorflow** in order to set up a neural network to find the optimal weights and biases. \n",
    "\n",
    "Train your network and compare the results with those from your linear regression code and random forests/boosting methods. \n",
    "\n",
    "You can test your results against a similar code using **scikit-learn** or **tensorflow/keras**. \n",
    "\n",
    "A useful reference on the back progagation algorithm is [Nielsen's book](http://neuralnetworksanddeeplearning.com/). It is an excellent read.\n",
    "\n",
    "Finally, give a critical analysis of your results with pros and cons of the various methods."
   ]
  },
  {
   "cell_type": "markdown",
   "id": "59dca001",
   "metadata": {
    "editable": true
   },
   "source": [
    "## Background literature\n",
    "\n",
    "1. The text of Michael Nielsen is highly recommended, see [Nielsen's book](http://neuralnetworksanddeeplearning.com/). It is an excellent read.\n",
    "\n",
    "2. The textbook of [Trevor Hastie, Robert Tibshirani, Jerome H. Friedman, The Elements of Statistical Learning, Springer](https://www.springer.com/gp/book/9780387848570), chapters 3 and 7 are the most relevant ones for the analysis here. \n",
    "\n",
    "3. [Mehta et al, arXiv 1803.08823](https://arxiv.org/abs/1803.08823), *A high-bias, low-variance introduction to Machine Learning for physicists*, ArXiv:1803.08823.\n",
    "\n",
    "If you wish to read more about the Ising model and statistical physics here are three suggestions.\n",
    "\n",
    "1. [M. Plischke and B. Bergersen](http://www.worldscientific.com/worldscibooks/10.1142/5660), *Equilibrium Statistical Physics*, World Scientific, see chapters 5 and 6.\n",
    "\n",
    "2. [D. P. Landau and K. Binder](http://www.cambridge.org/no/academic/subjects/physics/computational-science-and-modelling/guide-monte-carlo-simulations-statistical-physics-4th-edition?format=HB), *A Guide to Monte Carlo Simulations in Statistical Physics*, Cambridge, see chapters 2,3 and 4.\n",
    "\n",
    "3. [M. E. J. Newman and T. Barkema](https://global.oup.com/academic/product/monte-carlo-methods-in-statistical-physics-9780198517979?cc=no&lang=en&), *Monte Carlo Methods in Statistical Physics*, Oxford, see chapters 3 and 4."
   ]
  }
 ],
 "metadata": {},
 "nbformat": 4,
 "nbformat_minor": 5
}
