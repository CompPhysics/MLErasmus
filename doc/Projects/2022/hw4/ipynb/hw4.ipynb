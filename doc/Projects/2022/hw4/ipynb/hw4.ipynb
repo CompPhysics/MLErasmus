{
 "cells": [
  {
   "cell_type": "markdown",
   "id": "c5c714ec",
   "metadata": {
    "editable": true
   },
   "source": [
    "<!-- HTML file automatically generated from DocOnce source (https://github.com/doconce/doconce/)\n",
    "doconce format html hw4.do.txt  -->\n",
    "<!-- dom:TITLE: Summarizing the first week, a more advanced example, exercise set 4 -->"
   ]
  },
  {
   "cell_type": "markdown",
   "id": "f708617f",
   "metadata": {
    "editable": true
   },
   "source": [
    "# Summarizing the first week, a more advanced example, exercise set 4\n",
    "**Data Analysis and Machine Learning**\n",
    "\n",
    "Date: **Sep 26, 2022**"
   ]
  },
  {
   "cell_type": "markdown",
   "id": "4f231227",
   "metadata": {
    "editable": true
   },
   "source": [
    "## Regression examples, from linear regression, via decision trees and various forests to neural networks\n",
    "\n",
    "The main aim of this project is to study some specific \n",
    "regression problems, starting with the regression algorithms studied\n",
    "in homework set 3 (exercise 2 in particular).\n",
    "We will include decision trees, random forests and eventually boosting\n",
    "methods  and neural network with **tensorflow** (feel free however to write your own code). \n",
    "\n",
    "The case we encounter here\n",
    "is  the so-called Ising model for  our training data and we will\n",
    "focus on supervised training. We will follow closely the recent\n",
    "article of [Mehta et al, arXiv\n",
    "1803.08823](https://arxiv.org/abs/1803.08823). This article stands\n",
    "out as an excellent review on machine learning (ML) algorithms.\n",
    "The added benefit is that each figure and\n",
    "model presented in [this article is accompanied by its jupyter\n",
    "notebook](https://physics.bu.edu/~pankajm/MLnotebooks.html). This\n",
    "means that we can start using these and compare with our own results.\n",
    "\n",
    "You can also look up the [Regression slides for a discussion of the Ising model](https://compphysics.github.io/MachineLearningMSU-FRIB2020/doc/pub/Regression/html/Regression.html) (scroll down to the end).\n",
    "\n",
    "Alternatively, you can replace the Ising thorughout the exercises with the nuclear binding energies. The choice is yours. Or if you have other data sets suitable for regression, feel free to use those.\n",
    "\n",
    "What follows here is however a discussion of the Ising model. The nuclear binding energies were discussed during the lectures.\n",
    "\n",
    "With the abovementioned configurations we will determine, using first\n",
    "various regression methods, the value of the coupling constant for the\n",
    "energy of the one-dimensional Ising model.\n",
    "We will mainly use **scikit-learn** or **tensorflow** or other Python packages such as **keras** or other.\n",
    "\n",
    "Feel free to use the notebooks to benchmark your code."
   ]
  },
  {
   "cell_type": "markdown",
   "id": "710b08e6",
   "metadata": {
    "editable": true
   },
   "source": [
    "### Part a): Producing the data for the one-dimensional Ising model\n",
    "\n",
    "The model we will employ in our studies is the so-called [Ising\n",
    "model](https://en.wikipedia.org/wiki/Ising_model).  Together with\n",
    "models like the [Potts\n",
    "model](https://en.wikipedia.org/wiki/Potts_model) and similar\n",
    "so-called lattice models, the Ising model has been widely studied in\n",
    "mathematics (in statistics in particular), physics, [life\n",
    "science](https://journals.aps.org/pre/abstract/10.1103/PhysRevE.93.062402),\n",
    "chemistry and even in the [social sciences in order to model social\n",
    "behavior](https://www.springer.com/gp/book/9781461420316). It is a\n",
    "simple binary value system where the variables of the model (spins often in\n",
    "physics) can take two values only, for example $\\pm 1$ or $0$ and $1$.\n",
    "The system exhibits a phase transition in two or higher dimensions and\n",
    "the first person to find the analytical expressions for various\n",
    "expectation values was the Norwegian chemist [Lars\n",
    "Onsager](https://en.wikipedia.org/wiki/Lars_Onsager) (Nobel prize in\n",
    "chemistry) after a tour de force mathematics exercise.\n",
    "\n",
    "In our discussions here we will stay with a physicist's approach and\n",
    "call the variables for spin. You could replace this with any other\n",
    "type of binary variables, ranging from a two political parties to blue\n",
    "and red spheres.  In its simplest form we define the energy of the\n",
    "system as"
   ]
  },
  {
   "cell_type": "markdown",
   "id": "2686f893",
   "metadata": {
    "editable": true
   },
   "source": [
    "$$\n",
    "E=-J\\sum_{<kl>}^{N}s_ks_l,\n",
    "$$"
   ]
  },
  {
   "cell_type": "markdown",
   "id": "243b7a1b",
   "metadata": {
    "editable": true
   },
   "source": [
    "with  $s_k=\\pm 1$, $N$ is the total number of spins,\n",
    "$J$ is a coupling constant expressing the strength of the interaction\n",
    "between neighboring spins.\n",
    "\n",
    "The symbol $<kl>$ indicates that we sum over nearest\n",
    "neighbors only.\n",
    "Notice that for $J>0$ it is energetically favorable for neighboring spins\n",
    "to be aligned. This feature leads to, at low enough temperatures,\n",
    "a cooperative phenomenon called spontaneous magnetization. That is,\n",
    "through interactions between nearest neighbors, a given magnetic\n",
    "moment can influence the alignment of spins  that are separated\n",
    "from the given spin by a macroscopic distance. These long range correlations\n",
    "between spins are associated with a long-range order in which\n",
    "the lattice has a net magnetization in the absence of a magnetic field.\n",
    "\n",
    "We start by considering the one-dimensional Ising model with nearest neighbor interactions. This model does not exhibit any phase transition.\n",
    "\n",
    "Consider the 1D Ising model with nearest-neighbor interactions"
   ]
  },
  {
   "cell_type": "markdown",
   "id": "db72d77e",
   "metadata": {
    "editable": true
   },
   "source": [
    "$$\n",
    "E[\\hat{s}]=-J\\sum_{j=1}^{N}s_{j}s_{j+1},\n",
    "$$"
   ]
  },
  {
   "cell_type": "markdown",
   "id": "8c75015d",
   "metadata": {
    "editable": true
   },
   "source": [
    "on a chain of length $N$ with so-called periodic boundary conditions and $S_j=\\pm 1$ Ising spin variables.\n",
    "In one dimension, this model has no phase transition at finite temperature.\n",
    "\n",
    "In the Python code below we generate, with a coupling coefficient set to $J=1$, a large number of spin configurations say $10000$ as shown in the code below.\n",
    "It means that our data will be a set of $i=1\\ldots n$ points of the form\n",
    "$\\{(E[\\boldsymbol{s}^i],\\boldsymbol{s}^i)\\}$.\n",
    "Our task is to find the value of $J$ from the data set using linear regression.\n",
    "\n",
    "Here is the Python code you need to generate the training data, see\n",
    "also the [notebook of Mehta et\n",
    "al](https://physics.bu.edu/~pankajm/ML-Notebooks/HTML/NB_CVI-linreg_ising.html)."
   ]
  },
  {
   "cell_type": "code",
   "execution_count": 1,
   "id": "b96d29dc",
   "metadata": {
    "collapsed": false,
    "editable": true
   },
   "outputs": [],
   "source": [
    "import numpy as np\n",
    "import scipy.sparse as sp\n",
    "np.random.seed(12)\n",
    "\n",
    "import warnings\n",
    "#Comment this to turn on warnings\n",
    "warnings.filterwarnings('ignore')\n",
    "\n",
    "### define Ising model aprams\n",
    "# system size\n",
    "L=40\n",
    "\n",
    "# create 10000 random Ising states\n",
    "states=np.random.choice([-1, 1], size=(10000,L))\n",
    "\n",
    "def ising_energies(states,L):\n",
    "    \"\"\"\n",
    "    This function calculates the energies of the states in the nn Ising Hamiltonian\n",
    "    \"\"\"\n",
    "    J=np.zeros((L,L),)\n",
    "    for i in range(L):\n",
    "        J[i,(i+1)%L]-=1.0\n",
    "    # compute energies\n",
    "    E = np.einsum('...i,ij,...j->...',states,J,states)\n",
    "\n",
    "    return E\n",
    "# calculate Ising energies\n",
    "energies=ising_energies(states,L)"
   ]
  },
  {
   "cell_type": "markdown",
   "id": "b5b1ca6e",
   "metadata": {
    "editable": true
   },
   "source": [
    "We can now recast the problem as a linear regression model using our codes from homework set 3 (exercise 2 in particular).\n",
    "The way we are going to build our model mimicks the way we could think of finding say the gravitional constant for the graviational force between two planets.\n",
    "In the absence of any prior knowledge, one sensible choice is the all-to-all Ising model"
   ]
  },
  {
   "cell_type": "markdown",
   "id": "7594a32d",
   "metadata": {
    "editable": true
   },
   "source": [
    "$$\n",
    "E_\\mathrm{model}[\\boldsymbol{s}^i] = - \\sum_{j=1}^N \\sum_{k=1}^N J_{j,k}s_{j}^is_{k}^i.\n",
    "$$"
   ]
  },
  {
   "cell_type": "markdown",
   "id": "07e699bd",
   "metadata": {
    "editable": true
   },
   "source": [
    "Here $i$ represents a particular spin configuration (one of the possible $n$ configurations we generated with the code above).\n",
    "\n",
    "This model is uniquely defined by the non-local coupling strengths $J_{jk}$ which we want to learn.\n",
    "The model is linear in $\\mathbf{J}$ which makes it possible to use linear regression.\n",
    "\n",
    "To apply linear regression, we recast this model in the form"
   ]
  },
  {
   "cell_type": "markdown",
   "id": "4e87a8da",
   "metadata": {
    "editable": true
   },
   "source": [
    "$$\n",
    "E_\\mathrm{model}^i \\equiv \\mathbf{X}^i \\cdot \\mathbf{J},\n",
    "$$"
   ]
  },
  {
   "cell_type": "markdown",
   "id": "5dae051b",
   "metadata": {
    "editable": true
   },
   "source": [
    "where the vectors $\\mathbf{X}^i$ represent all two-body interactions\n",
    "$\\{s_{j}^is_{k}^i \\}_{j,k=1}^N$, and the index $i$ runs over the\n",
    "samples in the data set.  To make the analogy complete, we can also\n",
    "represent the dot product by a single index $p = \\{j,k\\}$,\n",
    "i.e. $\\mathbf{X}^i \\cdot \\mathbf{J}=X^i_pJ_p$.  Note that the\n",
    "regression model does not include the minus sign, so we expect to\n",
    "learn negative $J$'s."
   ]
  },
  {
   "cell_type": "markdown",
   "id": "8d25e3c8",
   "metadata": {
    "editable": true
   },
   "source": [
    "### Part b): Estimating the coupling constant of the one-dimensional Ising model using linear regression\n",
    "\n",
    "We start with the one-dimensional Ising model and use the data we have\n",
    "generated with $J=1$ in the previous point.\n",
    "\n",
    "**Use linear regression,\n",
    "Lasso and Ridge regression as done in homework 3**.\n",
    "Make an analysis of the guessed coupling constant as function of the hyperparameters $\\lambda$. \n",
    "You can compare your\n",
    "results with those of [Mehta\n",
    "et al.](https://physics.bu.edu/~pankajm/ML-Notebooks/HTML/NB_CVI-linreg_ising.html).\n",
    "Make sure it is the 1D data which is used.\n",
    "\n",
    "Discuss the methods and how they perform in computing the coupling\n",
    "constant $J$ and include a bias-variance analysis using the bootstrap resampling method.\n",
    "Discuss also the mean squared error and\n",
    "the $R2$ score as measures to assess your model.\n",
    "\n",
    "Give a critical analysis of your results.\n",
    "\n",
    "You can replace the Ising model data with the nuclear binding energy data."
   ]
  },
  {
   "cell_type": "markdown",
   "id": "b1aebbdb",
   "metadata": {
    "editable": true
   },
   "source": [
    "### Part c): Random forests and boosting\n",
    "\n",
    "Repeat the above analysis but using random forests and boosting (XGboost or normal gradient boosting). You can use the functions\n",
    "in **scikit-learn** for random forests and gradient boosting. For **XGBoost** you need to install it separately. You can still use other functionality in **scikit-Learn**."
   ]
  },
  {
   "cell_type": "markdown",
   "id": "be3dc890",
   "metadata": {
    "editable": true
   },
   "source": [
    "### Part d): Regression analysis of the one-dimensional Ising model using neural networks\n",
    "\n",
    "Your aim now is to use either **scikit-learn** or **tensorflow** in order to set up a neural network to find the optimal weights and biases. \n",
    "\n",
    "Train your network and compare the results with those from your linear regression code and random forests/boosting methods. \n",
    "\n",
    "You can test your results against a similar code using **scikit-learn** or **tensorflow/keras**. \n",
    "\n",
    "A useful reference on the back progagation algorithm is [Nielsen's book](http://neuralnetworksanddeeplearning.com/). It is an excellent read.\n",
    "\n",
    "Finally, give a critical analysis of your results with pros and cons of the various methods."
   ]
  },
  {
   "cell_type": "markdown",
   "id": "c6cfc975",
   "metadata": {
    "editable": true
   },
   "source": [
    "## Checklist for handling data, Machine Learning cheat sheet\n",
    "\n",
    "This is a short cheat sheet for doing machine learning\n",
    "experiments. It'll discuss data exploration the modelling pipeline and\n",
    "model validation in short with links to external resources for\n",
    "reference"
   ]
  },
  {
   "cell_type": "markdown",
   "id": "30585e22",
   "metadata": {
    "editable": true
   },
   "source": [
    "### Data Exploration\n",
    "\n",
    "When modelling with machine learning it's easy to just present your\n",
    "data to a model, while this has the odd chance of working more likely\n",
    "this will give you a very weak model.\n",
    "\n",
    "The first step of the machine learning process is then to look at your\n",
    "data, and your chosen representation of the data."
   ]
  },
  {
   "cell_type": "markdown",
   "id": "32aa789c",
   "metadata": {
    "editable": true
   },
   "source": [
    "### Visualization\n",
    "\n",
    "Depending on your data, if it's sequential, real-continious or image\n",
    "based your data should be visualized to get a reference for the\n",
    "distribution of data. In particular for representations of continious\n",
    "or discreet variables visualizing ditributions can be hugely helpful\n",
    "to determining the style of normalization to apply. In short: look at\n",
    "your data."
   ]
  },
  {
   "cell_type": "markdown",
   "id": "ba7d67e8",
   "metadata": {
    "editable": true
   },
   "source": [
    "### Normalizing\n",
    "\n",
    "After inspecting your data distribution(s) you should consider what\n",
    "standardization techniques to apply. In particular you need to think\n",
    "about if you need the covariance matrix of your data to be unchanged\n",
    "under the normalization. Mean centering doesn't change your covariance\n",
    "matrix, standardization of the variance does.\n",
    "\n",
    "Also consider if your features are on the same scale. Your model might\n",
    "be in trouble if one feature is on the order $ 10^0$ and a second is\n",
    "on the order $ 10^3$."
   ]
  },
  {
   "cell_type": "markdown",
   "id": "aacf29e1",
   "metadata": {
    "editable": true
   },
   "source": [
    "### Prototyping\n",
    "\n",
    "It's likely that the first version of your chosen model, or even that\n",
    "the model type or representation might provide unsuitable for the\n",
    "problem at hand. A fundamental part of the process then is exploring\n",
    "representations, and model types that might be suitable. The `keras`\n",
    "API and `scikit-learn` off-the-shelf algorithms are fantastic for this\n",
    "purpose.\n",
    "\n",
    "Remember to keep your model assumptions in mind\n",
    "The following links are useful <https://sebastianraschka.com/Articles/2014_about_feature_scaling.html> and  <https://medium.com/greyatom/why-how-and-when-to-scale-your-features-4b30ab09db5e>"
   ]
  },
  {
   "cell_type": "markdown",
   "id": "09c70272",
   "metadata": {
    "editable": true
   },
   "source": [
    "### Model Validation\n",
    "\n",
    "For a regression problem, supervised classification or unsupervised\n",
    "classification with a set of ground truth labels it is absolutely\n",
    "necessary to split your data in disjoint sets for training and testing\n",
    "prior to any processing. The processing variables should be\n",
    "established from the training set and applied to test and\n",
    "training. This is to estimate if your normalization is sane for\n",
    "\"unseen\" data."
   ]
  },
  {
   "cell_type": "markdown",
   "id": "3d2d308c",
   "metadata": {
    "editable": true
   },
   "source": [
    "### Hyperparameter tuning\n",
    "\n",
    "For almost all interesting problems the computational cost of running\n",
    "a gridsearch to find the optimal configuration for the hyperparameters\n",
    "is not feasible, both because it is expensive, but the loss-surface\n",
    "might be glassy excepting one very narrow spike your grid doesn't\n",
    "hit. There are many sophisticated tools for the job, but for most\n",
    "cases the tool for the job has shown to be simple random search. Run N\n",
    "experiments with random hyperparameter configurations and pick the\n",
    "best performing on the validation set."
   ]
  },
  {
   "cell_type": "markdown",
   "id": "c79e08e7",
   "metadata": {
    "editable": true
   },
   "source": [
    "### Performance estimation\n",
    "\n",
    "For estimating your models performance the tool depends on your\n",
    "application. For regression the $R^2$ coefficient (explained variance)\n",
    "is commonly used, and for linear regression models you usually want an\n",
    "estimate of coefficient significance (`scipy statsmodels` is a python\n",
    "package good for this). For estimating significance and impact you\n",
    "should have a clear image of the degree of multi-colinearity in your\n",
    "data (does your design matrix have full rank?). For non-linear models\n",
    "of 1d vectors (not sequence or image models) estimating feature\n",
    "importance (the impact of removing one feature on model\n",
    "performance). For image data and convolutional nets visualizing the\n",
    "max activation of the filters is a good way to estimate what your\n",
    "model is doing.\n",
    "\n",
    "For classification there usually is a tradeoff between number of true\n",
    "and false positives. The f1-score (or depending on your model you\n",
    "might favor precision over recall or vice versa which would need an\n",
    "adjusted f-score) is a good single number-measure. Plotting the ROC\n",
    "(reciever-operator characteristic) curve and estimating it's area\n",
    "under the curve (analogous to accuracy). These curves are plotted\n",
    "per-class basis, and then you can average over them to produce an\n",
    "aggregate performance.\n",
    "\n",
    "You should also use some statsitical measure for model\n",
    "validation. $k$-fold cross validation is recommended for most cases.\n",
    "\n",
    "In essence: what the goal of all this is to be able to estimate the\n",
    "generalization performance. The training set is used to estimate the\n",
    "optimal parameters and hyperparameters as well as the distribution of\n",
    "performance under these. For each hyperparameter search you use the\n",
    "test set to make a final estimation of your generalization\n",
    "performance, going back and adjusting parameters based on test\n",
    "performance strongly reduces your certainty of generalization and is\n",
    "strongly discouraged.\n",
    "\n",
    "Scikit-learn has many off-the shelf measures for model performance and validation, with examples.  The following blogs on this may be of interest\n",
    "<https://towardsdatascience.com/hyper-parameter-tuning-techniques-in-deep-learning-4dad592c63c8> and \n",
    "<https://scikit-learn.org/stable/auto_examples/model_selection/plot_roc_crossval.html#sphx-glr-auto-examples-model-selection-plot-roc-crossval-py>"
   ]
  },
  {
   "cell_type": "markdown",
   "id": "cc2d9466",
   "metadata": {
    "editable": true
   },
   "source": [
    "## Background literature\n",
    "\n",
    "1. The text of Michael Nielsen is highly recommended, see [Nielsen's book](http://neuralnetworksanddeeplearning.com/). It is an excellent read.\n",
    "\n",
    "2. The textbook of [Trevor Hastie, Robert Tibshirani, Jerome H. Friedman, The Elements of Statistical Learning, Springer](https://www.springer.com/gp/book/9780387848570), chapters 3 and 7 are the most relevant ones for the analysis here. \n",
    "\n",
    "3. [Mehta et al, arXiv 1803.08823](https://arxiv.org/abs/1803.08823), *A high-bias, low-variance introduction to Machine Learning for physicists*, ArXiv:1803.08823.\n",
    "\n",
    "If you wish to read more about the Ising model and statistical physics here are three suggestions.\n",
    "\n",
    "1. [M. Plischke and B. Bergersen](http://www.worldscientific.com/worldscibooks/10.1142/5660), *Equilibrium Statistical Physics*, World Scientific, see chapters 5 and 6.\n",
    "\n",
    "2. [D. P. Landau and K. Binder](http://www.cambridge.org/no/academic/subjects/physics/computational-science-and-modelling/guide-monte-carlo-simulations-statistical-physics-4th-edition?format=HB), *A Guide to Monte Carlo Simulations in Statistical Physics*, Cambridge, see chapters 2,3 and 4.\n",
    "\n",
    "3. [M. E. J. Newman and T. Barkema](https://global.oup.com/academic/product/monte-carlo-methods-in-statistical-physics-9780198517979?cc=no&lang=en&), *Monte Carlo Methods in Statistical Physics*, Oxford, see chapters 3 and 4."
   ]
  }
 ],
 "metadata": {},
 "nbformat": 4,
 "nbformat_minor": 5
}
